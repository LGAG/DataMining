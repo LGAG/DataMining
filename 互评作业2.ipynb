{
 "cells": [
  {
   "cell_type": "code",
   "execution_count": 19,
   "metadata": {},
   "outputs": [],
   "source": [
    "f = open(\"./anonymous-msweb.data\")\n",
    "Vroot = {}\n",
    "data = []\n",
    "temp=[]\n",
    "visits={}\n",
    "for L in f.readlines():\n",
    "    l = L.split(',')\n",
    "    if l[0] == 'A':\n",
    "        Vroot[int(l[1])] = l[3]\n",
    "    elif l[0] == 'C':\n",
    "        if temp != []:\n",
    "            data.append(temp)\n",
    "            temp=[]\n",
    "    elif l[0] == 'V':\n",
    "        temp.append(int(l[1]))\n",
    "        if int(l[1]) in visits.keys():\n",
    "            visits[int(l[1])]+=1\n",
    "        else:\n",
    "            visits[int(l[1])] = 1\n",
    "data.append(temp)\n"
   ]
  },
  {
   "cell_type": "code",
   "execution_count": 21,
   "metadata": {},
   "outputs": [
    {
     "name": "stdout",
     "output_type": "stream",
     "text": [
      "[(1120, 1), (1128, 1), (1196, 1), (1199, 1), (1233, 1), (1248, 1), (1254, 1), (1259, 1), (1260, 1), (1268, 1), (1270, 1), (1271, 1), (1272, 1), (1273, 1), (1274, 1), (1275, 1), (1277, 1), (1279, 1), (1281, 1), (1283, 1), (1284, 1), (1178, 2), (1245, 2), (1249, 2), (1261, 2), (1263, 2), (1266, 2), (1269, 2), (1278, 2), (1280, 2), (1282, 2), (1173, 3), (1213, 3), (1214, 3), (1237, 3), (1239, 3), (1247, 3), (1252, 3), (1255, 3), (1256, 3), (1258, 3), (1265, 3), (1276, 3), (1191, 4), (1202, 4), (1219, 4), (1229, 4), (1232, 4), (1238, 4), (1242, 4), (1243, 4), (1244, 4), (1262, 4), (1264, 4), (1210, 5), (1253, 5), (1257, 5), (1267, 5), (1175, 6), (1129, 7), (1182, 7), (1192, 7), (1225, 7), (1153, 8), (1234, 8), (1117, 9), (1180, 9), (1209, 9), (1235, 9), (1241, 9), (1174, 10), (1221, 10), (1236, 10), (1246, 10), (1107, 11), (1179, 11), (1222, 11), (1240, 11), (1251, 11), (1149, 12), (1181, 12), (1207, 12), (1122, 13), (1217, 13), (1228, 13), (1250, 13), (1094, 14), (1101, 14), (1226, 14), (1115, 15), (1195, 15), (1106, 16), (1161, 16), (1170, 16), (1211, 16), (1224, 16), (1139, 18), (1198, 18), (1200, 18), (1218, 18), (1142, 19), (1231, 19), (1145, 20), (1151, 21), (1230, 21), (1086, 22), (1132, 23), (1220, 23), (1185, 24), (1205, 24), (1163, 25), (1193, 25), (1212, 25), (1033, 26), (1194, 26), (1126, 27), (1206, 29), (1223, 29), (1204, 30), (1216, 30), (1116, 31), (1197, 32), (1227, 32), (1138, 33), (1166, 33), (1208, 34), (1104, 35), (1103, 36), (1111, 36), (1141, 36), (1144, 36), (1160, 36), (1165, 38), (1187, 38), (1201, 38), (1159, 41), (1005, 42), (1177, 43), (1012, 44), (1169, 44), (1172, 45), (1215, 45), (1110, 46), (1186, 46), (1108, 47), (1171, 47), (1114, 48), (1162, 48), (1190, 48), (1164, 49), (1189, 51), (1152, 52), (1155, 52), (1203, 55), (1097, 56), (1184, 57), (1109, 59), (1143, 60), (1013, 61), (1121, 63), (1176, 63), (1093, 65), (1154, 67), (1091, 69), (1133, 69), (1167, 72), (1156, 75), (1015, 79), (1146, 79), (1066, 82), (1051, 86), (1085, 86), (1147, 86), (1158, 90), (1028, 93), (1150, 93), (1168, 93), (1188, 94), (1148, 96), (1092, 97), (1098, 98), (1095, 102), (1083, 105), (1050, 106), (1090, 107), (1019, 111), (1063, 113), (1135, 115), (1102, 118), (1140, 118), (1099, 120), (1080, 121), (1137, 123), (1157, 124), (1072, 128), (1112, 128), (1029, 132), (1127, 132), (1006, 135), (1079, 136), (1062, 141), (1131, 148), (1077, 155), (1089, 157), (1134, 162), (1183, 167), (1044, 168), (1118, 172), (1011, 179), (1113, 181), (1136, 181), (1105, 183), (1084, 186), (1071, 187), (1087, 189), (1023, 191), (1057, 195), (1068, 198), (1125, 199), (1073, 204), (1048, 210), (1096, 214), (1081, 215), (1124, 222), (1043, 224), (1069, 227), (1088, 237), (1082, 241), (1059, 258), (1055, 264), (1061, 269), (1056, 276), (1042, 281), (1016, 287), (1100, 291), (1065, 323), (1064, 324), (1022, 325), (1054, 338), (1049, 343), (1039, 345), (1119, 365), (1123, 372), (1021, 380), (1060, 391), (1130, 395), (1075, 396), (1076, 444), (1078, 462), (1045, 474), (1027, 507), (1024, 521), (1067, 548), (1031, 574), (1074, 584), (1070, 602), (1046, 636), (1053, 670), (1058, 672), (1010, 698), (1295, 716), (1014, 728), (1002, 749), (1036, 759), (1052, 842), (1007, 865), (1000, 912), (1020, 1087), (1038, 1110), (1030, 1115), (1037, 1160), (1032, 1446), (1041, 1500), (1040, 1506), (1035, 1791), (1025, 2123), (1003, 2968), (1026, 3220), (1001, 4451), (1009, 4628), (1017, 5108), (1018, 5330), (1004, 8463), (1034, 9383), (1008, 10836)]\n"
     ]
    }
   ],
   "source": [
    "print(sorted(visits.items(), key = lambda kv:(kv[1], kv[0])))"
   ]
  },
  {
   "attachments": {},
   "cell_type": "markdown",
   "metadata": {},
   "source": [
    "访问分布量如上所示\n",
    "最常访问的页面是1008 “Free Downloads”"
   ]
  },
  {
   "cell_type": "code",
   "execution_count": 16,
   "metadata": {},
   "outputs": [],
   "source": [
    "from apyori import apriori\n",
    "result = list(apriori(transactions=data, min_support=0.05))"
   ]
  },
  {
   "cell_type": "code",
   "execution_count": 17,
   "metadata": {},
   "outputs": [
    {
     "data": {
      "text/plain": [
       "[RelationRecord(items=frozenset({1001}), support=0.1360704350218581, ordered_statistics=[OrderedStatistic(items_base=frozenset(), items_add=frozenset({1001}), confidence=0.1360704350218581, lift=1.0)]),\n",
       " RelationRecord(items=frozenset({1003}), support=0.09073400385191525, ordered_statistics=[OrderedStatistic(items_base=frozenset(), items_add=frozenset({1003}), confidence=0.09073400385191525, lift=1.0)]),\n",
       " RelationRecord(items=frozenset({1004}), support=0.2587203081532206, ordered_statistics=[OrderedStatistic(items_base=frozenset(), items_add=frozenset({1004}), confidence=0.2587203081532206, lift=1.0)]),\n",
       " RelationRecord(items=frozenset({1008}), support=0.33126471217633213, ordered_statistics=[OrderedStatistic(items_base=frozenset(), items_add=frozenset({1008}), confidence=0.33126471217633213, lift=1.0)]),\n",
       " RelationRecord(items=frozenset({1009}), support=0.14148145883647703, ordered_statistics=[OrderedStatistic(items_base=frozenset(), items_add=frozenset({1009}), confidence=0.14148145883647703, lift=1.0)]),\n",
       " RelationRecord(items=frozenset({1017}), support=0.1561554217235792, ordered_statistics=[OrderedStatistic(items_base=frozenset(), items_add=frozenset({1017}), confidence=0.1561554217235792, lift=1.0)]),\n",
       " RelationRecord(items=frozenset({1018}), support=0.162942129558864, ordered_statistics=[OrderedStatistic(items_base=frozenset(), items_add=frozenset({1018}), confidence=0.162942129558864, lift=1.0)]),\n",
       " RelationRecord(items=frozenset({1025}), support=0.06490171501941243, ordered_statistics=[OrderedStatistic(items_base=frozenset(), items_add=frozenset({1025}), confidence=0.06490171501941243, lift=1.0)]),\n",
       " RelationRecord(items=frozenset({1026}), support=0.09843783436764392, ordered_statistics=[OrderedStatistic(items_base=frozenset(), items_add=frozenset({1026}), confidence=0.09843783436764392, lift=1.0)]),\n",
       " RelationRecord(items=frozenset({1034}), support=0.2868454036868332, ordered_statistics=[OrderedStatistic(items_base=frozenset(), items_add=frozenset({1034}), confidence=0.2868454036868332, lift=1.0)]),\n",
       " RelationRecord(items=frozenset({1035}), support=0.05475222402250007, ordered_statistics=[OrderedStatistic(items_base=frozenset(), items_add=frozenset({1035}), confidence=0.05475222402250007, lift=1.0)]),\n",
       " RelationRecord(items=frozenset({1001, 1003}), support=0.05521078536272202, ordered_statistics=[OrderedStatistic(items_base=frozenset(), items_add=frozenset({1001, 1003}), confidence=0.05521078536272202, lift=1.0), OrderedStatistic(items_base=frozenset({1001}), items_add=frozenset({1003}), confidence=0.4057515165131431, lift=4.47187933175924), OrderedStatistic(items_base=frozenset({1003}), items_add=frozenset({1001}), confidence=0.6084905660377359, lift=4.47187933175924)]),\n",
       " RelationRecord(items=frozenset({1001, 1018}), support=0.0594295496927639, ordered_statistics=[OrderedStatistic(items_base=frozenset(), items_add=frozenset({1001, 1018}), confidence=0.0594295496927639, lift=1.0), OrderedStatistic(items_base=frozenset({1001}), items_add=frozenset({1018}), confidence=0.4367557852168052, lift=2.6804349887855374), OrderedStatistic(items_base=frozenset({1018}), items_add=frozenset({1001}), confidence=0.3647279549718574, lift=2.6804349887855374)]),\n",
       " RelationRecord(items=frozenset({1008, 1004}), support=0.06043838464125218, ordered_statistics=[OrderedStatistic(items_base=frozenset(), items_add=frozenset({1008, 1004}), confidence=0.06043838464125218, lift=1.0), OrderedStatistic(items_base=frozenset({1004}), items_add=frozenset({1008}), confidence=0.23360510457284653, lift=0.7051916367370231), OrderedStatistic(items_base=frozenset({1008}), items_add=frozenset({1004}), confidence=0.18244739756367664, lift=0.7051916367370231)]),\n",
       " RelationRecord(items=frozenset({1034, 1004}), support=0.053284827733789855, ordered_statistics=[OrderedStatistic(items_base=frozenset(), items_add=frozenset({1034, 1004}), confidence=0.053284827733789855, lift=1.0), OrderedStatistic(items_base=frozenset({1004}), items_add=frozenset({1034}), confidence=0.20595533498759305, lift=0.7180011683661042), OrderedStatistic(items_base=frozenset({1034}), items_add=frozenset({1004}), confidence=0.18576148353405092, lift=0.7180011683661042)]),\n",
       " RelationRecord(items=frozenset({1008, 1009}), support=0.07792485708171563, ordered_statistics=[OrderedStatistic(items_base=frozenset(), items_add=frozenset({1008, 1009}), confidence=0.07792485708171563, lift=1.0), OrderedStatistic(items_base=frozenset({1008}), items_add=frozenset({1009}), confidence=0.235234403839055, lift=1.66265181157721), OrderedStatistic(items_base=frozenset({1009}), items_add=frozenset({1008}), confidence=0.5507778738115817, lift=1.6626518115772102)]),\n",
       " RelationRecord(items=frozenset({1008, 1017}), support=0.06123322429763688, ordered_statistics=[OrderedStatistic(items_base=frozenset(), items_add=frozenset({1008, 1017}), confidence=0.06123322429763688, lift=1.0), OrderedStatistic(items_base=frozenset({1008}), items_add=frozenset({1017}), confidence=0.1848468069398302, lift=1.1837360810119002), OrderedStatistic(items_base=frozenset({1017}), items_add=frozenset({1008}), confidence=0.39212999216914646, lift=1.1837360810119)]),\n",
       " RelationRecord(items=frozenset({1008, 1018}), support=0.07306410687536302, ordered_statistics=[OrderedStatistic(items_base=frozenset(), items_add=frozenset({1008, 1018}), confidence=0.07306410687536302, lift=1.0), OrderedStatistic(items_base=frozenset({1008}), items_add=frozenset({1018}), confidence=0.2205610926541159, lift=1.3536161166620608), OrderedStatistic(items_base=frozenset({1018}), items_add=frozenset({1008}), confidence=0.448405253283302, lift=1.3536161166620608)]),\n",
       " RelationRecord(items=frozenset({1008, 1034}), support=0.16080217663782825, ordered_statistics=[OrderedStatistic(items_base=frozenset(), items_add=frozenset({1008, 1034}), confidence=0.16080217663782825, lift=1.0), OrderedStatistic(items_base=frozenset({1008}), items_add=frozenset({1034}), confidence=0.4854189737910668, lift=1.6922668711158035), OrderedStatistic(items_base=frozenset({1034}), items_add=frozenset({1008}), confidence=0.5605882979857189, lift=1.6922668711158038)])]"
      ]
     },
     "execution_count": 17,
     "metadata": {},
     "output_type": "execute_result"
    }
   ],
   "source": [
    "result"
   ]
  },
  {
   "attachments": {},
   "cell_type": "markdown",
   "metadata": {},
   "source": [
    "得到的关联规则如上所示。"
   ]
  }
 ],
 "metadata": {
  "kernelspec": {
   "display_name": "base",
   "language": "python",
   "name": "python3"
  },
  "language_info": {
   "codemirror_mode": {
    "name": "ipython",
    "version": 3
   },
   "file_extension": ".py",
   "mimetype": "text/x-python",
   "name": "python",
   "nbconvert_exporter": "python",
   "pygments_lexer": "ipython3",
   "version": "3.8.13"
  },
  "orig_nbformat": 4,
  "vscode": {
   "interpreter": {
    "hash": "6f5583cf1d9466b5c27e75c89cc6b383bed5736d6b16c51c8074d8690011a952"
   }
  }
 },
 "nbformat": 4,
 "nbformat_minor": 2
}
