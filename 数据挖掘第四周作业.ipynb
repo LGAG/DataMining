{
 "cells": [
  {
   "attachments": {},
   "cell_type": "markdown",
   "metadata": {},
   "source": [
    "<h1 style=\"text-align:center;vertical-align:middle\">数据挖掘第四周作业</h1>\n",
    "<h1 style=\"text-align:center;vertical-align:middle\">选用数据集GitHub Dataset</h1>\n",
    "<h3 style=\"text-align:center;vertical-align:middle\">3220221159  罗泽宇</h3>\n",
    "\n",
    "github地址：https://github.com/LGAG/DataMining\n",
    "\n",
    "## 数据概览\n",
    "\n"
   ]
  },
  {
   "cell_type": "code",
   "execution_count": 1,
   "metadata": {},
   "outputs": [],
   "source": [
    "import pandas as pd\n",
    "import numpy as np\n",
    "import github_dataset"
   ]
  },
  {
   "cell_type": "code",
   "execution_count": 2,
   "metadata": {},
   "outputs": [
    {
     "data": {
      "text/plain": [
       "Index(['repositories', 'stars_count', 'forks_count', 'issues_count',\n",
       "       'pull_requests', 'contributors', 'language'],\n",
       "      dtype='object')"
      ]
     },
     "execution_count": 2,
     "metadata": {},
     "output_type": "execute_result"
    }
   ],
   "source": [
    "github_dataset.show_col()"
   ]
  },
  {
   "cell_type": "markdown",
   "metadata": {},
   "source": [
    "每行数据包括7个列，分别代表：\n",
    "\n",
    "- **repositories** 数据仓库。\n",
    "- **stars_count** 星星数量\n",
    "- **forks_count** fork的数量\n",
    "- **issues_count** 事件的计数\n",
    "- **pull_requests** 提交请求的数量\n",
    "- **contributors** 贡献者数量\n",
    "- **language** 使用的语言\n",
    "\n",
    "接下来的内容将对以上属性中的数值属性，有意义的非唯一标称属性，以及可推导获得的有意义的属性进行数据分析与预处理。"
   ]
  },
  {
   "cell_type": "markdown",
   "metadata": {},
   "source": [
    "### 1 repositories (无缺失值)"
   ]
  },
  {
   "cell_type": "code",
   "execution_count": 3,
   "metadata": {},
   "outputs": [],
   "source": [
    "helper = github_dataset.col_helper()"
   ]
  },
  {
   "cell_type": "code",
   "execution_count": 4,
   "metadata": {
    "scrolled": true
   },
   "outputs": [
    {
     "name": "stdout",
     "output_type": "stream",
     "text": [
      "0\n"
     ]
    }
   ],
   "source": [
    "helper.select_col('repositories')\n",
    "# 缺失值个数\n",
    "n_b = helper.count_none()"
   ]
  },
  {
   "cell_type": "markdown",
   "metadata": {},
   "source": [
    "没有缺失值"
   ]
  },
  {
   "cell_type": "markdown",
   "metadata": {},
   "source": [
    "### 2 stars_count (无缺失值)\n"
   ]
  },
  {
   "cell_type": "code",
   "execution_count": 5,
   "metadata": {},
   "outputs": [],
   "source": [
    "helper.select_col('stars_count')"
   ]
  },
  {
   "cell_type": "code",
   "execution_count": 6,
   "metadata": {},
   "outputs": [
    {
     "name": "stdout",
     "output_type": "stream",
     "text": [
      "0\n"
     ]
    },
    {
     "data": {
      "text/plain": [
       "0"
      ]
     },
     "execution_count": 6,
     "metadata": {},
     "output_type": "execute_result"
    }
   ],
   "source": [
    "helper.count_none('')"
   ]
  },
  {
   "cell_type": "markdown",
   "metadata": {},
   "source": [
    "没有缺失值"
   ]
  },
  {
   "cell_type": "markdown",
   "metadata": {},
   "source": [
    "**数据摘要**"
   ]
  },
  {
   "cell_type": "code",
   "execution_count": 7,
   "metadata": {},
   "outputs": [
    {
     "name": "stdout",
     "output_type": "stream",
     "text": [
      "Min: 0\n",
      "Q1: 1.0\n",
      "Q2: 12.0\n",
      "Q3: 65.25\n",
      "Max: 995\n"
     ]
    }
   ],
   "source": [
    "# 五数概括\n",
    "helper.five_number()"
   ]
  },
  {
   "cell_type": "markdown",
   "metadata": {},
   "source": [
    "**数据分布**"
   ]
  },
  {
   "cell_type": "code",
   "execution_count": 8,
   "metadata": {},
   "outputs": [
    {
     "name": "stdout",
     "output_type": "stream",
     "text": [
      "[  0 271   0 ...   0  11   4]\n"
     ]
    },
    {
     "data": {
      "image/png": "[encoded data removed]",
      "text/plain": [
       "<Figure size 1152x288 with 1 Axes>"
      ]
     },
     "metadata": {
      "needs_background": "light"
     },
     "output_type": "display_data"
    },
    {
     "name": "stdout",
     "output_type": "stream",
     "text": [
      "161.625\n"
     ]
    }
   ],
   "source": [
    "# 盒图\n",
    "helper.box(16,4,'stars_count')"
   ]
  },
  {
   "cell_type": "code",
   "execution_count": 9,
   "metadata": {},
   "outputs": [
    {
     "data": {
      "image/png": "[encoded data removed]",
      "text/plain": [
       "<Figure size 1152x288 with 1 Axes>"
      ]
     },
     "metadata": {
      "needs_background": "light"
     },
     "output_type": "display_data"
    }
   ],
   "source": [
    "# 直方图\n",
    "helper.normal_hist(16,4,'stars_count','value')"
   ]
  },
  {
   "cell_type": "markdown",
   "metadata": {},
   "source": [
    "从盒图和直方图可以看出，大多数的仓库都没有星星数量"
   ]
  },
  {
   "cell_type": "markdown",
   "metadata": {},
   "source": [
    "### 3 forks_count (无缺失值)\n",
    "\n"
   ]
  },
  {
   "cell_type": "code",
   "execution_count": 10,
   "metadata": {},
   "outputs": [],
   "source": [
    "helper.select_col('forks_count')"
   ]
  },
  {
   "cell_type": "code",
   "execution_count": 11,
   "metadata": {},
   "outputs": [
    {
     "name": "stdout",
     "output_type": "stream",
     "text": [
      "0\n"
     ]
    },
    {
     "data": {
      "text/plain": [
       "0"
      ]
     },
     "execution_count": 11,
     "metadata": {},
     "output_type": "execute_result"
    }
   ],
   "source": [
    "helper.count_none('')"
   ]
  },
  {
   "cell_type": "markdown",
   "metadata": {},
   "source": [
    "没有缺失值"
   ]
  },
  {
   "cell_type": "markdown",
   "metadata": {},
   "source": [
    "**数据摘要**"
   ]
  },
  {
   "cell_type": "code",
   "execution_count": 12,
   "metadata": {},
   "outputs": [
    {
     "name": "stdout",
     "output_type": "stream",
     "text": [
      "Min: 0\n",
      "Q1: 1.0\n",
      "Q2: 6.0\n",
      "Q3: 38.25\n",
      "Max: 973\n"
     ]
    }
   ],
   "source": [
    "# 五数概括\n",
    "helper.five_number()"
   ]
  },
  {
   "cell_type": "markdown",
   "metadata": {},
   "source": [
    "**数据分布**"
   ]
  },
  {
   "cell_type": "code",
   "execution_count": 13,
   "metadata": {},
   "outputs": [
    {
     "name": "stdout",
     "output_type": "stream",
     "text": [
      "[  0 150   0 ...   5   5   3]\n"
     ]
    },
    {
     "data": {
      "image/png": "[encoded data removed]",
      "text/plain": [
       "<Figure size 1152x288 with 1 Axes>"
      ]
     },
     "metadata": {
      "needs_background": "light"
     },
     "output_type": "display_data"
    },
    {
     "name": "stdout",
     "output_type": "stream",
     "text": [
      "94.125\n"
     ]
    }
   ],
   "source": [
    "# 盒图\n",
    "helper.box(16,4,'forks_count')"
   ]
  },
  {
   "cell_type": "code",
   "execution_count": 14,
   "metadata": {},
   "outputs": [
    {
     "data": {
      "image/png": "[encoded data removed]",
      "text/plain": [
       "<Figure size 1152x288 with 1 Axes>"
      ]
     },
     "metadata": {
      "needs_background": "light"
     },
     "output_type": "display_data"
    }
   ],
   "source": [
    "# 直方图\n",
    "helper.normal_hist(16,4,'forks_count','value')"
   ]
  },
  {
   "cell_type": "markdown",
   "metadata": {},
   "source": [
    "从盒图和直方图可以看出，大多数的仓库都没有fork数量"
   ]
  },
  {
   "cell_type": "markdown",
   "metadata": {},
   "source": [
    "### 4 issues_count(无缺失值)"
   ]
  },
  {
   "cell_type": "code",
   "execution_count": 15,
   "metadata": {},
   "outputs": [],
   "source": [
    "helper.select_col('issues_count')"
   ]
  },
  {
   "cell_type": "code",
   "execution_count": 16,
   "metadata": {},
   "outputs": [
    {
     "name": "stdout",
     "output_type": "stream",
     "text": [
      "0\n"
     ]
    },
    {
     "data": {
      "text/plain": [
       "0"
      ]
     },
     "execution_count": 16,
     "metadata": {},
     "output_type": "execute_result"
    }
   ],
   "source": [
    "helper.count_none() #无缺失值"
   ]
  },
  {
   "cell_type": "markdown",
   "metadata": {},
   "source": [
    "没有缺失值"
   ]
  },
  {
   "cell_type": "markdown",
   "metadata": {},
   "source": [
    "**数据摘要**"
   ]
  },
  {
   "cell_type": "code",
   "execution_count": 17,
   "metadata": {},
   "outputs": [
    {
     "name": "stdout",
     "output_type": "stream",
     "text": [
      "Min: 1\n",
      "Q1: 1.0\n",
      "Q2: 2.0\n",
      "Q3: 6.0\n",
      "Max: 612\n"
     ]
    }
   ],
   "source": [
    "# 五数概括\n",
    "helper.five_number()"
   ]
  },
  {
   "cell_type": "markdown",
   "metadata": {},
   "source": [
    "**数据分布**"
   ]
  },
  {
   "cell_type": "code",
   "execution_count": 18,
   "metadata": {},
   "outputs": [
    {
     "name": "stdout",
     "output_type": "stream",
     "text": [
      "[612 536 313 ...   1   1   1]\n"
     ]
    },
    {
     "data": {
      "image/png": "[encoded data removed]",
      "text/plain": [
       "<Figure size 1152x288 with 1 Axes>"
      ]
     },
     "metadata": {
      "needs_background": "light"
     },
     "output_type": "display_data"
    },
    {
     "name": "stdout",
     "output_type": "stream",
     "text": [
      "13.5\n"
     ]
    }
   ],
   "source": [
    "# 盒图\n",
    "helper.box(16,4,'issues_count')"
   ]
  },
  {
   "cell_type": "code",
   "execution_count": 19,
   "metadata": {
    "scrolled": true
   },
   "outputs": [
    {
     "data": {
      "image/png": "[encoded data removed]",
      "text/plain": [
       "<Figure size 1152x288 with 1 Axes>"
      ]
     },
     "metadata": {
      "needs_background": "light"
     },
     "output_type": "display_data"
    }
   ],
   "source": [
    "# 直方图\n",
    "helper.normal_hist(16,4,'issues_count','value')"
   ]
  },
  {
   "cell_type": "markdown",
   "metadata": {},
   "source": [
    "从盒图和直方图可以看出，大多数的仓库的issue数量均为1."
   ]
  },
  {
   "cell_type": "markdown",
   "metadata": {},
   "source": [
    "### 5 pull_requests(无缺失值)\n"
   ]
  },
  {
   "cell_type": "code",
   "execution_count": 20,
   "metadata": {},
   "outputs": [],
   "source": [
    "helper.select_col('pull_requests')"
   ]
  },
  {
   "cell_type": "code",
   "execution_count": 21,
   "metadata": {},
   "outputs": [
    {
     "name": "stdout",
     "output_type": "stream",
     "text": [
      "0\n"
     ]
    },
    {
     "data": {
      "text/plain": [
       "0"
      ]
     },
     "execution_count": 21,
     "metadata": {},
     "output_type": "execute_result"
    }
   ],
   "source": [
    "helper.count_none()"
   ]
  },
  {
   "cell_type": "markdown",
   "metadata": {},
   "source": [
    "无缺失值\n",
    "  "
   ]
  },
  {
   "cell_type": "markdown",
   "metadata": {},
   "source": [
    "**数据摘要**\n",
    "  "
   ]
  },
  {
   "cell_type": "code",
   "execution_count": 22,
   "metadata": {},
   "outputs": [
    {
     "name": "stdout",
     "output_type": "stream",
     "text": [
      "Min: 0\n",
      "Q1: 0.0\n",
      "Q2: 0.0\n",
      "Q3: 2.0\n",
      "Max: 567\n"
     ]
    }
   ],
   "source": [
    "# 五数概括\n",
    "helper.five_number()"
   ]
  },
  {
   "cell_type": "markdown",
   "metadata": {},
   "source": [
    "**数据分布**\n",
    "  "
   ]
  },
  {
   "cell_type": "code",
   "execution_count": 23,
   "metadata": {},
   "outputs": [
    {
     "name": "stdout",
     "output_type": "stream",
     "text": [
      "[316   6  27 ...   1   0   0]\n"
     ]
    },
    {
     "data": {
      "image/png": "[encoded data removed]",
      "text/plain": [
       "<Figure size 1152x288 with 1 Axes>"
      ]
     },
     "metadata": {
      "needs_background": "light"
     },
     "output_type": "display_data"
    },
    {
     "name": "stdout",
     "output_type": "stream",
     "text": [
      "5.0\n"
     ]
    }
   ],
   "source": [
    "# 盒图\n",
    "helper.box(16,4,'pull_requests')"
   ]
  },
  {
   "cell_type": "code",
   "execution_count": 24,
   "metadata": {},
   "outputs": [
    {
     "data": {
      "image/png": "[encoded data removed]",
      "text/plain": [
       "<Figure size 1152x288 with 1 Axes>"
      ]
     },
     "metadata": {
      "needs_background": "light"
     },
     "output_type": "display_data"
    }
   ],
   "source": [
    "# 直方图\n",
    "helper.normal_hist(16,4,'pull_requests','value')"
   ]
  },
  {
   "cell_type": "markdown",
   "metadata": {},
   "source": [
    "从盒图和直方图可以看出，几乎所有的仓库的pull_requests数量均小于100."
   ]
  },
  {
   "cell_type": "markdown",
   "metadata": {},
   "source": [
    "### 6 contributors(无缺失值)\n"
   ]
  },
  {
   "cell_type": "code",
   "execution_count": 25,
   "metadata": {},
   "outputs": [],
   "source": [
    "helper.select_col('contributors')"
   ]
  },
  {
   "cell_type": "code",
   "execution_count": 26,
   "metadata": {},
   "outputs": [
    {
     "name": "stdout",
     "output_type": "stream",
     "text": [
      "0\n"
     ]
    },
    {
     "data": {
      "text/plain": [
       "0"
      ]
     },
     "execution_count": 26,
     "metadata": {},
     "output_type": "execute_result"
    }
   ],
   "source": [
    "helper.count_none()"
   ]
  },
  {
   "cell_type": "markdown",
   "metadata": {},
   "source": [
    "无缺失值\n",
    "  "
   ]
  },
  {
   "cell_type": "markdown",
   "metadata": {},
   "source": [
    "**数据摘要**\n",
    "  "
   ]
  },
  {
   "cell_type": "code",
   "execution_count": 27,
   "metadata": {},
   "outputs": [
    {
     "name": "stdout",
     "output_type": "stream",
     "text": [
      "Min: 0\n",
      "Q1: 0.0\n",
      "Q2: 2.0\n",
      "Q3: 4.0\n",
      "Max: 658\n"
     ]
    }
   ],
   "source": [
    "# 五数概括\n",
    "helper.five_number()"
   ]
  },
  {
   "cell_type": "markdown",
   "metadata": {},
   "source": [
    "**数据分布**\n",
    "  "
   ]
  },
  {
   "cell_type": "code",
   "execution_count": 28,
   "metadata": {},
   "outputs": [
    {
     "name": "stdout",
     "output_type": "stream",
     "text": [
      "[  2  71 154 ...   7   0   0]\n"
     ]
    },
    {
     "data": {
      "image/png": "[encoded data removed]",
      "text/plain": [
       "<Figure size 1152x288 with 1 Axes>"
      ]
     },
     "metadata": {
      "needs_background": "light"
     },
     "output_type": "display_data"
    },
    {
     "name": "stdout",
     "output_type": "stream",
     "text": [
      "10.0\n"
     ]
    }
   ],
   "source": [
    "# 盒图\n",
    "helper.box(16,4,'contributors')"
   ]
  },
  {
   "cell_type": "code",
   "execution_count": 29,
   "metadata": {},
   "outputs": [
    {
     "data": {
      "image/png": "[encoded data removed]",
      "text/plain": [
       "<Figure size 1152x288 with 1 Axes>"
      ]
     },
     "metadata": {
      "needs_background": "light"
     },
     "output_type": "display_data"
    }
   ],
   "source": [
    "# 直方图\n",
    "helper.normal_hist(16,4,'contributors','value')"
   ]
  },
  {
   "cell_type": "markdown",
   "metadata": {},
   "source": [
    "从盒图和直方图可以看出，几乎所有的仓库的contributors数量均小于100."
   ]
  },
  {
   "cell_type": "markdown",
   "metadata": {},
   "source": [
    "### 7 使用的语言(有缺失值)\n"
   ]
  },
  {
   "cell_type": "code",
   "execution_count": 30,
   "metadata": {},
   "outputs": [],
   "source": [
    "helper.select_col('language')"
   ]
  },
  {
   "cell_type": "code",
   "execution_count": 31,
   "metadata": {},
   "outputs": [
    {
     "name": "stdout",
     "output_type": "stream",
     "text": [
      "145\n"
     ]
    },
    {
     "data": {
      "text/plain": [
       "145"
      ]
     },
     "execution_count": 31,
     "metadata": {},
     "output_type": "execute_result"
    }
   ],
   "source": [
    "helper.count_none()"
   ]
  },
  {
   "cell_type": "markdown",
   "metadata": {},
   "source": [
    "**有145个仓库对应的语言是NULL**\n",
    "  "
   ]
  },
  {
   "cell_type": "markdown",
   "metadata": {},
   "source": [
    "**数据分布**\n",
    "  "
   ]
  },
  {
   "cell_type": "code",
   "execution_count": 32,
   "metadata": {},
   "outputs": [
    {
     "data": {
      "text/plain": [
       "JavaScript          253\n",
       "Python              155\n",
       "NULL                145\n",
       "HTML                 72\n",
       "Java                 44\n",
       "CSS                  37\n",
       "TypeScript           37\n",
       "Dart                 36\n",
       "Jupyter Notebook     29\n",
       "C++                  29\n",
       "Ruby                 28\n",
       "C                    26\n",
       "Shell                25\n",
       "PHP                  16\n",
       "Go                   15\n",
       "Swift                10\n",
       "Rust                 10\n",
       "C#                    8\n",
       "Objective-C           8\n",
       "Kotlin                7\n",
       "Makefile              6\n",
       "Jinja                 5\n",
       "SCSS                  4\n",
       "AutoHotkey            3\n",
       "Dockerfile            3\n",
       "CoffeeScript          3\n",
       "Perl                  3\n",
       "Solidity              3\n",
       "Vim Script            2\n",
       "Pawn                  2\n",
       "Assembly              2\n",
       "PowerShell            2\n",
       "Hack                  2\n",
       "CodeQL                2\n",
       "Vue                   2\n",
       "Elixir                2\n",
       "Gherkin               1\n",
       "QMake                 1\n",
       "CMake                 1\n",
       "Oz                    1\n",
       "Cuda                  1\n",
       "QML                   1\n",
       "ActionScript          1\n",
       "Roff                  1\n",
       "HCL                   1\n",
       "R                     1\n",
       "PureBasic             1\n",
       "Smarty                1\n",
       "Less                  1\n",
       "Svelte                1\n",
       "Haskell               1\n",
       "SourcePawn            1\n",
       "Name: language, dtype: int64"
      ]
     },
     "execution_count": 32,
     "metadata": {},
     "output_type": "execute_result"
    }
   ],
   "source": [
    "helper.data['language'].value_counts()"
   ]
  },
  {
   "cell_type": "code",
   "execution_count": 33,
   "metadata": {},
   "outputs": [
    {
     "data": {
      "image/png": "[encoded data removed]",
      "text/plain": [
       "<Figure size 3240x432 with 1 Axes>"
      ]
     },
     "metadata": {
      "needs_background": "light"
     },
     "output_type": "display_data"
    }
   ],
   "source": [
    "helper.hist_bar(45,6,20)"
   ]
  },
  {
   "cell_type": "markdown",
   "metadata": {},
   "source": [
    "部分仓库的语言数据存在缺失值，推测原因是在数据记录时出错，因为一个代码仓库不能没有使用的语言，因此可以推测是数据收集以及整理过程中就已经出现了问题。这里可以进行缺失值的处理方式有以下几种：\n",
    "\n",
    "删除所有缺失数据： 因为缺失值个数和不是很多，直接删除应该影响并不能对后续的数据分析造成不可逆的影响。\n",
    "\n",
    "将缺失数据用频率最高的值代替：  JavaScript，可用该语言进行填充。\n",
    "\n",
    "利用数据对象的相关性进行填补\n",
    "\n",
    "利用属性的相关性进行填补\n",
    "\n",
    "此处由于仓库的各种数据指标无法与所使用的的语言进行关联，所以这里使用直接删除的方式。"
   ]
  },
  {
   "cell_type": "code",
   "execution_count": 34,
   "metadata": {},
   "outputs": [
    {
     "name": "stdout",
     "output_type": "stream",
     "text": [
      "[array(['octocat/Hello-World', 0, 0, 612, 316, 2, 'NULL'], dtype=object), array(['EddieHubCommunity/support', 271, 150, 536, 6, 71, 'NULL'],\n",
      "      dtype=object), array(['taniarascia/comments', 4, 0, 117, 0, 0, 'NULL'], dtype=object), array(['florinpop17/app-ideas', 0, 0, 46, 235, 68, 'NULL'], dtype=object), array(['education/teachers', 176, 28, 39, 0, 2, 'NULL'], dtype=object), array(['octocat/hello-worId', 176, 114, 35, 9, 0, 'NULL'], dtype=object), array(['anuraghazra/anuraghazra', 228, 0, 33, 4, 3, 'NULL'], dtype=object), array(['WhiteHouse/api-standards', 0, 910, 27, 7, 12, 'NULL'],\n",
      "      dtype=object), array(['offensive-security/kali-nethunter', 0, 897, 26, 3, 33, 'NULL'],\n",
      "      dtype=object), array(['octocat/git-consortium', 135, 67, 25, 10, 0, 'NULL'], dtype=object), array(['benawad/astral-bugs', 42, 1, 18, 0, 0, 'NULL'], dtype=object), array(['openfoodfacts/offf', 0, 0, 16, 0, 0, 'NULL'], dtype=object), array(['offensive-security/nethunter-app', 281, 159, 16, 2, 22, 'NULL'],\n",
      "      dtype=object), array(['florinpop17/100Days100Projects', 430, 69, 16, 1, 0, 'NULL'],\n",
      "      dtype=object), array(['stemount/cloutbot', 5, 2, 14, 2, 0, 'NULL'], dtype=object), array(['offensive-security/nethunter-devices', 217, 207, 13, 3, 30,\n",
      "       'NULL'], dtype=object), array(['offensive-security/kali-arm-build-scripts', 805, 397, 13, 1, 13,\n",
      "       'NULL'], dtype=object), array(['WhiteHouse/ndoch-hackathon', 16, 14, 12, 1, 0, 'NULL'],\n",
      "      dtype=object), array(['iamshaunjp/Complete-React-Tutorial', 995, 0, 11, 7, 0, 'NULL'],\n",
      "      dtype=object), array(['iamshaunjp/Complete-React-Tutorial', 995, 0, 11, 7, 0, 'NULL'],\n",
      "      dtype=object), array(['localstack/cockpit', 12, 0, 10, 0, 2, 'NULL'], dtype=object), array(['stemount/automated-cloud-radio-station', 8, 1, 10, 0, 0, 'NULL'],\n",
      "      dtype=object), array(['jakearchibald/byte-storage', 40, 2, 10, 0, 2, 'NULL'],\n",
      "      dtype=object), array(['mrdbourke/machine-learning-roadmap', 0, 0, 10, 1, 0, 'NULL'],\n",
      "      dtype=object), array(['education/GitHubGraduation-2022', 0, 0, 9, 484, 0, 'NULL'],\n",
      "      dtype=object), array(['iamshaunjp/firegram', 286, 237, 9, 2, 0, 'NULL'], dtype=object), array(['iamshaunjp/firegram', 286, 237, 9, 2, 0, 'NULL'], dtype=object), array(['cheeaun/ama', 11, 634, 9, 0, 0, 'NULL'], dtype=object), array(['QAInsights/apache-jmeter', 1, 0, 8, 0, 0, 'NULL'], dtype=object), array(['openfoodfacts/folksonomy_engine', 2, 1, 7, 0, 2, 'NULL'],\n",
      "      dtype=object), array(['offensive-security/nethunter-LRT', 289, 94, 7, 2, 7, 'NULL'],\n",
      "      dtype=object), array(['taranjeet/code-snippets', 4, 1, 6, 0, 0, 'NULL'], dtype=object), array(['offensive-security/kali-cloud-build', 90, 135, 6, 1, 0, 'NULL'],\n",
      "      dtype=object), array(['kdeldycke/kdeldycke', 2, 3, 6, 0, 2, 'NULL'], dtype=object), array(['jishanshaikh4/cryptography-roadmap', 24, 5, 6, 0, 0, 'NULL'],\n",
      "      dtype=object), array(['varunKT001/testing-github-templates', 1, 0, 6, 0, 0, 'NULL'],\n",
      "      dtype=object), array(['EddieHubCommunity/template', 6, 10, 6, 1, 10, 'NULL'],\n",
      "      dtype=object), array(['iamshaunjp/django-playlist', 162, 186, 6, 5, 0, 'NULL'],\n",
      "      dtype=object), array(['iamshaunjp/django-playlist', 162, 186, 6, 5, 0, 'NULL'],\n",
      "      dtype=object), array(['WhiteHouse/drushsubtree', 11, 10, 5, 1, 4, 'NULL'], dtype=object), array(['Chirag321ratvekar/docker-project', 0, 0, 5, 0, 0, 'NULL'],\n",
      "      dtype=object), array(['iamshaunjp/firebase-auth', 329, 355, 5, 9, 0, 'NULL'],\n",
      "      dtype=object), array(['iamshaunjp/firebase-auth', 329, 355, 5, 9, 0, 'NULL'],\n",
      "      dtype=object), array(['EddieHubCommunity/hacktoberfest-practice', 292, 0, 4, 36, 0,\n",
      "       'NULL'], dtype=object), array(['iamshaunjp/css-grid-layouts', 51, 23, 4, 0, 0, 'NULL'],\n",
      "      dtype=object), array(['education/hackconviii', 15, 9, 4, 0, 0, 'NULL'], dtype=object), array(['iamshaunjp/css-grid-layouts', 51, 23, 4, 0, 0, 'NULL'],\n",
      "      dtype=object), array(['defuse/airgap', 26, 2, 4, 0, 0, 'NULL'], dtype=object), array(['sagesharp/python-code-of-conduct', 2, 103, 4, 0, 0, 'NULL'],\n",
      "      dtype=object), array(['iamshaunjp/firebase-firestore-playlist', 274, 303, 3, 4, 0,\n",
      "       'NULL'], dtype=object), array(['ethereum/beacon-metrics', 19, 14, 3, 0, 6, 'NULL'], dtype=object), array(['xoreaxeaxeax/..cantor.dust..', 33, 0, 3, 0, 0, 'NULL'],\n",
      "      dtype=object), array(['aviaryan/Ahk-Best-Practices', 30, 5, 3, 0, 2, 'NULL'],\n",
      "      dtype=object), array(['taniarascia/new-moon-vscode', 85, 10, 3, 1, 3, 'NULL'],\n",
      "      dtype=object), array(['google/.github', 70, 153, 3, 3, 4, 'NULL'], dtype=object), array(['iamshaunjp/firebase-firestore-playlist', 274, 303, 3, 4, 0,\n",
      "       'NULL'], dtype=object), array(['vicky002/1000_Projects', 0, 298, 3, 1, 4, 'NULL'], dtype=object), array(['education/github-starter-course', 41, 25, 3, 0, 5, 'NULL'],\n",
      "      dtype=object), array(['offensive-security/kali-linux-preseed', 42, 26, 3, 0, 0, 'NULL'],\n",
      "      dtype=object), array(['offensive-security/cryptsetup-nuke-keys', 188, 63, 3, 7, 0,\n",
      "       'NULL'], dtype=object), array(['zemse/awesome-decentralized-finance', 8, 268, 2, 0, 0, 'NULL'],\n",
      "      dtype=object), array(['tapaswenipathak/Bot-list', 0, 0, 2, 0, 2, 'NULL'], dtype=object), array(['feross/awesome-mad-science', 0, 68, 2, 9, 17, 'NULL'],\n",
      "      dtype=object), array(['Anurag5086/MentHealth', 4, 4, 2, 0, 2, 'NULL'], dtype=object), array(['eddiejaoude/ANT-Project-Deployment-Tool', 2, 0, 2, 0, 0, 'NULL'],\n",
      "      dtype=object), array(['arogozhnikov/python3_with_pleasure', 0, 204, 2, 1, 14, 'NULL'],\n",
      "      dtype=object), array(['ethereum/annotated-spec', 231, 45, 2, 3, 11, 'NULL'], dtype=object), array(['iamshaunjp/data-ui-with-d3-firebase', 162, 151, 2, 0, 0, 'NULL'],\n",
      "      dtype=object), array(['iamshaunjp/flutter-animations', 90, 76, 2, 0, 0, 'NULL'],\n",
      "      dtype=object), array(['Orbiter/MetaGer', 749, 0, 2, 0, 2, 'NULL'], dtype=object), array(['iamshaunjp/Customizing-Bootstrap-5', 21, 7, 2, 0, 0, 'NULL'],\n",
      "      dtype=object), array(['iamshaunjp/CSS-Tips-and-Tricks', 60, 52, 2, 1, 0, 'NULL'],\n",
      "      dtype=object), array(['Anurag5086/MentHealth', 4, 4, 2, 0, 2, 'NULL'], dtype=object), array(['LiveOverflow/ctf', 13, 4, 2, 0, 0, 'NULL'], dtype=object), array(['iamshaunjp/bootstrap-5-tutorial', 146, 148, 2, 1, 0, 'NULL'],\n",
      "      dtype=object), array(['iamshaunjp/complete-sass-tutorial', 121, 110, 2, 1, 0, 'NULL'],\n",
      "      dtype=object), array(['iamshaunjp/data-ui-with-d3-firebase', 162, 151, 2, 0, 0, 'NULL'],\n",
      "      dtype=object), array(['iamshaunjp/Customizing-Bootstrap-5', 21, 7, 2, 0, 0, 'NULL'],\n",
      "      dtype=object), array(['iamshaunjp/CSS-Tips-and-Tricks', 60, 52, 2, 1, 0, 'NULL'],\n",
      "      dtype=object), array(['iamshaunjp/complete-sass-tutorial', 121, 110, 2, 1, 0, 'NULL'],\n",
      "      dtype=object), array(['iamshaunjp/bootstrap-5-tutorial', 146, 148, 2, 1, 0, 'NULL'],\n",
      "      dtype=object), array(['dcbuild3r/blockchain-development-guide', 0, 118, 2, 0, 13, 'NULL'],\n",
      "      dtype=object), array(['taranjeet/everything-else', 0, 0, 2, 0, 0, 'NULL'], dtype=object), array(['jasineri/gitartwork', 183, 32, 2, 5, 3, 'NULL'], dtype=object), array(['iamshaunjp/flutter-animations', 90, 76, 2, 0, 0, 'NULL'],\n",
      "      dtype=object), array(['avikalpg/github-profile', 2, 1, 2, 1, 0, 'NULL'], dtype=object), array(['Vectorized/Solidity-Code-Reviews', 1, 0, 1, 3, 0, 'NULL'],\n",
      "      dtype=object), array(['K-avin/movie-streaming-app', 0, 0, 1, 0, 0, 'NULL'], dtype=object), array(['stemount/community', 0, 0, 1, 0, 0, 'NULL'], dtype=object), array(['Anuj-Kumar-Sharma/First-Contribution', 17, 0, 1, 567, 4, 'NULL'],\n",
      "      dtype=object), array(['QAInsights/.new-shortcuts-domain-list', 7, 2, 1, 1, 0, 'NULL'],\n",
      "      dtype=object), array(['kunal-kushwaha/16JanGitWorkshop', 0, 0, 1, 0, 0, 'NULL'],\n",
      "      dtype=object), array(['QAInsights/Academy-Discussions', 1, 0, 1, 0, 0, 'NULL'],\n",
      "      dtype=object), array(['IonicaBizau/ama', 17, 3, 1, 0, 3, 'NULL'], dtype=object), array(['gunnarmorling/awesome-opensource-data-engineering', 790, 144, 1,\n",
      "       1, 20, 'NULL'], dtype=object), array(['PoojaB26/AwesomeFlutterPlaylist', 339, 110, 1, 0, 3, 'NULL'],\n",
      "      dtype=object), array(['Daniel-Bessa/NavMenu', 0, 0, 1, 0, 0, 'NULL'], dtype=object), array(['codingkush/github-upload', 0, 0, 1, 0, 0, 'NULL'], dtype=object), array(['shradha-khapra/Apni-Kaksha-Demo-Tasks', 7, 21, 1, 9, 3, 'NULL'],\n",
      "      dtype=object), array(['douglascrockford/Programma', 99, 15, 1, 0, 0, 'NULL'],\n",
      "      dtype=object), array(['Mitesh411/apache-jmeter', 0, 0, 1, 0, 0, 'NULL'], dtype=object), array(['LiveOverflow/CTFnotes', 5, 1, 1, 0, 0, 'NULL'], dtype=object), array(['iamakshat01/markdown-portfolio', 0, 0, 1, 0, 4, 'NULL'],\n",
      "      dtype=object), array(['PremChapagain/premchapagain', 39, 9, 1, 2, 0, 'NULL'],\n",
      "      dtype=object), array(['ankushKun/ankushKun', 4, 8, 1, 0, 2, 'NULL'], dtype=object), array(['jasineri/jasineri', 28, 37, 1, 0, 0, 'NULL'], dtype=object), array(['jasineri/useful-commands', 22, 2, 1, 0, 2, 'NULL'], dtype=object), array(['kdeldycke/awesome-falsehood', 0, 469, 1, 1, 32, 'NULL'],\n",
      "      dtype=object), array(['newwebash/portfolio-boilerplate', 0, 0, 1, 0, 0, 'NULL'],\n",
      "      dtype=object), array(['EddieHubCommunity/gh-action-open-source-labels', 16, 18, 1, 0, 10,\n",
      "       'NULL'], dtype=object), array(['sagesharp/code-of-conduct-template', 12, 9, 1, 0, 8, 'NULL'],\n",
      "      dtype=object), array(['openfoodfacts/.github', 0, 2, 1, 1, 3, 'NULL'], dtype=object), array(['openfoodfacts/bio-codes', 0, 1, 1, 0, 0, 'NULL'], dtype=object), array(['openfoodfacts/egg-codes', 1, 1, 1, 0, 0, 'NULL'], dtype=object), array(['iamshaunjp/bootstrap-4-playlist', 66, 90, 1, 2, 0, 'NULL'],\n",
      "      dtype=object), array(['iamshaunjp/complete-mongodb', 47, 9, 1, 1, 0, 'NULL'],\n",
      "      dtype=object), array(['iamshaunjp/firestore-pagination-tutorial', 19, 16, 1, 0, 0,\n",
      "       'NULL'], dtype=object), array(['KrauseFx/engagement-enhancer', 3, 0, 1, 0, 0, 'NULL'],\n",
      "      dtype=object), array(['stong/infosec-resources', 799, 72, 1, 0, 3, 'NULL'], dtype=object), array(['KrauseFx/certs', 7, 0, 1, 0, 0, 'NULL'], dtype=object), array(['meenal21/markdown-portfolio', 0, 0, 1, 0, 2, 'NULL'], dtype=object), array(['iamshaunjp/complete-mongodb', 47, 9, 1, 1, 0, 'NULL'],\n",
      "      dtype=object), array(['5cientist/5cientist', 2, 0, 1, 0, 0, 'NULL'], dtype=object), array(['iamshaunjp/firestore-pagination-tutorial', 19, 16, 1, 0, 0,\n",
      "       'NULL'], dtype=object), array(['iamshaunjp/bootstrap-4-playlist', 66, 90, 1, 2, 0, 'NULL'],\n",
      "      dtype=object), array(['stong/infosec-resources', 799, 72, 1, 0, 3, 'NULL'], dtype=object), array(['KrauseFx/certs', 7, 0, 1, 0, 0, 'NULL'], dtype=object), array(['KrauseFx/engagement-enhancer', 3, 0, 1, 0, 0, 'NULL'],\n",
      "      dtype=object), array(['AnirudhDagar/comments', 0, 0, 1, 0, 0, 'NULL'], dtype=object), array(['localstack/.github', 3, 2, 1, 0, 2, 'NULL'], dtype=object), array(['vaibhavdes/LearnDesignPatterns', 0, 0, 1, 0, 0, 'NULL'],\n",
      "      dtype=object), array(['AshAman999/FlutterFestival', 0, 1, 1, 0, 0, 'NULL'], dtype=object), array(['Novusvetus/StreamersMQTT', 2, 0, 1, 0, 0, 'NULL'], dtype=object), array(['taranjeet/awesome-paid-resources-free-during-covid19', 21, 1, 1,\n",
      "       0, 0, 'NULL'], dtype=object), array(['gylidian/DataStructure_Review', 27, 9, 1, 0, 0, 'NULL'],\n",
      "      dtype=object), array(['karar189/github-pages-with-jekyll', 0, 0, 1, 0, 4, 'NULL'],\n",
      "      dtype=object), array(['offensive-security/wireless-patches', 27, 17, 1, 0, 0, 'NULL'],\n",
      "      dtype=object), array(['offensive-security/gcc-arm-linux-gnueabihf-4.7', 30, 44, 1, 0, 0,\n",
      "       'NULL'], dtype=object), array(['offensive-security/kali-linux-docker-rolling', 33, 15, 1, 1, 0,\n",
      "       'NULL'], dtype=object), array(['offensive-security/kali-linux-recipes', 466, 206, 1, 1, 0, 'NULL'],\n",
      "      dtype=object), array(['offensive-security/Kali-WSL-chroot', 40, 17, 1, 1, 2, 'NULL'],\n",
      "      dtype=object), array(['joelparkerhenderson/architecture-decision-record', 0, 0, 1, 0, 26,\n",
      "       'NULL'], dtype=object), array(['sefakozan/turkce-iptv', 48, 10, 1, 1, 0, 'NULL'], dtype=object), array(['mikenikles/gitpod-minimal-custom-dockerfile', 3, 1, 1, 1, 0,\n",
      "       'NULL'], dtype=object), array(['varunKT001/git-github-hIQ-fork', 1, 1, 1, 0, 2, 'NULL'],\n",
      "      dtype=object)]\n"
     ]
    }
   ],
   "source": [
    "index11,row11 = github_dataset.get_row_index('language','NULL')\n",
    "print(row11)"
   ]
  },
  {
   "cell_type": "code",
   "execution_count": 35,
   "metadata": {},
   "outputs": [],
   "source": [
    "github_dataset.delete_row(index11)"
   ]
  },
  {
   "cell_type": "code",
   "execution_count": 36,
   "metadata": {},
   "outputs": [
    {
     "name": "stdout",
     "output_type": "stream",
     "text": [
      "0\n"
     ]
    },
    {
     "data": {
      "text/plain": [
       "0"
      ]
     },
     "execution_count": 36,
     "metadata": {},
     "output_type": "execute_result"
    }
   ],
   "source": [
    "# 删除后缺失值个数\n",
    "helper.count_none_after()"
   ]
  },
  {
   "cell_type": "code",
   "execution_count": 37,
   "metadata": {},
   "outputs": [
    {
     "data": {
      "text/plain": [
       "JavaScript          253\n",
       "Python              155\n",
       "HTML                 72\n",
       "Java                 44\n",
       "CSS                  37\n",
       "TypeScript           37\n",
       "Dart                 36\n",
       "C++                  29\n",
       "Jupyter Notebook     29\n",
       "Ruby                 28\n",
       "C                    26\n",
       "Shell                25\n",
       "PHP                  16\n",
       "Go                   15\n",
       "Rust                 10\n",
       "Swift                10\n",
       "C#                    8\n",
       "Objective-C           8\n",
       "Kotlin                7\n",
       "Makefile              6\n",
       "Jinja                 5\n",
       "SCSS                  4\n",
       "CoffeeScript          3\n",
       "Perl                  3\n",
       "Dockerfile            3\n",
       "Solidity              3\n",
       "AutoHotkey            3\n",
       "Hack                  2\n",
       "Pawn                  2\n",
       "CodeQL                2\n",
       "PowerShell            2\n",
       "Assembly              2\n",
       "Vim Script            2\n",
       "Vue                   2\n",
       "Elixir                2\n",
       "Gherkin               1\n",
       "QMake                 1\n",
       "CMake                 1\n",
       "Oz                    1\n",
       "Cuda                  1\n",
       "QML                   1\n",
       "ActionScript          1\n",
       "Roff                  1\n",
       "HCL                   1\n",
       "R                     1\n",
       "PureBasic             1\n",
       "Smarty                1\n",
       "Less                  1\n",
       "Svelte                1\n",
       "Haskell               1\n",
       "SourcePawn            1\n",
       "Name: language, dtype: int64"
      ]
     },
     "execution_count": 37,
     "metadata": {},
     "output_type": "execute_result"
    }
   ],
   "source": [
    "helper.data2['language'].value_counts()"
   ]
  },
  {
   "attachments": {},
   "cell_type": "markdown",
   "metadata": {},
   "source": [
    "<h1 style=\"text-align:center;vertical-align:middle\">数据挖掘第四周作业</h1>\n",
    "<h1 style=\"text-align:center;vertical-align:middle\">选用数据集Movies Dataset from Pirated Sites</h1>\n",
    "<h3 style=\"text-align:center;vertical-align:middle\">3220221159  罗泽宇</h3>\n",
    "\n",
    "github地址：https://github.com/LGAG/DataMining\n",
    "\n",
    "## 数据概览\n"
   ]
  },
  {
   "cell_type": "code",
   "execution_count": 1,
   "metadata": {},
   "outputs": [],
   "source": [
    "import pandas as pd\n",
    "import numpy as np\n",
    "import movies_dataset"
   ]
  },
  {
   "cell_type": "code",
   "execution_count": 2,
   "metadata": {},
   "outputs": [
    {
     "data": {
      "text/plain": [
       "Index(['Unnamed: 0', 'IMDb-rating', 'appropriate_for', 'director', 'downloads',\n",
       "       'id', 'industry', 'language', 'posted_date', 'release_date', 'run_time',\n",
       "       'storyline', 'title', 'views', 'writer'],\n",
       "      dtype='object')"
      ]
     },
     "execution_count": 2,
     "metadata": {},
     "output_type": "execute_result"
    }
   ],
   "source": [
    "movies_dataset.show_col()"
   ]
  },
  {
   "cell_type": "markdown",
   "metadata": {},
   "source": [
    "每行数据包括15个列，分别代表：\n",
    "\n",
    "- **Unnamed: 0** 序号\n",
    "- **IMDb-rating** 电影评分\n",
    "- **appropriate_for** 电影分级\n",
    "- **director** 导演\n",
    "- **downloads** 电影下载次数\n",
    "- **id** 电影的id\n",
    "- **industry** 电影的出品公司\n",
    "- **language** 电影使用的语言\n",
    "- **posted_date** 电影的发布日期\n",
    "- **release_date** 首次上映日期\n",
    "- **run_time** 电影时长\n",
    "- **storyline** 电影的主要故事\n",
    "- **title** 电影标题\n",
    "- **views** 观看次数\n",
    "- **writer** 编剧\n",
    "\n",
    "\n",
    "接下来的内容将对以上属性中的数值属性，有意义的非唯一标称属性，以及可推导获得的有意义的属性进行数据分析与预处理。"
   ]
  },
  {
   "cell_type": "code",
   "execution_count": 3,
   "metadata": {},
   "outputs": [],
   "source": [
    "helper = movies_dataset.col_helper(1)"
   ]
  },
  {
   "cell_type": "markdown",
   "metadata": {},
   "source": [
    "### 1 序号 (无缺失值)"
   ]
  },
  {
   "cell_type": "code",
   "execution_count": 4,
   "metadata": {
    "scrolled": true
   },
   "outputs": [
    {
     "name": "stdout",
     "output_type": "stream",
     "text": [
      "0\n"
     ]
    }
   ],
   "source": [
    "helper.select_col('Unnamed: 0')\n",
    "# 缺失值个数\n",
    "n_b = helper.count_none()"
   ]
  },
  {
   "cell_type": "markdown",
   "metadata": {},
   "source": [
    "没有缺失值"
   ]
  },
  {
   "cell_type": "markdown",
   "metadata": {},
   "source": [
    "### 2 IMDb-rating (有缺失值)\n"
   ]
  },
  {
   "cell_type": "code",
   "execution_count": 5,
   "metadata": {},
   "outputs": [],
   "source": [
    "helper.select_col('IMDb-rating')"
   ]
  },
  {
   "cell_type": "code",
   "execution_count": 6,
   "metadata": {},
   "outputs": [
    {
     "name": "stdout",
     "output_type": "stream",
     "text": [
      "841\n"
     ]
    },
    {
     "data": {
      "text/plain": [
       "841"
      ]
     },
     "execution_count": 6,
     "metadata": {},
     "output_type": "execute_result"
    }
   ],
   "source": [
    "helper.count_none('')"
   ]
  },
  {
   "cell_type": "markdown",
   "metadata": {},
   "source": [
    "有841个缺失值，这里猜测，由于盗版电影网站不一定会那么全面的数据，因此猜测是数据不全造成的\n",
    "\n",
    "这里可以进行缺失值的处理方式有以下几种：\n",
    "\n",
    "删除所有缺失数据\n",
    "\n",
    "将缺失数据用中位数或平均数值代替\n",
    "\n",
    "利用数据对象的相关性进行填补\n",
    "\n",
    "利用属性的相关性进行填补"
   ]
  },
  {
   "cell_type": "markdown",
   "metadata": {},
   "source": [
    "**数据摘要**"
   ]
  },
  {
   "cell_type": "code",
   "execution_count": 7,
   "metadata": {},
   "outputs": [
    {
     "data": {
      "text/plain": [
       "       841\n",
       "6.6    829\n",
       "5      774\n",
       "5.7    747\n",
       "6.1    724\n",
       "      ... \n",
       "1.5      2\n",
       "9.1      1\n",
       "9.9      1\n",
       "9.5      1\n",
       "1.3      1\n",
       "Name: IMDb-rating, Length: 86, dtype: int64"
      ]
     },
     "execution_count": 7,
     "metadata": {},
     "output_type": "execute_result"
    }
   ],
   "source": [
    "helper.data2['IMDb-rating'].value_counts()"
   ]
  },
  {
   "cell_type": "code",
   "execution_count": 8,
   "metadata": {},
   "outputs": [
    {
     "data": {
      "image/png": "[encoded data removed]",
      "text/plain": [
       "<Figure size 3240x432 with 1 Axes>"
      ]
     },
     "metadata": {
      "needs_background": "light"
     },
     "output_type": "display_data"
    }
   ],
   "source": [
    "helper.hist_bar(45,6,20)"
   ]
  },
  {
   "cell_type": "code",
   "execution_count": 9,
   "metadata": {},
   "outputs": [
    {
     "name": "stdout",
     "output_type": "stream",
     "text": [
      "[array([6, '', 'TV-PG', '', '5332.00 ', 372059, 'Wrestling', 'English',\n",
      "       '19 Feb, 2023', 'Feb 18 2023', '200',\n",
      "       'Undisputed\\r\\n WWE Universal title: Reigns vs Sami Zayn. Lashley vs Lesnar. Edge, \\r\\nPhoenix vs Balor, Ripley. US title: Theory vs Rollins vs Gargano vs Reed\\r\\n vs Priest vs Montez. Asuka vs Morgan vs Cross vs Natalya vs Rodriguez \\r\\nvs Carmella.',\n",
      "       'WWE Elimination Chamber', '11978.00 ', ''], dtype=object), array([12, '', '', '', '2253.00 ', 372038, 'Wrestling', 'English',\n",
      "       '18 Feb, 2023', 'Feb 17 2023', '', '', 'WWE Smackdown 2023-02-17',\n",
      "       '5468.00 ', ''], dtype=object), array([16, '', '', '', '2785.00 ', 371990, 'Punjabi', 'Punjabi',\n",
      "       '17 Feb, 2023', 'Feb 16 2023', '', '', 'Sab Fadey Jaange.2023',\n",
      "       '12968.00 ', ''], dtype=object), array([18, '', '', '', '171.00 ', 371988, 'Wrestling', 'English',\n",
      "       '17 Feb, 2023', 'Feb 16 2023', '', '', 'TNA.Impact 2023-02-16',\n",
      "       '667.00 ', ''], dtype=object), array([24, '', '', 'Sumeet Nagdev', '1299.00 ', 371932,\n",
      "       'Bollywood / Indian', 'Hindi', '16 Feb, 2023', 'Jan 21 2023',\n",
      "       '142',\n",
      "       '21-year\\r\\n old Vicky is diagnosed with mental health issues and starts having \\r\\nillusory images which he needs to break out of while his parents \\r\\nconstantly fail to understand his situation.',\n",
      "       'Ho Ja Mukt', '10891.00 ', 'Sumeet Nagdev'], dtype=object), array([44, '', '', '', '2609.00 ', 371816, 'Wrestling', 'English',\n",
      "       '14 Feb, 2023', 'Feb 13 2023', '', '', 'WWE Raw 2023-02-13',\n",
      "       '6605.00 ', ''], dtype=object), array([55, '', '', '', '1781.00 ', 371740, 'Wrestling', 'English',\n",
      "       '13 Feb, 2023', 'Feb 10 2023', '', '', 'WWE Smackdown 2023-02-10',\n",
      "       '4736.00 ', ''], dtype=object), array([62, '', '', 'Anil Bhoop Sharma', '1373.00 ', 371670,\n",
      "       'Bollywood / Indian', 'Hindi', '10 Feb, 2023', 'Sep 08 2022', '75',\n",
      "       '', 'Subhagi', '10318.00 ', 'Munshi Premchand, Anil Bhoop Sharma'],\n",
      "      dtype=object), array([63, '', '', '', '309.00 ', 371669, 'Wrestling', 'English',\n",
      "       '10 Feb, 2023', 'Feb 09 2023', '', '', 'TNA.Impact 2023-02-09',\n",
      "       '1337.00 ', ''], dtype=object), array([77, '', '', '', '3108.00 ', 371517, 'Wrestling', 'English',\n",
      "       '07 Feb, 2023', 'Feb 06 2023', '', '', 'WWE Raw 2023-02-06',\n",
      "       '8205.00 ', ''], dtype=object), array([105, '', '', '', '2832.00 ', 371406, 'Wrestling', 'English',\n",
      "       '04 Feb, 2023', 'Feb 03 2023', '', '', 'WWE Smackdown 2023-02-03',\n",
      "       '7656.00 ', ''], dtype=object), array([112, '', '', '', '178.00 ', 371365, 'Wrestling', 'English',\n",
      "       '03 Feb, 2023', 'Feb 02 2023', '', '', 'TNA.Impact 2023-02-02',\n",
      "       '906.00 ', ''], dtype=object), array([114, '', '', 'Daniel Diosdado', '1438.00 ', 371286,\n",
      "       'Hollywood / English', 'English', '02 Feb, 2023', 'Feb 14 2023',\n",
      "       '84',\n",
      "       'A mysterious figure starts to sabotage a local drug lords business in an attempt to lure him out to the deep woods of Sweden.',\n",
      "       'The Nomad', '15732.00 ', 'Daniel Diosdado'], dtype=object), array([118, '', 'PG-13', 'Jeff Wamester', '1579.00 ', 371283,\n",
      "       'Anime / Kids', 'English', '02 Feb, 2023', 'Feb 07 2023', '83',\n",
      "       \"Kara,\\r\\n devastated by loss of Krypton struggles to adjust her new life on \\r\\nEarth. Superman mentors her. Meanwhile, she must contend with a \\r\\nmysterious group called the Dark Circle who searches for a powerful \\r\\nweapon held in the Academy's vault.\",\n",
      "       'Legion of Super-Heroes', '14136.00 ', 'Josie Campbell'],\n",
      "      dtype=object), array([142, '', '', '', '3180.00 ', 371169, 'Wrestling', 'English',\n",
      "       '31 Jan, 2023', 'Jan 30 2023', '', '', 'WWE Raw 2023-01-30',\n",
      "       '8681.00 ', ''], dtype=object), array([150, '', '', '', '1447.00 ', 371110, 'Wrestling', 'English',\n",
      "       '30 Jan, 2023', 'Jan 27 2023', '', '', 'WWE Smackdown 2023-01-27',\n",
      "       '5173.00 ', ''], dtype=object), array([156, '', '', '', '447.00 ', 371004, 'Wrestling', 'English',\n",
      "       '27 Jan, 2023', 'Jan 26 2023', '', '', 'TNA.Impact 2023-01-26',\n",
      "       '2204.00 ', ''], dtype=object), array([162, '', '', 'Sharadsingh Thakur', '2145.00 ', 370957,\n",
      "       'Bollywood / Indian', 'Hindi', '26 Jan, 2023', 'Dec 02 2022', '95',\n",
      "       'Abandoned.\\r\\n Sold. Sheltered. This is the story of a girl whose life took different \\r\\nturns, changing everything beyond imagination. A dreading question \\r\\nawaits her - \"Who am I?!\"',\n",
      "       'Green Signal', '12131.00 ',\n",
      "       'Arvind Kumar, Kavita Raizada, Sharadsingh Thakur'], dtype=object), array([182, '', '', '', '3632.00 ', 370848, 'Wrestling', 'English',\n",
      "       '24 Jan, 2023', 'Jan 01 1970', '', '', 'WWE Raw 2023-01-23',\n",
      "       '9709.00 ', ''], dtype=object), array([196, '', '', '', '2972.00 ', 370737, 'Wrestling', 'English',\n",
      "       '21 Jan, 2023', 'Jan 20 2023', '', '', 'WWE Smackdown 2023-01-20',\n",
      "       '7852.00 ', ''], dtype=object), array([205, '', '', '', '222.00 ', 370674, 'Wrestling', 'English',\n",
      "       '20 Jan, 2023', 'Jan 19 2023', '', '', 'TNA.Impact 2023-01-19',\n",
      "       '984.00 ', ''], dtype=object), array([230, '', '', '', '3031.00 ', 370512, 'Wrestling', 'English',\n",
      "       '17 Jan, 2023', 'Jan 16 2023', '', '', 'WWE Raw 2023-01-16',\n",
      "       '7823.00 ', ''], dtype=object), array([243, '', '', '', '3021.00 ', 370409, 'Wrestling', 'English',\n",
      "       '14 Jan, 2023', 'Jan 13 2023', '', '', 'WWE Smackdown 2023-01-13',\n",
      "       '7696.00 ', ''], dtype=object), array([247, '', '', 'Abhishek Roy Sanyal', '5241.00 ', 370343,\n",
      "       'Bollywood / Indian', 'Hindi', '13 Jan, 2023', 'Jan 12 2023', '25',\n",
      "       'Two\\r\\n police officers, Salunke and Thakkar, shot local gang leader Baba \\r\\nFanse. Only one of them, however, will receive a medal for killing him. \\r\\nThe question of who shot him first has now pitted Salunke and Thakkar \\r\\nagainst each other.',\n",
      "       'Gunchakkar', '24772.00 ', ''], dtype=object), array([248, '', '', '', '267.00 ', 370342, 'Wrestling', 'English',\n",
      "       '13 Jan, 2023', 'Jan 12 2023', '', '', 'TNA.Impact 2023-01-12',\n",
      "       '1057.00 ', ''], dtype=object), array([267, '', '', '', '3009.00 ', 370207, 'Wrestling', 'English',\n",
      "       '10 Jan, 2023', 'Jan 09 2023', '', '', 'WWE Raw 2023-01-09',\n",
      "       '7882.00 ', ''], dtype=object), array([280, '', '', '', '3125.00 ', 370095, 'Wrestling', 'English',\n",
      "       '07 Jan, 2023', 'Jan 06 2023', '', '', 'WWE Smackdown 2023-01-06',\n",
      "       '8498.00 ', ''], dtype=object), array([291, '', '', '', '265.00 ', 370047, 'Wrestling', '',\n",
      "       '06 Jan, 2023', 'Jan 05 2023', '', '', 'TNA.Impact 2023-01-05',\n",
      "       '1266.00 ', ''], dtype=object), array([297, '', '', '', '2998.00 ', 369908, 'Wrestling', 'English',\n",
      "       '03 Jan, 2023', 'Jan 02 2023', '', '', 'WWE Raw 2023-01-02',\n",
      "       '8145.00 ', ''], dtype=object), array([310, '', '', '', '3377.00 ', 369819, 'Wrestling', 'English',\n",
      "       '31 Dec, 2022', 'Dec 30 2022', '', '', 'WWE Smackdown 2022-12-30',\n",
      "       '9521.00 ', ''], dtype=object), array([311, '', '', '', '287.00 ', 369782, 'Wrestling', 'English',\n",
      "       '30 Dec, 2022', 'Dec 29 2022', '', '', 'TNA.Impact 2022-12-29',\n",
      "       '1363.00 ', ''], dtype=object), array([319, '', '', 'Riaz Solker', '132.00 ', 369741,\n",
      "       'Hollywood / English', 'English', '29 Dec, 2022', 'Apr 22 2022',\n",
      "       '',\n",
      "       'A\\r\\n day in the life of a school Matric class just before the final exams. \\r\\nNo Maths teacher, gangsters trying to invade the school, a visiting \\r\\ngroup of rich kids trying to exchange cultures, various youngsters \\r\\ntrying to fall in and out of love and a missing girl... All combine to \\r\\ncreate an explosive day, and no-one will exit unchanged when the final \\r\\nbell rings.',\n",
      "       'Sodium Day', '3332.00 ', 'Riaz Solker'], dtype=object), array([327, '', '', 'Arunava Chowdhury', '6503.00 ', 369679,\n",
      "       'Bollywood / Indian', 'Hindi', '28 Dec, 2022', 'Dec 27 2022',\n",
      "       '143',\n",
      "       'Loosely\\r\\n based on real incidents in the monsoon of mid 80s during the uprising \\r\\nof naxalites in eastern ghat range a group of travellers travels through\\r\\n the deep forests to reach the rescue camps. A series of mysterious \\r\\nincidents started taking place around them as the place is not what it \\r\\nseems.',\n",
      "       'Junglemahal the awakening', '35277.00 ', 'Arunava Chowdhury'],\n",
      "      dtype=object), array([329, '', '', '', '3482.00 ', 369635, 'Wrestling', 'English',\n",
      "       '27 Dec, 2022', 'Dec 26 2022', '', '', 'WWE Raw 2022-12-26',\n",
      "       '9931.00 ', ''], dtype=object), array([339, '', '', '', '3077.00 ', 369558, 'Wrestling', 'English',\n",
      "       '24 Dec, 2022', 'Dec 23 2022', '', '', 'WWE Smackdown 2022-12-23',\n",
      "       '8413.00 ', ''], dtype=object), array([356, '', '', '', '236.00 ', 369510, 'Wrestling', 'English',\n",
      "       '23 Dec, 2022', 'Dec 22 2022', '', '', 'TNA.Impact 2022-12-22',\n",
      "       '1064.00 ', ''], dtype=object), array([374, '', '', '', '3059.00 ', 369357, 'Wrestling', 'English',\n",
      "       '20 Dec, 2022', 'Dec 19 2022', '', '', 'WWE Raw 2022-12-19',\n",
      "       '7532.00 ', ''], dtype=object), array([399, '', '', '', '3141.00 ', 369254, 'Wrestling', 'English',\n",
      "       '17 Dec, 2022', 'Dec 16 2022', '', '', 'WWE Smackdown 2022-12-16',\n",
      "       '8495.00 ', ''], dtype=object), array([403, '', '', '', '233.00 ', 369204, 'Wrestling', 'English',\n",
      "       '16 Dec, 2022', 'Dec 15 2022', '', '', 'TNA.Impact 2022-12-15',\n",
      "       '1127.00 ', ''], dtype=object), array([413, '', '', 'Rajinder Verma', '1608.00 ', 369102,\n",
      "       'Bollywood / Indian', 'Hindi', '14 Dec, 2022', 'Jul 08 2022', '',\n",
      "       '48\\r\\n KOS Kurukshetra bhoomi is between the two rivers Saraswati and \\r\\nDrishadvati. This land is spread over five districts of Haryana which \\r\\nare Kaithal, Karnal, Jind, Panipat, and Kurukshetra. From the time \\r\\nimmemorial Kurukshetra has been identified as a land spread over twenty \\r\\nyojanas and lying between the two rivers. This 48 kos bhoomi is guarded \\r\\nby four gatekeepers at ...',\n",
      "       '48 Kos', '14449.00 ', 'A. Thaman, Rajinder Verma'], dtype=object), array([418, '', '', '', '2731.00 ', 369049, 'Wrestling', 'English',\n",
      "       '13 Dec, 2022', 'Dec 12 2022', '', '', 'WWE Raw 2022-12-12',\n",
      "       '7747.00 ', ''], dtype=object), array([429, '', 'R', 'Antoine Fuqua', '3792.00 ', 368690,\n",
      "       'Hollywood / English', 'English', '06 Dec, 2022', 'Dec 09 2022',\n",
      "       '132',\n",
      "       'A runaway slave forges through the swamps of Louisiana on a tortuous journey to escape plantation owners that nearly killed him.',\n",
      "       'Emancipation', '31563.00 ', 'Bill Collage'], dtype=object), array([443, '', '', '', '2660.00 ', 368899, 'Wrestling', 'English',\n",
      "       '10 Dec, 2022', 'Dec 09 2022', '', '', 'WWE Smackdown 2022-12-09',\n",
      "       '7150.00 ', ''], dtype=object), array([453, '', '', '', '192.00 ', 368860, 'Wrestling', 'English',\n",
      "       '09 Dec, 2022', 'Dec 08 2022', '', '', 'TNA.Impact 2022-12-08',\n",
      "       '888.00 ', ''], dtype=object), array([462, '', '', '', '3032.00 ', 368684, 'Wrestling', 'English',\n",
      "       '06 Dec, 2022', 'Dec 05 2022', '', '', 'WWE Raw 2022-12-05',\n",
      "       '8296.00 ', ''], dtype=object), array([472, '', '', '', '3370.00 ', 368589, 'Wrestling', 'English',\n",
      "       '03 Dec, 2022', 'Dec 02 2022', '', '', 'WWE Smackdown 2022-12-02',\n",
      "       '8853.00 ', ''], dtype=object), array([490, '', '', '', '215.00 ', 368538, 'Wrestling', 'English',\n",
      "       '02 Dec, 2022', 'Dec 01 2022', '', '', 'TNA.Impact 2022-12-01',\n",
      "       '977.00 ', ''], dtype=object), array([507, '', '', '', '3338.00 ', 368391, 'Wrestling', 'English',\n",
      "       '29 Nov, 2022', 'Nov 28 2022', '', '', 'WWE Raw 2022-11-28',\n",
      "       '8155.00 ', ''], dtype=object), array([518, '', '', '', '2847.00 ', 368289, 'Wrestling', '',\n",
      "       '26 Nov, 2022', 'Nov 25 2022', '', '', 'WWE Smackdown 2022-11-26',\n",
      "       '7356.00 ', ''], dtype=object), array([536, '', '', '', '206.00 ', 368236, 'Wrestling', 'English',\n",
      "       '25 Nov, 2022', 'Nov 24 2022', '', '', 'TNA.Impact 2022-11-24',\n",
      "       '915.00 ', ''], dtype=object), array([539, '', '', '', '761.00 ', 368198, 'Hollywood / English',\n",
      "       'English,Hindi', '24 Nov, 2022', 'Nov 23 2022', '',\n",
      "       'After\\r\\n inheriting a farm at Christmas time, a widowed father makes a bumpy \\r\\nadjustment to village life - while his kids hatch a plan to stay there \\r\\nforever.',\n",
      "       'Christmas on Mistletoe Farm', '4964.00 ', ''], dtype=object), array([540, '', '', '', '162.00 ', 368196, 'Hollywood / English',\n",
      "       'English', '24 Nov, 2022', 'Nov 24 2022', '',\n",
      "       'Two\\r\\n sisters attempt to win over their terminally ill, difficult-to-please \\r\\nAunt in hopes of becoming the beneficiaries of her wealthy estate, only \\r\\nto find the rest of their greedy family members have the same idea.',\n",
      "       'The Estate', '2519.00 ', ''], dtype=object), array([541, '', '', '', '550.00 ', 368194, 'Hollywood / English',\n",
      "       'English', '24 Nov, 2022', 'Nov 23 2022', '',\n",
      "       'Chema\\r\\n has a mission: date Claudia, the new girl at his school, so he can lose\\r\\n his virginity to her before the end of the school year. Will he fulfill\\r\\n his dream before graduation?',\n",
      "       \"Who's a Good Boy?\", '7773.00 ', ''], dtype=object), array([543, '', '', '', '162.00 ', 367996, 'Hollywood / English',\n",
      "       'English', '21 Nov, 2022', 'Nov 04 2022', '',\n",
      "       'A deeply personal coming-of-age story about the strength of family and the generational pursuit of the American Dream.',\n",
      "       'Armageddon Time', '3217.00 ', ''], dtype=object), array([544, '', '', '', '320.00 ', 368085, 'Hollywood / English',\n",
      "       'English', '22 Nov, 2022', 'Nov 18 2022', '',\n",
      "       'A son returns to his small hometown to take care of his ailing father.',\n",
      "       'Sam & Kate', '3250.00 ', ''], dtype=object), array([545, '', '', '', '658.00 ', 368084, 'Hollywood / English',\n",
      "       'English', '22 Nov, 2022', 'Nov 18 2022', '',\n",
      "       'Josh and Blue head to New York City to audition for a big Broadway musical.',\n",
      "       \"Blue's Big City Adventure 2022\", '7957.00 ', ''], dtype=object), array([546, '', '', '', '133.00 ', 368083, 'Hollywood / English',\n",
      "       'English', '22 Nov, 2022', 'Nov 16 2022', '',\n",
      "       'A\\r\\n mid-age hipster in Stockholm is a training freak and trains for the 90 \\r\\nkm ski race Vasaloppet. His sister is the opposite, no job, drinks but \\r\\nhas a daughter. Suddenly secrets reveals and promises are made.',\n",
      "       'Ur Spar', '2556.00 ', ''], dtype=object), array([550, '', '', '', '1227.00 ', 368074, 'Hollywood / English',\n",
      "       'English', '22 Nov, 2022', 'Nov 17 2022', '',\n",
      "       '17-year-old\\r\\n Tim Walker as he travels from London to the Austrian Alps to attend the\\r\\n legendary Mozart boarding school. There, he discovers a centuries-old \\r\\nforgotten passageway into the fantastic world of Mozart\\'s \"The Magic \\r\\nFlute.\"',\n",
      "       'The Magic Flute', '13629.00 ', ''], dtype=object), array([552, '', '', '', '519.00 ', 368068, 'Anime / Kids', 'English',\n",
      "       '22 Nov, 2022', 'Jan 01 1970', '',\n",
      "       'Boonie bears and Bald Qiang work together with secret primitive girl to smash a conspiracy to destroy old-growth forest.',\n",
      "       'Fantastica: A Boonie Bears Adventure', '4954.00 ', ''],\n",
      "      dtype=object), array([553, '', '', '', '3237.00 ', 368064, 'Wrestling', 'English',\n",
      "       '22 Nov, 2022', 'Nov 21 2022', '', '', 'WWE Raw 2022-11-21',\n",
      "       '7818.00 ', ''], dtype=object), array([554, '', '', '', '527.00 ', 368000, 'Hollywood / English',\n",
      "       'English', '21 Nov, 2022', 'Nov 18 2022', '',\n",
      "       \"While\\r\\n caught for years in Ireland's immigration system Aisha Osagie develops a\\r\\n close friendship with former prisoner Conor Healy. This friendship soon\\r\\n looks to be short lived as Aisha's future in Ireland comes under \\r\\nthreat.\",\n",
      "       'Aisha', '8296.00 ', ''], dtype=object), array([563, '', '', '', '2956.00 ', 367934, 'Wrestling', 'English',\n",
      "       '19 Nov, 2022', 'Nov 18 2022', '', '', 'WWE Smackdown 2022-11-18',\n",
      "       '7507.00 ', ''], dtype=object), array([579, '', '', '', '232.00 ', 367875, 'Wrestling', 'English',\n",
      "       '18 Nov, 2022', 'Nov 17 2022', '', '', 'TNA.Impact 2022-11-17',\n",
      "       '948.00 ', ''], dtype=object), array([600, '', '', '', '2917.00 ', 367702, 'Wrestling', 'English',\n",
      "       '15 Nov, 2022', 'Nov 14 2022', '', '', 'WWE Raw 2022-11-14',\n",
      "       '7303.00 ', ''], dtype=object), array([616, '', 'PG', 'Phil Hawkins', '351.00 ', 367599,\n",
      "       'Hollywood / English', 'English', '12 Nov, 2022', 'Nov 29 2022',\n",
      "       '',\n",
      "       'Ten-year-old\\r\\n Gloria and her recently widowed grandfather Bud befriend a mysterious \\r\\nreindeer when the family gather for Christmas. Bud comes to believe that\\r\\n Prancer may actually be magical, but Gloria fears his theory will send \\r\\nhim straight to a retirement home.',\n",
      "       'Prancer: A Christmas Tale', '5410.00 ', 'Greg Taylor'],\n",
      "      dtype=object), array([621, '', '', '', '3392.00 ', 367593, 'Wrestling', 'English',\n",
      "       '12 Nov, 2022', 'Nov 11 2022', '', '', 'WWE Smackdown 2022-11-11',\n",
      "       '8142.00 ', ''], dtype=object), array([629, '', '', '', '195.00 ', 367531, 'Wrestling', 'English',\n",
      "       '11 Nov, 2022', 'Nov 10 2022', '', '', 'TNA.Impact 2022-11-10',\n",
      "       '852.00 ', ''], dtype=object), array([647, '', '', '', '3401.00 ', 367393, 'Wrestling', 'English',\n",
      "       '08 Nov, 2022', 'Nov 07 2022', '', '', 'WWE Raw 2022-11-07',\n",
      "       '8376.00 ', ''], dtype=object), array([674, '', '', '', '2405.00 ', 367271, 'Wrestling', 'English',\n",
      "       '05 Nov, 2022', 'Nov 04 2022', '', '', 'WWE Smackdown 2022-11-04',\n",
      "       '6034.00 ', ''], dtype=object), array([683, '', '', '', '203.00 ', 367196, 'Wrestling', 'English',\n",
      "       '04 Nov, 2022', 'Nov 03 2022', '', '', 'TNA.Impact 2022-11-03',\n",
      "       '873.00 ', ''], dtype=object), array([694, '', '', '', '2975.00 ', 367050, 'Wrestling', 'English',\n",
      "       '01 Nov, 2022', 'Oct 31 2022', '', '', 'WWE Raw 2022-10-31',\n",
      "       '7455.00 ', ''], dtype=object), array([717, '', '', '', '2677.00 ', 366940, 'Wrestling', 'English',\n",
      "       '29 Oct, 2022', 'Oct 28 2022', '', '', 'WWE Smackdown 2022-10-28',\n",
      "       '6985.00 ', ''], dtype=object), array([726, '', '', '', '282.00 ', 366873, 'Wrestling', 'English',\n",
      "       '28 Oct, 2022', 'Oct 27 2022', '', '', 'TNA.Impact 2022-10-27',\n",
      "       '1153.00 ', ''], dtype=object), array([738, '', '', '', '2877.00 ', 366711, 'Wrestling', 'English',\n",
      "       '25 Oct, 2022', 'Oct 24 2022', '', '', 'WWE Raw 2022-10-24',\n",
      "       '8335.00 ', ''], dtype=object), array([762, '', '', '', '3665.00 ', 366605, 'Wrestling', 'English',\n",
      "       '22 Oct, 2022', 'Oct 21 2022', '', '', 'WWE Smackdown 2022-10-21',\n",
      "       '9555.00 ', ''], dtype=object), array([765, '', '', 'Tarun Verma', '769.00 ', 366541,\n",
      "       'Hollywood / English', 'English', '21 Oct, 2022', 'Oct 11 2022',\n",
      "       '104',\n",
      "       'Vic\\r\\n and Ami embark on a journey to have a baby and after several failed \\r\\nattempts it leads them to undergo IVF. Will their marriage survive the \\r\\nemotional and physical toll IVF takes on them?',\n",
      "       'Conception', '13924.00 ', 'Tarun Verma'], dtype=object), array([772, '', '', '', '226.00 ', 366537, 'Wrestling', 'English',\n",
      "       '21 Oct, 2022', 'Oct 20 2022', '', '', 'TNA.Impact 2022-10-20',\n",
      "       '1272.00 ', ''], dtype=object), array([798, '', '', '', '3212.00 ', 366373, 'Wrestling', 'English',\n",
      "       '18 Oct, 2022', 'Oct 17 2022', '', '', 'WWE Raw 2022-10-17',\n",
      "       '8253.00 ', ''], dtype=object), array([815, '', '', '', '2865.00 ', 366262, 'Wrestling', 'English',\n",
      "       '15 Oct, 2022', 'Oct 14 2022', '', '', 'WWE Smackdown 2022-10-14',\n",
      "       '7555.00 ', ''], dtype=object), array([816, '', '', 'Bradley Stryker', '279.00 ', 366207,\n",
      "       'Hollywood / English', 'English', '14 Oct, 2022', 'Oct 14 2022',\n",
      "       '80',\n",
      "       'A\\r\\n woman finds herself isolated in her remote home with her brother who is\\r\\n seeking forgiveness for the darkest moment in their family history.',\n",
      "       'Sheltering Season', '5511.00 ', 'Bradley Stryker'], dtype=object), array([823, '', '', 'Babbar Gill', '1761.00 ', 366202, 'Punjabi',\n",
      "       'Punjabi', '14 Oct, 2022', 'Oct 14 2022', '',\n",
      "       \"Shinda\\r\\n is a commission agent or a 'Taut' who works for an ill-reputed police \\r\\nofficer, responsible for his father's death. On a mission to end \\r\\ncorruption, the officer plots Shinda's murder too.\",\n",
      "       'Taut', '11862.00 ', ''], dtype=object), array([825, '', '', '', '221.00 ', 366201, 'Wrestling', 'English',\n",
      "       '14 Oct, 2022', 'Oct 13 2022', '', '', 'TNA.Impact 2022-10-13',\n",
      "       '1153.00 ', ''], dtype=object), array([855, '', '', '', '4123.00 ', 366033, 'Wrestling', 'English',\n",
      "       '11 Oct, 2022', 'Oct 10 2022', '', '', 'WWE Raw 2022-10-10',\n",
      "       '9651.00 ', ''], dtype=object), array([867, '', '', '', '2436.00 ', 365905, 'Wrestling', 'English',\n",
      "       '08 Oct, 2022', 'Oct 07 2022', '', '', 'WWE Smackdown 2022-10-07',\n",
      "       '6690.00 ', ''], dtype=object), array([884, '', '', '', '190.00 ', 365840, 'Wrestling', 'English',\n",
      "       '07 Oct, 2022', 'Oct 06 2022', '', '', 'TNA.Impact 2022-10-06',\n",
      "       '1096.00 ', ''], dtype=object), array([907, '', '', '', '2876.00 ', 365669, 'Wrestling', 'English',\n",
      "       '04 Oct, 2022', 'Oct 03 2022', '', '', 'WWE Raw 2022-10-03',\n",
      "       '7238.00 ', ''], dtype=object), array([929, '', '', 'Tim Greene', '327.00 ', 365503,\n",
      "       'Hollywood / English', 'English', '30 Sep, 2022', 'Jan 01 1970',\n",
      "       '101',\n",
      "       'Unable\\r\\n to find justice for her sister, who killed herself after being raped a \\r\\ndecade ago, avenging angel Zola Kunene lures the man she believes \\r\\nresponsible to an empty apartment - She ties him up and puts on a \\r\\nshow-trial, live-streamed on social-media. The public will be judge and \\r\\njury.Should it be necessary, Zola will be the executioner.',\n",
      "       'The Fury', '5966.00 ', 'Tim Greene'], dtype=object), array([933, '', '', '', '1710.00 ', 365500, 'Punjabi', 'Punjabi',\n",
      "       '30 Sep, 2022', 'Jan 01 1970', '', '', 'Seeto Marjaani',\n",
      "       '12802.00 ', ''], dtype=object), array([935, '', '', '', '1207.00 ', 365498, 'Punjabi', 'Punjabi',\n",
      "       '30 Sep, 2022', 'Sep 29 2022', '', '', 'Family 434', '7151.00 ',\n",
      "       ''], dtype=object), array([983, '', 'PG', 'Rob Zombie', '748.00 ', 365147,\n",
      "       'Hollywood / English', 'English', '22 Sep, 2022', 'Sep 27 2022',\n",
      "       '109',\n",
      "       'Reboot of \"The Munsters\", that followed a family of monsters who moves from Transylvania to an American suburb.',\n",
      "       'The Munsters', '9996.00 ', 'Rob Zombie'], dtype=object), array([1128, '', '', 'Sukhpal Sidhu', '1144.00 ', 364042, 'Punjabi',\n",
      "       'Punjabi', '29 Aug, 2022', 'Jun 10 2022', '',\n",
      "       'The\\r\\n story is of the times when Pehalwani (Indian Wrestling Sport) was at \\r\\nits peak. A deaf and dumb child became a famous wrestler.',\n",
      "       'Gunga Pehalwan', '5883.00 ', ''], dtype=object), array([1378, '', 'R', 'Joe Hall', '461.00 ', 362044,\n",
      "       'Hollywood / English', 'English', '09 Jul, 2022', 'Jan 01 1970',\n",
      "       '110',\n",
      "       \"Cole\\r\\n Baird has everything - a beautiful wife, successful career, large home,\\r\\n country club membership and expensive toys. Behind the facade, however,\\r\\n is a man trapped by his surroundings and falling ever behind in the \\r\\npursuit of his life's dream. Not strong enough to confront his father's \\r\\nexpectations, he left his true love, his best friend and his vision of \\r\\nlife in sm...\",\n",
      "       'The Road to Galena', '5454.00 ', 'Joe Hall'], dtype=object), array([1466, '', 'R', 'Diego Hallivis', '469.00 ', 361379,\n",
      "       'Hollywood / English', 'English', '23 Jun, 2022', 'Jul 15 2022',\n",
      "       '98',\n",
      "       'After\\r\\n a governor issues an executive order to arrest the children of \\r\\nundocumented immigrants, the newly detained youth are offered an \\r\\nopportunity to have their charges dropped by volunteering to provide \\r\\ncare to the elderly.',\n",
      "       'American Carnage', '5741.00 ', 'Diego Hallivis, Julio Hallivis'],\n",
      "      dtype=object), array([1508, '', '', '', '3574.00 ', 361083, 'Punjabi', 'Punjabi',\n",
      "       '17 Jun, 2022', 'Jun 16 2022', '',\n",
      "       'Sass Meri Ne Munda Jameya is an upcoming Punjabi movie. The movie is \\r\\ndirected by D.K.Bains and  will feature Dilpreet Dhillon, Bhumika \\r\\nSharma, Nirmal Rishi and Anita Devgan as lead characters. Other popular \\r\\nactors who were roped in for Sass Meri Ne Munda Jameya are Dheeraj Kumar\\r\\n and Gurpreet Bhangu.',\n",
      "       'Sass Meri Ne Munda Jameya', '13753.00 ', ''], dtype=object), array([1565, '', '', 'Bill Corcoran', '481.00 ', 360625,\n",
      "       'Hollywood / English', 'English', '07 Jun, 2022', 'Jan 01 1970',\n",
      "       '89',\n",
      "       \"A single mom is overjoyed when her daughter finally makes friends at her new high school. Soon, however, it becomes clear that this group of students follows their own moral code that's strange, self-centered, and possibly dangerous.\",\n",
      "       'Bad Influence', '6753.00 ', 'Adam Rockoff'], dtype=object), array([1608, '', 'R', 'Rick Dugdale', '391.00 ', 360230,\n",
      "       'Hollywood / English', 'English', '28 May, 2022', 'Jan 01 1970',\n",
      "       '97',\n",
      "       \"Produced in 17 different countries entirely virtually during the 2020 global pandemic.\\r\\n\\r\\nZERO CONTACT follows five characters based all over the world, connected only by their devotion to the late founder and tech titan Finley Hart (played by Anthony Hopkins). Forced to work together to shut down Hart's most secret invention, a machine that is either the solution to mankind's problems or the end of life on earth.\",\n",
      "       'Zero Contact', '6818.00 ', 'Cam Cannon'], dtype=object), array([1748, '', '', '', '1105.00 ', 358765, 'Wrestling', 'English',\n",
      "       '25 Apr, 2022', 'Apr 23 2022', '', '',\n",
      "       'Impact Wrestling: Rebellion 2022', '8858.00 ', ''], dtype=object), array([2034, '', 'R', 'Stephanie Laing', '68.00 ', 356471,\n",
      "       'Hollywood / English', 'English', '02 Mar, 2022', 'Mar 01 2022',\n",
      "       '90',\n",
      "       \"A family that's been divided for years but when the matriarch grandma Mabel dies suddenly, the family has to come together. Her death takes the family on a journey, discovering that not only did she keep secrets, but so did everyone else.\\r\\n\\r\\nThe Worth family has been divided for years but when the matriarch, Grandma Mabel dies suddenly, the family has to come together. The story of Family Squares takes the Worth family on a journey discovering that not only did Grandma Mabel keep some secrets, so did everyone else. They find their way back to each other and realize that while you can't choose your family, you can choose to be friends with them.\",\n",
      "       'Family Squares', '1882.00 ', 'Stephanie Laing, Brad Morris'],\n",
      "      dtype=object), array([2039, '', '', 'Cole Davidson, Matthew Luke Tucci', '366.00 ',\n",
      "       356442, 'Hollywood / English', 'English', '01 Mar, 2022',\n",
      "       'Feb 28 2022', '88',\n",
      "       \"After an eccentric billionaire creates a drug called INOC which stops the aging process effectively eliminating death itself, the future of a world where death no longer exists is seen. Through a seemingly harmless children's toy, the story of the fate of mankind is told while also revealing an elusive truth to its unknowing spectator.\",\n",
      "       'Broadcast', '5376.00 ', 'Matthew Luke Tucci, Cole Davidson'],\n",
      "      dtype=object), array([2127, '', 'PG-13', 'Philippe Martinez', '563.00 ', 355713,\n",
      "       'Hollywood / English', 'English', '12 Feb, 2022', 'Feb 11 2022',\n",
      "       '',\n",
      "       \"An international film star's world collapses when her film director husband is outed by the paparazzi as having a baby with his new young leading lady. king solace and healing, she escapes to a Caribbean boutique hotel resort.\\r\\n\\r\\nA British film star's world collapses when her British film director husband leaves her. king solace and healing, she goes to stay with her British ex-pat cousin in Nevis. After two weeks in paradise she finds herself. And falls in love. Then the outside world comes crashing back in.\",\n",
      "       'A Week in Paradise', '4602.00 ', 'Kate Wood'], dtype=object), array([2288, '', '', 'Paul Bunch, Albert Soratorio', '173.00 ', 354506,\n",
      "       'Hollywood / English', 'English', '14 Jan, 2022', 'Jan 11 2022',\n",
      "       '',\n",
      "       'When a high school romance is ended by Covid lockdowns, a new teacher uses music to lift their spirits and keep their love alive, even during the darkest of times.',\n",
      "       'Never Alone', '2955.00 ', 'Paul Bunch'], dtype=object), array([2402, '', '', 'Arthur Muhammad', '312.00 ', 353610,\n",
      "       'Hollywood / English', 'English', '20 Dec, 2021', 'Jan 01 1970',\n",
      "       '', '', 'The Starter Marriage', '4832.00 ', 'Matthew Tolbert'],\n",
      "      dtype=object), array([2497, '', 'PG-13', 'Michael Feifer', '666.00 ', 352861,\n",
      "       'Hollywood / English', 'English', '03 Dec, 2021', 'Dec 03 2021',\n",
      "       '86',\n",
      "       \"After newlywed Jocelyn learns that her husband Jody (Michael Welch, Twilight franchise) had her father shot down, she flees from the Callahan ranch in fear. She's rescued by gunman Billy Tyson, who safeguards her at a remote outpost as he staves off Jody's attempts to reclaim his bride.\",\n",
      "       'Last Shoot Out', '7665.00 ', 'Lee Martin'], dtype=object), array([2674, '', 'PG', 'Alex Merkin', '310.00 ', 351530,\n",
      "       'Hollywood / English', 'English', '05 Nov, 2021', 'Nov 19 2021',\n",
      "       '107',\n",
      "       \"While everyone is away on a company ski trip, Robert's neighbor hires two inept thieves to steal his latest invention. The neighborhood dogs will use Robert's inventions to set up a house of horrors for the thieves.\",\n",
      "       'Pups Alone', '3439.00 ',\n",
      "       'Brandon Burrows, Casey DeVargas, Jason Gruich'], dtype=object), array([2828, '', '', '', '2018.00 ', 350381, 'Punjabi', 'Punjabi',\n",
      "       '09 Oct, 2021', 'Oct 08 2021', '', '', 'dustbin', '13814.00 ', ''],\n",
      "      dtype=object), array([2831, '', '', '', '400.00 ', 350321, 'Hollywood / English',\n",
      "       'English', '08 Oct, 2021', 'Oct 01 2021', '',\n",
      "       'An\\r\\n action western about a farmer who takes in an injured man with a \\r\\nsatchel of cash. When a posse comes for the money, he must decide who to\\r\\n trust. Defending a siege, he reveals a gunslinging talent calling his \\r\\ntrue identity into question.',\n",
      "       'Old Henry', '3836.00 ', ''], dtype=object), array([2838, '', '', '', '519.00 ', 350229, 'Hollywood / English',\n",
      "       'English', '06 Oct, 2021', 'Oct 01 2021', '',\n",
      "       \"Witness\\r\\n the making of Tony Soprano. The story that reveals the humanity behind \\r\\nTony's struggles and the influence his family - especially his uncle, \\r\\nDickie Moltisanti - had over him becoming the most iconic mob boss of \\r\\nall time.\",\n",
      "       'The Many Saints of Newark', '5530.00 ', ''], dtype=object), array([2840, '', '', '', '229.00 ', 350227, 'Hollywood / English',\n",
      "       'English', '06 Oct, 2021', 'Oct 01 2021', '',\n",
      "       'Two directionless sisters brave a cross-country road trip to rescue their grandmother from a COVID outbreak at her nursing home.',\n",
      "       'Stop and Go', '3861.00 ', ''], dtype=object), array([2849, '', '', '', '675.00 ', 350138, 'Hollywood / English',\n",
      "       'English', '04 Oct, 2021', 'Oct 01 2021', '',\n",
      "       'A\\r\\n brilliant young fund manager leaves her unfulfilling job and long-term \\r\\nboyfriend to chase her lifelong dream of becoming an opera singer in the\\r\\n Scottish Highlands.',\n",
      "       'Falling for Figaro', '6573.00 ', ''], dtype=object), array([2850, '', '', '', '304.00 ', 350137, 'Hollywood / English',\n",
      "       'English', '04 Oct, 2021', 'Oct 01 2021', '',\n",
      "       'In\\r\\n the Barrio of Oak Springs live a strong and stubborn group of elderly \\r\\nfriends who refuse to be gentrified. Their leader, Lupita, keeps them \\r\\ntogether as a community, a family. But little did they know, their \\r\\nbeloved Bingo hall is about to be sold to a much more powerful force \\r\\nthan money itself.',\n",
      "       'Bingo Hell', '4751.00 ', ''], dtype=object), array([2851, '', '', '', '383.00 ', 350136, 'Hollywood / English',\n",
      "       'English', '04 Oct, 2021', 'Oct 01 2021', '',\n",
      "       'Cully (Tom Sizemore), a two-bit hustler and the driver for a Baja drug \\r\\ncartel, finds himself relying on skilled-but-reluctant bounty hunter, \\r\\nTurk (Paul Sidhu), to stay out of the grasps of a merciless assassin \\r\\n(Kevin Gage), and vicious thugs led by a rival gang leader (Noel \\r\\nGugliemi) after Cully has stolen a money car stuffed with cash meant for\\r\\n his boss (Raymond J. Barry). The duo crosses paths with Crystal (Bai \\r\\nLing), a sultry dancer with too many secrets and a greater stake in all \\r\\nof this than they first realize. If Cully can convince Turk to go along \\r\\nwith his crazy schemes, he might make it back to his estranged wife \\r\\n(Vanessa Angel) and daughter (Victorya Brandart) alive.',\n",
      "       'Hustle Down', '5302.00 ', ''], dtype=object), array([2860, '', '', '', '221.00 ', 350135, 'Hollywood / English',\n",
      "       'English', '04 Oct, 2021', 'Oct 01 2021', '',\n",
      "       \"A naive secretary whom after a series of career woes, considers her roommate's offer to work as a drug mule in mid-1980s Lagos.\",\n",
      "       'Swallow', '3332.00 ', ''], dtype=object), array([2861, '', '', '', '403.00 ', 349024, 'Hollywood / English',\n",
      "       'English', '09 Sep, 2021', 'Sep 10 2021', '',\n",
      "       'A pair of housewives create a $40 million coupon scam.',\n",
      "       'Queenpins', '4777.00 ', ''], dtype=object), array([2869, '', '', '', '867.00 ', 350048, 'Hollywood / English',\n",
      "       'English', '02 Oct, 2021', 'Oct 01 2021', '',\n",
      "       'A\\r\\n year and a half after the fall of civilization due to a viral outbreak,\\r\\n a former FBI agent forced to protect a young woman immune to the \\r\\ndisease from a dangerous gang leader hunting her.',\n",
      "       'The Survivalist', '7822.00 ', ''], dtype=object), array([2870, '', '', '', '708.00 ', 350047, 'Hollywood / English',\n",
      "       'English', '02 Oct, 2021', 'Oct 01 2021', '',\n",
      "       \"A\\r\\n neo-noir set in the New York City's corrupt contemporary art world \\r\\nwhere the art dealer John Kaplan and the ruthless head of New York's \\r\\nmafia, Michael Rubino, fight for money, art, power and love.\",\n",
      "       'American Night', '8973.00 ', ''], dtype=object), array([2881, '', '', '', '734.00 ', 349926, 'Hollywood / English',\n",
      "       'English', '29 Sep, 2021', 'Oct 01 2021', '',\n",
      "       'A\\r\\n school teacher is forced to confront a brutal act from his past when a \\r\\npair of ruthless drifters takes him and his family on a nightmare \\r\\nroad-trip.',\n",
      "       'Coming Home in the Dark', '8886.00 ', ''], dtype=object), array([2885, '', '', '', '310.00 ', 349922, 'Hollywood / English',\n",
      "       'English', '29 Sep, 2021', 'Sep 23 2021', '',\n",
      "       'Inside\\r\\n the Circle is a quirky romantic dramedy that tells the story of a girl \\r\\nwho believes in relationships and marriage, and who falls for a comic \\r\\nbook and superhero-loving man who does not share her same beliefs.',\n",
      "       'Inside the Circle', '3555.00 ', ''], dtype=object), array([2886, '', '', '', '172.00 ', 349921, 'Hollywood / English',\n",
      "       'English', '29 Sep, 2021', 'Mar 06 2021', '',\n",
      "       'Hytte (The Cabin) is a 75-minute feature film that questions the quest \\r\\nfor identity in a hyper-globalized society. The film explores 9 months \\r\\nin the life of Luc, a divorced man, and father of seven-year-old Mira. \\r\\nIn the middle of preparing his apartment to have Mira live with him, Luc\\r\\n escapes to Svalbard, an archipelago near the North Pole where he \\r\\nimprovises a holiday. Stumbling drunk out of an Arctic Oktoberfest Luc \\r\\nmeets Mike, a stranger who lives in an isolated cabin in the arctic \\r\\ndesert. Mike mysteriously abandons Luc in mid-conversation. Intrigued, \\r\\nLuc decides to find Mike. Along the way, he meets Ingrid, a young \\r\\nNorwegian teacher with whom he builds a connection. Missing his flight \\r\\nhome Luc decides to stay with Ingrid and start a new life on the island.\\r\\n Luc rushes into the footsteps of the tourist who remains elusive and \\r\\nvolatile, Luc hunts a shadow, his own possibly.',\n",
      "       'Hytte', '2968.00 ', ''], dtype=object), array([2891, '', '', '', '475.00 ', 349822, 'Hollywood / English',\n",
      "       'English', '27 Sep, 2021', 'Aug 28 2021', '',\n",
      "       'In\\r\\n a last ditch effort to win over the girl of his dreams, a nerdy high \\r\\nschool senior and his best friends embark on a road trip to see their \\r\\nfavorite band at the biggest music festival of the year.',\n",
      "       'This Is the Year', '4695.00 ', ''], dtype=object), array([2892, '', '', '', '386.00 ', 349821, 'Hollywood / English',\n",
      "       'English', '27 Sep, 2021', 'Apr 09 2021', '',\n",
      "       \"Based on the best-selling novel by David Guterson When retired heart \\r\\nsurgeon Ben Givens learns that he has terminal cancer, he takes his \\r\\nbeloved dog back to his boyhood home in Eastern Washington, determined \\r\\nto end his life on his own terms. Ben's journey, though, takes an \\r\\nunexpected turn, and soon becomes an adventure against which he pits \\r\\nhimself with characteristic stoicism, wit, and determination.\",\n",
      "       'East of the Mountains', '3696.00 ', ''], dtype=object), array([2893, '', '', '', '518.00 ', 349820, 'Hollywood / English',\n",
      "       'English', '27 Sep, 2021', 'Sep 01 2021', '',\n",
      "       \"It's not exactly what the Minister of Justice wants to be doing: \\r\\nwatching an endless stream of video footage. But a former police officer\\r\\n is very insistent. Together, all this footage - from hidden cameras, \\r\\nphone taps, Skype sessions and security surveillance - can tell an \\r\\ninteresting story. The focus here is on an obscure bookstore where a \\r\\ngroup of environmental activists are meeting in secret. Idealistic \\r\\nWinnie and her boyfriend Conrad want to disrupt the G20, but aren't \\r\\naware that they are possibly being lured into a trap.\",\n",
      "       'Lone Wolf', '7918.00 ', ''], dtype=object), array([2904, '', '', '', '854.00 ', 349756, 'Hollywood / English',\n",
      "       'English', '25 Sep, 2021', 'Sep 24 2021', '',\n",
      "       \"A\\r\\n year after Charlie's daughter disappears, another girl from Elrod, \\r\\nGeorgia goes missing. Convinced there is a connection, Charlie draws \\r\\nsuspicion and contempt from local law enforcement and townspeople as she\\r\\n stops at nothing to expose its most devastating and darkest secret.\",\n",
      "       'Through the Glass Darkly', '8571.00 ', ''], dtype=object), array([2905, '', '', '', '356.00 ', 349755, 'Hollywood / English',\n",
      "       'English', '25 Sep, 2021', 'Sep 24 2021', '',\n",
      "       'After\\r\\n Lilly suffers a loss, a combative Starling takes nest beside her quiet \\r\\nhome. The feisty bird taunts and attacks the grief-stricken Lilly. On \\r\\nher journey to expel the Starling, she rediscovers her will to live and \\r\\ncapacity for love.',\n",
      "       'The Starling', '4493.00 ', ''], dtype=object), array([2911, '', '', '', '815.00 ', 349700, 'Hollywood / English',\n",
      "       'English', '24 Sep, 2021', 'Sep 21 2021', '',\n",
      "       'While\\r\\n on vacation in rural Wisconsin, five friends seek refuge in a lone \\r\\nbuilding after their vehicle crashes in a vicious snowstorm. With no \\r\\ncell service, the group splits up to find help but when they reunite, \\r\\none of them is found dead.',\n",
      "       'Blame', '9402.00 ', ''], dtype=object), array([2913, '', '', '', '342.00 ', 349698, 'Hollywood / English',\n",
      "       'English', '24 Sep, 2021', 'Sep 07 2021', '',\n",
      "       'A\\r\\n middle-aged single father has endured one too many bad days. Today, his\\r\\n frustration and bitterness becomes evident resulting in violence.',\n",
      "       'Paper Dragons', '4672.00 ', ''], dtype=object), array([2915, '', '', '', '420.00 ', 349637, 'Hollywood / English',\n",
      "       'English', '23 Sep, 2021', 'Nov 03 2021', '',\n",
      "       \"In\\r\\n 1221 a young man is set on his path to becoming St. Francis of Assisi. A\\r\\n thousand years later an architect must build a mausoleum for a dying \\r\\nbillionaire. Separated by history, these men's lives will be forever \\r\\nchanged by a pandemic.\",\n",
      "       'The Grand Duke of Corsica', '5848.00 ', ''], dtype=object), array([2919, '', '', '', '158.00 ', 349633, 'Hollywood / English',\n",
      "       'English', '23 Sep, 2021', 'Sep 21 2021', '',\n",
      "       'TETHERED\\r\\n is a sci-fi mystery set in the present day. Detective Sam Morris starts\\r\\n on a missing-persons case that puts her own personal world into \\r\\nupheaval.',\n",
      "       'Tethered', '2101.00 ', ''], dtype=object), array([2920, '', '', '', '301.00 ', 349573, 'Hollywood / English',\n",
      "       'English', '22 Sep, 2021', 'Sep 16 2021', '',\n",
      "       'Sarah\\r\\n seems to have found her calling working in a Liverpool care home where \\r\\nshe has a special talent for connecting with the residents. Then, in \\r\\nMarch 2020, the Coronavirus pandemic hits.',\n",
      "       'Help', '3662.00 ', ''], dtype=object), array([2922, '', '', '', '1264.00 ', 349571, 'Hollywood / English',\n",
      "       'English', '22 Sep, 2021', 'Sep 28 2021', '',\n",
      "       'In\\r\\n the world of espionage, some missions require an agent with a unique \\r\\nset of skills, possessing not just bravery but an ability to melt even \\r\\nthe most villanious heart. This is a job for C.I.Ape .',\n",
      "       'C.I.Ape', '12420.00 ', ''], dtype=object), array([2925, '', '', '', '1230.00 ', 349524, 'Hollywood / English',\n",
      "       'English', '21 Sep, 2021', 'Aug 18 2021', '',\n",
      "       'A\\r\\n police brigade working in the dangerous northern neighborhoods of \\r\\nMarseille, where the level of crime is higher than anywhere else in \\r\\nFrance.',\n",
      "       'The Stronghold', '11808.00 ', ''], dtype=object), array([2926, '', '', '', '229.00 ', 349522, 'Hollywood / English',\n",
      "       'English', '21 Sep, 2021', 'Aug 23 2021', '',\n",
      "       \"It's about a woman's pursuit to join her missing lover by crossing into a parallel dimension.\",\n",
      "       'Between Waves', '3243.00 ', ''], dtype=object), array([2928, '', '', '', '462.00 ', 349462, 'Hollywood / English',\n",
      "       'English', '20 Sep, 2021', 'Sep 17 2021', '',\n",
      "       \"A\\r\\n one-time rodeo star and washed-up horse breeder takes a job to bring a \\r\\nman's young son home and away from his alcoholic mom. On their journey, \\r\\nthe horseman finds redemption through teaching the boy what it means to \\r\\nbe a good man.\",\n",
      "       'Cry Macho', '4761.00 ', ''], dtype=object), array([3225, '', '', '', '229.00 ', 347076, 'Hollywood / English',\n",
      "       'English', '19 Jul, 2021', 'Jan 01 1970', '',\n",
      "       \"In 1961, Kempton Bunton, a 60 year old taxi driver, steals Goya's portrait of the Duke of Wellington from the National Gallery in London.\",\n",
      "       'The Duke', '2801.00 ', ''], dtype=object), array([3244, '', '', '', '317.00 ', 346901, 'Hollywood / English',\n",
      "       'English', '15 Jul, 2021', 'Jan 01 1970', '',\n",
      "       'After her relationship with intelligence agent Gerard ends terribly, tired and disillusioned actress Stephanie hides in a house where a band is working on a record, which proves to be less of an escape than she imagined.',\n",
      "       'Slow Machine', '5853.00 ', ''], dtype=object), array([3246, '', '', '', '804.00 ', 346858, 'Hollywood / English',\n",
      "       'English', '14 Jul, 2021', 'Jan 01 1970', '',\n",
      "       \"Mankind's earliest settlers on the Martian frontier do what they must to survive the cosmic elements and each other.\",\n",
      "       'Settlers', '7961.00 ', ''], dtype=object), array([3247, '', '', '', '547.00 ', 346857, 'Hollywood / English',\n",
      "       'English', '14 Jul, 2021', 'Jan 01 1970', '',\n",
      "       'In a desolate town in Northern Wisconsin, a stubborn young woman and her naÃ¯ve boyfriend face off against a pair of amateur burglars.',\n",
      "       'How To Deter A Robber', '8291.00 ', ''], dtype=object), array([3256, '', '', '', '399.00 ', 346855, 'Hollywood / English',\n",
      "       'English', '14 Jul, 2021', 'Jan 01 1970', '',\n",
      "       \"Inspired by true events from the spring of 1944 when the Nazis organized a football match between a team of camp inmates and an elite Nazi team on Adolf Hitler's birthday. A match the prisoners are determined to win, no matter what happens.\",\n",
      "       'The Match', '4774.00 ', ''], dtype=object), array([3257, '', '', '', '1033.00 ', 346852, 'Hollywood / English',\n",
      "       'English', '14 Jul, 2021', 'Jan 01 1970', '',\n",
      "       'A\\r\\n heroic story about firefighters and rescuers. What we call an act of \\r\\nbravery is just a usual routine for them, if only one can get used to \\r\\nmortal danger and extreme risk. When people in distress seem to have \\r\\nnobody who may help them, rescuers come to fight against merciless \\r\\nforces of nature.',\n",
      "       'Fire', '11852.00 ', ''], dtype=object), array([3258, '', '', '', '250.00 ', 346851, 'Hollywood / English',\n",
      "       'English', '14 Jul, 2021', 'Jan 01 1970', '',\n",
      "       \"A\\r\\n life coach to the rich and famous is forced to face his troubled past \\r\\nwhen he's exposed as a fraud. He embarks on a long journey of \\r\\nredemption, beginning with the search to find his long lost daughter.\",\n",
      "       'Two Cents From A Pariah', '4926.00 ', ''], dtype=object), array([3259, '', '', '', '310.00 ', 346850, 'Hollywood / English',\n",
      "       'English', '14 Jul, 2021', 'Jan 01 1970', '',\n",
      "       'Black Medicine follows a black-market medic who carries out illegal operations for the criminal underworld. When she gives refuge to a young girl, she must choose between breaking her medical oath or crossing her ruthless employers.',\n",
      "       'Black Medicine', '4933.00 ', ''], dtype=object), array([3260, '', '', '', '250.00 ', 346782, 'Hollywood / English',\n",
      "       'English', '12 Jul, 2021', 'Jan 01 1970', '',\n",
      "       'A young man sets out to find the father he never knew.',\n",
      "       \"A Father's Legacy\", '2897.00 ', ''], dtype=object), array([3261, '', '', '', '207.00 ', 346781, 'Hollywood / English',\n",
      "       'English', '12 Jul, 2021', 'Jan 01 1970', '',\n",
      "       'A\\r\\n New York Times travel writer comes to Tel Aviv after suffering a \\r\\ntragedy. The energy of the city and his relationship with a younger man \\r\\nbrings him back to life.',\n",
      "       'Sublet', '3953.00 ', ''], dtype=object), array([3267, '', '', '', '1586.00 ', 346721, 'Hollywood / English',\n",
      "       'English', '10 Jul, 2021', 'Jan 01 1970', '',\n",
      "       \"A\\r\\n mother's reality erodes around her as she struggles to fathom the \\r\\nentangled web of her daughter's separation anxiety brought on by \\r\\nparasitic creatures within a stuffed bear.\",\n",
      "       'The Nest', '15776.00 ', ''], dtype=object), array([3275, '', '', '', '427.00 ', 346600, 'Hollywood / English',\n",
      "       'English', '08 Jul, 2021', 'Jan 01 1970', '',\n",
      "       '6 strangers wake up inside a room garnished with weapons and are forced to kill each other or watch someone they care deeply about die.',\n",
      "       'The Blackout Experiment', '5769.00 ', ''], dtype=object), array([3276, '', '', '', '251.00 ', 346599, 'Hollywood / English',\n",
      "       'English', '08 Jul, 2021', 'Jan 01 1970', '',\n",
      "       'A mysterious modern-day Robin Hood gives the victims of a bank robbery a million dollar opportunity.',\n",
      "       'No Loss, No Gain', '3823.00 ', ''], dtype=object), array([3277, '', '', '', '424.00 ', 346598, 'Hollywood / English',\n",
      "       'English', '08 Jul, 2021', 'Jan 01 1970', '',\n",
      "       'Follows Brian Wood who is humbled when he is accused of war crimes in Iraq by the human rights lawyer Phil Shiner.',\n",
      "       'Danny Boy', '5429.00 ', ''], dtype=object), array([3281, '', '', '', '270.00 ', 346514, 'Hollywood / English',\n",
      "       'English', '06 Jul, 2021', 'Jan 01 1970', '',\n",
      "       'A year after the death of his wife, a man enlists her sister to help him bring her back.',\n",
      "       'An Unquiet Grave', '4410.00 ', ''], dtype=object), array([3282, '', '', '', '188.00 ', 346513, 'Hollywood / English',\n",
      "       'English', '06 Jul, 2021', 'Jan 01 1970', '',\n",
      "       'Grieving the death of her mother Lillian, Beth Tweedy-Bell wakes one night to find a portal to the past in the forest surrounding her family home. Swept away by visions of her idyllic upbringing with her three siblings and two loving Mums, Beth becomes mesmerized by the past, unable to see the dangers that lie ahead.',\n",
      "       'The Greenhouse', '3216.00 ', ''], dtype=object), array([3283, '', '', '', '263.00 ', 346512, 'Hollywood / English',\n",
      "       'English', '06 Jul, 2021', 'Jan 01 1970', '',\n",
      "       'Let, a reclusive, insomniac photographer, is hired to photograph a mysterious client in the forest late one night, and soon finds himself pulled into a bizarre, otherworldly quest.',\n",
      "       \"Let's Dream\", '5180.00 ', ''], dtype=object), array([3285, '', '', '', '430.00 ', 346472, 'Hollywood / English',\n",
      "       'English', '05 Jul, 2021', 'Jan 01 1970', '',\n",
      "       'An organ transplant committee has one hour to decide which of three patients deserves a life-saving heart. Seven years later, the committee members struggle with the consequences of that fateful decision.',\n",
      "       'The God Committee', '4395.00 ', ''], dtype=object), array([3287, '', '', '', '117.00 ', 346470, 'Hollywood / English',\n",
      "       'English', '05 Jul, 2021', 'Jan 01 1970', '',\n",
      "       'When\\r\\n best friends Beautiful Bill and Andy struggle to fit into regular \\r\\nsociety, Bill decides they need romantic love. This kicks off a \\r\\nyears-long series of misadventures that challenge not only their \\r\\nfriendship, but their grasp on sanity.',\n",
      "       'Some of Our Stallions', '1778.00 ', ''], dtype=object), array([3621, '', '', '', '4686.00 ', 343448, 'Bollywood / Indian',\n",
      "       'Hindi', '21 Apr, 2021', 'Jan 01 1970', '', '', 'Rifle Ganj',\n",
      "       '22710.00 ', ''], dtype=object), array([3665, '', '', '', '3519.00 ', 342871, 'Punjabi', 'Punjabi',\n",
      "       '09 Apr, 2021', 'Jan 01 1970', '', '', 'Chubare Wali Baari',\n",
      "       '17256.00 ', ''], dtype=object), array([3890, '', '', '', '9078.00 ', 340579, 'Bollywood / Indian',\n",
      "       'Hindi', '19 Feb, 2021', 'Jan 01 1970', '', '', 'Victim',\n",
      "       '46614.00 ', ''], dtype=object), array([4411, '', '', '', '7616.00 ', 335858, 'Bollywood / Indian',\n",
      "       'Hindi', '06 Nov, 2020', 'Jan 01 1970', '', '', 'Welcome Home',\n",
      "       '40687.00 ', ''], dtype=object), array([4412, '', '', '', '3141.00 ', 335857, 'Bollywood / Indian',\n",
      "       'Hindi', '06 Nov, 2020', 'Jan 01 1970', '', '', 'Shehri Gabru',\n",
      "       '19500.00 ', ''], dtype=object), array([5341, '', '', 'Mohit Pal', '4347.00 ', 328204,\n",
      "       'Bollywood / Indian', 'Hindi', '08 May, 2020', 'Feb 08 2019', '',\n",
      "       'The journey of a young girl through various relationships in her life.',\n",
      "       'Ye Ladki Bhi Na...', '32830.00 ', 'Mohit Pal, Chetan Uniyal'],\n",
      "      dtype=object), array([5342, '', '', '', '7778.00 ', 287543, 'Bollywood / Indian', '',\n",
      "       '02 Jan, 2019', 'Jan 01 1970', '',\n",
      "       'Love Training is Hindi movie starring Nishant Malkani, Sakshi Gulati and Rajpal Yadav in prominent roles. It is a drama directed by Hemanth Kumar.',\n",
      "       'Love Training', '48688.00 ', ''], dtype=object), array([5433, '', '', '', '10534.00 ', 327341, 'Pakistani', 'Urdu',\n",
      "       '20 Apr, 2020', 'Jan 01 1970', '', '', 'Mushk', '72597.00 ', ''],\n",
      "      dtype=object), array([5680, '', '', '', '4692.00 ', 325097, 'Bollywood / Indian',\n",
      "       'English', '04 Mar, 2020', 'Jan 01 1970', '', '', 'Dheet Patangey',\n",
      "       '40041.00 ', ''], dtype=object), array([6082, '', '', '', '4217.00 ', 320033, 'Bollywood / Indian',\n",
      "       'Hindi', '05 Dec, 2019', 'Jan 01 1970', '', '', 'Gudiya Ki Shaadi',\n",
      "       '31055.00 ', ''], dtype=object), array([6415, '', '', '', '2232.00 ', 313951, 'Bollywood / Indian', '',\n",
      "       '03 Oct, 2019', 'Jan 01 1970', '', '', 'Daab Chingri', '16990.00 ',\n",
      "       ''], dtype=object), array([6652, '', '', '', '7363.00 ', 309919, 'Bollywood / Indian',\n",
      "       'Hindi', '20 Aug, 2019', 'Jan 01 1970', '',\n",
      "       'Satyameva Jayate is a ZEE5 Original drama film starring Arjun Chakraborty, Saurasani Maitra, Vipin Sharma, Sudiptaa Chakraborty, Dibyendu Bhattacharya and Jayant Kripalani. Directed by Arindam Sil, the story revolves around a simple shopkeeper who is harassed by goons and is denied justice in the court of law. This Independence Day join the fight against crime and corruption.',\n",
      "       'Satyameva Jayate', '47169.00 ', ''], dtype=object), array([6701, '', '', '', '11294.00 ', 308663, 'Tollywood', 'Hindi',\n",
      "       '05 Aug, 2019', 'Apr 06 2018', '',\n",
      "       'Satya Gang is a Telugu movie released on 6 Apr, 2018. The movie is directed by Prabhas Nimmala and featured Prathyush VR, Harshita Panvar, Akshita and Sathvik Eshvar as lead characters.',\n",
      "       'Satya Gang', '39796.00 ', ''], dtype=object), array([6745, '', '', '', '5250.00 ', 307827, 'Punjabi', 'p',\n",
      "       '26 Jul, 2019', 'Jan 01 1970', '',\n",
      "       'Gangstar vs State is a Punjabi movie starring Mantej Mann, Sunakshi Sharma, Amrit Randhawa and Hanish Rajput in prominent roles. It is an action crime drama directed by Alam Gahir.',\n",
      "       'Gangster Vs State', '26505.00 ', ''], dtype=object), array([7085, '', '', '', '24097.00 ', 300675, 'Bollywood / Indian',\n",
      "       'Hindi', '10 May, 2019', 'Jan 01 1970', '', '', 'Badnaam Gali',\n",
      "       '80971.00 ', ''], dtype=object), array([7267, '', '', '', '8282.00 ', 295736, 'Bollywood / Indian',\n",
      "       'Hindi', '22 Mar, 2019', 'Jan 01 1970', '', '', '377 Ab Normal',\n",
      "       '45355.00 ', ''], dtype=object), array([7320, '', '', '', '11164.00 ', 294275, 'Bollywood / Indian',\n",
      "       'Hindi', '08 Mar, 2019', 'Jan 01 1970', '',\n",
      "       'The film starts in 1974, on the sets of Sholay, where the stunt woman Reshma is doing the famous â\\x80\\x98chal dhannoâ\\x80?basanti ki jaan khatre me haiâ\\x80?! tonga chasing stunt for the actress â\\x80\\x98Hema Maliniâ\\x80? The tonga overturns and we show a very badly injured Reshma. In a flash back the story goes back to her childhood. We show how her childhood came to an abrupt end, when her mother was arrested by police for smuggling of rice.',\n",
      "       'The Sholay Girl', '58563.00 ', ''], dtype=object), array([7865, '', '', '', '5941.00 ', 281982, 'Tollywood', 'Hindi',\n",
      "       '09 Nov, 2018', 'Aug 19 2016', '', '', 'Chaurya', '41670.00 ', ''],\n",
      "      dtype=object), array([8719, '', '', '', '4533.00 ', 262383, 'Bollywood / Indian', '',\n",
      "       '07 May, 2018', 'Jan 01 1970', '', '', 'Goodluck', '33638.00 ', ''],\n",
      "      dtype=object), array([8776, '', '', '', '14119.00 ', 260722, 'Tollywood', '',\n",
      "       '21 Apr, 2018', 'Jan 01 1970', '', '', 'Lakshmi Bomb', '74350.00 ',\n",
      "       ''], dtype=object), array([8839, '', '', '', '1781.00 ', 371740, 'Wrestling', 'English',\n",
      "       '13 Feb, 2023', 'Feb 10 2023', '', '', 'WWE Smackdown 2023-02-10',\n",
      "       '4739.00 ', ''], dtype=object), array([8883, '', '', '', '1781.00 ', 371740, 'Wrestling', 'English',\n",
      "       '13 Feb, 2023', 'Feb 10 2023', '', '', 'WWE Smackdown 2023-02-10',\n",
      "       '4740.00 ', ''], dtype=object), array([8892, '', '', '', '36977.00 ', 258210, 'Bollywood / Indian', '',\n",
      "       '30 Mar, 2018', 'Jan 01 1970', '', '', 'M.A. Pass', '183344.00 ',\n",
      "       ''], dtype=object), array([8927, '', '', '', '1781.00 ', 371740, 'Wrestling', 'English',\n",
      "       '13 Feb, 2023', 'Feb 10 2023', '', '', 'WWE Smackdown 2023-02-10',\n",
      "       '4741.00 ', ''], dtype=object), array([8971, '', '', '', '1781.00 ', 371740, 'Wrestling', 'English',\n",
      "       '13 Feb, 2023', 'Feb 10 2023', '', '', 'WWE Smackdown 2023-02-10',\n",
      "       '4742.00 ', ''], dtype=object), array([9015, '', '', '', '1781.00 ', 371740, 'Wrestling', 'English',\n",
      "       '13 Feb, 2023', 'Feb 10 2023', '', '', 'WWE Smackdown 2023-02-10',\n",
      "       '4743.00 ', ''], dtype=object), array([9059, '', '', '', '1781.00 ', 371740, 'Wrestling', 'English',\n",
      "       '13 Feb, 2023', 'Feb 10 2023', '', '', 'WWE Smackdown 2023-02-10',\n",
      "       '4744.00 ', ''], dtype=object), array([9103, '', '', '', '1781.00 ', 371740, 'Wrestling', 'English',\n",
      "       '13 Feb, 2023', 'Feb 10 2023', '', '', 'WWE Smackdown 2023-02-10',\n",
      "       '4745.00 ', ''], dtype=object), array([9147, '', '', '', '1781.00 ', 371740, 'Wrestling', 'English',\n",
      "       '13 Feb, 2023', 'Feb 10 2023', '', '', 'WWE Smackdown 2023-02-10',\n",
      "       '4746.00 ', ''], dtype=object), array([9191, '', '', '', '1781.00 ', 371740, 'Wrestling', 'English',\n",
      "       '13 Feb, 2023', 'Feb 10 2023', '', '', 'WWE Smackdown 2023-02-10',\n",
      "       '4748.00 ', ''], dtype=object), array([9235, '', '', '', '1781.00 ', 371740, 'Wrestling', 'English',\n",
      "       '13 Feb, 2023', 'Feb 10 2023', '', '', 'WWE Smackdown 2023-02-10',\n",
      "       '4749.00 ', ''], dtype=object), array([9272, '', '', '', '19398.00 ', 246655, 'Anime / Kids', 'Hindi',\n",
      "       '09 Dec, 2017', 'Jan 01 1970', '', '',\n",
      "       'Super Bheem Ke Super Jasoos', '72233.00 ', ''], dtype=object), array([9279, '', '', '', '1781.00 ', 371740, 'Wrestling', 'English',\n",
      "       '13 Feb, 2023', 'Feb 10 2023', '', '', 'WWE Smackdown 2023-02-10',\n",
      "       '4750.00 ', ''], dtype=object), array([9323, '', '', '', '1781.00 ', 371740, 'Wrestling', 'English',\n",
      "       '13 Feb, 2023', 'Feb 10 2023', '', '', 'WWE Smackdown 2023-02-10',\n",
      "       '4751.00 ', ''], dtype=object), array([9367, '', '', '', '1781.00 ', 371740, 'Wrestling', 'English',\n",
      "       '13 Feb, 2023', 'Feb 10 2023', '', '', 'WWE Smackdown 2023-02-10',\n",
      "       '4752.00 ', ''], dtype=object), array([9411, '', '', '', '1781.00 ', 371740, 'Wrestling', 'English',\n",
      "       '13 Feb, 2023', 'Feb 10 2023', '', '', 'WWE Smackdown 2023-02-10',\n",
      "       '4753.00 ', ''], dtype=object), array([9455, '', '', '', '1781.00 ', 371740, 'Wrestling', 'English',\n",
      "       '13 Feb, 2023', 'Feb 10 2023', '', '', 'WWE Smackdown 2023-02-10',\n",
      "       '4754.00 ', ''], dtype=object), array([9499, '', '', '', '1781.00 ', 371740, 'Wrestling', 'English',\n",
      "       '13 Feb, 2023', 'Feb 10 2023', '', '', 'WWE Smackdown 2023-02-10',\n",
      "       '4755.00 ', ''], dtype=object), array([9543, '', '', '', '1781.00 ', 371740, 'Wrestling', 'English',\n",
      "       '13 Feb, 2023', 'Feb 10 2023', '', '', 'WWE Smackdown 2023-02-10',\n",
      "       '4756.00 ', ''], dtype=object), array([9587, '', '', '', '1782.00 ', 371740, 'Wrestling', 'English',\n",
      "       '13 Feb, 2023', 'Feb 10 2023', '', '', 'WWE Smackdown 2023-02-10',\n",
      "       '4759.00 ', ''], dtype=object), array([9631, '', '', '', '1782.00 ', 371740, 'Wrestling', 'English',\n",
      "       '13 Feb, 2023', 'Feb 10 2023', '', '', 'WWE Smackdown 2023-02-10',\n",
      "       '4760.00 ', ''], dtype=object), array([9675, '', '', '', '1782.00 ', 371740, 'Wrestling', 'English',\n",
      "       '13 Feb, 2023', 'Feb 10 2023', '', '', 'WWE Smackdown 2023-02-10',\n",
      "       '4761.00 ', ''], dtype=object), array([9719, '', '', '', '1782.00 ', 371740, 'Wrestling', 'English',\n",
      "       '13 Feb, 2023', 'Feb 10 2023', '', '', 'WWE Smackdown 2023-02-10',\n",
      "       '4762.00 ', ''], dtype=object), array([9763, '', '', '', '1782.00 ', 371740, 'Wrestling', 'English',\n",
      "       '13 Feb, 2023', 'Feb 10 2023', '', '', 'WWE Smackdown 2023-02-10',\n",
      "       '4763.00 ', ''], dtype=object), array([9807, '', '', '', '1782.00 ', 371740, 'Wrestling', 'English',\n",
      "       '13 Feb, 2023', 'Feb 10 2023', '', '', 'WWE Smackdown 2023-02-10',\n",
      "       '4764.00 ', ''], dtype=object), array([9851, '', '', '', '1782.00 ', 371740, 'Wrestling', 'English',\n",
      "       '13 Feb, 2023', 'Feb 10 2023', '', '', 'WWE Smackdown 2023-02-10',\n",
      "       '4765.00 ', ''], dtype=object), array([9895, '', '', '', '1782.00 ', 371740, 'Wrestling', 'English',\n",
      "       '13 Feb, 2023', 'Feb 10 2023', '', '', 'WWE Smackdown 2023-02-10',\n",
      "       '4766.00 ', ''], dtype=object), array([9939, '', '', '', '1782.00 ', 371740, 'Wrestling', 'English',\n",
      "       '13 Feb, 2023', 'Feb 10 2023', '', '', 'WWE Smackdown 2023-02-10',\n",
      "       '4767.00 ', ''], dtype=object), array([9983, '', '', '', '1782.00 ', 371740, 'Wrestling', 'English',\n",
      "       '13 Feb, 2023', 'Feb 10 2023', '', '', 'WWE Smackdown 2023-02-10',\n",
      "       '4768.00 ', ''], dtype=object), array([10027, '', '', '', '1782.00 ', 371740, 'Wrestling', 'English',\n",
      "       '13 Feb, 2023', 'Feb 10 2023', '', '', 'WWE Smackdown 2023-02-10',\n",
      "       '4769.00 ', ''], dtype=object), array([10071, '', '', '', '1782.00 ', 371740, 'Wrestling', 'English',\n",
      "       '13 Feb, 2023', 'Feb 10 2023', '', '', 'WWE Smackdown 2023-02-10',\n",
      "       '4770.00 ', ''], dtype=object), array([10115, '', '', '', '1782.00 ', 371740, 'Wrestling', 'English',\n",
      "       '13 Feb, 2023', 'Feb 10 2023', '', '', 'WWE Smackdown 2023-02-10',\n",
      "       '4771.00 ', ''], dtype=object), array([10129, '', '', 'Vadim Dantsiger', '2262.00 ', 222906,\n",
      "       'Hollywood / English', 'Russian', '27 Apr, 2017', 'Jan 01 1970',\n",
      "       '1h 30min', '', 'Tramp', '16231.00 ',\n",
      "       'Yuriy Berdnikov, Snezhana Polezhaeva'], dtype=object), array([10159, '', '', '', '1782.00 ', 371740, 'Wrestling', 'English',\n",
      "       '13 Feb, 2023', 'Feb 10 2023', '', '', 'WWE Smackdown 2023-02-10',\n",
      "       '4772.00 ', ''], dtype=object), array([10203, '', '', '', '1782.00 ', 371740, 'Wrestling', 'English',\n",
      "       '13 Feb, 2023', 'Feb 10 2023', '', '', 'WWE Smackdown 2023-02-10',\n",
      "       '4773.00 ', ''], dtype=object), array([10217, '', '', '', '3392.00 ', 220510, 'Anime / Kids', '',\n",
      "       '05 Apr, 2017', 'Jan 01 1970', '', '', 'Sponge Bob Sea Side Story',\n",
      "       '18358.00 ', ''], dtype=object), array([10222, '', '', '', '31989.00 ', 220361, 'Anime / Kids', '',\n",
      "       '04 Apr, 2017', 'Jan 01 1970', '', '',\n",
      "       'Motu Patlu: Vacation Special', '100928.00 ', ''], dtype=object), array([10247, '', '', '', '1782.00 ', 371740, 'Wrestling', 'English',\n",
      "       '13 Feb, 2023', 'Feb 10 2023', '', '', 'WWE Smackdown 2023-02-10',\n",
      "       '4774.00 ', ''], dtype=object), array([10264, '', '', '', '22484.00 ', 218982, 'Anime / Kids', 'Hindi',\n",
      "       '24 Mar, 2017', 'Jan 01 1970', '', '',\n",
      "       'Motu Patlu: In Invisible Plane', '71008.00 ', ''], dtype=object), array([10291, '', '', '', '1782.00 ', 371740, 'Wrestling', 'English',\n",
      "       '13 Feb, 2023', 'Feb 10 2023', '', '', 'WWE Smackdown 2023-02-10',\n",
      "       '4775.00 ', ''], dtype=object), array([10335, '', '', '', '1782.00 ', 371740, 'Wrestling', 'English',\n",
      "       '13 Feb, 2023', 'Feb 10 2023', '', '', 'WWE Smackdown 2023-02-10',\n",
      "       '4776.00 ', ''], dtype=object), array([10365, '', '', '', '10000.00 ', 216028, 'Punjabi', '',\n",
      "       '28 Feb, 2017', 'Jan 01 1970', '', '', 'Sardar Saab', '47697.00 ',\n",
      "       ''], dtype=object), array([10379, '', '', '', '1782.00 ', 371740, 'Wrestling', 'English',\n",
      "       '13 Feb, 2023', 'Feb 10 2023', '', '', 'WWE Smackdown 2023-02-10',\n",
      "       '4777.00 ', ''], dtype=object), array([10423, '', '', '', '1782.00 ', 371740, 'Wrestling', 'English',\n",
      "       '13 Feb, 2023', 'Feb 10 2023', '', '', 'WWE Smackdown 2023-02-10',\n",
      "       '4778.00 ', ''], dtype=object), array([10467, '', '', '', '1782.00 ', 371740, 'Wrestling', 'English',\n",
      "       '13 Feb, 2023', 'Feb 10 2023', '', '', 'WWE Smackdown 2023-02-10',\n",
      "       '4779.00 ', ''], dtype=object), array([10480, '', '', '', '4042.00 ', 212992, 'Punjabi', '',\n",
      "       '03 Feb, 2017', 'Jan 01 1970', '',\n",
      "       'The Journey of Punjab 2016 is a 2016 Punjabi film directed by Inderjit Moga and Balraj Sagar. It is written by Deep Jagdeep. The film is about the menace of drug in the Indian state of Punjab.',\n",
      "       'The Journey of Punjab', '26405.00 ', ''], dtype=object), array([10485, '', '', '', '26654.00 ', 212851, 'Tollywood', '',\n",
      "       '02 Feb, 2017', 'Jan 01 1970', '',\n",
      "       'Sher is a Telugu action comedy film directed by Mallikarjun. The film features Kalyan Ram and Sonal Chauhan in lead roles and Vikramjeet Virk plays an important role. The film is released on 30 October 2015.',\n",
      "       'Sher', '91578.00 ', ''], dtype=object), array([10511, '', '', '', '1782.00 ', 371740, 'Wrestling', 'English',\n",
      "       '13 Feb, 2023', 'Feb 10 2023', '', '', 'WWE Smackdown 2023-02-10',\n",
      "       '4780.00 ', ''], dtype=object), array([10555, '', '', '', '1782.00 ', 371740, 'Wrestling', 'English',\n",
      "       '13 Feb, 2023', 'Feb 10 2023', '', '', 'WWE Smackdown 2023-02-10',\n",
      "       '4781.00 ', ''], dtype=object), array([10599, '', '', '', '1782.00 ', 371740, 'Wrestling', 'English',\n",
      "       '13 Feb, 2023', 'Feb 10 2023', '', '', 'WWE Smackdown 2023-02-10',\n",
      "       '4782.00 ', ''], dtype=object), array([10643, '', '', '', '1782.00 ', 371740, 'Wrestling', 'English',\n",
      "       '13 Feb, 2023', 'Feb 10 2023', '', '', 'WWE Smackdown 2023-02-10',\n",
      "       '4783.00 ', ''], dtype=object), array([10660, '', '', '', '0.00 ', 207256, 'Pakistani', '',\n",
      "       '21 Dec, 2016', 'Jan 01 1970', '', '', 'Oye Kuch Kar Guzar 2016',\n",
      "       '77938.00 ', ''], dtype=object), array([10687, '', '', '', '1782.00 ', 371740, 'Wrestling', 'English',\n",
      "       '13 Feb, 2023', 'Feb 10 2023', '', '', 'WWE Smackdown 2023-02-10',\n",
      "       '4784.00 ', ''], dtype=object), array([10708, '', '', '', '19107.00 ', 179677, 'Bollywood / Indian',\n",
      "       'Hindi', '30 May, 2016', 'Jan 01 1970', '', '',\n",
      "       'Khel To Abb Shuru Hoga', '87678.00 ', ''], dtype=object), array([10731, '', '', '', '1782.00 ', 371740, 'Wrestling', 'English',\n",
      "       '13 Feb, 2023', 'Feb 10 2023', '', '', 'WWE Smackdown 2023-02-10',\n",
      "       '4785.00 ', ''], dtype=object), array([10775, '', '', '', '1782.00 ', 371740, 'Wrestling', 'English',\n",
      "       '13 Feb, 2023', 'Feb 10 2023', '', '', 'WWE Smackdown 2023-02-10',\n",
      "       '4786.00 ', ''], dtype=object), array([10810, '', '', '', '0.00 ', 202752, 'Pakistani', '',\n",
      "       '14 Nov, 2016', 'Jan 01 1970', '', '', 'Mummy', '12891.00 ', ''],\n",
      "      dtype=object), array([10811, '', '', '', '0.00 ', 202751, 'Pakistani', '',\n",
      "       '14 Nov, 2016', 'Jan 01 1970', '', '', 'Khuda Qasam', '8537.00 ',\n",
      "       ''], dtype=object), array([10812, '', '', '', '0.00 ', 202750, 'Pakistani', '',\n",
      "       '14 Nov, 2016', 'Jan 01 1970', '', '', 'Ishq Zinda Rahe Ga',\n",
      "       '7175.00 ', ''], dtype=object), array([10819, '', '', '', '1782.00 ', 371740, 'Wrestling', 'English',\n",
      "       '13 Feb, 2023', 'Feb 10 2023', '', '', 'WWE Smackdown 2023-02-10',\n",
      "       '4787.00 ', ''], dtype=object), array([10826, '', '', '', '7755.00 ', 202624, 'Bollywood / Indian', '',\n",
      "       '12 Nov, 2016', 'Jan 01 1970', '', '', 'Dubai Return', '43118.00 ',\n",
      "       ''], dtype=object), array([10837, '', '', '', '0.00 ', 202144, 'Pakistani', '',\n",
      "       '09 Nov, 2016', 'Jan 01 1970', '', '', 'Toofan', '11961.00 ', ''],\n",
      "      dtype=object), array([10838, '', '', '', '0.00 ', 202143, 'Pakistani', '',\n",
      "       '09 Nov, 2016', 'Jan 01 1970', '', '', 'Aik Din Bahu Ka',\n",
      "       '6168.00 ', ''], dtype=object), array([10839, '', '', '', '0.00 ', 202142, 'Pakistani', '',\n",
      "       '09 Nov, 2016', 'Jan 01 1970', '', '', 'Insaaf Aur Qanoon',\n",
      "       '5833.00 ', ''], dtype=object), array([10840, '', '', '', '0.00 ', 202141, 'Pakistani', '',\n",
      "       '09 Nov, 2016', 'Jan 01 1970', '', '', 'Zindagi', '6254.00 ', ''],\n",
      "      dtype=object), array([10841, '', '', '', '0.00 ', 202139, 'Pakistani', '',\n",
      "       '09 Nov, 2016', 'Jan 01 1970', '', '', 'Dhee Rani', '4464.00 ', ''],\n",
      "      dtype=object), array([10843, '', '', '', '0.00 ', 201985, 'Pakistani', '',\n",
      "       '08 Nov, 2016', 'Jan 01 1970', '', '', 'Insaan Aur Farishta',\n",
      "       '5342.00 ', ''], dtype=object), array([10844, '', '', '', '0.00 ', 201984, 'Pakistani', '',\n",
      "       '08 Nov, 2016', 'Jan 01 1970', '', '', 'Bara Aadmi', '4537.00 ',\n",
      "       ''], dtype=object), array([10845, '', '', '', '0.00 ', 201983, 'Pakistani', '',\n",
      "       '08 Nov, 2016', 'Jan 01 1970', '', '', 'Deewangi', '2609.00 ', ''],\n",
      "      dtype=object), array([10846, '', '', '', '0.00 ', 201982, 'Pakistani', '',\n",
      "       '08 Nov, 2016', 'Jan 01 1970', '', '', 'Be Misal', '2902.00 ', ''],\n",
      "      dtype=object), array([10863, '', '', '', '1782.00 ', 371740, 'Wrestling', 'English',\n",
      "       '13 Feb, 2023', 'Feb 10 2023', '', '', 'WWE Smackdown 2023-02-10',\n",
      "       '4788.00 ', ''], dtype=object), array([10877, '', '', '', '0.00 ', 201470, 'Pakistani', '',\n",
      "       '03 Nov, 2016', 'Jan 01 1970', '', '', 'Aurat Ek Paheli',\n",
      "       '5931.00 ', ''], dtype=object), array([10878, '', '', '', '0.00 ', 201469, 'Pakistani', '',\n",
      "       '03 Nov, 2016', 'Jan 01 1970', '', '', 'Jung', '6484.00 ', ''],\n",
      "      dtype=object), array([10879, '', '', '', '0.00 ', 201468, 'Pakistani', '',\n",
      "       '03 Nov, 2016', 'Jan 01 1970', '', '', 'Malkaa', '4058.00 ', ''],\n",
      "      dtype=object), array([10887, '', '', '', '0.00 ', 201198, 'Pakistani', '',\n",
      "       '01 Nov, 2016', 'Jan 01 1970', '', '', 'Qatil', '3286.00 ', ''],\n",
      "      dtype=object), array([10889, '', '', '', '0.00 ', 201192, 'Pakistani', '',\n",
      "       '01 Nov, 2016', 'Jan 01 1970', '', '', 'Nakhra Gori Da',\n",
      "       '5770.00 ', ''], dtype=object), array([10891, '', '', 'Rasheed Akhter', '1.00 ', 201190, 'Pakistani',\n",
      "       'Panjabi', '01 Nov, 2016', 'Dec 17 1965', '', '', 'Malangi',\n",
      "       '2890.00 ', 'Hazeen Qadri'], dtype=object), array([10895, '', '', '', '0.00 ', 201031, 'Pakistani', '',\n",
      "       '31 Oct, 2016', 'Jan 01 1970', '', '', 'Ustad Shagird', '5109.00 ',\n",
      "       ''], dtype=object), array([10896, '', '', '', '0.00 ', 201030, 'Pakistani', '',\n",
      "       '31 Oct, 2016', 'Jan 01 1970', '', '', 'Wehshi Jatt', '7763.00 ',\n",
      "       ''], dtype=object), array([10897, '', '', '', '0.00 ', 201029, 'Pakistani', '',\n",
      "       '31 Oct, 2016', 'Jan 01 1970', '', '', 'Hakam Aarayin', '4720.00 ',\n",
      "       ''], dtype=object), array([10898, '', '', '', '0.00 ', 201028, 'Pakistani', '',\n",
      "       '31 Oct, 2016', 'Jan 01 1970', '', '', 'Behan Bhai', '5837.00 ',\n",
      "       ''], dtype=object), array([10899, '', '', '', '0.00 ', 201027, 'Pakistani', '',\n",
      "       '31 Oct, 2016', 'Jan 01 1970', '', '', 'Angarey', '10462.00 ', ''],\n",
      "      dtype=object), array([10907, '', '', '', '1782.00 ', 371740, 'Wrestling', 'English',\n",
      "       '13 Feb, 2023', 'Feb 10 2023', '', '', 'WWE Smackdown 2023-02-10',\n",
      "       '4789.00 ', ''], dtype=object), array([10920, '', '', '', '0.00 ', 200600, 'Pakistani', '',\n",
      "       '27 Oct, 2016', 'Jan 01 1970', '', '', 'Shama Aur Parwana',\n",
      "       '9102.00 ', ''], dtype=object), array([10921, '', '', '', '0.00 ', 200598, 'Pakistani', '',\n",
      "       '27 Oct, 2016', 'Jan 01 1970', '', '', 'Shama', '5766.00 ', ''],\n",
      "      dtype=object), array([10922, '', '', '', '0.00 ', 200593, 'Pakistani', '',\n",
      "       '27 Oct, 2016', 'Jan 01 1970', '', '', 'Naukar', '4955.00 ', ''],\n",
      "      dtype=object), array([10924, '', '', '', '0.00 ', 200583, 'Pakistani', '',\n",
      "       '27 Oct, 2016', 'Jan 01 1970', '', '', 'Aag Ka Dariya', '7095.00 ',\n",
      "       ''], dtype=object), array([10927, '', '', '', '8346.00 ', 200422, 'Tollywood', 'Hindi',\n",
      "       '26 Oct, 2016', 'Jan 01 1970', '', '', 'Thilagar', '29975.00 ', ''],\n",
      "      dtype=object), array([10928, '', '', '', '0.00 ', 200404, 'Pakistani', '',\n",
      "       '26 Oct, 2016', 'Jan 01 1970', '', '', 'Sangram', '7231.00 ', ''],\n",
      "      dtype=object), array([10929, '', '', 'Raza Mir', '0.00 ', 200403, 'Pakistani', 'Urdu',\n",
      "       '26 Oct, 2016', 'Apr 28 1967', '2h 5min', '', 'Lakhoon Main Aik',\n",
      "       '4927.00 ', ''], dtype=object), array([10930, '', '', '', '0.00 ', 200392, 'Pakistani', '',\n",
      "       '26 Oct, 2016', 'Jan 01 1970', '', '', 'Kaneez', '3560.00 ', ''],\n",
      "      dtype=object), array([10951, '', '', '', '1782.00 ', 371740, 'Wrestling', 'English',\n",
      "       '13 Feb, 2023', 'Feb 10 2023', '', '', 'WWE Smackdown 2023-02-10',\n",
      "       '4790.00 ', ''], dtype=object), array([10995, '', '', '', '1782.00 ', 371740, 'Wrestling', 'English',\n",
      "       '13 Feb, 2023', 'Feb 10 2023', '', '', 'WWE Smackdown 2023-02-10',\n",
      "       '4791.00 ', ''], dtype=object), array([11039, '', '', '', '1782.00 ', 371740, 'Wrestling', 'English',\n",
      "       '13 Feb, 2023', 'Feb 10 2023', '', '', 'WWE Smackdown 2023-02-10',\n",
      "       '4792.00 ', ''], dtype=object), array([11083, '', '', '', '1782.00 ', 371740, 'Wrestling', 'English',\n",
      "       '13 Feb, 2023', 'Feb 10 2023', '', '', 'WWE Smackdown 2023-02-10',\n",
      "       '4793.00 ', ''], dtype=object), array([11127, '', '', '', '1782.00 ', 371740, 'Wrestling', 'English',\n",
      "       '13 Feb, 2023', 'Feb 10 2023', '', '', 'WWE Smackdown 2023-02-10',\n",
      "       '4794.00 ', ''], dtype=object), array([11171, '', '', '', '1782.00 ', 371740, 'Wrestling', 'English',\n",
      "       '13 Feb, 2023', 'Feb 10 2023', '', '', 'WWE Smackdown 2023-02-10',\n",
      "       '4795.00 ', ''], dtype=object), array([11215, '', '', '', '1782.00 ', 371740, 'Wrestling', 'English',\n",
      "       '13 Feb, 2023', 'Feb 10 2023', '', '', 'WWE Smackdown 2023-02-10',\n",
      "       '4796.00 ', ''], dtype=object), array([11227, '', '', '', '8082.00 ', 192085, 'Bollywood / Indian',\n",
      "       'Hindi', '24 Aug, 2016', 'Jan 01 1970', '', '', 'Dawat E Shaadi',\n",
      "       '53477.00 ', ''], dtype=object), array([11248, '', '', '', '13185.00 ', 191358, 'Tollywood', 'Hindi',\n",
      "       '19 Aug, 2016', 'Jan 01 1970', '', '', 'Bhoo', '58128.00 ', ''],\n",
      "      dtype=object), array([11259, '', '', '', '1782.00 ', 371740, 'Wrestling', 'English',\n",
      "       '13 Feb, 2023', 'Feb 10 2023', '', '', 'WWE Smackdown 2023-02-10',\n",
      "       '4797.00 ', ''], dtype=object), array([11303, '', '', '', '1782.00 ', 371740, 'Wrestling', 'English',\n",
      "       '13 Feb, 2023', 'Feb 10 2023', '', '', 'WWE Smackdown 2023-02-10',\n",
      "       '4798.00 ', ''], dtype=object), array([11319, '', '', 'Raj Sinha', '16574.00 ', 134109, 'Punjabi',\n",
      "       'Punjabi', '25 May, 2015', 'May 22 2015', '2h 3m',\n",
      "       'Oh Yaara Ainvayi Ainvayi Lutt Gaya is the story of Gunjan (Gauhar Khan) \\r\\nand Ranveer (Jassi Gill). Two love birds that fight over a petty issue. \\r\\nAnd eventually their fight ends up at court where they file for divorce.\\r\\n The film mostly revolves around a court room where they appear for \\r\\ndivorce hearings. And before the judge could actually give a verdict a \\r\\ntragic incident brings them back together.',\n",
      "       'Oh Yaara Ainvayi Ainvayi Lut Gaya', '76556.00 ', 'Raj Sinha'],\n",
      "      dtype=object), array([11347, '', '', '', '1782.00 ', 371740, 'Wrestling', 'English',\n",
      "       '13 Feb, 2023', 'Feb 10 2023', '', '', 'WWE Smackdown 2023-02-10',\n",
      "       '4799.00 ', ''], dtype=object), array([11385, '', '', '', '52507.00 ', 187269, 'Bollywood / Indian',\n",
      "       'Hindi', '22 Jul, 2016', 'Jan 01 1970', '', '', 'Chudail Story',\n",
      "       '175577.00 ', ''], dtype=object), array([11391, '', '', '', '1782.00 ', 371740, 'Wrestling', 'English',\n",
      "       '13 Feb, 2023', 'Feb 10 2023', '', '', 'WWE Smackdown 2023-02-10',\n",
      "       '4800.00 ', ''], dtype=object), array([11400, '', '', '', '4296.00 ', 186862, 'Punjabi', 'Punjabi',\n",
      "       '20 Jul, 2016', 'Jan 01 1970', '', '', 'Bathinda Express',\n",
      "       '27879.00 ', ''], dtype=object), array([11435, '', '', '', '1782.00 ', 371740, 'Wrestling', 'English',\n",
      "       '13 Feb, 2023', 'Feb 10 2023', '', '', 'WWE Smackdown 2023-02-10',\n",
      "       '4801.00 ', ''], dtype=object), array([11456, '', '', 'Roopesh Rai Sikand', '9268.00 ', 184935, 'Punjabi',\n",
      "       'Punjabi', '04 Jul, 2016', 'Jan 01 1970', '',\n",
      "       'Three close childhood friends, Jigar, Harry and Laddi, living in a \\r\\nvillage in Punjab decide to immigrate to Canada for a better life and in\\r\\n search of their â\\x80\\x9cdollar dreams.â\\x80?Jigar is a spoilt child of rich \\r\\nparents; Harry is a show-off & bragger; and Laddi aka Phattu is \\r\\nnebbish and clumsy. As theyâ\\x80\\x99re hanging out in the village, they look \\r\\nupwards in the sky and point to a distant plane saying, â\\x80\\x9cLook.. The \\r\\nflight to Canada!â\\x80?However, their parents are not supportive of their \\r\\npursuit to settle abroad. The three come across a travel agent, Chawla, \\r\\nwho ensures them a visa and flight to Canada for Rs 15 million for each \\r\\none of them. They are aware that that wonâ\\x80\\x99t get this kind of financial \\r\\nsupport from their parents. As they are hanging out, they encounter \\r\\nMinto and Shurli, the two men originally from their village and whom the\\r\\n three friends have known since childhood, now apparently settled in \\r\\nCanada. Minto alleges that he has worked really hard in Canada to become\\r\\n a successful businessman today and invites the entire village for a \\r\\nparty, later that night. After meeting them, the three friends now get \\r\\nfully charged up for going to Canada. They somehow manage to accumulate \\r\\nthe money and give it to Chawla. However, Chawla informs that they need \\r\\nto take a layover in Bangkok for 3 days and then catch the onward flight\\r\\n to Canada. The three bid farewell to their families and board the plane',\n",
      "       'Canada Di Flight', '46853.00 ', 'Roopesh Rai Sikand'],\n",
      "      dtype=object), array([11479, '', '', '', '1782.00 ', 371740, 'Wrestling', 'English',\n",
      "       '13 Feb, 2023', 'Feb 10 2023', '', '', 'WWE Smackdown 2023-02-10',\n",
      "       '4802.00 ', ''], dtype=object), array([11523, '', '', '', '1782.00 ', 371740, 'Wrestling', 'English',\n",
      "       '13 Feb, 2023', 'Feb 10 2023', '', '', 'WWE Smackdown 2023-02-10',\n",
      "       '4803.00 ', ''], dtype=object), array([11551, '', '', '', '6905.00 ', 181899, 'Bollywood / Indian', '',\n",
      "       '14 Jun, 2016', 'Jan 01 1970', '', '', 'Ram Robert Raheem',\n",
      "       '47320.00 ', ''], dtype=object), array([11567, '', '', '', '1782.00 ', 371740, 'Wrestling', 'English',\n",
      "       '13 Feb, 2023', 'Feb 10 2023', '', '', 'WWE Smackdown 2023-02-10',\n",
      "       '4804.00 ', ''], dtype=object), array([11611, '', '', '', '1782.00 ', 371740, 'Wrestling', 'English',\n",
      "       '13 Feb, 2023', 'Feb 10 2023', '', '', 'WWE Smackdown 2023-02-10',\n",
      "       '4805.00 ', ''], dtype=object), array([11646, '', '', '', '25488.00 ', 178122, 'Anime / Kids', 'Hindi',\n",
      "       '19 May, 2016', 'Jan 01 1970', '', '',\n",
      "       'Motu Patlu Aur Khazaane Ki Race', '75172.00 ', ''], dtype=object), array([11650, '', '', '', '1791.00 ', 177870, 'Anime / Kids', 'English',\n",
      "       '18 May, 2016', 'Jan 01 1970', '', '',\n",
      "       '3 Little Pigs And The Magic Lamp 2016', '13547.00 ', ''],\n",
      "      dtype=object), array([11655, '', '', '', '1782.00 ', 371740, 'Wrestling', 'English',\n",
      "       '13 Feb, 2023', 'Feb 10 2023', '', '', 'WWE Smackdown 2023-02-10',\n",
      "       '4806.00 ', ''], dtype=object), array([11662, '', '', '', '4448.00 ', 177731, 'Anime / Kids', 'English',\n",
      "       '17 May, 2016', 'Jan 01 1970', '', '',\n",
      "       'Alpha And Omega: Dino Digs 2016', '26582.00 ', ''], dtype=object), array([11699, '', '', '', '1782.00 ', 371740, 'Wrestling', 'English',\n",
      "       '13 Feb, 2023', 'Feb 10 2023', '', '', 'WWE Smackdown 2023-02-10',\n",
      "       '4807.00 ', ''], dtype=object), array([11714, '', '', '', '971.00 ', 176419, 'Anime / Kids', 'English',\n",
      "       '09 May, 2016', 'Jan 01 1970', '', '',\n",
      "       'Captain Sabertooths Next Adventure', '13415.00 ', ''],\n",
      "      dtype=object), array([11717, '', '', 'Alain Choquart', '606.00 ', 176257,\n",
      "       'Hollywood / English', 'English,Southern Sotho,French',\n",
      "       '07 May, 2016', 'May 06 2015', '1h 49min',\n",
      "       'Ten years after the end of apartheid, a South African community tries to\\r\\n live without recalling the violent clashes of the past. But when the \\r\\nsilence is suddenly broken, some of the most innocent citizens may be in\\r\\n peril.',\n",
      "       'Ladygrey', '6818.00 ', 'Alain Choquart'], dtype=object), array([11719, '', '', '', '4494.00 ', 176255, 'Anime / Kids', 'English',\n",
      "       '07 May, 2016', 'Jan 01 1970', '', '',\n",
      "       'Bob Builder Construction Heroes 2016', '23234.00 ', ''],\n",
      "      dtype=object), array([11743, '', '', '', '1782.00 ', 371740, 'Wrestling', 'English',\n",
      "       '13 Feb, 2023', 'Feb 10 2023', '', '', 'WWE Smackdown 2023-02-10',\n",
      "       '4808.00 ', ''], dtype=object), array([11763, '', '', '', '863.00 ', 174758, 'Anime / Kids', 'English',\n",
      "       '28 Apr, 2016', 'Jan 01 1970', '',\n",
      "       \"Fireman Sam and the team are on a mission to save Pontypandy! Just as \\r\\nthe brand new fire station opens and two new recruits arrive, an \\r\\napproaching hurricane threatens Pontypandy! The crew jump in to action \\r\\nto prepare the town, with Sam rushing to the old mines to warn Penny and\\r\\n Elvis left in charge at the station. As the wind whips up and the rain \\r\\nlashes down, it's a race against time to save the residents of \\r\\nPontypandy. Will Sam reach the flooding mines in time to save Penny and \\r\\nthe children? Will Elvis take charge and get the residents to safety in \\r\\ntime? Find out in this all-new action-packed adventure!\",\n",
      "       'Fireman Sam Heroes Of The Storm', '6049.00 ', ''], dtype=object), array([11787, '', '', '', '1782.00 ', 371740, 'Wrestling', 'English',\n",
      "       '13 Feb, 2023', 'Feb 10 2023', '', '', 'WWE Smackdown 2023-02-10',\n",
      "       '4809.00 ', ''], dtype=object), array([11794, '', '', '', '2960.00 ', 173900, 'Anime / Kids', 'English',\n",
      "       '22 Apr, 2016', 'Jan 01 1970', '', '',\n",
      "       'Care Bears Bearied Treasure 2016', '15386.00 ', ''], dtype=object), array([11818, '', '', '', '1592.00 ', 173251, 'Anime / Kids', 'English',\n",
      "       '19 Apr, 2016', 'Jan 01 1970', '', '', 'Pup 2 No Good',\n",
      "       '10122.00 ', ''], dtype=object), array([11831, '', '', '', '1782.00 ', 371740, 'Wrestling', 'English',\n",
      "       '13 Feb, 2023', 'Feb 10 2023', '', '', 'WWE Smackdown 2023-02-10',\n",
      "       '4810.00 ', ''], dtype=object), array([11855, '', '', '', '3009.00 ', 172153, 'Anime / Kids', 'English',\n",
      "       '13 Apr, 2016', 'Jan 01 1970', '', '',\n",
      "       'Strawberry Shortcake Sweet Sunshine Adventures', '11951.00 ', ''],\n",
      "      dtype=object), array([11875, '', '', '', '1782.00 ', 371740, 'Wrestling', 'English',\n",
      "       '13 Feb, 2023', 'Feb 10 2023', '', '', 'WWE Smackdown 2023-02-10',\n",
      "       '4811.00 ', ''], dtype=object), array([11919, '', '', '', '1782.00 ', 371740, 'Wrestling', 'English',\n",
      "       '13 Feb, 2023', 'Feb 10 2023', '', '', 'WWE Smackdown 2023-02-10',\n",
      "       '4812.00 ', ''], dtype=object), array([11952, '', '', 'Karthikeya Gopalakrishna', '16345.00 ', 168406,\n",
      "       'Tollywood', '', '18 Mar, 2016', 'Jan 01 1970', '',\n",
      "       'Navdeep is a small time thief who makes his livelihood by robbing cars. One fine day he meets Ritu Bharmecha and falls in love with her. He woos her and gives her the impression that he is a posh business man.Â\\xa0As time passes by, even Ritu Bharmecha starts liking Vasool Raja and the couple get serious and plan to settle down in life. In order to live happily and reveal his true identity to Ritu Bharmecha, Navdeep plans his last and final robbery. He joins hands with a deadly group of goons who import illegal arms in the country.Â\\xa0This is also time when Srihari is posted to take care of the whole illegal arms situation. Rest of the story is as to how Navdeep manages to execute his last and final robbery, and whether Srihari stops Navdeep from fulfilling his final mission.',\n",
      "       'Vasool Raja', '61101.00 ', 'Karthikeya Gopalakrishna'],\n",
      "      dtype=object), array([11963, '', '', '', '1782.00 ', 371740, 'Wrestling', 'English',\n",
      "       '13 Feb, 2023', 'Feb 10 2023', '', '', 'WWE Smackdown 2023-02-10',\n",
      "       '4813.00 ', ''], dtype=object), array([12007, '', '', '', '1782.00 ', 371740, 'Wrestling', 'English',\n",
      "       '13 Feb, 2023', 'Feb 10 2023', '', '', 'WWE Smackdown 2023-02-10',\n",
      "       '4814.00 ', ''], dtype=object), array([12039, '', '', 'Lala', '10906.00 ', 165952, 'Tollywood', 'Hindi',\n",
      "       '03 Mar, 2016', 'Jan 01 1970', '',\n",
      "       'London born Madhu (Kunkum) comes to India to settle down here. With the help of her relatives she manages to uprise her house. Dawood (Jaya Prakash Reddy) appoints Srikanth to follow Madhu. In the meanwhile, Grandfather Kota Srinivas plans to kill Madhu by Kshudra Pooja. Due to which Madhu faces hard time in her home. As she doesnâ\\x80\\x99t believe in these kind of incident she meets up with Physiatrist (Rao Ramesh) where she finds out some interesting facts about the incidents happening around her. Will Srikanth help her? Who is Dawood? Why did Madhuâ\\x80\\x99s Grandfather Plan to kill her?',\n",
      "       'Kshatriya (Badle Ki Aag 2)', '29131.00 ', 'K.Uday Chandu'],\n",
      "      dtype=object), array([12051, '', '', '', '1782.00 ', 371740, 'Wrestling', 'English',\n",
      "       '13 Feb, 2023', 'Feb 10 2023', '', '', 'WWE Smackdown 2023-02-10',\n",
      "       '4815.00 ', ''], dtype=object), array([12095, '', '', '', '1782.00 ', 371740, 'Wrestling', 'English',\n",
      "       '13 Feb, 2023', 'Feb 10 2023', '', '', 'WWE Smackdown 2023-02-10',\n",
      "       '4816.00 ', ''], dtype=object), array([12103, '', '', '', '15399.00 ', 164207, 'Tollywood', 'Hindi',\n",
      "       '22 Feb, 2016', 'Jan 01 1970', '', '',\n",
      "       'Jai Sriram (Paap Ko Jala kar Rakh Kar Dunga)', '44178.00 ', ''],\n",
      "      dtype=object), array([12139, '', '', '', '1782.00 ', 371740, 'Wrestling', 'English',\n",
      "       '13 Feb, 2023', 'Feb 10 2023', '', '', 'WWE Smackdown 2023-02-10',\n",
      "       '4817.00 ', ''], dtype=object), array([12166, '', '', 'Meher Ramesh', '10590.00 ', 162167, 'Tollywood',\n",
      "       'Hindi', '09 Feb, 2016', 'Jun 04 2006', '', '',\n",
      "       'Ajay (The Return Of Tevar)', '35810.00 ', 'Gunashekhar'],\n",
      "      dtype=object), array([12183, '', '', '', '1782.00 ', 371740, 'Wrestling', 'English',\n",
      "       '13 Feb, 2023', 'Feb 10 2023', '', '', 'WWE Smackdown 2023-02-10',\n",
      "       '4818.00 ', ''], dtype=object), array([12211, '', '', '', '1947.00 ', 160572, 'Anime / Kids', '',\n",
      "       '29 Jan, 2016', 'Jan 01 2016', '', '',\n",
      "       'Speed Racer Speed To The Future', '10382.00 ', ''], dtype=object), array([12227, '', '', '', '1782.00 ', 371740, 'Wrestling', 'English',\n",
      "       '13 Feb, 2023', 'Feb 10 2023', '', '', 'WWE Smackdown 2023-02-10',\n",
      "       '4819.00 ', ''], dtype=object), array([12239, '', '', '', '4614.00 ', 159775, 'Anime / Kids', '',\n",
      "       '25 Jan, 2016', 'Jan 01 1970', '',\n",
      "       'True Friendship in the Glamorous World of Pop!Â\\xa0Join Olivia, Stephanie, Emma, Mia and Andrea, as they learn about friendship, fame and pop star fun in Heartlake City.Â\\xa0The girlsâ\\x80?friendships are tested when mega pop star Livi comes to Heartlake City. When our friendsâ\\x80?hit song â\\x80\\x9cGirlzâ\\x80?is stolen by Liviâ\\x80\\x99s manager, itâ\\x80\\x99s time for a cunning plan.Â\\xa0As the girls try to tell Livi the truth about her latest hit single, they all learn that fame isnâ\\x80\\x99t everything and sometimes friendship is the most precious thing in the world.',\n",
      "       'LEGO Friends: Girlz 4 Life', '18363.00 ', ''], dtype=object), array([12271, '', '', '', '1782.00 ', 371740, 'Wrestling', 'English',\n",
      "       '13 Feb, 2023', 'Feb 10 2023', '', '', 'WWE Smackdown 2023-02-10',\n",
      "       '4820.00 ', ''], dtype=object), array([12315, '', '', '', '1782.00 ', 371740, 'Wrestling', 'English',\n",
      "       '13 Feb, 2023', 'Feb 10 2023', '', '', 'WWE Smackdown 2023-02-10',\n",
      "       '4821.00 ', ''], dtype=object), array([12325, '', '', '', '5248.00 ', 157329, 'Punjabi', 'Punjabi',\n",
      "       '06 Jan, 2016', 'Oct 16 2015', '', '', 'Qissa Panjab', '32972.00 ',\n",
      "       ''], dtype=object), array([12329, '', '', '', '3147.00 ', 157170, 'Hollywood / English', '',\n",
      "       '05 Jan, 2016', 'May 21 2013', '1h 26min',\n",
      "       'Ben, Ernesto and Tim narrow down their women as they go on a journey to paradise on the beautiful island of Hawaii. The stakes are high as the women must fight to survive, getting one step closer to falling in love with the man of their dreams. Preeminent matchmaker Amber Kelleher-Andrews, relationship author Tracy McMillan and professional dating coach Matthew Hussey coach the women on forming compatible relationships with each of the eligible men.',\n",
      "       'Love in Paradise', '25904.00 ', ''], dtype=object), array([12359, '', '', '', '1782.00 ', 371740, 'Wrestling', 'English',\n",
      "       '13 Feb, 2023', 'Feb 10 2023', '', '', 'WWE Smackdown 2023-02-10',\n",
      "       '4822.00 ', ''], dtype=object), array([12386, '', '', '', '3981.00 ', 155212, 'Hollywood / English', '',\n",
      "       '16 Dec, 2015', 'Dec 15 2015', '', '', 'City Of Vultures',\n",
      "       '16863.00 ', ''], dtype=object), array([12403, '', '', '', '1782.00 ', 371740, 'Wrestling', 'English',\n",
      "       '13 Feb, 2023', 'Feb 10 2023', '', '', 'WWE Smackdown 2023-02-10',\n",
      "       '4823.00 ', ''], dtype=object), array([12430, '', '', '', '8076.00 ', 154325, 'Stage shows', 'Punjabi',\n",
      "       '09 Dec, 2015', 'Jan 01 1970', '', '', 'Kapati', '33195.00 ', ''],\n",
      "      dtype=object), array([12431, '', '', '', '5026.00 ', 154323, 'Stage shows', 'Punjabi',\n",
      "       '09 Dec, 2015', 'Jan 01 1970', '', '', 'Jeo Dhola', '25730.00 ',\n",
      "       ''], dtype=object), array([12447, '', '', '', '1782.00 ', 371740, 'Wrestling', 'English',\n",
      "       '13 Feb, 2023', 'Feb 10 2023', '', '', 'WWE Smackdown 2023-02-10',\n",
      "       '4824.00 ', ''], dtype=object), array([12456, '', '', '', '1734.00 ', 153879, 'Anime / Kids', '',\n",
      "       '05 Dec, 2015', 'Jan 01 1970', '',\n",
      "       'From the creators of the smash hit JUNGLE MASTER comes a new animated comedy for the whole family!  \\r\\n\\r\\nWhen a spaceship crashes into the farm house, the biggest characters in the barnyard set out on the adventure of a lifetime.',\n",
      "       'Hatched: Chicks Gone Wild!', '9272.00 ', ''], dtype=object), array([12491, '', '', '', '1782.00 ', 371740, 'Wrestling', 'English',\n",
      "       '13 Feb, 2023', 'Feb 10 2023', '', '', 'WWE Smackdown 2023-02-10',\n",
      "       '4825.00 ', ''], dtype=object), array([12516, '', '', '', '8698.00 ', 152019, 'Punjabi', 'Punjabi',\n",
      "       '19 Nov, 2015', 'Jan 01 1970', '', '', 'Jugaadi Dot Com',\n",
      "       '52793.00 ', ''], dtype=object), array([12535, '', '', '', '1782.00 ', 371740, 'Wrestling', 'English',\n",
      "       '13 Feb, 2023', 'Feb 10 2023', '', '', 'WWE Smackdown 2023-02-10',\n",
      "       '4826.00 ', ''], dtype=object), array([12579, '', '', '', '1782.00 ', 371740, 'Wrestling', 'English',\n",
      "       '13 Feb, 2023', 'Feb 10 2023', '', '', 'WWE Smackdown 2023-02-10',\n",
      "       '4827.00 ', ''], dtype=object), array([12623, '', '', '', '1782.00 ', 371740, 'Wrestling', 'English',\n",
      "       '13 Feb, 2023', 'Feb 10 2023', '', '', 'WWE Smackdown 2023-02-10',\n",
      "       '4828.00 ', ''], dtype=object), array([12667, '', '', '', '1782.00 ', 371740, 'Wrestling', 'English',\n",
      "       '13 Feb, 2023', 'Feb 10 2023', '', '', 'WWE Smackdown 2023-02-10',\n",
      "       '4829.00 ', ''], dtype=object), array([12711, '', '', '', '1782.00 ', 371740, 'Wrestling', 'English',\n",
      "       '13 Feb, 2023', 'Feb 10 2023', '', '', 'WWE Smackdown 2023-02-10',\n",
      "       '4830.00 ', ''], dtype=object), array([12755, '', '', '', '1782.00 ', 371740, 'Wrestling', 'English',\n",
      "       '13 Feb, 2023', 'Feb 10 2023', '', '', 'WWE Smackdown 2023-02-10',\n",
      "       '4831.00 ', ''], dtype=object), array([12778, '', '', '', '2837.00 ', 144734, 'Anime / Kids', '',\n",
      "       '18 Sep, 2015', 'Jan 01 1970', '', '',\n",
      "       'Care Bears Mystery In Care-A-Lot', '9677.00 ', ''], dtype=object), array([12785, '', '', '', '7561.00 ', 144563, 'Punjabi', 'Punjabi',\n",
      "       '17 Sep, 2015', 'Sep 16 2015', '', '', 'Family 430', '43396.00 ',\n",
      "       ''], dtype=object), array([12799, '', '', '', '1782.00 ', 371740, 'Wrestling', 'English',\n",
      "       '13 Feb, 2023', 'Feb 10 2023', '', '', 'WWE Smackdown 2023-02-10',\n",
      "       '4832.00 ', ''], dtype=object), array([12829, '', '', '', '4908.00 ', 143277, 'Anime / Kids', '',\n",
      "       '07 Sep, 2015', 'Jan 01 1970', '', '', 'Paw Patrol Meet Everest',\n",
      "       '15233.00 ', ''], dtype=object), array([12843, '', '', '', '1782.00 ', 371740, 'Wrestling', 'English',\n",
      "       '13 Feb, 2023', 'Feb 10 2023', '', '', 'WWE Smackdown 2023-02-10',\n",
      "       '4833.00 ', ''], dtype=object), array([12848, '', '', 'Caitlin Utting', '5085.00 ', 142961,\n",
      "       'Hollywood / English', 'English', '03 Sep, 2015', 'Dec 31 2015',\n",
      "       '', '', 'Bait', '26767.00 ', 'Charlene Brandt, Chris Cienfuegos'],\n",
      "      dtype=object), array([12887, '', '', '', '1782.00 ', 371740, 'Wrestling', 'English',\n",
      "       '13 Feb, 2023', 'Feb 10 2023', '', '', 'WWE Smackdown 2023-02-10',\n",
      "       '4834.00 ', ''], dtype=object), array([12931, '', '', '', '1782.00 ', 371740, 'Wrestling', 'English',\n",
      "       '13 Feb, 2023', 'Feb 10 2023', '', '', 'WWE Smackdown 2023-02-10',\n",
      "       '4835.00 ', ''], dtype=object), array([12941, '', '', '', '5166.00 ', 141237, 'Anime / Kids', 'English',\n",
      "       '10 Aug, 2015', 'Jan 01 1970', '', '',\n",
      "       'Lego DC Comics Super Heroes: Justice League Attack Of The Legion Of Doom',\n",
      "       '23247.00 ', ''], dtype=object), array([12975, '', '', '', '1782.00 ', 371740, 'Wrestling', 'English',\n",
      "       '13 Feb, 2023', 'Feb 10 2023', '', '', 'WWE Smackdown 2023-02-10',\n",
      "       '4836.00 ', ''], dtype=object), array([13019, '', '', '', '1782.00 ', 371740, 'Wrestling', 'English',\n",
      "       '13 Feb, 2023', 'Feb 10 2023', '', '', 'WWE Smackdown 2023-02-10',\n",
      "       '4837.00 ', ''], dtype=object), array([13063, '', '', '', '1782.00 ', 371740, 'Wrestling', 'English',\n",
      "       '13 Feb, 2023', 'Feb 10 2023', '', '', 'WWE Smackdown 2023-02-10',\n",
      "       '4838.00 ', ''], dtype=object), array([13107, '', '', '', '1782.00 ', 371740, 'Wrestling', 'English',\n",
      "       '13 Feb, 2023', 'Feb 10 2023', '', '', 'WWE Smackdown 2023-02-10',\n",
      "       '4839.00 ', ''], dtype=object), array([13119, '', '', '', '10706.00 ', 137685, 'Bollywood / Indian',\n",
      "       'Hindi', '26 Jun, 2015', 'Feb 06 2015', '', '',\n",
      "       'Hum Tum Dushman Dushman', '42110.00 ', ''], dtype=object), array([13151, '', '', '', '1782.00 ', 371740, 'Wrestling', 'English',\n",
      "       '13 Feb, 2023', 'Feb 10 2023', '', '', 'WWE Smackdown 2023-02-10',\n",
      "       '4840.00 ', ''], dtype=object), array([13195, '', '', '', '1782.00 ', 371740, 'Wrestling', 'English',\n",
      "       '13 Feb, 2023', 'Feb 10 2023', '', '', 'WWE Smackdown 2023-02-10',\n",
      "       '4841.00 ', ''], dtype=object), array([13201, '', '', '', '6823.00 ', 135328, 'Bollywood / Indian',\n",
      "       'Hindi', '04 Jun, 2015', 'Jan 01 1970', '', '', 'Kaash Tum Hote',\n",
      "       '31466.00 ', ''], dtype=object), array([13239, '', '', '', '1782.00 ', 371740, 'Wrestling', 'English',\n",
      "       '13 Feb, 2023', 'Feb 10 2023', '', '', 'WWE Smackdown 2023-02-10',\n",
      "       '4842.00 ', ''], dtype=object), array([13283, '', '', '', '1782.00 ', 371740, 'Wrestling', 'English',\n",
      "       '13 Feb, 2023', 'Feb 10 2023', '', '', 'WWE Smackdown 2023-02-10',\n",
      "       '4843.00 ', ''], dtype=object), array([13327, '', '', '', '1782.00 ', 371740, 'Wrestling', 'English',\n",
      "       '13 Feb, 2023', 'Feb 10 2023', '', '', 'WWE Smackdown 2023-02-10',\n",
      "       '4844.00 ', ''], dtype=object), array([13353, '', '', 'Amit Kasaria', '37674.00 ', 74881,\n",
      "       'Bollywood / Indian', 'Hindi', '16 Aug, 2013', 'May 17 2013', '',\n",
      "       'Yuvaan and a non-resident Indian girl are two average teenagers who want to experience a loving relationship. Without realizing it, they end up in a devastating situation which shatters their lives.',\n",
      "       \"I Don't Luv U\", '108627.00 ', 'Amit Kasaria'], dtype=object), array([13371, '', '', '', '1782.00 ', 371740, 'Wrestling', 'English',\n",
      "       '13 Feb, 2023', 'Feb 10 2023', '', '', 'WWE Smackdown 2023-02-10',\n",
      "       '4845.00 ', ''], dtype=object), array([13415, '', '', '', '1782.00 ', 371740, 'Wrestling', 'English',\n",
      "       '13 Feb, 2023', 'Feb 10 2023', '', '', 'WWE Smackdown 2023-02-10',\n",
      "       '4846.00 ', ''], dtype=object), array([13422, '', '', '', '6387.00 ', 130237, 'Anime / Kids', 'English',\n",
      "       '21 Apr, 2015', 'Jan 01 1970', '', '',\n",
      "       'The Jungle Book Waterfall Rescue', '24248.00 ', ''], dtype=object), array([13428, '', '', '', '14922.00 ', 130133, 'Bollywood / Indian',\n",
      "       'Hindi', '20 Apr, 2015', 'Jan 01 1970', '', '',\n",
      "       'LUV.....Phir Kabhie', '66852.00 ', ''], dtype=object), array([13459, '', '', '', '1782.00 ', 371740, 'Wrestling', 'English',\n",
      "       '13 Feb, 2023', 'Feb 10 2023', '', '', 'WWE Smackdown 2023-02-10',\n",
      "       '4847.00 ', ''], dtype=object), array([13503, '', '', '', '1782.00 ', 371740, 'Wrestling', 'English',\n",
      "       '13 Feb, 2023', 'Feb 10 2023', '', '', 'WWE Smackdown 2023-02-10',\n",
      "       '4848.00 ', ''], dtype=object), array([13547, '', '', '', '1782.00 ', 371740, 'Wrestling', 'English',\n",
      "       '13 Feb, 2023', 'Feb 10 2023', '', '', 'WWE Smackdown 2023-02-10',\n",
      "       '4849.00 ', ''], dtype=object), array([13591, '', '', '', '1782.00 ', 371740, 'Wrestling', 'English',\n",
      "       '13 Feb, 2023', 'Feb 10 2023', '', '', 'WWE Smackdown 2023-02-10',\n",
      "       '4850.00 ', ''], dtype=object), array([13635, '', '', '', '1782.00 ', 371740, 'Wrestling', 'English',\n",
      "       '13 Feb, 2023', 'Feb 10 2023', '', '', 'WWE Smackdown 2023-02-10',\n",
      "       '4851.00 ', ''], dtype=object), array([13679, '', '', '', '1782.00 ', 371740, 'Wrestling', 'English',\n",
      "       '13 Feb, 2023', 'Feb 10 2023', '', '', 'WWE Smackdown 2023-02-10',\n",
      "       '4852.00 ', ''], dtype=object), array([13713, '', '', '', '9463.00 ', 111867, 'Punjabi', 'Punjabi',\n",
      "       '17 Nov, 2014', 'Nov 07 2014', '', '', 'Baaz', '44382.00 ', ''],\n",
      "      dtype=object), array([13723, '', '', '', '1782.00 ', 371740, 'Wrestling', 'English',\n",
      "       '13 Feb, 2023', 'Feb 10 2023', '', '', 'WWE Smackdown 2023-02-10',\n",
      "       '4853.00 ', ''], dtype=object), array([13767, '', '', '', '1782.00 ', 371740, 'Wrestling', 'English',\n",
      "       '13 Feb, 2023', 'Feb 10 2023', '', '', 'WWE Smackdown 2023-02-10',\n",
      "       '4854.00 ', ''], dtype=object), array([13802, '', '', 'Aziz Naser', '8081.00 ', 120070,\n",
      "       'Bollywood / Indian', 'Hindi', '09 Feb, 2015', 'Feb 07 2015', '',\n",
      "       '', 'Stepney', '33464.00 ', ''], dtype=object), array([13811, '', '', '', '1782.00 ', 371740, 'Wrestling', 'English',\n",
      "       '13 Feb, 2023', 'Feb 10 2023', '', '', 'WWE Smackdown 2023-02-10',\n",
      "       '4855.00 ', ''], dtype=object), array([13855, '', '', '', '1782.00 ', 371740, 'Wrestling', 'English',\n",
      "       '13 Feb, 2023', 'Feb 10 2023', '', '', 'WWE Smackdown 2023-02-10',\n",
      "       '4856.00 ', ''], dtype=object), array([13899, '', '', '', '1782.00 ', 371740, 'Wrestling', 'English',\n",
      "       '13 Feb, 2023', 'Feb 10 2023', '', '', 'WWE Smackdown 2023-02-10',\n",
      "       '4857.00 ', ''], dtype=object), array([13943, '', '', '', '1782.00 ', 371740, 'Wrestling', 'English',\n",
      "       '13 Feb, 2023', 'Feb 10 2023', '', '', 'WWE Smackdown 2023-02-10',\n",
      "       '4858.00 ', ''], dtype=object), array([13987, '', '', '', '1782.00 ', 371740, 'Wrestling', 'English',\n",
      "       '13 Feb, 2023', 'Feb 10 2023', '', '', 'WWE Smackdown 2023-02-10',\n",
      "       '4859.00 ', ''], dtype=object), array([14002, '', '', '', '14090.00 ', 115863, 'Punjabi', 'Punjabi',\n",
      "       '29 Dec, 2014', 'Dec 27 2014', '', '', 'Idiot Boys', '80223.00 ',\n",
      "       ''], dtype=object), array([14031, '', '', '', '1782.00 ', 371740, 'Wrestling', 'English',\n",
      "       '13 Feb, 2023', 'Feb 10 2023', '', '', 'WWE Smackdown 2023-02-10',\n",
      "       '4860.00 ', ''], dtype=object), array([14075, '', '', '', '1782.00 ', 371740, 'Wrestling', 'English',\n",
      "       '13 Feb, 2023', 'Feb 10 2023', '', '', 'WWE Smackdown 2023-02-10',\n",
      "       '4861.00 ', ''], dtype=object), array([14119, '', '', '', '1782.00 ', 371740, 'Wrestling', 'English',\n",
      "       '13 Feb, 2023', 'Feb 10 2023', '', '', 'WWE Smackdown 2023-02-10',\n",
      "       '4862.00 ', ''], dtype=object), array([14163, '', '', '', '1782.00 ', 371740, 'Wrestling', 'English',\n",
      "       '13 Feb, 2023', 'Feb 10 2023', '', '', 'WWE Smackdown 2023-02-10',\n",
      "       '4863.00 ', ''], dtype=object), array([14207, '', '', '', '1782.00 ', 371740, 'Wrestling', 'English',\n",
      "       '13 Feb, 2023', 'Feb 10 2023', '', '', 'WWE Smackdown 2023-02-10',\n",
      "       '4864.00 ', ''], dtype=object), array([14251, '', '', '', '1782.00 ', 371740, 'Wrestling', 'English',\n",
      "       '13 Feb, 2023', 'Feb 10 2023', '', '', 'WWE Smackdown 2023-02-10',\n",
      "       '4865.00 ', ''], dtype=object), array([14295, '', '', '', '1782.00 ', 371740, 'Wrestling', 'English',\n",
      "       '13 Feb, 2023', 'Feb 10 2023', '', '', 'WWE Smackdown 2023-02-10',\n",
      "       '4866.00 ', ''], dtype=object), array([14306, '', '', '', '11575.00 ', 110680, 'Punjabi', 'Punjabi',\n",
      "       '05 Nov, 2014', 'Nov 04 2014', '', '', 'Control Bhaji Control',\n",
      "       '31253.00 ', ''], dtype=object), array([14339, '', '', '', '1782.00 ', 371740, 'Wrestling', 'English',\n",
      "       '13 Feb, 2023', 'Feb 10 2023', '', '', 'WWE Smackdown 2023-02-10',\n",
      "       '4867.00 ', ''], dtype=object), array([14383, '', '', '', '1782.00 ', 371740, 'Wrestling', 'English',\n",
      "       '13 Feb, 2023', 'Feb 10 2023', '', '', 'WWE Smackdown 2023-02-10',\n",
      "       '4868.00 ', ''], dtype=object), array([14427, '', '', '', '1782.00 ', 371740, 'Wrestling', 'English',\n",
      "       '13 Feb, 2023', 'Feb 10 2023', '', '', 'WWE Smackdown 2023-02-10',\n",
      "       '4869.00 ', ''], dtype=object), array([14471, '', '', '', '1782.00 ', 371740, 'Wrestling', 'English',\n",
      "       '13 Feb, 2023', 'Feb 10 2023', '', '', 'WWE Smackdown 2023-02-10',\n",
      "       '4870.00 ', ''], dtype=object), array([14497, '', '', '', '5572.00 ', 107387, 'Bollywood / Indian',\n",
      "       'Hindi', '29 Sep, 2014', 'Sep 27 2014', '',\n",
      "       'Jeet Lengey Jahaan is story of such three youngesters who meet at a \\r\\npoint of time when all three are frustrated with their career and life',\n",
      "       'Jeet Lengey Jahaan', '14323.00 ', ''], dtype=object), array([14515, '', '', '', '1782.00 ', 371740, 'Wrestling', 'English',\n",
      "       '13 Feb, 2023', 'Feb 10 2023', '', '', 'WWE Smackdown 2023-02-10',\n",
      "       '4871.00 ', ''], dtype=object), array([14559, '', '', '', '1782.00 ', 371740, 'Wrestling', 'English',\n",
      "       '13 Feb, 2023', 'Feb 10 2023', '', '', 'WWE Smackdown 2023-02-10',\n",
      "       '4872.00 ', ''], dtype=object), array([14603, '', '', '', '1782.00 ', 371740, 'Wrestling', 'English',\n",
      "       '13 Feb, 2023', 'Feb 10 2023', '', '', 'WWE Smackdown 2023-02-10',\n",
      "       '4873.00 ', ''], dtype=object), array([14647, '', '', '', '1782.00 ', 371740, 'Wrestling', 'English',\n",
      "       '13 Feb, 2023', 'Feb 10 2023', '', '', 'WWE Smackdown 2023-02-10',\n",
      "       '4874.00 ', ''], dtype=object), array([14691, '', '', '', '1782.00 ', 371740, 'Wrestling', 'English',\n",
      "       '13 Feb, 2023', 'Feb 10 2023', '', '', 'WWE Smackdown 2023-02-10',\n",
      "       '4875.00 ', ''], dtype=object), array([14735, '', '', '', '1782.00 ', 371740, 'Wrestling', 'English',\n",
      "       '13 Feb, 2023', 'Feb 10 2023', '', '', 'WWE Smackdown 2023-02-10',\n",
      "       '4876.00 ', ''], dtype=object), array([14779, '', '', '', '1782.00 ', 371740, 'Wrestling', 'English',\n",
      "       '13 Feb, 2023', 'Feb 10 2023', '', '', 'WWE Smackdown 2023-02-10',\n",
      "       '4877.00 ', ''], dtype=object), array([14812, '', '', '', '12455.00 ', 100866, 'Anime / Kids', 'Hindi',\n",
      "       '18 Jul, 2014', 'Jul 17 2014', '', '',\n",
      "       'Mighty Raju In Great Pirate', '39447.00 ', ''], dtype=object), array([14823, '', '', '', '1782.00 ', 371740, 'Wrestling', 'English',\n",
      "       '13 Feb, 2023', 'Feb 10 2023', '', '', 'WWE Smackdown 2023-02-10',\n",
      "       '4878.00 ', ''], dtype=object), array([14832, '', '', '', '10143.00 ', 100249, 'Anime / Kids', '',\n",
      "       '12 Jul, 2014', 'Jul 11 2014', '', '',\n",
      "       'The Jungle Book Jungle Party', '36313.00 ', ''], dtype=object), array([14867, '', '', '', '1782.00 ', 371740, 'Wrestling', 'English',\n",
      "       '13 Feb, 2023', 'Feb 10 2023', '', '', 'WWE Smackdown 2023-02-10',\n",
      "       '4879.00 ', ''], dtype=object), array([14880, '', '', '', '6322.00 ', 99005, 'Punjabi', 'Punjabi',\n",
      "       '01 Jul, 2014', 'Jan 01 1970', '', '', 'Dil Pardesi Ho Gaya',\n",
      "       '38161.00 ', ''], dtype=object), array([14911, '', '', '', '1782.00 ', 371740, 'Wrestling', 'English',\n",
      "       '13 Feb, 2023', 'Feb 10 2023', '', '', 'WWE Smackdown 2023-02-10',\n",
      "       '4880.00 ', ''], dtype=object), array([14955, '', '', '', '1782.00 ', 371740, 'Wrestling', 'English',\n",
      "       '13 Feb, 2023', 'Feb 10 2023', '', '', 'WWE Smackdown 2023-02-10',\n",
      "       '4881.00 ', ''], dtype=object), array([14999, '', '', '', '1782.00 ', 371740, 'Wrestling', 'English',\n",
      "       '13 Feb, 2023', 'Feb 10 2023', '', '', 'WWE Smackdown 2023-02-10',\n",
      "       '4882.00 ', ''], dtype=object), array([15043, '', '', '', '1782.00 ', 371740, 'Wrestling', 'English',\n",
      "       '13 Feb, 2023', 'Feb 10 2023', '', '', 'WWE Smackdown 2023-02-10',\n",
      "       '4883.00 ', ''], dtype=object), array([15087, '', '', '', '1782.00 ', 371740, 'Wrestling', 'English',\n",
      "       '13 Feb, 2023', 'Feb 10 2023', '', '', 'WWE Smackdown 2023-02-10',\n",
      "       '4884.00 ', ''], dtype=object), array([15131, '', '', '', '1782.00 ', 371740, 'Wrestling', 'English',\n",
      "       '13 Feb, 2023', 'Feb 10 2023', '', '', 'WWE Smackdown 2023-02-10',\n",
      "       '4885.00 ', ''], dtype=object), array([15175, '', '', '', '1782.00 ', 371740, 'Wrestling', 'English',\n",
      "       '13 Feb, 2023', 'Feb 10 2023', '', '', 'WWE Smackdown 2023-02-10',\n",
      "       '4886.00 ', ''], dtype=object), array([15219, '', '', '', '1782.00 ', 371740, 'Wrestling', 'English',\n",
      "       '13 Feb, 2023', 'Feb 10 2023', '', '', 'WWE Smackdown 2023-02-10',\n",
      "       '4887.00 ', ''], dtype=object), array([15263, '', '', '', '1782.00 ', 371740, 'Wrestling', 'English',\n",
      "       '13 Feb, 2023', 'Feb 10 2023', '', '', 'WWE Smackdown 2023-02-10',\n",
      "       '4888.00 ', ''], dtype=object), array([15295, '', '', '', '7547.00 ', 90126, 'Anime / Kids', 'Hindi',\n",
      "       '26 Mar, 2014', 'Mar 25 2014', '', '', 'Chooran Goli', '35431.00 ',\n",
      "       ''], dtype=object), array([15307, '', '', '', '1782.00 ', 371740, 'Wrestling', 'English',\n",
      "       '13 Feb, 2023', 'Feb 10 2023', '', '', 'WWE Smackdown 2023-02-10',\n",
      "       '4889.00 ', ''], dtype=object), array([15332, '', '', '', '8046.00 ', 89243, 'Bollywood / Indian',\n",
      "       'Hindi', '17 Mar, 2014', 'Mar 15 2014', '', '', 'Gullu Dada 4',\n",
      "       '28360.00 ', ''], dtype=object), array([15333, '', '', '', '8813.00 ', 89242, 'Bollywood / Indian',\n",
      "       'Hindi', '17 Mar, 2014', 'Mar 15 2014', '',\n",
      "       'Gullu\\r\\n Dada 3 is the sequel of gullu dada returns hyderabadi comey movie. The \\r\\nmovie casting is same as the previous gullu dada returns had but with \\r\\nlittle amendmend. Some new faces are seen in the movie.',\n",
      "       'Gullu Dada Thiree', '32424.00 ', ''], dtype=object), array([15351, '', '', '', '1782.00 ', 371740, 'Wrestling', 'English',\n",
      "       '13 Feb, 2023', 'Feb 10 2023', '', '', 'WWE Smackdown 2023-02-10',\n",
      "       '4890.00 ', ''], dtype=object), array([15395, '', '', '', '1782.00 ', 371740, 'Wrestling', 'English',\n",
      "       '13 Feb, 2023', 'Feb 10 2023', '', '', 'WWE Smackdown 2023-02-10',\n",
      "       '4891.00 ', ''], dtype=object), array([15439, '', '', '', '1782.00 ', 371740, 'Wrestling', 'English',\n",
      "       '13 Feb, 2023', 'Feb 10 2023', '', '', 'WWE Smackdown 2023-02-10',\n",
      "       '4892.00 ', ''], dtype=object), array([15483, '', '', '', '1782.00 ', 371740, 'Wrestling', 'English',\n",
      "       '13 Feb, 2023', 'Feb 10 2023', '', '', 'WWE Smackdown 2023-02-10',\n",
      "       '4893.00 ', ''], dtype=object), array([15527, '', '', '', '1782.00 ', 371740, 'Wrestling', 'English',\n",
      "       '13 Feb, 2023', 'Feb 10 2023', '', '', 'WWE Smackdown 2023-02-10',\n",
      "       '4894.00 ', ''], dtype=object), array([15553, '', '', '', '56124.00 ', 86498, 'Anime / Kids', 'Hindi',\n",
      "       '28 Jan, 2014', 'Jan 25 2014', '', '',\n",
      "       'Chota Bheem In Jungli Kabeela', '115006.00 ', ''], dtype=object), array([15571, '', '', '', '1782.00 ', 371740, 'Wrestling', 'English',\n",
      "       '13 Feb, 2023', 'Feb 10 2023', '', '', 'WWE Smackdown 2023-02-10',\n",
      "       '4895.00 ', ''], dtype=object), array([15615, '', '', '', '1782.00 ', 371740, 'Wrestling', 'English',\n",
      "       '13 Feb, 2023', 'Feb 10 2023', '', '', 'WWE Smackdown 2023-02-10',\n",
      "       '4896.00 ', ''], dtype=object), array([15659, '', '', '', '1782.00 ', 371740, 'Wrestling', 'English',\n",
      "       '13 Feb, 2023', 'Feb 10 2023', '', '', 'WWE Smackdown 2023-02-10',\n",
      "       '4897.00 ', ''], dtype=object), array([15703, '', '', '', '1782.00 ', 371740, 'Wrestling', 'English',\n",
      "       '13 Feb, 2023', 'Feb 10 2023', '', '', 'WWE Smackdown 2023-02-10',\n",
      "       '4898.00 ', ''], dtype=object), array([15747, '', '', '', '1782.00 ', 371740, 'Wrestling', 'English',\n",
      "       '13 Feb, 2023', 'Feb 10 2023', '', '', 'WWE Smackdown 2023-02-10',\n",
      "       '4899.00 ', ''], dtype=object), array([15791, '', '', '', '1782.00 ', 371740, 'Wrestling', 'English',\n",
      "       '13 Feb, 2023', 'Feb 10 2023', '', '', 'WWE Smackdown 2023-02-10',\n",
      "       '4900.00 ', ''], dtype=object), array([15835, '', '', '', '1782.00 ', 371740, 'Wrestling', 'English',\n",
      "       '13 Feb, 2023', 'Feb 10 2023', '', '', 'WWE Smackdown 2023-02-10',\n",
      "       '4901.00 ', ''], dtype=object), array([15879, '', '', '', '1782.00 ', 371740, 'Wrestling', 'English',\n",
      "       '13 Feb, 2023', 'Feb 10 2023', '', '', 'WWE Smackdown 2023-02-10',\n",
      "       '4902.00 ', ''], dtype=object), array([15923, '', '', '', '1782.00 ', 371740, 'Wrestling', 'English',\n",
      "       '13 Feb, 2023', 'Feb 10 2023', '', '', 'WWE Smackdown 2023-02-10',\n",
      "       '4903.00 ', ''], dtype=object), array([15967, '', '', '', '1782.00 ', 371740, 'Wrestling', 'English',\n",
      "       '13 Feb, 2023', 'Feb 10 2023', '', '', 'WWE Smackdown 2023-02-10',\n",
      "       '4904.00 ', ''], dtype=object), array([16011, '', '', '', '1782.00 ', 371740, 'Wrestling', 'English',\n",
      "       '13 Feb, 2023', 'Feb 10 2023', '', '', 'WWE Smackdown 2023-02-10',\n",
      "       '4905.00 ', ''], dtype=object), array([16055, '', '', '', '1782.00 ', 371740, 'Wrestling', 'English',\n",
      "       '13 Feb, 2023', 'Feb 10 2023', '', '', 'WWE Smackdown 2023-02-10',\n",
      "       '4906.00 ', ''], dtype=object), array([16099, '', '', '', '1782.00 ', 371740, 'Wrestling', 'English',\n",
      "       '13 Feb, 2023', 'Feb 10 2023', '', '', 'WWE Smackdown 2023-02-10',\n",
      "       '4907.00 ', ''], dtype=object), array([16114, '', '', '', '19747.00 ', 80181, 'Stage shows', 'Hindi',\n",
      "       '19 Sep, 2013', 'Sep 18 2013', '', '', 'HalfPlate', '45309.00 ',\n",
      "       ''], dtype=object), array([16115, '', '', '', '14585.00 ', 80180, 'Stage shows', 'Hindi',\n",
      "       '19 Sep, 2013', 'Sep 18 2013', '', '', 'Aao Sach Bolein',\n",
      "       '34213.00 ', ''], dtype=object), array([16143, '', '', '', '1782.00 ', 371740, 'Wrestling', 'English',\n",
      "       '13 Feb, 2023', 'Feb 10 2023', '', '', 'WWE Smackdown 2023-02-10',\n",
      "       '4908.00 ', ''], dtype=object), array([16187, '', '', '', '1782.00 ', 371740, 'Wrestling', 'English',\n",
      "       '13 Feb, 2023', 'Feb 10 2023', '', '', 'WWE Smackdown 2023-02-10',\n",
      "       '4909.00 ', ''], dtype=object), array([16231, '', '', '', '1782.00 ', 371740, 'Wrestling', 'English',\n",
      "       '13 Feb, 2023', 'Feb 10 2023', '', '', 'WWE Smackdown 2023-02-10',\n",
      "       '4910.00 ', ''], dtype=object), array([16275, '', '', '', '1782.00 ', 371740, 'Wrestling', 'English',\n",
      "       '13 Feb, 2023', 'Feb 10 2023', '', '', 'WWE Smackdown 2023-02-10',\n",
      "       '4911.00 ', ''], dtype=object), array([16311, '', '', '', '14063.00 ', 71434, 'Stage shows', 'Hindi',\n",
      "       '30 Jul, 2013', 'Jul 29 2013', '', '', 'Yeh Hai Naya Zamana',\n",
      "       '29657.00 ', ''], dtype=object), array([16312, '', '', '', '30721.00 ', 71435, 'Stage shows', 'Hindi',\n",
      "       '30 Jul, 2013', 'Jul 29 2013', '', '',\n",
      "       'Yeh Tou House Full Hoagaya', '62985.00 ', ''], dtype=object), array([16319, '', '', '', '1782.00 ', 371740, 'Wrestling', 'English',\n",
      "       '13 Feb, 2023', 'Feb 10 2023', '', '', 'WWE Smackdown 2023-02-10',\n",
      "       '4912.00 ', ''], dtype=object), array([16329, '', '', '', '17795.00 ', 69506, 'Stage shows', 'Hindi',\n",
      "       '24 Jul, 2013', 'Jul 23 2013', '', '', 'One Day Eid Match',\n",
      "       '37495.00 ', ''], dtype=object), array([16330, '', '', '', '19589.00 ', 69507, 'Stage shows', 'Hindi',\n",
      "       '24 Jul, 2013', 'Jul 23 2013', '', '', 'Yeh Hai Naya Tamasha',\n",
      "       '42297.00 ', ''], dtype=object), array([16333, '', '', '', '13507.00 ', 69160, 'Stage shows', 'Hindi',\n",
      "       '23 Jul, 2013', 'Jul 22 2013', '', '', 'Eid Tere Naam',\n",
      "       '28272.00 ', ''], dtype=object), array([16334, '', '', '', '32619.00 ', 69162, 'Stage shows', 'Hindi',\n",
      "       '23 Jul, 2013', 'Jul 22 2013', '', '',\n",
      "       'Laal Qiley Ki Rani Lalukhet Ka Raja', '59218.00 ', ''],\n",
      "      dtype=object), array([16341, '', '', '', '10168.00 ', 68705, 'Stage shows', 'Hindi',\n",
      "       '22 Jul, 2013', 'Jul 20 2013', '', '', 'Behrupiya', '20236.00 ',\n",
      "       ''], dtype=object), array([16342, '', '', '', '15693.00 ', 68706, 'Stage shows', 'Hindi',\n",
      "       '22 Jul, 2013', 'Jul 20 2013', '', '', 'Chaudry Plaza',\n",
      "       '28299.00 ', ''], dtype=object), array([16353, '', '', '', '14848.00 ', 31345, 'Stage shows', 'Hindi',\n",
      "       '16 Jul, 2013', 'Jul 15 2013', '', '', 'Chakkar Pe Chakkar',\n",
      "       '27121.00 ', ''], dtype=object), array([16354, '', '', '', '14380.00 ', 31346, 'Stage shows', 'Hindi',\n",
      "       '16 Jul, 2013', 'Jul 15 2013', '', '', 'Coolie 420', '27112.00 ',\n",
      "       ''], dtype=object), array([16363, '', '', '', '1782.00 ', 371740, 'Wrestling', 'English',\n",
      "       '13 Feb, 2023', 'Feb 10 2023', '', '', 'WWE Smackdown 2023-02-10',\n",
      "       '4913.00 ', ''], dtype=object), array([16368, '', '', '', '20902.00 ', 31313, 'Stage shows', 'Hindi',\n",
      "       '15 Jul, 2013', 'Jul 13 2013', '', '', 'Bakra Munna Bhai MBBS',\n",
      "       '49831.00 ', ''], dtype=object), array([16373, '', '', '', '20460.00 ', 31242, 'Stage shows', 'Hindi',\n",
      "       '13 Jul, 2013', 'Jul 12 2013', '', '', 'Bakra Qistoan Pe Part 3',\n",
      "       '37200.00 ', ''], dtype=object), array([16374, '', '', '', '17173.00 ', 31243, 'Stage shows', 'Hindi',\n",
      "       '13 Jul, 2013', 'Jul 12 2013', '', '', 'Bakra Qistoan Pe Part 4',\n",
      "       '32174.00 ', ''], dtype=object), array([16381, '', '', '', '24722.00 ', 31223, 'Stage shows', 'Hindi',\n",
      "       '10 Jul, 2013', 'Jul 09 2013', '', '', 'Bakra Qistoan Pe Part 1',\n",
      "       '44544.00 ', ''], dtype=object), array([16382, '', '', '', '27607.00 ', 31225, 'Stage shows', 'Hindi',\n",
      "       '10 Jul, 2013', 'Jul 09 2013', '', '', 'Bakra Qistoan Pe Part 2',\n",
      "       '50443.00 ', ''], dtype=object), array([16383, '', '', 'Anita Doron', '1104.00 ', 31051,\n",
      "       'Hollywood / English', 'English', '09 Jul, 2013', 'Jul 08 2013',\n",
      "       '86 min',\n",
      "       'A drama centered on a First Nations teenager trying to find his place in the modern world.',\n",
      "       'The Lesser Blessed', '4680.00 ', 'Anita Doron, Richard Van Camp'],\n",
      "      dtype=object), array([16403, '', '', '', '6977.00 ', 30425, 'Anime / Kids', '',\n",
      "       '01 Jul, 2013', 'Jun 29 2013', '', '', 'Scooby Doo Stage Fright',\n",
      "       '18653.00 ', ''], dtype=object), array([16407, '', '', '', '1782.00 ', 371740, 'Wrestling', 'English',\n",
      "       '13 Feb, 2023', 'Feb 10 2023', '', '', 'WWE Smackdown 2023-02-10',\n",
      "       '4914.00 ', ''], dtype=object), array([16413, '', '', '', '6977.00 ', 30425, 'Anime / Kids', '',\n",
      "       '01 Jul, 2013', 'Jun 29 2013', '', '', 'Scooby Doo Stage Fright',\n",
      "       '18654.00 ', ''], dtype=object), array([16451, '', '', '', '1782.00 ', 371740, 'Wrestling', 'English',\n",
      "       '13 Feb, 2023', 'Feb 10 2023', '', '', 'WWE Smackdown 2023-02-10',\n",
      "       '4915.00 ', ''], dtype=object), array([16495, '', '', '', '1782.00 ', 371740, 'Wrestling', 'English',\n",
      "       '13 Feb, 2023', 'Feb 10 2023', '', '', 'WWE Smackdown 2023-02-10',\n",
      "       '4916.00 ', ''], dtype=object), array([16517, '', '', '', '7145.00 ', 25969, 'Bollywood / Indian', '',\n",
      "       '28 May, 2013', 'May 27 2013', '', '', 'Burrraahh', '21041.00 ',\n",
      "       ''], dtype=object), array([16539, '', '', '', '1782.00 ', 371740, 'Wrestling', 'English',\n",
      "       '13 Feb, 2023', 'Feb 10 2023', '', '', 'WWE Smackdown 2023-02-10',\n",
      "       '4917.00 ', ''], dtype=object), array([16583, '', '', '', '1782.00 ', 371740, 'Wrestling', 'English',\n",
      "       '13 Feb, 2023', 'Feb 10 2023', '', '', 'WWE Smackdown 2023-02-10',\n",
      "       '4918.00 ', ''], dtype=object), array([16613, '', '', '', '935.00 ', 22953, 'Bollywood / Indian', '',\n",
      "       '03 May, 2013', 'Jan 01 1970', '', '', 'Ishk Ishk Ishk',\n",
      "       '2494.00 ', ''], dtype=object), array([16614, '', '', 'Jag Mohan Mattu', '1232.00 ', 22954,\n",
      "       'Bollywood / Indian', 'Hindi', '03 May, 2013', 'Jan 01 1970', '',\n",
      "       '', 'Jagir', '3251.00 ', ''], dtype=object), array([16627, '', '', '', '1782.00 ', 371740, 'Wrestling', 'English',\n",
      "       '13 Feb, 2023', 'Feb 10 2023', '', '', 'WWE Smackdown 2023-02-10',\n",
      "       '4919.00 ', ''], dtype=object), array([16671, '', '', '', '1782.00 ', 371740, 'Wrestling', 'English',\n",
      "       '13 Feb, 2023', 'Feb 10 2023', '', '', 'WWE Smackdown 2023-02-10',\n",
      "       '4920.00 ', ''], dtype=object), array([16715, '', '', '', '1782.00 ', 371740, 'Wrestling', 'English',\n",
      "       '13 Feb, 2023', 'Feb 10 2023', '', '', 'WWE Smackdown 2023-02-10',\n",
      "       '4921.00 ', ''], dtype=object), array([16759, '', '', '', '1782.00 ', 371740, 'Wrestling', 'English',\n",
      "       '13 Feb, 2023', 'Feb 10 2023', '', '', 'WWE Smackdown 2023-02-10',\n",
      "       '4922.00 ', ''], dtype=object), array([16780, '', '', '', '5804.00 ', 21369, 'Bollywood / Indian', '',\n",
      "       '05 Apr, 2013', 'Apr 04 2013', '', '', 'Meri Shaadi Karao',\n",
      "       '19355.00 ', ''], dtype=object), array([16803, '', '', '', '1782.00 ', 371740, 'Wrestling', 'English',\n",
      "       '13 Feb, 2023', 'Feb 10 2023', '', '', 'WWE Smackdown 2023-02-10',\n",
      "       '4923.00 ', ''], dtype=object), array([16847, '', '', '', '1782.00 ', 371740, 'Wrestling', 'English',\n",
      "       '13 Feb, 2023', 'Feb 10 2023', '', '', 'WWE Smackdown 2023-02-10',\n",
      "       '4924.00 ', ''], dtype=object), array([16891, '', '', '', '1782.00 ', 371740, 'Wrestling', 'English',\n",
      "       '13 Feb, 2023', 'Feb 10 2023', '', '', 'WWE Smackdown 2023-02-10',\n",
      "       '4925.00 ', ''], dtype=object), array([16935, '', '', '', '1782.00 ', 371740, 'Wrestling', 'English',\n",
      "       '13 Feb, 2023', 'Feb 10 2023', '', '', 'WWE Smackdown 2023-02-10',\n",
      "       '4926.00 ', ''], dtype=object), array([16979, '', '', '', '1782.00 ', 371740, 'Wrestling', 'English',\n",
      "       '13 Feb, 2023', 'Feb 10 2023', '', '', 'WWE Smackdown 2023-02-10',\n",
      "       '4927.00 ', ''], dtype=object), array([16996, '', '', '', '18193.00 ', 12256, 'Bollywood / Indian', '',\n",
      "       '16 Feb, 2013', 'Feb 15 2013', '', '', 'Say Yes To Love',\n",
      "       '40956.00 ', ''], dtype=object), array([17003, '', '', '', '13578.00 ', 12428, 'Bollywood / Indian', '',\n",
      "       '15 Feb, 2013', 'Feb 14 2013', '', '', 'Saadi Love Story',\n",
      "       '35243.00 ', ''], dtype=object), array([17023, '', '', '', '1782.00 ', 371740, 'Wrestling', 'English',\n",
      "       '13 Feb, 2023', 'Feb 10 2023', '', '', 'WWE Smackdown 2023-02-10',\n",
      "       '4928.00 ', ''], dtype=object), array([17029, '', '', '', '3637.00 ', 12396, 'Anime / Kids', '',\n",
      "       '13 Feb, 2013', 'Feb 12 2013', '', '',\n",
      "       'Star Wars Darth Maul Returns', '15639.00 ', ''], dtype=object), array([17034, '', '', '', '8069.00 ', 12389, 'Bollywood / Indian', '',\n",
      "       '12 Feb, 2013', 'Feb 11 2013', '', '', 'Le Gaya Saddam',\n",
      "       '25832.00 ', ''], dtype=object), array([17057, '', '', '', '26048.00 ', 12343, 'Bollywood / Indian', '',\n",
      "       '02 Feb, 2013', 'Feb 01 2013', '', '', 'Tu Mera 22 Main Tera 22',\n",
      "       '63447.00 ', ''], dtype=object), array([17067, '', '', '', '1782.00 ', 371740, 'Wrestling', 'English',\n",
      "       '13 Feb, 2023', 'Feb 10 2023', '', '', 'WWE Smackdown 2023-02-10',\n",
      "       '4929.00 ', ''], dtype=object), array([17081, '', '', '', '8112.00 ', 12285, 'Bollywood / Indian', '',\n",
      "       '21 Jan, 2013', 'Jan 19 2013', '', '', 'Power Cut', '24274.00 ',\n",
      "       ''], dtype=object), array([17084, '', '', '', '7440.00 ', 12276, 'Bollywood / Indian', '',\n",
      "       '19 Jan, 2013', 'Jan 18 2013', '', '', 'Munde Patiale De',\n",
      "       '25065.00 ', ''], dtype=object), array([17111, '', '', '', '1782.00 ', 371740, 'Wrestling', 'English',\n",
      "       '13 Feb, 2023', 'Feb 10 2023', '', '', 'WWE Smackdown 2023-02-10',\n",
      "       '4930.00 ', ''], dtype=object), array([17148, '', '', '', '60973.00 ', 12189, 'Anime / Kids', '',\n",
      "       '12 Dec, 2012', 'Dec 11 2012', '', '',\n",
      "       'Chhota Bheem And The Curse Of Damyaan', '121793.00 ', ''],\n",
      "      dtype=object), array([17155, '', '', '', '1782.00 ', 371740, 'Wrestling', 'English',\n",
      "       '13 Feb, 2023', 'Feb 10 2023', '', '', 'WWE Smackdown 2023-02-10',\n",
      "       '4931.00 ', ''], dtype=object), array([17199, '', '', '', '1782.00 ', 371740, 'Wrestling', 'English',\n",
      "       '13 Feb, 2023', 'Feb 10 2023', '', '', 'WWE Smackdown 2023-02-10',\n",
      "       '4932.00 ', ''], dtype=object), array([17243, '', '', '', '1782.00 ', 371740, 'Wrestling', 'English',\n",
      "       '13 Feb, 2023', 'Feb 10 2023', '', '', 'WWE Smackdown 2023-02-10',\n",
      "       '4933.00 ', ''], dtype=object), array([17279, '', '', '', '10624.00 ', 11957, 'Anime / Kids', '',\n",
      "       '11 Oct, 2012', 'Oct 10 2012', '', '',\n",
      "       'Alvin and the Chipmunks Halloween Collection', '26917.00 ', ''],\n",
      "      dtype=object), array([17287, '', '', '', '1782.00 ', 371740, 'Wrestling', 'English',\n",
      "       '13 Feb, 2023', 'Feb 10 2023', '', '', 'WWE Smackdown 2023-02-10',\n",
      "       '4934.00 ', ''], dtype=object), array([17331, '', '', '', '1782.00 ', 371740, 'Wrestling', 'English',\n",
      "       '13 Feb, 2023', 'Feb 10 2023', '', '', 'WWE Smackdown 2023-02-10',\n",
      "       '4935.00 ', ''], dtype=object), array([17351, '', '', '', '7027.00 ', 11747, 'Anime / Kids', '',\n",
      "       '19 Sep, 2012', 'Sep 18 2012', '', '',\n",
      "       'Scooby Doo Safari Creatures', '18734.00 ', ''], dtype=object), array([17368, '', '', '', '10897.00 ', 11666, 'Bollywood / Indian', '',\n",
      "       '12 Sep, 2012', 'Sep 11 2012', '', '', 'Rakhtbeej', '31386.00 ',\n",
      "       ''], dtype=object), array([17375, '', '', '', '1782.00 ', 371740, 'Wrestling', 'English',\n",
      "       '13 Feb, 2023', 'Feb 10 2023', '', '', 'WWE Smackdown 2023-02-10',\n",
      "       '4936.00 ', ''], dtype=object), array([17384, '', '', '', '37007.00 ', 11615, 'Anime / Kids', '',\n",
      "       '07 Sep, 2012', 'Sep 06 2012', '', '',\n",
      "       'Barbie The Princess And The Popstar', '85303.00 ', ''],\n",
      "      dtype=object), array([17397, '', '', '', '2076.00 ', 11543, 'Anime / Kids', '',\n",
      "       '31 Aug, 2012', 'Aug 30 2012', '', '',\n",
      "       'Pippis High Sea Adventures', '6447.00 ', ''], dtype=object), array([17413, '', '', '', '7183.00 ', 11470, 'Anime / Kids', '',\n",
      "       '23 Aug, 2012', 'Aug 22 2012', '', '',\n",
      "       'Transformers Prime One Shall Stand', '26261.00 ', ''],\n",
      "      dtype=object), array([17419, '', '', '', '1782.00 ', 371740, 'Wrestling', 'English',\n",
      "       '13 Feb, 2023', 'Feb 10 2023', '', '', 'WWE Smackdown 2023-02-10',\n",
      "       '4937.00 ', ''], dtype=object), array([17463, '', '', '', '1782.00 ', 371740, 'Wrestling', 'English',\n",
      "       '13 Feb, 2023', 'Feb 10 2023', '', '', 'WWE Smackdown 2023-02-10',\n",
      "       '4938.00 ', ''], dtype=object), array([17482, '', '', '', '6427.00 ', 11266, 'Anime / Kids', '',\n",
      "       '21 Jul, 2012', 'Jul 20 2012', '', '', 'Scooby Doo Spookalympics',\n",
      "       '20085.00 ', ''], dtype=object), array([17496, '', '', '', '17768.00 ', 11194, 'Stage shows', '',\n",
      "       '14 Jul, 2012', 'Jul 13 2012', '', '', 'Rent A Wife', '45046.00 ',\n",
      "       ''], dtype=object), array([17507, '', '', '', '1782.00 ', 371740, 'Wrestling', 'English',\n",
      "       '13 Feb, 2023', 'Feb 10 2023', '', '', 'WWE Smackdown 2023-02-10',\n",
      "       '4939.00 ', ''], dtype=object), array([17517, '', '', '', '10002.00 ', 11138, 'Stage shows', '',\n",
      "       '07 Jul, 2012', 'Jul 06 2012', '', '', 'Ashiqi Mein Teri',\n",
      "       '19827.00 ', ''], dtype=object), array([17525, '', '', '', '18640.00 ', 11113, 'Stage shows', '',\n",
      "       '05 Jul, 2012', 'Jul 04 2012', '', '', 'Umar Sharif in Jungle',\n",
      "       '39473.00 ', ''], dtype=object), array([17529, '', '', '', '16283.00 ', 11109, 'Stage shows', '',\n",
      "       '04 Jul, 2012', 'Jul 03 2012', '', '', 'Paying Guest', '32413.00 ',\n",
      "       ''], dtype=object), array([17532, '', '', '', '20002.00 ', 11106, 'Stage shows', '',\n",
      "       '03 Jul, 2012', 'Jul 02 2012', '', '', 'Dulha 2002', '37780.00 ',\n",
      "       ''], dtype=object), array([17535, '', '', '', '8342.00 ', 11099, 'Stage shows', '',\n",
      "       '30 Jun, 2012', 'Jun 29 2012', '', '', 'Behndi Bazar', '18715.00 ',\n",
      "       ''], dtype=object), array([17551, '', '', '', '1782.00 ', 371740, 'Wrestling', 'English',\n",
      "       '13 Feb, 2023', 'Feb 10 2023', '', '', 'WWE Smackdown 2023-02-10',\n",
      "       '4940.00 ', ''], dtype=object), array([17582, '', '', '', '13662.00 ', 10993, 'Stage shows', '',\n",
      "       '16 Jun, 2012', 'Jun 15 2012', '', '', 'Sheela Ki Jawani',\n",
      "       '33728.00 ', ''], dtype=object), array([17595, '', '', '', '1782.00 ', 371740, 'Wrestling', 'English',\n",
      "       '13 Feb, 2023', 'Feb 10 2023', '', '', 'WWE Smackdown 2023-02-10',\n",
      "       '4941.00 ', ''], dtype=object), array([17630, '', '', '', '6965.00 ', 10856, 'Anime / Kids', '',\n",
      "       '28 May, 2012', 'May 26 2012', '', '',\n",
      "       'Scooby Doo 13 Spooky Tales From Around The World', '18473.00 ',\n",
      "       ''], dtype=object), array([17639, '', '', '', '1782.00 ', 371740, 'Wrestling', 'English',\n",
      "       '13 Feb, 2023', 'Feb 10 2023', '', '', 'WWE Smackdown 2023-02-10',\n",
      "       '4942.00 ', ''], dtype=object), array([17678, '', '', '', '35271.00 ', 10700, 'Anime / Kids', 'English',\n",
      "       '08 May, 2012', 'May 01 2012', '', '',\n",
      "       'Tom and Jerry: Around the World', '63923.00 ', ''], dtype=object), array([17680, '', '', '', '309.00 ', 371669, 'Wrestling', 'English',\n",
      "       '10 Feb, 2023', 'Feb 09 2023', '', '', 'TNA.Impact 2023-02-09',\n",
      "       '1341.00 ', ''], dtype=object), array([17681, '', '', '', '2611.00 ', 371816, 'Wrestling', 'English',\n",
      "       '14 Feb, 2023', 'Feb 13 2023', '', '', 'WWE Raw 2023-02-13',\n",
      "       '6616.00 ', ''], dtype=object), array([17691, '', '', '', '4067.00 ', 10649, 'Anime / Kids', '',\n",
      "       '02 May, 2012', 'May 01 2012', '', '', 'Legend Of The Seas',\n",
      "       '16366.00 ', ''], dtype=object), array([17718, '', '', '', '309.00 ', 371669, 'Wrestling', 'English',\n",
      "       '10 Feb, 2023', 'Feb 09 2023', '', '', 'TNA.Impact 2023-02-09',\n",
      "       '1342.00 ', ''], dtype=object), array([17719, '', '', '', '2611.00 ', 371816, 'Wrestling', 'English',\n",
      "       '14 Feb, 2023', 'Feb 13 2023', '', '', 'WWE Raw 2023-02-13',\n",
      "       '6617.00 ', ''], dtype=object), array([17722, '', '', '', '26759.00 ', 10480, 'Stage shows', '',\n",
      "       '14 Apr, 2012', 'Apr 13 2012', '', '', '3 idiots Part (2)',\n",
      "       '55463.00 ', ''], dtype=object), array([17728, '', '', '', '6728.00 ', 10473, 'Anime / Kids', '',\n",
      "       '13 Apr, 2012', 'Apr 12 2012', '', '', 'The Chipette Diaries',\n",
      "       '14404.00 ', ''], dtype=object), array([17756, '', '', '', '309.00 ', 371669, 'Wrestling', 'English',\n",
      "       '10 Feb, 2023', 'Feb 09 2023', '', '', 'TNA.Impact 2023-02-09',\n",
      "       '1343.00 ', ''], dtype=object), array([17757, '', '', '', '2611.00 ', 371816, 'Wrestling', 'English',\n",
      "       '14 Feb, 2023', 'Feb 13 2023', '', '', 'WWE Raw 2023-02-13',\n",
      "       '6618.00 ', ''], dtype=object), array([17794, '', '', '', '309.00 ', 371669, 'Wrestling', 'English',\n",
      "       '10 Feb, 2023', 'Feb 09 2023', '', '', 'TNA.Impact 2023-02-09',\n",
      "       '1344.00 ', ''], dtype=object), array([17795, '', '', '', '2611.00 ', 371816, 'Wrestling', 'English',\n",
      "       '14 Feb, 2023', 'Feb 13 2023', '', '', 'WWE Raw 2023-02-13',\n",
      "       '6620.00 ', ''], dtype=object), array([17799, '', '', '', '10493.00 ', 10056, 'Stage shows', '',\n",
      "       '10 Mar, 2012', 'Mar 09 2012', '', '', 'Super Market', '21531.00 ',\n",
      "       ''], dtype=object), array([17814, '', '', '', '14766.00 ', 9916, 'Bollywood / Indian', '',\n",
      "       '03 Mar, 2012', 'Jan 01 1970', '', '', 'Will You Marry Me',\n",
      "       '46415.00 ', ''], dtype=object), array([17832, '', '', '', '309.00 ', 371669, 'Wrestling', 'English',\n",
      "       '10 Feb, 2023', 'Feb 09 2023', '', '', 'TNA.Impact 2023-02-09',\n",
      "       '1345.00 ', ''], dtype=object), array([17833, '', '', '', '2612.00 ', 371816, 'Wrestling', 'English',\n",
      "       '14 Feb, 2023', 'Feb 13 2023', '', '', 'WWE Raw 2023-02-13',\n",
      "       '6622.00 ', ''], dtype=object), array([17870, '', '', '', '309.00 ', 371669, 'Wrestling', 'English',\n",
      "       '10 Feb, 2023', 'Feb 09 2023', '', '', 'TNA.Impact 2023-02-09',\n",
      "       '1346.00 ', ''], dtype=object), array([17871, '', '', '', '2612.00 ', 371816, 'Wrestling', 'English',\n",
      "       '14 Feb, 2023', 'Feb 13 2023', '', '', 'WWE Raw 2023-02-13',\n",
      "       '6623.00 ', ''], dtype=object), array([17891, '', '', '', '15366.00 ', 9701, 'Stage shows', '',\n",
      "       '04 Feb, 2012', 'Feb 03 2012', '', '',\n",
      "       'Ladies Vs Thakur And Firends 2012', '42685.00 ', ''], dtype=object), array([17908, '', '', '', '309.00 ', 371669, 'Wrestling', 'English',\n",
      "       '10 Feb, 2023', 'Feb 09 2023', '', '', 'TNA.Impact 2023-02-09',\n",
      "       '1347.00 ', ''], dtype=object), array([17909, '', '', '', '2612.00 ', 371816, 'Wrestling', 'English',\n",
      "       '14 Feb, 2023', 'Feb 13 2023', '', '', 'WWE Raw 2023-02-13',\n",
      "       '6624.00 ', ''], dtype=object), array([17946, '', '', '', '309.00 ', 371669, 'Wrestling', 'English',\n",
      "       '10 Feb, 2023', 'Feb 09 2023', '', '', 'TNA.Impact 2023-02-09',\n",
      "       '1348.00 ', ''], dtype=object), array([17947, '', '', '', '2612.00 ', 371816, 'Wrestling', 'English',\n",
      "       '14 Feb, 2023', 'Feb 13 2023', '', '', 'WWE Raw 2023-02-13',\n",
      "       '6625.00 ', ''], dtype=object), array([17955, '', '', '', '22491.00 ', 9410, 'Anime / Kids', '',\n",
      "       '18 Jan, 2012', 'Jan 17 2012', '', '',\n",
      "       'Jumbo (2) The Return Of Big Elephant', '53217.00 ', ''],\n",
      "      dtype=object), array([17971, '', '', '', '8247.00 ', 9342, 'Stage shows', '',\n",
      "       '14 Jan, 2012', 'Jan 13 2012', '', '', 'Dulaay Chakar Baaz 2012',\n",
      "       '18304.00 ', ''], dtype=object), array([17984, '', '', '', '309.00 ', 371669, 'Wrestling', 'English',\n",
      "       '10 Feb, 2023', 'Feb 09 2023', '', '', 'TNA.Impact 2023-02-09',\n",
      "       '1349.00 ', ''], dtype=object), array([17985, '', '', '', '2612.00 ', 371816, 'Wrestling', 'English',\n",
      "       '14 Feb, 2023', 'Feb 13 2023', '', '', 'WWE Raw 2023-02-13',\n",
      "       '6627.00 ', ''], dtype=object), array([18005, '', '', '', '5480.00 ', 9058, 'Anime / Kids', '',\n",
      "       '02 Jan, 2012', 'Dec 31 2011', '', '',\n",
      "       'Scooby Doo Music Of The Vampire', '15706.00 ', ''], dtype=object), array([18008, '', '', '', '16178.00 ', 9040, 'Stage shows', '',\n",
      "       '31 Dec, 2011', 'Dec 30 2011', '', '', 'Welcome (2)', '41229.00 ',\n",
      "       ''], dtype=object), array([18021, '', '', '', '9021.00 ', 8950, 'Stage shows', '',\n",
      "       '24 Dec, 2011', 'Dec 23 2011', '', '', 'Hotel C.N.G', '18750.00 ',\n",
      "       ''], dtype=object), array([18022, '', '', '', '309.00 ', 371669, 'Wrestling', 'English',\n",
      "       '10 Feb, 2023', 'Feb 09 2023', '', '', 'TNA.Impact 2023-02-09',\n",
      "       '1350.00 ', ''], dtype=object), array([18023, '', '', '', '2613.00 ', 371816, 'Wrestling', 'English',\n",
      "       '14 Feb, 2023', 'Feb 13 2023', '', '', 'WWE Raw 2023-02-13',\n",
      "       '6629.00 ', ''], dtype=object), array([18057, '', '', '', '4883.00 ', 8754, 'Stage shows', '',\n",
      "       '10 Dec, 2011', 'Dec 09 2011', '', '', 'Dil Tay Kachha Aya',\n",
      "       '8989.00 ', ''], dtype=object), array([18060, '', '', '', '309.00 ', 371669, 'Wrestling', 'English',\n",
      "       '10 Feb, 2023', 'Feb 09 2023', '', '', 'TNA.Impact 2023-02-09',\n",
      "       '1351.00 ', ''], dtype=object), array([18061, '', '', '', '2613.00 ', 371816, 'Wrestling', 'English',\n",
      "       '14 Feb, 2023', 'Feb 13 2023', '', '', 'WWE Raw 2023-02-13',\n",
      "       '6630.00 ', ''], dtype=object), array([18098, '', '', '', '309.00 ', 371669, 'Wrestling', 'English',\n",
      "       '10 Feb, 2023', 'Feb 09 2023', '', '', 'TNA.Impact 2023-02-09',\n",
      "       '1352.00 ', ''], dtype=object), array([18099, '', '', '', '2613.00 ', 371816, 'Wrestling', 'English',\n",
      "       '14 Feb, 2023', 'Feb 13 2023', '', '', 'WWE Raw 2023-02-13',\n",
      "       '6631.00 ', ''], dtype=object), array([18129, '', '', '', '12968.00 ', 8380, 'Stage shows', '',\n",
      "       '29 Oct, 2011', 'Oct 28 2011', '', '', 'Bulbulay 2011',\n",
      "       '28614.00 ', ''], dtype=object), array([18136, '', '', '', '309.00 ', 371669, 'Wrestling', 'English',\n",
      "       '10 Feb, 2023', 'Feb 09 2023', '', '', 'TNA.Impact 2023-02-09',\n",
      "       '1353.00 ', ''], dtype=object), array([18137, '', '', '', '2613.00 ', 371816, 'Wrestling', 'English',\n",
      "       '14 Feb, 2023', 'Feb 13 2023', '', '', 'WWE Raw 2023-02-13',\n",
      "       '6632.00 ', ''], dtype=object), array([18163, '', '', '', '6924.00 ', 8104, 'Anime / Kids', '',\n",
      "       '17 Oct, 2011', 'Oct 15 2011', '', '',\n",
      "       'Scooby Doo And The Pirates', '20354.00 ', ''], dtype=object), array([18174, '', '', '', '309.00 ', 371669, 'Wrestling', 'English',\n",
      "       '10 Feb, 2023', 'Feb 09 2023', '', '', 'TNA.Impact 2023-02-09',\n",
      "       '1354.00 ', ''], dtype=object), array([18175, '', '', '', '2613.00 ', 371816, 'Wrestling', 'English',\n",
      "       '14 Feb, 2023', 'Feb 13 2023', '', '', 'WWE Raw 2023-02-13',\n",
      "       '6633.00 ', ''], dtype=object), array([18207, '', '', '', '6536.00 ', 7725, 'Anime / Kids', '',\n",
      "       '03 Oct, 2011', 'Oct 01 2011', '', '',\n",
      "       'Scooby Doo And The Zombies', '18272.00 ', ''], dtype=object), array([18212, '', '', '', '309.00 ', 371669, 'Wrestling', 'English',\n",
      "       '10 Feb, 2023', 'Feb 09 2023', '', '', 'TNA.Impact 2023-02-09',\n",
      "       '1355.00 ', ''], dtype=object), array([18213, '', '', '', '2613.00 ', 371816, 'Wrestling', 'English',\n",
      "       '14 Feb, 2023', 'Feb 13 2023', '', '', 'WWE Raw 2023-02-13',\n",
      "       '6634.00 ', ''], dtype=object), array([18250, '', '', '', '309.00 ', 371669, 'Wrestling', 'English',\n",
      "       '10 Feb, 2023', 'Feb 09 2023', '', '', 'TNA.Impact 2023-02-09',\n",
      "       '1356.00 ', ''], dtype=object), array([18251, '', '', '', '2613.00 ', 371816, 'Wrestling', 'English',\n",
      "       '14 Feb, 2023', 'Feb 13 2023', '', '', 'WWE Raw 2023-02-13',\n",
      "       '6635.00 ', ''], dtype=object), array([18288, '', '', '', '309.00 ', 371669, 'Wrestling', 'English',\n",
      "       '10 Feb, 2023', 'Feb 09 2023', '', '', 'TNA.Impact 2023-02-09',\n",
      "       '1357.00 ', ''], dtype=object), array([18289, '', '', '', '2613.00 ', 371816, 'Wrestling', 'English',\n",
      "       '14 Feb, 2023', 'Feb 13 2023', '', '', 'WWE Raw 2023-02-13',\n",
      "       '6636.00 ', ''], dtype=object), array([18318, '', '', '', '14565.00 ', 6965, 'Stage shows', '',\n",
      "       '20 Aug, 2011', 'Aug 19 2011', '', '', 'Bubble Gum', '26087.00 ',\n",
      "       ''], dtype=object), array([18326, '', '', '', '309.00 ', 371669, 'Wrestling', 'English',\n",
      "       '10 Feb, 2023', 'Feb 09 2023', '', '', 'TNA.Impact 2023-02-09',\n",
      "       '1358.00 ', ''], dtype=object), array([18327, '', '', '', '2613.00 ', 371816, 'Wrestling', 'English',\n",
      "       '14 Feb, 2023', 'Feb 13 2023', '', '', 'WWE Raw 2023-02-13',\n",
      "       '6637.00 ', ''], dtype=object), array([18362, '', '', '', '8458.00 ', 6856, 'Dub / Dual Audio', '',\n",
      "       '30 Jul, 2011', 'Jul 29 2011', '', '', 'The Green Chic ',\n",
      "       '25750.00 ', ''], dtype=object), array([18363, '', '', '', '6621.00 ', 6857, 'Stage shows', '',\n",
      "       '30 Jul, 2011', 'Jul 29 2011', '', '', 'Bin Bulaye Baraati',\n",
      "       '13042.00 ', ''], dtype=object), array([18364, '', '', '', '309.00 ', 371669, 'Wrestling', 'English',\n",
      "       '10 Feb, 2023', 'Feb 09 2023', '', '', 'TNA.Impact 2023-02-09',\n",
      "       '1359.00 ', ''], dtype=object), array([18365, '', '', '', '2613.00 ', 371816, 'Wrestling', 'English',\n",
      "       '14 Feb, 2023', 'Feb 13 2023', '', '', 'WWE Raw 2023-02-13',\n",
      "       '6638.00 ', ''], dtype=object), array([18366, '', '', '', '6621.00 ', 6857, 'Stage shows', '',\n",
      "       '30 Jul, 2011', 'Jul 29 2011', '', '', 'Bin Bulaye Baraati',\n",
      "       '13043.00 ', ''], dtype=object), array([18393, '', '', '', '7701.00 ', 6818, 'Stage shows', '',\n",
      "       '23 Jul, 2011', 'Jul 22 2011', '', '', 'Do Rangeelay', '15282.00 ',\n",
      "       ''], dtype=object), array([18402, '', '', '', '309.00 ', 371669, 'Wrestling', 'English',\n",
      "       '10 Feb, 2023', 'Feb 09 2023', '', '', 'TNA.Impact 2023-02-09',\n",
      "       '1360.00 ', ''], dtype=object), array([18403, '', '', '', '2613.00 ', 371816, 'Wrestling', 'English',\n",
      "       '14 Feb, 2023', 'Feb 13 2023', '', '', 'WWE Raw 2023-02-13',\n",
      "       '6639.00 ', ''], dtype=object), array([18416, '', '', '', '6500.00 ', 6788, 'Stage shows', '',\n",
      "       '16 Jul, 2011', 'Jul 15 2011', '', '', 'Tere Hussan Ka Jadu',\n",
      "       '11756.00 ', ''], dtype=object), array([18428, '', '', '', '2309.00 ', 6765, 'Anime / Kids',\n",
      "       'Welsh,English', '13 Jul, 2011', 'Nov 01 2004', '10 min', '',\n",
      "       'Fireman Sam', '6049.00 ', ''], dtype=object), array([18435, '', '', '', '5732.00 ', 6747, 'Stage shows', '',\n",
      "       '09 Jul, 2011', 'Jul 08 2011', '', '', 'Chal Jhuti', '9860.00 ',\n",
      "       ''], dtype=object), array([18440, '', '', '', '309.00 ', 371669, 'Wrestling', 'English',\n",
      "       '10 Feb, 2023', 'Feb 09 2023', '', '', 'TNA.Impact 2023-02-09',\n",
      "       '1361.00 ', ''], dtype=object), array([18441, '', '', '', '2613.00 ', 371816, 'Wrestling', 'English',\n",
      "       '14 Feb, 2023', 'Feb 13 2023', '', '', 'WWE Raw 2023-02-13',\n",
      "       '6640.00 ', ''], dtype=object), array([18470, '', '', '', '5772.00 ', 6699, 'Stage shows', '',\n",
      "       '25 Jun, 2011', 'Jun 24 2011', '', '', 'Bunty Aur Bably',\n",
      "       '10972.00 ', ''], dtype=object), array([18478, '', '', '', '309.00 ', 371669, 'Wrestling', 'English',\n",
      "       '10 Feb, 2023', 'Feb 09 2023', '', '', 'TNA.Impact 2023-02-09',\n",
      "       '1362.00 ', ''], dtype=object), array([18479, '', '', '', '2613.00 ', 371816, 'Wrestling', 'English',\n",
      "       '14 Feb, 2023', 'Feb 13 2023', '', '', 'WWE Raw 2023-02-13',\n",
      "       '6641.00 ', ''], dtype=object), array([18516, '', '', '', '309.00 ', 371669, 'Wrestling', 'English',\n",
      "       '10 Feb, 2023', 'Feb 09 2023', '', '', 'TNA.Impact 2023-02-09',\n",
      "       '1363.00 ', ''], dtype=object), array([18517, '', '', '', '2613.00 ', 371816, 'Wrestling', 'English',\n",
      "       '14 Feb, 2023', 'Feb 13 2023', '', '', 'WWE Raw 2023-02-13',\n",
      "       '6642.00 ', ''], dtype=object), array([18551, '', '', '', '6970.00 ', 6415, 'Stage shows', '',\n",
      "       '21 May, 2011', 'May 20 2011', '', '', 'Phans Gaya Re Zafri',\n",
      "       '10690.00 ', ''], dtype=object), array([18554, '', '', '', '309.00 ', 371669, 'Wrestling', 'English',\n",
      "       '10 Feb, 2023', 'Feb 09 2023', '', '', 'TNA.Impact 2023-02-09',\n",
      "       '1364.00 ', ''], dtype=object), array([18555, '', '', '', '2613.00 ', 371816, 'Wrestling', 'English',\n",
      "       '14 Feb, 2023', 'Feb 13 2023', '', '', 'WWE Raw 2023-02-13',\n",
      "       '6643.00 ', ''], dtype=object), array([18586, '', '', '', '5999.00 ', 6280, 'Stage shows', '',\n",
      "       '30 Apr, 2011', 'Apr 29 2011', '', '', 'Moj Urao', '8698.00 ', ''],\n",
      "      dtype=object), array([18592, '', '', '', '309.00 ', 371669, 'Wrestling', 'English',\n",
      "       '10 Feb, 2023', 'Feb 09 2023', '', '', 'TNA.Impact 2023-02-09',\n",
      "       '1365.00 ', ''], dtype=object), array([18593, '', '', '', '2613.00 ', 371816, 'Wrestling', 'English',\n",
      "       '14 Feb, 2023', 'Feb 13 2023', '', '', 'WWE Raw 2023-02-13',\n",
      "       '6644.00 ', ''], dtype=object), array([18603, '', '', '', '12186.00 ', 6261, 'Stage shows', '',\n",
      "       '23 Apr, 2011', 'Apr 22 2011', '', '', 'Easy Load', '17566.00 ',\n",
      "       ''], dtype=object), array([18606, '', '', '', '4976.00 ', 6257, 'Anime / Kids', '',\n",
      "       '22 Apr, 2011', 'Apr 21 2011', '', '',\n",
      "       'Shaun the Sheep The Big Chase', '12556.00 ', ''], dtype=object), array([18623, '', '', '', '6167.00 ', 6237, 'Stage shows', '',\n",
      "       '16 Apr, 2011', 'Apr 15 2011', '', '', 'Satte Pe Satta',\n",
      "       '10104.00 ', ''], dtype=object), array([18630, '', '', '', '309.00 ', 371669, 'Wrestling', 'English',\n",
      "       '10 Feb, 2023', 'Feb 09 2023', '', '', 'TNA.Impact 2023-02-09',\n",
      "       '1366.00 ', ''], dtype=object), array([18631, '', '', '', '2613.00 ', 371816, 'Wrestling', 'English',\n",
      "       '14 Feb, 2023', 'Feb 13 2023', '', '', 'WWE Raw 2023-02-13',\n",
      "       '6645.00 ', ''], dtype=object), array([18638, '', '', '', '7031.00 ', 6197, 'Stage shows', '',\n",
      "       '09 Apr, 2011', 'Apr 08 2011', '', '', 'Hussan Tera Jadu Mera',\n",
      "       '12152.00 ', ''], dtype=object), array([18654, '', '', '', '5101.00 ', 6059, 'Stage shows', '',\n",
      "       '02 Apr, 2011', 'Apr 01 2011', '', '', 'Lafangey Prindey ',\n",
      "       '8222.00 ', ''], dtype=object), array([18660, '', '', '', '4376.00 ', 6046, 'Anime / Kids', '',\n",
      "       '31 Mar, 2011', 'Mar 30 2011', '', '',\n",
      "       'Merlin And Arthur The Lion King', '15520.00 ', ''], dtype=object), array([18668, '', '', '', '309.00 ', 371669, 'Wrestling', 'English',\n",
      "       '10 Feb, 2023', 'Feb 09 2023', '', '', 'TNA.Impact 2023-02-09',\n",
      "       '1367.00 ', ''], dtype=object), array([18669, '', '', '', '2613.00 ', 371816, 'Wrestling', 'English',\n",
      "       '14 Feb, 2023', 'Feb 13 2023', '', '', 'WWE Raw 2023-02-13',\n",
      "       '6646.00 ', ''], dtype=object), array([18670, '', '', '', '9393.00 ', 6032, 'Stage shows', '',\n",
      "       '26 Mar, 2011', 'Mar 25 2011', '', '', 'Tadka Pyar Da',\n",
      "       '14413.00 ', ''], dtype=object), array([18674, '', '', '', '9015.00 ', 6026, 'Anime / Kids', '',\n",
      "       '24 Mar, 2011', 'Mar 23 2011', '', '',\n",
      "       'Mickey Mouse Clubhouse: Mickeys Message From Mars', '16537.00 ',\n",
      "       ''], dtype=object), array([18688, '', '', '', '7562.00 ', 6008, 'Stage shows', '',\n",
      "       '19 Mar, 2011', 'Mar 18 2011', '', '', 'No Problem', '17668.00 ',\n",
      "       ''], dtype=object), array([18694, '', '', '', '7305.00 ', 5995, 'Bollywood / Indian', '',\n",
      "       '17 Mar, 2011', 'Mar 16 2011', '', '', 'The Camp', '24855.00 ', ''],\n",
      "      dtype=object), array([18705, '', '', '', '7079.00 ', 5892, 'Stage shows', '',\n",
      "       '12 Mar, 2011', 'Mar 11 2011', '', '', 'Haseeno Ka Mela',\n",
      "       '11957.00 ', ''], dtype=object), array([18706, '', '', '', '309.00 ', 371669, 'Wrestling', 'English',\n",
      "       '10 Feb, 2023', 'Feb 09 2023', '', '', 'TNA.Impact 2023-02-09',\n",
      "       '1368.00 ', ''], dtype=object), array([18707, '', '', '', '2613.00 ', 371816, 'Wrestling', 'English',\n",
      "       '14 Feb, 2023', 'Feb 13 2023', '', '', 'WWE Raw 2023-02-13',\n",
      "       '6647.00 ', ''], dtype=object), array([18723, '', '', '', '10353.00 ', 5829, 'Stage shows', '',\n",
      "       '05 Mar, 2011', 'Mar 04 2011', '', '', 'Thakar in America',\n",
      "       '16962.00 ', ''], dtype=object), array([18733, '', '', '', '9199.00 ', 5818, 'Bollywood / Indian', '',\n",
      "       '28 Feb, 2011', 'Feb 26 2011', '', '', 'Tum Hi To Ho', '26873.00 ',\n",
      "       ''], dtype=object), array([18737, '', '', '', '7056.00 ', 5815, 'Stage shows', '',\n",
      "       '26 Feb, 2011', 'Feb 25 2011', '', '', 'Dulha 50+50', '15268.00 ',\n",
      "       ''], dtype=object), array([18744, '', '', '', '309.00 ', 371669, 'Wrestling', 'English',\n",
      "       '10 Feb, 2023', 'Feb 09 2023', '', '', 'TNA.Impact 2023-02-09',\n",
      "       '1369.00 ', ''], dtype=object), array([18745, '', '', '', '2613.00 ', 371816, 'Wrestling', 'English',\n",
      "       '14 Feb, 2023', 'Feb 13 2023', '', '', 'WWE Raw 2023-02-13',\n",
      "       '6648.00 ', ''], dtype=object), array([18754, '', '', '', '8175.00 ', 5791, 'Stage shows', '',\n",
      "       '19 Feb, 2011', 'Feb 18 2011', '', '', 'Papa In Siapa',\n",
      "       '11390.00 ', ''], dtype=object), array([18770, '', '', '', '16984.00 ', 5773, 'Stage shows', '',\n",
      "       '12 Feb, 2011', 'Feb 11 2011', '', '', 'Function', '23945.00 ', ''],\n",
      "      dtype=object), array([18773, '', '', '', '8938.00 ', 5769, 'Stage shows', '',\n",
      "       '11 Feb, 2011', 'Feb 10 2011', '', '', 'Bebia Moin Akhtar',\n",
      "       '12229.00 ', ''], dtype=object), array([18782, '', '', '', '309.00 ', 371669, 'Wrestling', 'English',\n",
      "       '10 Feb, 2023', 'Feb 09 2023', '', '', 'TNA.Impact 2023-02-09',\n",
      "       '1370.00 ', ''], dtype=object), array([18783, '', '', '', '2613.00 ', 371816, 'Wrestling', 'English',\n",
      "       '14 Feb, 2023', 'Feb 13 2023', '', '', 'WWE Raw 2023-02-13',\n",
      "       '6649.00 ', ''], dtype=object), array([18797, '', '', '', '13556.00 ', 5743, 'Stage shows', '',\n",
      "       '03 Feb, 2011', 'Feb 02 2011', '', '', 'Yes Sir Eid No Sir Eid',\n",
      "       '20066.00 ', ''], dtype=object), array([18798, '', '', '', '21441.00 ', 5744, 'Stage shows', '',\n",
      "       '03 Feb, 2011', 'Feb 02 2011', '', '', 'Dubai Se Lahore 2008',\n",
      "       '35490.00 ', ''], dtype=object), array([18808, '', '', '', '19300.00 ', 5646, 'Stage shows', '',\n",
      "       '29 Jan, 2011', 'Jan 28 2011', '', '', 'Pari (2010)', '37669.00 ',\n",
      "       ''], dtype=object), array([18820, '', '', '', '309.00 ', 371669, 'Wrestling', 'English',\n",
      "       '10 Feb, 2023', 'Feb 09 2023', '', '', 'TNA.Impact 2023-02-09',\n",
      "       '1371.00 ', ''], dtype=object), array([18821, '', '', '', '2613.00 ', 371816, 'Wrestling', 'English',\n",
      "       '14 Feb, 2023', 'Feb 13 2023', '', '', 'WWE Raw 2023-02-13',\n",
      "       '6650.00 ', ''], dtype=object), array([18828, '', '', '', '16210.00 ', 5554, 'Stage shows', '',\n",
      "       '24 Jan, 2011', 'Jan 22 2011', '', '', 'Begum Mujhe Talaq Do',\n",
      "       '29169.00 ', ''], dtype=object), array([18832, '', '', '', '27021.00 ', 5540, 'Stage shows', '',\n",
      "       '22 Jan, 2011', 'Jan 21 2011', '', '', 'Aai Jawani Mastani (2010)',\n",
      "       '45959.00 ', ''], dtype=object), array([18851, '', '', '', '58251.00 ', 5342, 'Stage shows', '',\n",
      "       '15 Jan, 2011', 'Jan 14 2011', '', '', 'My NameIs Thakar (2010)',\n",
      "       '102303.00 ', ''], dtype=object), array([18858, '', '', '', '309.00 ', 371669, 'Wrestling', 'English',\n",
      "       '10 Feb, 2023', 'Feb 09 2023', '', '', 'TNA.Impact 2023-02-09',\n",
      "       '1372.00 ', ''], dtype=object), array([18859, '', '', '', '2613.00 ', 371816, 'Wrestling', 'English',\n",
      "       '14 Feb, 2023', 'Feb 13 2023', '', '', 'WWE Raw 2023-02-13',\n",
      "       '6651.00 ', ''], dtype=object), array([18880, '', '', '', '22969.00 ', 5250, 'Stage shows', '',\n",
      "       '08 Jan, 2011', 'Jan 07 2011', '', '', 'Munni Badnam Hoi (2010)',\n",
      "       '31737.00 ', ''], dtype=object), array([18896, '', '', '', '309.00 ', 371669, 'Wrestling', 'English',\n",
      "       '10 Feb, 2023', 'Feb 09 2023', '', '', 'TNA.Impact 2023-02-09',\n",
      "       '1373.00 ', ''], dtype=object), array([18897, '', '', '', '2613.00 ', 371816, 'Wrestling', 'English',\n",
      "       '14 Feb, 2023', 'Feb 13 2023', '', '', 'WWE Raw 2023-02-13',\n",
      "       '6652.00 ', ''], dtype=object), array([18905, '', '', '', '15888.00 ', 5187, 'Stage shows', '',\n",
      "       '01 Jan, 2011', 'Dec 31 2010', '', '',\n",
      "       'Ek Tera Mukhra Piyara 2010', '23767.00 ', ''], dtype=object), array([18919, '', '', '', '16306.00 ', 5044, 'Stage shows', '',\n",
      "       '27 Dec, 2010', 'Dec 27 2010', '', '', 'Jugni Aj Nachey Ge (2010)',\n",
      "       '24708.00 ', ''], dtype=object), array([18934, '', '', '', '309.00 ', 371669, 'Wrestling', 'English',\n",
      "       '10 Feb, 2023', 'Feb 09 2023', '', '', 'TNA.Impact 2023-02-09',\n",
      "       '1374.00 ', ''], dtype=object), array([18935, '', '', '', '2613.00 ', 371816, 'Wrestling', 'English',\n",
      "       '14 Feb, 2023', 'Feb 13 2023', '', '', 'WWE Raw 2023-02-13',\n",
      "       '6653.00 ', ''], dtype=object), array([18972, '', '', '', '309.00 ', 371669, 'Wrestling', 'English',\n",
      "       '10 Feb, 2023', 'Feb 09 2023', '', '', 'TNA.Impact 2023-02-09',\n",
      "       '1375.00 ', ''], dtype=object), array([18973, '', '', '', '2613.00 ', 371816, 'Wrestling', 'English',\n",
      "       '14 Feb, 2023', 'Feb 13 2023', '', '', 'WWE Raw 2023-02-13',\n",
      "       '6654.00 ', ''], dtype=object), array([18979, '', '', '', '8227.00 ', 4307, 'Bollywood / Indian', '',\n",
      "       '30 Nov, 2010', 'Nov 29 2010', '', '', 'Tere Ishq Nachaya (2010)',\n",
      "       '34103.00 ', ''], dtype=object), array([19010, '', '', '', '309.00 ', 371669, 'Wrestling', 'English',\n",
      "       '10 Feb, 2023', 'Feb 09 2023', '', '', 'TNA.Impact 2023-02-09',\n",
      "       '1376.00 ', ''], dtype=object), array([19011, '', '', '', '2613.00 ', 371816, 'Wrestling', 'English',\n",
      "       '14 Feb, 2023', 'Feb 13 2023', '', '', 'WWE Raw 2023-02-13',\n",
      "       '6655.00 ', ''], dtype=object), array([19048, '', '', '', '309.00 ', 371669, 'Wrestling', 'English',\n",
      "       '10 Feb, 2023', 'Feb 09 2023', '', '', 'TNA.Impact 2023-02-09',\n",
      "       '1377.00 ', ''], dtype=object), array([19049, '', '', '', '2613.00 ', 371816, 'Wrestling', 'English',\n",
      "       '14 Feb, 2023', 'Feb 13 2023', '', '', 'WWE Raw 2023-02-13',\n",
      "       '6656.00 ', ''], dtype=object), array([19086, '', '', '', '309.00 ', 371669, 'Wrestling', 'English',\n",
      "       '10 Feb, 2023', 'Feb 09 2023', '', '', 'TNA.Impact 2023-02-09',\n",
      "       '1378.00 ', ''], dtype=object), array([19087, '', '', '', '2613.00 ', 371816, 'Wrestling', 'English',\n",
      "       '14 Feb, 2023', 'Feb 13 2023', '', '', 'WWE Raw 2023-02-13',\n",
      "       '6657.00 ', ''], dtype=object), array([19124, '', '', '', '309.00 ', 371669, 'Wrestling', 'English',\n",
      "       '10 Feb, 2023', 'Feb 09 2023', '', '', 'TNA.Impact 2023-02-09',\n",
      "       '1379.00 ', ''], dtype=object), array([19125, '', '', '', '2613.00 ', 371816, 'Wrestling', 'English',\n",
      "       '14 Feb, 2023', 'Feb 13 2023', '', '', 'WWE Raw 2023-02-13',\n",
      "       '6658.00 ', ''], dtype=object), array([19162, '', '', '', '309.00 ', 371669, 'Wrestling', 'English',\n",
      "       '10 Feb, 2023', 'Feb 09 2023', '', '', 'TNA.Impact 2023-02-09',\n",
      "       '1381.00 ', ''], dtype=object), array([19163, '', '', '', '2613.00 ', 371816, 'Wrestling', 'English',\n",
      "       '14 Feb, 2023', 'Feb 13 2023', '', '', 'WWE Raw 2023-02-13',\n",
      "       '6659.00 ', ''], dtype=object), array([19200, '', '', '', '309.00 ', 371669, 'Wrestling', 'English',\n",
      "       '10 Feb, 2023', 'Feb 09 2023', '', '', 'TNA.Impact 2023-02-09',\n",
      "       '1382.00 ', ''], dtype=object), array([19201, '', '', '', '2613.00 ', 371816, 'Wrestling', 'English',\n",
      "       '14 Feb, 2023', 'Feb 13 2023', '', '', 'WWE Raw 2023-02-13',\n",
      "       '6660.00 ', ''], dtype=object), array([19238, '', '', '', '309.00 ', 371669, 'Wrestling', 'English',\n",
      "       '10 Feb, 2023', 'Feb 09 2023', '', '', 'TNA.Impact 2023-02-09',\n",
      "       '1383.00 ', ''], dtype=object), array([19239, '', '', '', '2613.00 ', 371816, 'Wrestling', 'English',\n",
      "       '14 Feb, 2023', 'Feb 13 2023', '', '', 'WWE Raw 2023-02-13',\n",
      "       '6661.00 ', ''], dtype=object), array([19276, '', '', '', '309.00 ', 371669, 'Wrestling', 'English',\n",
      "       '10 Feb, 2023', 'Feb 09 2023', '', '', 'TNA.Impact 2023-02-09',\n",
      "       '1384.00 ', ''], dtype=object), array([19277, '', '', '', '2613.00 ', 371816, 'Wrestling', 'English',\n",
      "       '14 Feb, 2023', 'Feb 13 2023', '', '', 'WWE Raw 2023-02-13',\n",
      "       '6662.00 ', ''], dtype=object), array([19284, '', '', '', '6091.00 ', 2622, 'Anime / Kids', '',\n",
      "       '19 Aug, 2010', 'Jan 01 1970', '', '',\n",
      "       'Daffy Duck Frustrated Fowl', '10829.00 ', ''], dtype=object), array([19285, '', '', '', '14087.00 ', 2623, 'Anime / Kids', '',\n",
      "       '19 Aug, 2010', 'Jan 01 1970', '', '',\n",
      "       'Penguins Of Madagascar-New To The Zoo', '37750.00 ', ''],\n",
      "      dtype=object), array([19305, '', '', '', '7676.00 ', 1088, 'Anime / Kids', '',\n",
      "       '17 Jul, 2010', 'Jul 17 2010', '', '',\n",
      "       'Woody Wood Pecker Classic Collection', '12811.00 ', ''],\n",
      "      dtype=object), array([19309, '', '', '', '3278.00 ', 1056, 'Anime / Kids', '',\n",
      "       '13 Jul, 2010', 'Jul 13 2010', '', '',\n",
      "       'Tex Averys Droopy Collection', '6656.00 ', ''], dtype=object), array([19310, '', '', '', '28916.00 ', 1049, 'Anime / Kids', '',\n",
      "       '12 Jul, 2010', 'Jul 12 2010', '', '',\n",
      "       'Tom And Jerry Fun And Speed Extreme', '56245.00 ', ''],\n",
      "      dtype=object), array([19314, '', '', '', '309.00 ', 371669, 'Wrestling', 'English',\n",
      "       '10 Feb, 2023', 'Feb 09 2023', '', '', 'TNA.Impact 2023-02-09',\n",
      "       '1385.00 ', ''], dtype=object), array([19315, '', '', '', '2613.00 ', 371816, 'Wrestling', 'English',\n",
      "       '14 Feb, 2023', 'Feb 13 2023', '', '', 'WWE Raw 2023-02-13',\n",
      "       '6663.00 ', ''], dtype=object), array([19320, '', '', '', '10403.00 ', 1003, 'Bollywood / Indian', '',\n",
      "       '21 Jun, 2010', 'Jun 21 2010', '', '', 'Gullu Dada Returns',\n",
      "       '25802.00 ', ''], dtype=object), array([19321, '', '', '', '3571.00 ', 1006, 'Anime / Kids', '',\n",
      "       '21 Jun, 2010', 'Jun 21 2010', '', '',\n",
      "       'Shaun The Sheep One Giant Leap For Lambkind', '9560.00 ', ''],\n",
      "      dtype=object), array([19328, '', '', '', '10379.00 ', 961, 'Stage shows', '',\n",
      "       '05 Jun, 2010', 'Jun 05 2010', '', '', 'Dhoka Mandi', '20113.00 ',\n",
      "       ''], dtype=object), array([19329, '', '', '', '3761.00 ', 962, 'Stage shows', '',\n",
      "       '05 Jun, 2010', 'Jun 05 2010', '', '', 'Doo Terian Ve Merian',\n",
      "       '7274.00 ', ''], dtype=object), array([19330, '', '', '', '3474.00 ', 963, 'Stage shows', '',\n",
      "       '05 Jun, 2010', 'Jun 05 2010', '', '', 'Kuri Fradon', '6313.00 ',\n",
      "       ''], dtype=object), array([19331, '', '', '', '11433.00 ', 964, 'Stage shows', '',\n",
      "       '05 Jun, 2010', 'Jun 05 2010', '', '', 'Lakh Lakh Nakhre',\n",
      "       '20384.00 ', ''], dtype=object), array([19332, '', '', '', '3816.00 ', 965, 'Stage shows', '',\n",
      "       '05 Jun, 2010', 'Jun 05 2010', '', '', 'Sadi Wi Suno', '7212.00 ',\n",
      "       ''], dtype=object), array([19333, '', '', '', '5493.00 ', 967, 'Bollywood / Indian', '',\n",
      "       '05 Jun, 2010', 'Jun 05 2010', '', '', 'Vroom', '12621.00 ', ''],\n",
      "      dtype=object), array([19334, '', '', '', '5603.00 ', 969, 'Anime / Kids', '',\n",
      "       '05 Jun, 2010', 'Jun 05 2010', '', '', 'Hulk vs Wolverwine',\n",
      "       '14859.00 ', ''], dtype=object), array([19335, '', '', '', '8503.00 ', 970, 'Anime / Kids', '',\n",
      "       '05 Jun, 2010', 'Jun 05 2010', '', '', 'Hulk vs Thor', '32046.00 ',\n",
      "       ''], dtype=object), array([19340, '', '', '', '23534.00 ', 931, 'Stage shows', '',\n",
      "       '01 Jun, 2010', 'Jun 01 2010', '', '', 'Kiya Cheez Hai Pakistani',\n",
      "       '45324.00 ', ''], dtype=object), array([19341, '', '', '', '14556.00 ', 932, 'Stage shows', '',\n",
      "       '01 Jun, 2010', 'Jun 01 2010', '', '', 'Umar Sharif Hazer Hoo',\n",
      "       '21694.00 ', ''], dtype=object), array([19342, '', '', '', '4109.00 ', 911, 'Stage shows', '',\n",
      "       '29 May, 2010', 'May 29 2010', '', '', '40 CHORE', '8520.00 ', ''],\n",
      "      dtype=object), array([19343, '', '', '', '9885.00 ', 902, 'Stage shows', '',\n",
      "       '28 May, 2010', 'May 28 2010', '', '', 'Red Light Hotel',\n",
      "       '21066.00 ', ''], dtype=object), array([19344, '', '', '', '3492.00 ', 903, 'Stage shows', '',\n",
      "       '28 May, 2010', 'May 28 2010', '', '', 'Lote Zero Meter',\n",
      "       '6931.00 ', ''], dtype=object), array([19350, '', '', '', '12495.00 ', 893, 'Stage shows', '',\n",
      "       '21 May, 2010', 'May 21 2010', '', '', 'Aloo Chat', '23826.00 ',\n",
      "       ''], dtype=object), array([19351, '', '', '', '3778.00 ', 894, 'Stage shows', '',\n",
      "       '21 May, 2010', 'May 21 2010', '', '', 'Ishq Schoolay', '6277.00 ',\n",
      "       ''], dtype=object), array([19352, '', '', '', '309.00 ', 371669, 'Wrestling', 'English',\n",
      "       '10 Feb, 2023', 'Feb 09 2023', '', '', 'TNA.Impact 2023-02-09',\n",
      "       '1386.00 ', ''], dtype=object), array([19353, '', '', '', '2613.00 ', 371816, 'Wrestling', 'English',\n",
      "       '14 Feb, 2023', 'Feb 13 2023', '', '', 'WWE Raw 2023-02-13',\n",
      "       '6665.00 ', ''], dtype=object), array([19354, '', '', '', '2253.00 ', 892, 'Stage shows', '',\n",
      "       '21 May, 2010', 'May 21 2010', '', '', 'Surprise', '3870.00 ', ''],\n",
      "      dtype=object), array([19355, '', '', '', '12495.00 ', 893, 'Stage shows', '',\n",
      "       '21 May, 2010', 'May 21 2010', '', '', 'Aloo Chat', '23827.00 ',\n",
      "       ''], dtype=object), array([19356, '', '', '', '3778.00 ', 894, 'Stage shows', '',\n",
      "       '21 May, 2010', 'May 21 2010', '', '', 'Ishq Schoolay', '6278.00 ',\n",
      "       ''], dtype=object), array([19360, '', '', '', '29860.00 ', 879, 'Anime / Kids', '',\n",
      "       '14 May, 2010', 'May 14 2010', '', '', 'Cindrella', '45733.00 ',\n",
      "       ''], dtype=object), array([19371, '', '', 'Ballard C. Boyd', '2478.00 ', 874, 'Anime / Kids',\n",
      "       'English', '11 May, 2010', 'Oct 16 2004', '22min', '', 'Super 7',\n",
      "       '10734.00 ', 'Ballard C. Boyd'], dtype=object), array([19372, '', '', '', '3312.00 ', 865, 'Bollywood / Indian', '',\n",
      "       '10 May, 2010', 'May 10 2010', '', '', 'Lad Gaya Pecha',\n",
      "       '7226.00 ', ''], dtype=object), array([19389, '', '', '', '15372.00 ', 838, 'Anime / Kids', '',\n",
      "       '21 Apr, 2010', 'Apr 21 2010', '', '', 'Dinosaur 2000',\n",
      "       '38678.00 ', ''], dtype=object), array([19390, '', '', '', '309.00 ', 371669, 'Wrestling', 'English',\n",
      "       '10 Feb, 2023', 'Feb 09 2023', '', '', 'TNA.Impact 2023-02-09',\n",
      "       '1387.00 ', ''], dtype=object), array([19391, '', '', '', '2613.00 ', 371816, 'Wrestling', 'English',\n",
      "       '14 Feb, 2023', 'Feb 13 2023', '', '', 'WWE Raw 2023-02-13',\n",
      "       '6666.00 ', ''], dtype=object), array([19392, '', '', '', '15372.00 ', 838, 'Anime / Kids', '',\n",
      "       '21 Apr, 2010', 'Apr 21 2010', '', '', 'Dinosaur 2000',\n",
      "       '38679.00 ', ''], dtype=object), array([19393, '', '', '', '21060.00 ', 839, 'Anime / Kids', '',\n",
      "       '21 Apr, 2010', 'Apr 21 2010', '', '',\n",
      "       'Tom and Jerrys Greatest Chases V3 2010', '38700.00 ', ''],\n",
      "      dtype=object), array([19398, '', '', '', '37400.00 ', 830, 'Stage shows', '',\n",
      "       '15 Apr, 2010', 'Apr 15 2010', '', '', 'Budha Ghar Per Hai',\n",
      "       '51184.00 ', ''], dtype=object), array([19399, '', '', '', '7584.00 ', 831, 'Stage shows', '',\n",
      "       '15 Apr, 2010', 'Apr 15 2010', '', '', 'Female Ki Email',\n",
      "       '15128.00 ', ''], dtype=object), array([19401, '', '', '', '17225.00 ', 817, 'Anime / Kids', '',\n",
      "       '09 Apr, 2010', 'Apr 09 2010', '', '',\n",
      "       'Barbiein A Mermaid Tale 2010', '33640.00 ', ''], dtype=object), array([19402, '', '', '', '1049.00 ', 819, 'Anime / Kids', '',\n",
      "       '09 Apr, 2010', 'Apr 09 2010', '', '',\n",
      "       'The Backyardigans Escape From The Tower 2010', '6469.00 ', ''],\n",
      "      dtype=object), array([19420, '', '', '', '7278.00 ', 792, 'Anime / Kids', '',\n",
      "       '19 Mar, 2010', 'Mar 19 2010', '', '',\n",
      "       'Scooby Doo Abracadabra Doo 2010', '21424.00 ', ''], dtype=object), array([19421, '', '', '', '14876.00 ', 793, 'Anime / Kids', '',\n",
      "       '19 Mar, 2010', 'Mar 19 2010', '', '', 'Planet Hulk 2010',\n",
      "       '54160.00 ', ''], dtype=object), array([19428, '', '', '', '309.00 ', 371669, 'Wrestling', 'English',\n",
      "       '10 Feb, 2023', 'Feb 09 2023', '', '', 'TNA.Impact 2023-02-09',\n",
      "       '1388.00 ', ''], dtype=object), array([19429, '', '', '', '2613.00 ', 371816, 'Wrestling', 'English',\n",
      "       '14 Feb, 2023', 'Feb 13 2023', '', '', 'WWE Raw 2023-02-13',\n",
      "       '6667.00 ', ''], dtype=object), array([19437, '', '', '', '7513.00 ', 775, 'Anime / Kids', '',\n",
      "       '11 Mar, 2010', 'Mar 11 2010', '', '',\n",
      "       'Dante Inferno Animated 2010', '26847.00 ', ''], dtype=object), array([19438, '', '', '', '6873.00 ', 776, 'Anime / Kids', '',\n",
      "       '11 Mar, 2010', 'Mar 11 2010', '', '', 'Dumbo 2010', '17060.00 ',\n",
      "       ''], dtype=object), array([19439, '', '', '', '3668.00 ', 777, 'Anime / Kids', '',\n",
      "       '11 Mar, 2010', 'Mar 11 2010', '', '', 'Fantastic MrFox',\n",
      "       '11394.00 ', ''], dtype=object), array([19440, '', '', '', '5740.00 ', 778, 'Anime / Kids', '',\n",
      "       '11 Mar, 2010', 'Mar 11 2010', '', '',\n",
      "       'Justice League Crisison TwoEarths 2010', '16617.00 ', ''],\n",
      "      dtype=object), array([19466, '', '', '', '309.00 ', 371669, 'Wrestling', 'English',\n",
      "       '10 Feb, 2023', 'Feb 09 2023', '', '', 'TNA.Impact 2023-02-09',\n",
      "       '1389.00 ', ''], dtype=object), array([19467, '', '', '', '2613.00 ', 371816, 'Wrestling', 'English',\n",
      "       '14 Feb, 2023', 'Feb 13 2023', '', '', 'WWE Raw 2023-02-13',\n",
      "       '6668.00 ', ''], dtype=object), array([19472, '', '', '', '3970.00 ', 718, 'Stage shows', '',\n",
      "       '29 Jan, 2010', 'Jan 29 2010', '', '', 'Mithay Meway', '6938.00 ',\n",
      "       ''], dtype=object), array([19476, '', '', '', '4220.00 ', 717, 'Stage shows', '',\n",
      "       '28 Jan, 2010', 'Jan 28 2010', '', '', 'Don Comedy Drama 2009',\n",
      "       '9858.00 ', ''], dtype=object), array([19484, '', '', '', '22957.00 ', 702, 'Anime / Kids', '',\n",
      "       '14 Jan, 2010', 'Jan 14 2010', '', '',\n",
      "       'Alvin And TheChipmunks TheSqueakquel 2009', '47162.00 ', ''],\n",
      "      dtype=object), array([19486, '', '', '', '1159.00 ', 688, 'Anime / Kids', '',\n",
      "       '08 Jan, 2010', 'Jan 08 2010', '', '', 'Family Guy Dark Side 2009',\n",
      "       '9230.00 ', ''], dtype=object), array([19493, '', '', '', '2790.00 ', 683, 'Stage shows', '',\n",
      "       '06 Jan, 2010', 'Jan 06 2010', '', '', 'Bilo De Nakhre 2009',\n",
      "       '6451.00 ', ''], dtype=object), array([19494, '', '', '', '13687.00 ', 684, 'Stage shows', '',\n",
      "       '06 Jan, 2010', 'Jan 06 2010', '', '', 'Dil Da Bazar 4',\n",
      "       '22016.00 ', ''], dtype=object), array([19495, '', '', '', '2059.00 ', 685, 'Stage shows', '',\n",
      "       '06 Jan, 2010', 'Jan 06 2010', '', '', 'Dera Ashiqan Da',\n",
      "       '3593.00 ', ''], dtype=object), array([19496, '', '', '', '3105.00 ', 686, 'Stage shows', '',\n",
      "       '06 Jan, 2010', 'Jan 06 2010', '', '', 'Race 2009', '11795.00 ',\n",
      "       ''], dtype=object), array([19497, '', '', '', '2960.00 ', 687, 'Stage shows', '',\n",
      "       '06 Jan, 2010', 'Jan 06 2010', '', '', 'Race Sanson Ke',\n",
      "       '7766.00 ', ''], dtype=object), array([19504, '', '', '', '309.00 ', 371669, 'Wrestling', 'English',\n",
      "       '10 Feb, 2023', 'Feb 09 2023', '', '', 'TNA.Impact 2023-02-09',\n",
      "       '1390.00 ', ''], dtype=object), array([19505, '', '', '', '2613.00 ', 371816, 'Wrestling', 'English',\n",
      "       '14 Feb, 2023', 'Feb 13 2023', '', '', 'WWE Raw 2023-02-13',\n",
      "       '6669.00 ', ''], dtype=object), array([19512, '', '', '', '4288.00 ', 660, 'Stage shows', '',\n",
      "       '17 Dec, 2009', 'Dec 17 2009', '', '', 'CHALAAK TOUTAY PART 3',\n",
      "       '6000.00 ', ''], dtype=object), array([19513, '', '', '', '2214.00 ', 661, 'Stage shows', '',\n",
      "       '17 Dec, 2009', 'Dec 17 2009', '', '', 'Bilo Rani', '4181.00 ', ''],\n",
      "      dtype=object), array([19514, '', '', '', '5365.00 ', 662, 'Stage shows', '',\n",
      "       '17 Dec, 2009', 'Dec 17 2009', '', '', 'Mithiyan Sharartan Part 3',\n",
      "       '11465.00 ', ''], dtype=object), array([19517, '', '', '', '11427.00 ', 640, 'Anime / Kids', '',\n",
      "       '04 Dec, 2009', 'Dec 04 2009', '', '', 'Merry Madagascar 2009',\n",
      "       '33704.00 ', ''], dtype=object), array([19522, '', '', '', '8393.00 ', 631, 'Anime / Kids', '',\n",
      "       '01 Dec, 2009', 'Dec 01 2009', '', '', 'Astro Boy 2010',\n",
      "       '21647.00 ', ''], dtype=object), array([19523, '', '', '', '3654.00 ', 632, 'Anime / Kids', '',\n",
      "       '01 Dec, 2009', 'Dec 01 2009', '', '', 'Planet.51', '11596.00 ',\n",
      "       ''], dtype=object), array([19524, '', '', '', '12903.00 ', 634, 'Anime / Kids', '',\n",
      "       '01 Dec, 2009', 'Dec 01 2009', '', '',\n",
      "       'Street Fighter RoundOne Fight', '28430.00 ', ''], dtype=object), array([19542, '', '', '', '309.00 ', 371669, 'Wrestling', 'English',\n",
      "       '10 Feb, 2023', 'Feb 09 2023', '', '', 'TNA.Impact 2023-02-09',\n",
      "       '1391.00 ', ''], dtype=object), array([19543, '', '', '', '2613.00 ', 371816, 'Wrestling', 'English',\n",
      "       '14 Feb, 2023', 'Feb 13 2023', '', '', 'WWE Raw 2023-02-13',\n",
      "       '6670.00 ', ''], dtype=object), array([19573, '', '', '', '3203.00 ', 562, 'Anime / Kids', '',\n",
      "       '30 Sep, 2009', 'Sep 30 2009', '', '',\n",
      "       'Roary TheRacing Car Stars and Cars 2009', '11719.00 ', ''],\n",
      "      dtype=object), array([19574, '', '', '', '4087.00 ', 565, 'Anime / Kids', '',\n",
      "       '30 Sep, 2009', 'Sep 30 2009', '', '',\n",
      "       'Curious George 2 Follow That Monkey 2009', '10247.00 ', ''],\n",
      "      dtype=object), array([19575, '', '', '', '2814.00 ', 561, 'Anime / Kids', '',\n",
      "       '29 Sep, 2009', 'Sep 29 2009', '', '',\n",
      "       'Care Bears Tell Tale Tummies', '9896.00 ', ''], dtype=object), array([19580, '', '', '', '309.00 ', 371669, 'Wrestling', 'English',\n",
      "       '10 Feb, 2023', 'Feb 09 2023', '', '', 'TNA.Impact 2023-02-09',\n",
      "       '1392.00 ', ''], dtype=object), array([19581, '', '', '', '2613.00 ', 371816, 'Wrestling', 'English',\n",
      "       '14 Feb, 2023', 'Feb 13 2023', '', '', 'WWE Raw 2023-02-13',\n",
      "       '6671.00 ', ''], dtype=object), array([19584, '', '', '', '28722.00 ', 547, 'Bollywood / Indian', '',\n",
      "       '22 Sep, 2009', 'Sep 22 2009', '', '', 'Ghamandee 2009',\n",
      "       '62411.00 ', ''], dtype=object), array([19612, '', '', '', '2140.00 ', 508, 'Stage shows', '',\n",
      "       '18 Aug, 2009', 'Aug 18 2009', '', '', 'Dewani Ban JoanGi',\n",
      "       '4022.00 ', ''], dtype=object), array([19618, '', '', '', '309.00 ', 371669, 'Wrestling', 'English',\n",
      "       '10 Feb, 2023', 'Feb 09 2023', '', '', 'TNA.Impact 2023-02-09',\n",
      "       '1393.00 ', ''], dtype=object), array([19619, '', '', '', '2613.00 ', 371816, 'Wrestling', 'English',\n",
      "       '14 Feb, 2023', 'Feb 13 2023', '', '', 'WWE Raw 2023-02-13',\n",
      "       '6672.00 ', ''], dtype=object), array([19622, '', '', '', '3947.00 ', 495, 'Anime / Kids', '',\n",
      "       '08 Aug, 2009', 'Aug 08 2009', '', '',\n",
      "       'Dinosaur King Volcanic Panic 2009', '12302.00 ', ''], dtype=object), array([19637, '', '', '', '2684.00 ', 482, 'Stage shows', '',\n",
      "       '21 Jul, 2009', 'Jul 21 2009', '', '', 'Yeh Bat Aur Hai',\n",
      "       '5551.00 ', ''], dtype=object), array([19638, '', '', '', '2862.00 ', 483, 'Stage shows', '',\n",
      "       '21 Jul, 2009', 'Jul 21 2009', '', '', 'Sahaili Mere Shohar Ki',\n",
      "       '5770.00 ', ''], dtype=object), array([19645, '', '', '', '3031.00 ', 474, 'Stage shows', '',\n",
      "       '15 Jul, 2009', 'Jul 15 2009', '', '', 'Ek Wari Hor', '5579.00 ',\n",
      "       ''], dtype=object), array([19646, '', '', '', '2843.00 ', 475, 'Stage shows', '',\n",
      "       '15 Jul, 2009', 'Jul 15 2009', '', '', 'Eid Da Chan', '6391.00 ',\n",
      "       ''], dtype=object), array([19656, '', '', '', '309.00 ', 371669, 'Wrestling', 'English',\n",
      "       '10 Feb, 2023', 'Feb 09 2023', '', '', 'TNA.Impact 2023-02-09',\n",
      "       '1394.00 ', ''], dtype=object), array([19657, '', '', '', '2613.00 ', 371816, 'Wrestling', 'English',\n",
      "       '14 Feb, 2023', 'Feb 13 2023', '', '', 'WWE Raw 2023-02-13',\n",
      "       '6673.00 ', ''], dtype=object), array([19670, '', '', '', '13887.00 ', 450, 'Anime / Kids', '',\n",
      "       '16 Jun, 2009', 'Jun 16 2009', '', '',\n",
      "       'Dora The Explorer SuperBabies Dream Adventure 2009', '23423.00 ',\n",
      "       ''], dtype=object), array([19671, '', '', '', '960.00 ', 451, 'Anime / Kids', '',\n",
      "       '15 Jun, 2009', 'Jun 15 2009', '', '', 'Impys WonderLand',\n",
      "       '4131.00 ', ''], dtype=object), array([19680, '', '', '', '4501.00 ', 434, 'Stage shows', '',\n",
      "       '03 Jun, 2009', 'Jun 03 2009', '', '', 'Feeqa In America',\n",
      "       '11287.00 ', ''], dtype=object), array([19681, '', '', '', '1915.00 ', 435, 'Stage shows', '',\n",
      "       '02 Jun, 2009', 'Jun 02 2009', '', '', 'Nawa Ayaen Sohneya',\n",
      "       '4648.00 ', ''], dtype=object), array([19693, '', '', '', '7055.00 ', 996, 'Bollywood / Indian', '',\n",
      "       '13 May, 2009', 'May 13 2009', '', '', 'Aur Pappu Pass Ho Gaya',\n",
      "       '25685.00 ', ''], dtype=object), array([19694, '', '', '', '309.00 ', 371669, 'Wrestling', 'English',\n",
      "       '10 Feb, 2023', 'Feb 09 2023', '', '', 'TNA.Impact 2023-02-09',\n",
      "       '1395.00 ', ''], dtype=object), array([19695, '', '', '', '2613.00 ', 371816, 'Wrestling', 'English',\n",
      "       '14 Feb, 2023', 'Feb 13 2023', '', '', 'WWE Raw 2023-02-13',\n",
      "       '6674.00 ', ''], dtype=object), array([19704, '', '', '', '2173.00 ', 395, 'Anime / Kids', '',\n",
      "       '22 Apr, 2009', 'Apr 22 2009', '', '', 'Happily Never After 2',\n",
      "       '5495.00 ', ''], dtype=object), array([19708, '', '', '', '2869.00 ', 385, 'Stage shows', '',\n",
      "       '11 Apr, 2009', 'Apr 11 2009', '', '', 'Kali Billi Laal Kabutar',\n",
      "       '6056.00 ', ''], dtype=object), array([19709, '', '', '', '5267.00 ', 386, 'Stage shows', '',\n",
      "       '11 Apr, 2009', 'Apr 11 2009', '', '', 'Kuriyan Mithiyan Churiyan',\n",
      "       '9288.00 ', ''], dtype=object), array([19711, '', '', '', '5399.00 ', 383, 'Bollywood / Indian', '',\n",
      "       '10 Apr, 2009', 'Apr 10 2009', '', '', 'MemSahab', '20031.00 ', ''],\n",
      "      dtype=object), array([19732, '', '', '', '309.00 ', 371669, 'Wrestling', 'English',\n",
      "       '10 Feb, 2023', 'Feb 09 2023', '', '', 'TNA.Impact 2023-02-09',\n",
      "       '1396.00 ', ''], dtype=object), array([19733, '', '', '', '2613.00 ', 371816, 'Wrestling', 'English',\n",
      "       '14 Feb, 2023', 'Feb 13 2023', '', '', 'WWE Raw 2023-02-13',\n",
      "       '6675.00 ', ''], dtype=object), array([19770, '', '', '', '309.00 ', 371669, 'Wrestling', 'English',\n",
      "       '10 Feb, 2023', 'Feb 09 2023', '', '', 'TNA.Impact 2023-02-09',\n",
      "       '1397.00 ', ''], dtype=object), array([19771, '', '', '', '2613.00 ', 371816, 'Wrestling', 'English',\n",
      "       '14 Feb, 2023', 'Feb 13 2023', '', '', 'WWE Raw 2023-02-13',\n",
      "       '6676.00 ', ''], dtype=object), array([19792, '', '', '', '27725.00 ', 330, 'Anime / Kids', '',\n",
      "       '31 Dec, 2008', 'Dec 31 2008', '', '', 'Jumbo Indian', '55184.00 ',\n",
      "       ''], dtype=object), array([19793, '', '', '', '1965.00 ', 321, 'Anime / Kids', '',\n",
      "       '27 Dec, 2008', 'Dec 27 2008', '', '', 'Mickey Christmas Carol',\n",
      "       '5285.00 ', ''], dtype=object), array([19794, '', '', '', '6131.00 ', 323, 'Stage shows', '',\n",
      "       '27 Dec, 2008', 'Dec 27 2008', '', '',\n",
      "       'Darling Punjabi Stage Show', '12141.00 ', ''], dtype=object), array([19797, '', '', '', '1734.00 ', 310, 'Anime / Kids', '',\n",
      "       '23 Dec, 2008', 'Dec 23 2008', '', '',\n",
      "       'Farmkids - Dude Ranch Book Camp', '4834.00 ', ''], dtype=object), array([19798, '', '', '', '7713.00 ', 312, 'Anime / Kids', '',\n",
      "       '23 Dec, 2008', 'Dec 23 2008', '', '',\n",
      "       'Scooby - Doo And The Goblin King', '19528.00 ', ''], dtype=object), array([19800, '', '', '', '1215.00 ', 309, 'Anime / Kids', '',\n",
      "       '21 Dec, 2008', 'Dec 21 2008', '', '', 'Delgo', '7108.00 ', ''],\n",
      "      dtype=object), array([19808, '', '', '', '309.00 ', 371669, 'Wrestling', 'English',\n",
      "       '10 Feb, 2023', 'Feb 09 2023', '', '', 'TNA.Impact 2023-02-09',\n",
      "       '1398.00 ', ''], dtype=object), array([19809, '', '', '', '2613.00 ', 371816, 'Wrestling', 'English',\n",
      "       '14 Feb, 2023', 'Feb 13 2023', '', '', 'WWE Raw 2023-02-13',\n",
      "       '6677.00 ', ''], dtype=object), array([19818, '', '', '', '2101.00 ', 291, 'Anime / Kids', '',\n",
      "       '22 Nov, 2008', 'Nov 22 2008', '', '', 'Snow Buddies', '5895.00 ',\n",
      "       ''], dtype=object), array([19824, '', '', '', '3390.00 ', 277, 'Anime / Kids', '',\n",
      "       '10 Nov, 2008', 'Nov 10 2008', '', '', 'Dead Space Downfall',\n",
      "       '11468.00 ', ''], dtype=object), array([19825, '', '', '', '585.00 ', 278, 'Anime / Kids', '',\n",
      "       '10 Nov, 2008', 'Nov 10 2008', '', '', 'FuturamaBendersGame',\n",
      "       '3878.00 ', ''], dtype=object), array([19830, '', '', '', '10417.00 ', 271, 'Anime / Kids', '',\n",
      "       '01 Nov, 2008', 'Nov 01 2008', '', '', 'Road Side Romeo',\n",
      "       '19256.00 ', ''], dtype=object), array([19844, '', '', '', '4019.00 ', 238, 'Stage shows', '',\n",
      "       '02 Oct, 2008', 'Oct 02 2008', '', '', 'Hum Bhi Umeed Say Hain',\n",
      "       '6964.00 ', ''], dtype=object), array([19845, '', '', '', '3444.00 ', 239, 'Stage shows', '',\n",
      "       '02 Oct, 2008', 'Oct 02 2008', '', '', 'Krazy Kiya Re', '4939.00 ',\n",
      "       ''], dtype=object), array([19846, '', '', '', '309.00 ', 371669, 'Wrestling', 'English',\n",
      "       '10 Feb, 2023', 'Feb 09 2023', '', '', 'TNA.Impact 2023-02-09',\n",
      "       '1399.00 ', ''], dtype=object), array([19847, '', '', '', '2613.00 ', 371816, 'Wrestling', 'English',\n",
      "       '14 Feb, 2023', 'Feb 13 2023', '', '', 'WWE Raw 2023-02-13',\n",
      "       '6678.00 ', ''], dtype=object), array([19848, '', '', '', '4019.00 ', 238, 'Stage shows', '',\n",
      "       '02 Oct, 2008', 'Oct 02 2008', '', '', 'Hum Bhi Umeed Say Hain',\n",
      "       '6965.00 ', ''], dtype=object), array([19849, '', '', '', '3444.00 ', 239, 'Stage shows', '',\n",
      "       '02 Oct, 2008', 'Oct 02 2008', '', '', 'Krazy Kiya Re', '4940.00 ',\n",
      "       ''], dtype=object), array([19850, '', '', '', '5296.00 ', 241, 'Stage shows', '',\n",
      "       '02 Oct, 2008', 'Oct 02 2008', '', '', 'Lahore Lahore A',\n",
      "       '8739.00 ', ''], dtype=object), array([19852, '', '', '', '1936.00 ', 240, 'Stage shows', '',\n",
      "       '01 Oct, 2008', 'Oct 01 2008', '', '', 'Mojan-e-Mojan', '3149.00 ',\n",
      "       ''], dtype=object), array([19869, '', '', '', '9487.00 ', 220, 'Stage shows', '',\n",
      "       '09 Sep, 2008', 'Sep 09 2008', '', '', 'Miss 2006', '24519.00 ',\n",
      "       ''], dtype=object), array([19870, '', '', '', '5075.00 ', 221, 'Stage shows', '',\n",
      "       '09 Sep, 2008', 'Sep 09 2008', '', '', 'Miss 2007', '12786.00 ',\n",
      "       ''], dtype=object), array([19880, '', '', '', '3863.00 ', 211, 'Anime / Kids', '',\n",
      "       '21 Aug, 2008', 'Aug 21 2008', '', '', 'Barnyard 2008',\n",
      "       '10831.00 ', ''], dtype=object), array([19884, '', '', '', '309.00 ', 371669, 'Wrestling', 'English',\n",
      "       '10 Feb, 2023', 'Feb 09 2023', '', '', 'TNA.Impact 2023-02-09',\n",
      "       '1400.00 ', ''], dtype=object), array([19885, '', '', '', '2613.00 ', 371816, 'Wrestling', 'English',\n",
      "       '14 Feb, 2023', 'Feb 13 2023', '', '', 'WWE Raw 2023-02-13',\n",
      "       '6679.00 ', ''], dtype=object), array([19889, '', '', '', '7925.00 ', 208, 'Stage shows', '',\n",
      "       '17 Aug, 2008', 'Aug 17 2008', '', '', 'Hum Sub Umeed',\n",
      "       '11929.00 ', ''], dtype=object), array([19893, '', '', '', '5317.00 ', 206, 'Anime / Kids', '',\n",
      "       '08 Aug, 2008', 'Aug 08 2008', '', '', 'Garfields Fun Fast 2008',\n",
      "       '14413.00 ', ''], dtype=object), array([19895, '', '', '', '7671.00 ', 201, 'Stage shows', '',\n",
      "       '07 Aug, 2008', 'Aug 07 2008', '', '', 'Roti Khol Dayo 2',\n",
      "       '10898.00 ', ''], dtype=object), array([19898, '', '', '', '1066.00 ', 204, 'Anime / Kids', '',\n",
      "       '06 Aug, 2008', 'Aug 06 2008', '', '', 'Space Chimps', '4561.00 ',\n",
      "       ''], dtype=object), array([19900, '', '', '', '3860.00 ', 126, 'Stage shows', '',\n",
      "       '05 Aug, 2008', 'Aug 05 2008', '', '', 'Welcome', '9437.00 ', ''],\n",
      "      dtype=object), array([19901, '', '', '', '2463.00 ', 191, 'Stage shows', '',\n",
      "       '04 Aug, 2008', 'Aug 04 2008', '', '',\n",
      "       'Aashiq Howe Tere Warga.2008', '8772.00 ', ''], dtype=object), array([19902, '', '', '', '4505.00 ', 192, 'Stage shows', '',\n",
      "       '04 Aug, 2008', 'Aug 04 2008', '', '', 'Badnam Gali Ki Reshma',\n",
      "       '9298.00 ', ''], dtype=object), array([19903, '', '', '', '4057.00 ', 194, 'Stage shows', '',\n",
      "       '04 Aug, 2008', 'Aug 04 2008', '', '', 'Darbar Lagao', '9311.00 ',\n",
      "       ''], dtype=object), array([19904, '', '', '', '2110.00 ', 195, 'Stage shows', '',\n",
      "       '04 Aug, 2008', 'Aug 04 2008', '', '', 'Gal Mook Gai', '3526.00 ',\n",
      "       ''], dtype=object), array([19905, '', '', '', '2250.00 ', 197, 'Stage shows', '',\n",
      "       '04 Aug, 2008', 'Aug 04 2008', '', '', 'Mehboob Hazar Ho',\n",
      "       '4455.00 ', ''], dtype=object), array([19906, '', '', '', '3707.00 ', 198, 'Stage shows', '',\n",
      "       '04 Aug, 2008', 'Aug 04 2008', '', '', 'Walley Nikamey',\n",
      "       '5002.00 ', ''], dtype=object), array([19907, '', '', '', '1930.00 ', 199, 'Stage shows', '',\n",
      "       '04 Aug, 2008', 'Aug 04 2008', '', '',\n",
      "       'Ishq Huwa Chori Chori 2008', '7217.00 ', ''], dtype=object), array([19908, '', '', '', '2337.00 ', 193, 'Stage shows', '',\n",
      "       '03 Aug, 2008', 'Aug 03 2008', '', '', 'Chak Day Phattay',\n",
      "       '5910.00 ', ''], dtype=object), array([19909, '', '', '', '2513.00 ', 196, 'Stage shows', '',\n",
      "       '03 Aug, 2008', 'Aug 03 2008', '', '', 'Kuj Karlay Mera',\n",
      "       '4345.00 ', ''], dtype=object), array([19922, '', '', '', '309.00 ', 371669, 'Wrestling', 'English',\n",
      "       '10 Feb, 2023', 'Feb 09 2023', '', '', 'TNA.Impact 2023-02-09',\n",
      "       '1401.00 ', ''], dtype=object), array([19923, '', '', '', '2613.00 ', 371816, 'Wrestling', 'English',\n",
      "       '14 Feb, 2023', 'Feb 13 2023', '', '', 'WWE Raw 2023-02-13',\n",
      "       '6680.00 ', ''], dtype=object), array([19960, '', '', '', '309.00 ', 371669, 'Wrestling', 'English',\n",
      "       '10 Feb, 2023', 'Feb 09 2023', '', '', 'TNA.Impact 2023-02-09',\n",
      "       '1402.00 ', ''], dtype=object), array([19961, '', '', '', '2613.00 ', 371816, 'Wrestling', 'English',\n",
      "       '14 Feb, 2023', 'Feb 13 2023', '', '', 'WWE Raw 2023-02-13',\n",
      "       '6681.00 ', ''], dtype=object), array([19975, '', '', '', '10682.00 ', 202, 'Stage shows', '',\n",
      "       '11 Jan, 2008', 'Jan 11 2008', '', '', 'Hum Sa Hoto Samnay Aay',\n",
      "       '15247.00 ', ''], dtype=object), array([19998, '', '', '', '309.00 ', 371669, 'Wrestling', 'English',\n",
      "       '10 Feb, 2023', 'Feb 09 2023', '', '', 'TNA.Impact 2023-02-09',\n",
      "       '1403.00 ', ''], dtype=object), array([19999, '', '', '', '2613.00 ', 371816, 'Wrestling', 'English',\n",
      "       '14 Feb, 2023', 'Feb 13 2023', '', '', 'WWE Raw 2023-02-13',\n",
      "       '6682.00 ', ''], dtype=object), array([20036, '', '', '', '309.00 ', 371669, 'Wrestling', 'English',\n",
      "       '10 Feb, 2023', 'Feb 09 2023', '', '', 'TNA.Impact 2023-02-09',\n",
      "       '1404.00 ', ''], dtype=object), array([20037, '', '', '', '2613.00 ', 371816, 'Wrestling', 'English',\n",
      "       '14 Feb, 2023', 'Feb 13 2023', '', '', 'WWE Raw 2023-02-13',\n",
      "       '6683.00 ', ''], dtype=object), array([20052, '', '', 'Kaaran Choudhary', '4089.00 ', 110,\n",
      "       'Bollywood / Indian', 'Hindi', '22 Sep, 2006', 'Sep 22 2006',\n",
      "       '133',\n",
      "       \"After getting accolades and even  for his maiden venture 'Paisa Phek Tamasha Dekh', Moradabad-born Producer, Subbu, the former personal assistant of Bollywood actress Maya, relates to a novice journalist, Rajat Prakash, as how he conned and duped his way up; his tryst with movie actors, financiers, and even extortionists, and how he ended up virtually a failure.\",\n",
      "       'Manoranjan: The Entertainment', '21467.00 ',\n",
      "       'Zahir Anwar, Karaan Choudhary, Sajan Harharpuri'], dtype=object), array([20074, '', '', '', '309.00 ', 371669, 'Wrestling', 'English',\n",
      "       '10 Feb, 2023', 'Feb 09 2023', '', '', 'TNA.Impact 2023-02-09',\n",
      "       '1405.00 ', ''], dtype=object), array([20075, '', '', '', '2613.00 ', 371816, 'Wrestling', 'English',\n",
      "       '14 Feb, 2023', 'Feb 13 2023', '', '', 'WWE Raw 2023-02-13',\n",
      "       '6684.00 ', ''], dtype=object), array([20112, '', '', '', '309.00 ', 371669, 'Wrestling', 'English',\n",
      "       '10 Feb, 2023', 'Feb 09 2023', '', '', 'TNA.Impact 2023-02-09',\n",
      "       '1407.00 ', ''], dtype=object), array([20113, '', '', '', '2613.00 ', 371816, 'Wrestling', 'English',\n",
      "       '14 Feb, 2023', 'Feb 13 2023', '', '', 'WWE Raw 2023-02-13',\n",
      "       '6685.00 ', ''], dtype=object), array([20118, '', '', '', '10381.00 ', 832, 'Stage shows', '',\n",
      "       '28 Jun, 2005', 'Apr 15 2010', '', '', 'Sallam Karachi',\n",
      "       '17906.00 ', ''], dtype=object), array([20150, '', '', '', '309.00 ', 371669, 'Wrestling', 'English',\n",
      "       '10 Feb, 2023', 'Feb 09 2023', '', '', 'TNA.Impact 2023-02-09',\n",
      "       '1408.00 ', ''], dtype=object), array([20151, '', '', '', '2613.00 ', 371816, 'Wrestling', 'English',\n",
      "       '14 Feb, 2023', 'Feb 13 2023', '', '', 'WWE Raw 2023-02-13',\n",
      "       '6686.00 ', ''], dtype=object), array([20188, '', '', '', '309.00 ', 371669, 'Wrestling', 'English',\n",
      "       '10 Feb, 2023', 'Feb 09 2023', '', '', 'TNA.Impact 2023-02-09',\n",
      "       '1409.00 ', ''], dtype=object), array([20189, '', '', '', '2613.00 ', 371816, 'Wrestling', 'English',\n",
      "       '14 Feb, 2023', 'Feb 13 2023', '', '', 'WWE Raw 2023-02-13',\n",
      "       '6687.00 ', ''], dtype=object), array([20226, '', '', '', '309.00 ', 371669, 'Wrestling', 'English',\n",
      "       '10 Feb, 2023', 'Feb 09 2023', '', '', 'TNA.Impact 2023-02-09',\n",
      "       '1410.00 ', ''], dtype=object), array([20227, '', '', '', '2613.00 ', 371816, 'Wrestling', 'English',\n",
      "       '14 Feb, 2023', 'Feb 13 2023', '', '', 'WWE Raw 2023-02-13',\n",
      "       '6688.00 ', ''], dtype=object), array([20264, '', '', '', '309.00 ', 371669, 'Wrestling', 'English',\n",
      "       '10 Feb, 2023', 'Feb 09 2023', '', '', 'TNA.Impact 2023-02-09',\n",
      "       '1411.00 ', ''], dtype=object), array([20265, '', '', '', '2613.00 ', 371816, 'Wrestling', 'English',\n",
      "       '14 Feb, 2023', 'Feb 13 2023', '', '', 'WWE Raw 2023-02-13',\n",
      "       '6689.00 ', ''], dtype=object), array([20271, '', '', '', '5575.00 ', 279, 'Anime / Kids', '',\n",
      "       '29 Jun, 1998', 'Jun 29 1998', '', '', 'Antz 1998', '15862.00 ',\n",
      "       ''], dtype=object), array([20302, '', '', '', '309.00 ', 371669, 'Wrestling', 'English',\n",
      "       '10 Feb, 2023', 'Feb 09 2023', '', '', 'TNA.Impact 2023-02-09',\n",
      "       '1412.00 ', ''], dtype=object), array([20303, '', '', '', '2613.00 ', 371816, 'Wrestling', 'English',\n",
      "       '14 Feb, 2023', 'Feb 13 2023', '', '', 'WWE Raw 2023-02-13',\n",
      "       '6690.00 ', ''], dtype=object), array([20340, '', '', '', '309.00 ', 371669, 'Wrestling', 'English',\n",
      "       '10 Feb, 2023', 'Feb 09 2023', '', '', 'TNA.Impact 2023-02-09',\n",
      "       '1413.00 ', ''], dtype=object), array([20341, '', '', '', '2613.00 ', 371816, 'Wrestling', 'English',\n",
      "       '14 Feb, 2023', 'Feb 13 2023', '', '', 'WWE Raw 2023-02-13',\n",
      "       '6691.00 ', ''], dtype=object), array([20378, '', '', '', '309.00 ', 371669, 'Wrestling', 'English',\n",
      "       '10 Feb, 2023', 'Feb 09 2023', '', '', 'TNA.Impact 2023-02-09',\n",
      "       '1414.00 ', ''], dtype=object), array([20379, '', '', '', '2613.00 ', 371816, 'Wrestling', 'English',\n",
      "       '14 Feb, 2023', 'Feb 13 2023', '', '', 'WWE Raw 2023-02-13',\n",
      "       '6692.00 ', ''], dtype=object), array([20416, '', '', '', '309.00 ', 371669, 'Wrestling', 'English',\n",
      "       '10 Feb, 2023', 'Feb 09 2023', '', '', 'TNA.Impact 2023-02-09',\n",
      "       '1415.00 ', ''], dtype=object), array([20417, '', '', '', '2613.00 ', 371816, 'Wrestling', 'English',\n",
      "       '14 Feb, 2023', 'Feb 13 2023', '', '', 'WWE Raw 2023-02-13',\n",
      "       '6693.00 ', ''], dtype=object), array([20454, '', '', '', '309.00 ', 371669, 'Wrestling', 'English',\n",
      "       '10 Feb, 2023', 'Feb 09 2023', '', '', 'TNA.Impact 2023-02-09',\n",
      "       '1416.00 ', ''], dtype=object), array([20455, '', '', '', '2613.00 ', 371816, 'Wrestling', 'English',\n",
      "       '14 Feb, 2023', 'Feb 13 2023', '', '', 'WWE Raw 2023-02-13',\n",
      "       '6694.00 ', ''], dtype=object), array([20458, '', '', '', '3002.00 ', 129, 'Stage shows', '',\n",
      "       '01 Jan, 1970', 'Jan 01 1970', '', '', 'Munda Pangi Sal Da',\n",
      "       '6362.00 ', ''], dtype=object), array([20459, '', '', '', '2628.00 ', 130, 'Stage shows', '',\n",
      "       '01 Jan, 1970', 'Jan 01 1970', '', '', 'Rusmalaiyan', '3928.00 ',\n",
      "       ''], dtype=object), array([20460, '', '', '', '2414.00 ', 131, 'Stage shows', '',\n",
      "       '01 Jan, 1970', 'Jan 01 1970', '', '', 'Sohni Day Nakhray Baday',\n",
      "       '3960.00 ', ''], dtype=object), array([20490, '', '', '', '1998.00 ', 28957, 'Bollywood / Indian',\n",
      "       'Hindi', '01 Jan, 1970', 'Mar 13 1959', '', '', 'Bhai-Bahen',\n",
      "       '6217.00 ', ''], dtype=object), array([20492, '', '', '', '309.00 ', 371669, 'Wrestling', 'English',\n",
      "       '10 Feb, 2023', 'Feb 09 2023', '', '', 'TNA.Impact 2023-02-09',\n",
      "       '1417.00 ', ''], dtype=object), array([20493, '', '', '', '2613.00 ', 371816, 'Wrestling', 'English',\n",
      "       '14 Feb, 2023', 'Feb 13 2023', '', '', 'WWE Raw 2023-02-13',\n",
      "       '6695.00 ', ''], dtype=object), array([20528, '', '', '', '1998.00 ', 28957, 'Bollywood / Indian',\n",
      "       'Hindi', '01 Jan, 1970', 'Mar 13 1959', '', '', 'Bhai-Bahen',\n",
      "       '6218.00 ', ''], dtype=object), array([20530, '', '', '', '309.00 ', 371669, 'Wrestling', 'English',\n",
      "       '10 Feb, 2023', 'Feb 09 2023', '', '', 'TNA.Impact 2023-02-09',\n",
      "       '1418.00 ', ''], dtype=object), array([20531, '', '', '', '2613.00 ', 371816, 'Wrestling', 'English',\n",
      "       '14 Feb, 2023', 'Feb 13 2023', '', '', 'WWE Raw 2023-02-13',\n",
      "       '6696.00 ', ''], dtype=object), array([20543, '', '', '', '1998.00 ', 28957, 'Bollywood / Indian',\n",
      "       'Hindi', '01 Jan, 1970', 'Mar 13 1959', '', '', 'Bhai-Bahen',\n",
      "       '6219.00 ', ''], dtype=object), array([20546, '', '', '', '309.00 ', 371669, 'Wrestling', 'English',\n",
      "       '10 Feb, 2023', 'Feb 09 2023', '', '', 'TNA.Impact 2023-02-09',\n",
      "       '1419.00 ', ''], dtype=object), array([20547, '', '', '', '2613.00 ', 371816, 'Wrestling', 'English',\n",
      "       '14 Feb, 2023', 'Feb 13 2023', '', '', 'WWE Raw 2023-02-13',\n",
      "       '6697.00 ', ''], dtype=object)]\n"
     ]
    }
   ],
   "source": [
    "index11,row11 = movies_dataset.get_row_index('IMDb-rating','')\n",
    "print(row11)"
   ]
  },
  {
   "cell_type": "code",
   "execution_count": 10,
   "metadata": {},
   "outputs": [],
   "source": [
    "movies_dataset.delete_row(index11,2)"
   ]
  },
  {
   "cell_type": "code",
   "execution_count": 11,
   "metadata": {},
   "outputs": [
    {
     "name": "stdout",
     "output_type": "stream",
     "text": [
      "0\n"
     ]
    },
    {
     "data": {
      "text/plain": [
       "0"
      ]
     },
     "execution_count": 11,
     "metadata": {},
     "output_type": "execute_result"
    }
   ],
   "source": [
    "# 删除后缺失值个数\n",
    "helper.count_none_after()"
   ]
  },
  {
   "cell_type": "markdown",
   "metadata": {},
   "source": [
    "**数据分布**"
   ]
  },
  {
   "cell_type": "code",
   "execution_count": 12,
   "metadata": {},
   "outputs": [],
   "source": [
    "helper2 = movies_dataset.col_helper(2)"
   ]
  },
  {
   "cell_type": "code",
   "execution_count": 13,
   "metadata": {},
   "outputs": [],
   "source": [
    "helper2.select_col('IMDb-rating')"
   ]
  },
  {
   "cell_type": "code",
   "execution_count": 14,
   "metadata": {},
   "outputs": [
    {
     "name": "stdout",
     "output_type": "stream",
     "text": [
      "Min: 1.1\n",
      "Q1: 4.8\n",
      "Q2: 5.7\n",
      "Q3: 6.6\n",
      "Max: 9.9\n"
     ]
    }
   ],
   "source": [
    "# 五数概括\n",
    "helper2.five_number()"
   ]
  },
  {
   "cell_type": "code",
   "execution_count": 15,
   "metadata": {},
   "outputs": [
    {
     "name": "stdout",
     "output_type": "stream",
     "text": [
      "[4.8 6.4 5.2 ... 7.2 7.7 8. ]\n"
     ]
    },
    {
     "data": {
      "image/png": "[encoded data removed]",
      "text/plain": [
       "<Figure size 1152x288 with 1 Axes>"
      ]
     },
     "metadata": {
      "needs_background": "light"
     },
     "output_type": "display_data"
    },
    {
     "name": "stdout",
     "output_type": "stream",
     "text": [
      "9.299999999999999\n"
     ]
    }
   ],
   "source": [
    "# 盒图\n",
    "helper2.box(16,4,'IMDb-rating')"
   ]
  },
  {
   "cell_type": "code",
   "execution_count": 16,
   "metadata": {
    "scrolled": true
   },
   "outputs": [
    {
     "data": {
      "image/png": "[encoded data removed]",
      "text/plain": [
       "<Figure size 1152x288 with 1 Axes>"
      ]
     },
     "metadata": {
      "needs_background": "light"
     },
     "output_type": "display_data"
    }
   ],
   "source": [
    "# 直方图\n",
    "helper2.normal_hist(16,4,'IMDb-rating','value')"
   ]
  },
  {
   "cell_type": "markdown",
   "metadata": {},
   "source": [
    "从盒图和直方图可以看出，大多数的电影评分接近正态分布，符合一般性规律"
   ]
  },
  {
   "cell_type": "markdown",
   "metadata": {},
   "source": [
    "### 3 appropriate_for (有缺失值)\n",
    "\n"
   ]
  },
  {
   "cell_type": "code",
   "execution_count": 17,
   "metadata": {},
   "outputs": [],
   "source": [
    "helper.select_col('appropriate_for')"
   ]
  },
  {
   "cell_type": "code",
   "execution_count": 18,
   "metadata": {},
   "outputs": [
    {
     "name": "stdout",
     "output_type": "stream",
     "text": [
      "9476\n"
     ]
    },
    {
     "data": {
      "text/plain": [
       "9476"
      ]
     },
     "execution_count": 18,
     "metadata": {},
     "output_type": "execute_result"
    }
   ],
   "source": [
    "helper.count_none('')"
   ]
  },
  {
   "cell_type": "markdown",
   "metadata": {},
   "source": [
    "有9476个缺失值，这里猜测，由于盗版电影网站不一定会那么全面的数据，因此猜测是数据不全造成的\n",
    "\n",
    "这里可以进行缺失值的处理方式有以下几种：\n",
    "\n",
    "删除所有缺失数据\n",
    "\n",
    "将缺失数据用中位数或平均数值代替\n",
    "\n",
    "利用数据对象的相关性进行填补\n",
    "\n",
    "利用属性的相关性进行填补"
   ]
  },
  {
   "cell_type": "code",
   "execution_count": 19,
   "metadata": {},
   "outputs": [
    {
     "data": {
      "text/plain": [
       "                  9476\n",
       "R                 4384\n",
       "Not Rated         2142\n",
       "PG-13             1968\n",
       "PG                 886\n",
       "TV-14              694\n",
       "TV-MA              406\n",
       "G                  152\n",
       "Unrated            132\n",
       "TV-PG              115\n",
       "TV-G                99\n",
       "TV-Y7               45\n",
       "TV-Y                25\n",
       "Approved             9\n",
       "NC-17                4\n",
       "TV-Y7-FV             3\n",
       "Passed               3\n",
       "MA-17                1\n",
       "TV-13                1\n",
       "Drama                1\n",
       "Drama, Romance       1\n",
       "18+                  1\n",
       "Name: appropriate_for, dtype: int64"
      ]
     },
     "execution_count": 19,
     "metadata": {},
     "output_type": "execute_result"
    }
   ],
   "source": [
    "helper.data2['appropriate_for'].value_counts()"
   ]
  },
  {
   "cell_type": "code",
   "execution_count": 20,
   "metadata": {},
   "outputs": [
    {
     "data": {
      "image/png": "[encoded data removed]",
      "text/plain": [
       "<Figure size 3240x432 with 1 Axes>"
      ]
     },
     "metadata": {
      "needs_background": "light"
     },
     "output_type": "display_data"
    }
   ],
   "source": [
    "helper.hist_bar(45,6,20)"
   ]
  },
  {
   "cell_type": "code",
   "execution_count": 21,
   "metadata": {},
   "outputs": [
    {
     "name": "stdout",
     "output_type": "stream",
     "text": [
      "[3, 4, 5, 9, 10, 11, 12, 16, 18, 19, 20, 22, 23, 24, 27, 30, 35, 37, 38, 39, 41, 43, 44, 49, 51, 52, 53, 54, 55, 57, 58, 60, 61, 62, 63, 64, 65, 66, 69, 70, 71, 73, 75, 76, 77, 81, 82, 83, 85, 87, 92, 93, 94, 97, 100, 101, 102, 103, 104, 105, 107, 109, 110, 111, 112, 114, 115, 116, 120, 121, 122, 125, 126, 127, 129, 131, 133, 134, 136, 137, 138, 139, 140, 142, 146, 147, 148, 149, 150, 152, 154, 155, 156, 157, 158, 159, 162, 163, 164, 165, 166, 167, 169, 170, 171, 173, 175, 178, 180, 181, 182, 183, 184, 185, 186, 188, 191, 193, 195, 196, 200, 201, 203, 204, 205, 207, 208, 209, 210, 211, 213, 214, 215, 217, 219, 220, 225, 226, 228, 229, 230, 232, 233, 234, 237, 238, 239, 240, 241, 242, 243, 246, 247, 248, 249, 251, 254, 255, 257, 258, 259, 261, 263, 265, 266, 267, 268, 272, 273, 274, 277, 278, 279, 280, 282, 287, 288, 289, 290, 291, 292, 293, 297, 301, 302, 303, 305, 307, 310, 311, 313, 314, 315, 316, 317, 318, 319, 321, 322, 323, 325, 326, 327, 328, 329, 332, 334, 335, 337, 338, 339, 340, 341, 343, 345, 346, 347, 349, 351, 352, 354, 355, 356, 357, 358, 360, 362, 364, 365, 366, 374, 375, 376, 377, 378, 381, 382, 383, 385, 386, 389, 390, 391, 393, 395, 398, 399, 400, 401, 402, 403, 406, 408, 412, 413, 414, 415, 417, 418, 420, 422, 423, 424, 425, 426, 427, 428, 431, 433, 434, 435, 437, 439, 442, 443, 447, 448, 449, 450, 451, 452, 453, 454, 457, 459, 460, 461, 462, 464, 465, 466, 469, 470, 471, 472, 475, 477, 478, 479, 481, 483, 484, 488, 489, 490, 493, 496, 497, 499, 500, 502, 504, 505, 506, 507, 510, 514, 516, 517, 518, 521, 522, 523, 525, 527, 533, 534, 535, 536, 539, 540, 541, 542, 543, 544, 545, 546, 547, 548, 549, 550, 552, 553, 554, 555, 556, 563, 565, 566, 567, 569, 571, 572, 577, 578, 579, 586, 591, 600, 601, 602, 603, 604, 606, 609, 610, 611, 613, 615, 621, 625, 626, 627, 628, 629, 632, 633, 634, 640, 642, 643, 644, 645, 646, 647, 649, 651, 653, 654, 655, 657, 659, 661, 662, 663, 664, 667, 672, 673, 674, 675, 676, 677, 678, 681, 682, 683, 688, 692, 694, 695, 697, 698, 699, 701, 703, 704, 705, 708, 715, 716, 717, 719, 721, 722, 724, 725, 726, 731, 733, 734, 738, 739, 741, 742, 743, 745, 747, 748, 752, 753, 754, 760, 761, 762, 763, 765, 766, 768, 769, 770, 771, 772, 777, 778, 779, 780, 782, 785, 786, 787, 789, 791, 793, 795, 798, 799, 802, 805, 806, 807, 810, 812, 813, 814, 815, 816, 817, 818, 821, 822, 823, 825, 829, 830, 831, 833, 835, 836, 837, 843, 844, 848, 849, 851, 853, 854, 855, 857, 858, 860, 863, 864, 865, 867, 869, 873, 874, 875, 877, 879, 882, 884, 886, 890, 893, 896, 897, 898, 902, 904, 905, 906, 907, 914, 917, 918, 919, 921, 923, 924, 927, 928, 929, 932, 933, 934, 935, 937, 938, 939, 943, 944, 945, 947, 948, 951, 952, 953, 961, 962, 963, 965, 967, 968, 971, 972, 974, 975, 976, 977, 978, 980, 981, 982, 985, 988, 989, 994, 995, 998, 999, 1005, 1006, 1007, 1009, 1011, 1012, 1015, 1017, 1018, 1020, 1025, 1026, 1027, 1029, 1030, 1031, 1033, 1035, 1036, 1037, 1038, 1039, 1040, 1045, 1046, 1049, 1050, 1051, 1053, 1055, 1059, 1062, 1063, 1064, 1065, 1066, 1068, 1069, 1070, 1073, 1084, 1085, 1086, 1087, 1089, 1090, 1093, 1094, 1095, 1097, 1099, 1101, 1103, 1105, 1106, 1112, 1113, 1114, 1116, 1120, 1121, 1122, 1123, 1126, 1127, 1128, 1134, 1137, 1138, 1139, 1141, 1143, 1145, 1147, 1149, 1150, 1155, 1159, 1160, 1165, 1166, 1167, 1168, 1171, 1172, 1173, 1174, 1179, 1181, 1182, 1183, 1185, 1187, 1188, 1189, 1190, 1192, 1195, 1199, 1202, 1206, 1207, 1209, 1210, 1212, 1214, 1215, 1217, 1218, 1219, 1220, 1225, 1226, 1227, 1229, 1231, 1241, 1242, 1248, 1249, 1250, 1251, 1254, 1256, 1257, 1258, 1259, 1260, 1261, 1265, 1269, 1270, 1271, 1273, 1275, 1280, 1281, 1283, 1284, 1285, 1287, 1290, 1291, 1292, 1293, 1294, 1295, 1296, 1297, 1298, 1303, 1305, 1307, 1308, 1310, 1311, 1313, 1314, 1315, 1317, 1319, 1320, 1321, 1325, 1326, 1329, 1330, 1331, 1332, 1333, 1334, 1336, 1341, 1342, 1344, 1347, 1348, 1349, 1352, 1354, 1355, 1357, 1358, 1359, 1361, 1363, 1365, 1366, 1368, 1369, 1373, 1374, 1375, 1379, 1382, 1383, 1386, 1387, 1389, 1390, 1391, 1393, 1394, 1395, 1397, 1398, 1399, 1401, 1402, 1403, 1405, 1407, 1411, 1412, 1415, 1416, 1417, 1418, 1419, 1421, 1424, 1426, 1427, 1429, 1430, 1432, 1433, 1437, 1440, 1441, 1442, 1443, 1445, 1446, 1447, 1449, 1451, 1453, 1454, 1456, 1458, 1459, 1461, 1462, 1463, 1464, 1468, 1469, 1471, 1472, 1477, 1479, 1481, 1482, 1487, 1489, 1490, 1491, 1493, 1495, 1496, 1502, 1503, 1506, 1507, 1508, 1509, 1514, 1515, 1516, 1518, 1521, 1522, 1523, 1524, 1527, 1528, 1529, 1533, 1534, 1535, 1537, 1539, 1540, 1541, 1544, 1545, 1546, 1548, 1549, 1550, 1553, 1555, 1558, 1560, 1562, 1563, 1564, 1565, 1567, 1570, 1573, 1575, 1577, 1578, 1579, 1581, 1583, 1585, 1586, 1587, 1588, 1589, 1590, 1591, 1592, 1594, 1595, 1596, 1597, 1600, 1601, 1602, 1604, 1605, 1609, 1610, 1612, 1613, 1614, 1615, 1616, 1618, 1621, 1622, 1623, 1625, 1627, 1630, 1632, 1642, 1644, 1646, 1650, 1652, 1653, 1654, 1657, 1658, 1659, 1665, 1666, 1667, 1669, 1671, 1673, 1678, 1679, 1681, 1682, 1683, 1685, 1686, 1687, 1688, 1689, 1690, 1692, 1693, 1695, 1696, 1698, 1700, 1705, 1706, 1709, 1710, 1711, 1713, 1715, 1717, 1718, 1719, 1720, 1722, 1729, 1736, 1737, 1738, 1741, 1742, 1743, 1744, 1745, 1747, 1748, 1749, 1751, 1753, 1754, 1755, 1757, 1759, 1760, 1762, 1764, 1765, 1766, 1768, 1770, 1775, 1776, 1777, 1778, 1780, 1784, 1786, 1787, 1788, 1789, 1790, 1791, 1792, 1793, 1794, 1795, 1797, 1798, 1799, 1801, 1803, 1804, 1805, 1806, 1807, 1811, 1814, 1815, 1816, 1817, 1819, 1820, 1824, 1825, 1831, 1832, 1833, 1834, 1836, 1841, 1842, 1843, 1845, 1847, 1849, 1851, 1852, 1853, 1854, 1855, 1856, 1858, 1859, 1860, 1861, 1862, 1863, 1864, 1867, 1870, 1871, 1874, 1876, 1878, 1881, 1883, 1885, 1886, 1887, 1889, 1891, 1892, 1893, 1894, 1896, 1897, 1898, 1899, 1900, 1903, 1904, 1905, 1906, 1908, 1909, 1910, 1911, 1912, 1914, 1915, 1916, 1917, 1918, 1919, 1922, 1923, 1924, 1925, 1927, 1929, 1930, 1931, 1933, 1935, 1936, 1938, 1941, 1942, 1943, 1950, 1952, 1954, 1956, 1957, 1959, 1960, 1965, 1966, 1967, 1969, 1970, 1971, 1973, 1974, 1975, 1977, 1979, 1988, 1990, 1992, 1993, 1997, 2000, 2001, 2002, 2004, 2005, 2007, 2009, 2014, 2015, 2017, 2018, 2019, 2021, 2023, 2024, 2026, 2027, 2032, 2033, 2035, 2036, 2037, 2039, 2040, 2046, 2051, 2052, 2055, 2056, 2058, 2061, 2062, 2063, 2065, 2067, 2069, 2070, 2073, 2074, 2076, 2077, 2078, 2081, 2083, 2087, 2088, 2089, 2091, 2093, 2094, 2095, 2096, 2097, 2100, 2102, 2103, 2105, 2106, 2107, 2109, 2111, 2112, 2113, 2114, 2115, 2116, 2118, 2119, 2120, 2124, 2126, 2131, 2135, 2137, 2138, 2140, 2141, 2142, 2143, 2144, 2149, 2150, 2151, 2153, 2155, 2156, 2157, 2158, 2159, 2165, 2166, 2167, 2168, 2169, 2171, 2175, 2179, 2180, 2181, 2183, 2184, 2185, 2186, 2189, 2193, 2194, 2195, 2197, 2199, 2203, 2204, 2205, 2206, 2209, 2210, 2217, 2221, 2223, 2224, 2225, 2226, 2228, 2229, 2230, 2231, 2232, 2233, 2235, 2237, 2238, 2239, 2241, 2243, 2244, 2247, 2248, 2250, 2251, 2253, 2256, 2259, 2260, 2264, 2265, 2266, 2267, 2269, 2270, 2271, 2281, 2282, 2283, 2285, 2287, 2288, 2289, 2290, 2291, 2292, 2293, 2294, 2295, 2298, 2299, 2302, 2307, 2308, 2309, 2310, 2311, 2312, 2313, 2314, 2315, 2316, 2317, 2318, 2319, 2320, 2321, 2322, 2323, 2325, 2326, 2327, 2329, 2331, 2337, 2340, 2342, 2346, 2347, 2348, 2351, 2354, 2355, 2357, 2358, 2359, 2360, 2369, 2370, 2371, 2373, 2375, 2376, 2377, 2379, 2382, 2383, 2387, 2388, 2391, 2393, 2394, 2397, 2401, 2402, 2403, 2408, 2410, 2411, 2413, 2414, 2415, 2417, 2419, 2420, 2421, 2422, 2423, 2425, 2426, 2427, 2428, 2429, 2431, 2432, 2433, 2434, 2435, 2437, 2438, 2440, 2442, 2445, 2446, 2447, 2448, 2452, 2453, 2457, 2458, 2459, 2461, 2463, 2464, 2466, 2468, 2471, 2472, 2473, 2475, 2476, 2477, 2478, 2479, 2481, 2483, 2484, 2487, 2488, 2489, 2494, 2496, 2498, 2499, 2501, 2502, 2503, 2505, 2507, 2508, 2509, 2510, 2512, 2514, 2516, 2517, 2519, 2523, 2525, 2526, 2527, 2529, 2530, 2533, 2536, 2537, 2538, 2539, 2542, 2545, 2546, 2547, 2549, 2551, 2553, 2556, 2557, 2558, 2559, 2560, 2561, 2562, 2563, 2564, 2566, 2570, 2573, 2576, 2577, 2579, 2580, 2582, 2585, 2587, 2589, 2590, 2591, 2593, 2595, 2597, 2598, 2599, 2601, 2602, 2603, 2605, 2606, 2607, 2612, 2613, 2619, 2623, 2624, 2626, 2627, 2628, 2630, 2631, 2633, 2634, 2635, 2637, 2639, 2641, 2642, 2645, 2650, 2651, 2652, 2653, 2654, 2655, 2656, 2658, 2661, 2662, 2664, 2666, 2667, 2672, 2673, 2675, 2677, 2678, 2679, 2681, 2683, 2685, 2690, 2691, 2692, 2693, 2694, 2696, 2697, 2698, 2700, 2704, 2708, 2709, 2710, 2711, 2713, 2714, 2715, 2721, 2722, 2723, 2725, 2727, 2728, 2729, 2731, 2733, 2734, 2735, 2736, 2737, 2739, 2741, 2744, 2745, 2746, 2747, 2748, 2749, 2751, 2753, 2755, 2756, 2757, 2758, 2760, 2761, 2765, 2766, 2767, 2769, 2771, 2780, 2784, 2785, 2791, 2793, 2794, 2795, 2796, 2797, 2798, 2800, 2801, 2802, 2803, 2807, 2809, 2810, 2811, 2813, 2815, 2816, 2821, 2822, 2823, 2828, 2830, 2831, 2835, 2836, 2837, 2838, 2840, 2841, 2843, 2846, 2849, 2850, 2851, 2853, 2854, 2855, 2857, 2859, 2860, 2861, 2862, 2863, 2864, 2865, 2867, 2869, 2870, 2872, 2873, 2880, 2881, 2882, 2883, 2884, 2885, 2886, 2888, 2889, 2890, 2891, 2892, 2893, 2895, 2897, 2898, 2899, 2901, 2903, 2904, 2905, 2906, 2910, 2911, 2912, 2913, 2915, 2917, 2919, 2920, 2922, 2925, 2926, 2928, 2929, 2930, 2934, 2935, 2938, 2941, 2942, 2943, 2945, 2947, 2948, 2949, 2950, 2953, 2956, 2957, 2960, 2962, 2963, 2964, 2965, 2966, 2967, 2968, 2975, 2976, 2977, 2978, 2979, 2980, 2982, 2983, 2985, 2986, 2987, 2989, 2991, 2993, 2997, 2998, 2999, 3000, 3002, 3007, 3009, 3012, 3014, 3016, 3017, 3018, 3019, 3020, 3021, 3022, 3023, 3024, 3025, 3026, 3027, 3029, 3030, 3031, 3033, 3035, 3036, 3039, 3040, 3042, 3044, 3045, 3047, 3055, 3056, 3057, 3058, 3059, 3061, 3063, 3065, 3066, 3067, 3068, 3069, 3070, 3073, 3074, 3075, 3077, 3079, 3082, 3083, 3085, 3090, 3092, 3093, 3096, 3105, 3106, 3110, 3111, 3112, 3117, 3118, 3119, 3121, 3123, 3126, 3127, 3129, 3131, 3132, 3133, 3134, 3135, 3136, 3137, 3138, 3139, 3141, 3143, 3144, 3149, 3150, 3153, 3154, 3155, 3156, 3157, 3158, 3159, 3161, 3162, 3163, 3165, 3167, 3168, 3172, 3173, 3174, 3176, 3177, 3180, 3181, 3183, 3184, 3186, 3187, 3189, 3199, 3200, 3205, 3206, 3207, 3209, 3211, 3220, 3221, 3224, 3225, 3227, 3228, 3229, 3230, 3234, 3235, 3236, 3237, 3241, 3243, 3244, 3246, 3247, 3249, 3250, 3251, 3253, 3255, 3256, 3257, 3258, 3259, 3260, 3261, 3267, 3268, 3269, 3272, 3274, 3275, 3276, 3277, 3279, 3280, 3281, 3282, 3283, 3284, 3285, 3287, 3289, 3293, 3294, 3295, 3297, 3299, 3304, 3309, 3310, 3315, 3316, 3318, 3319, 3323, 3327, 3328, 3329, 3330, 3331, 3334, 3335, 3337, 3338, 3339, 3341, 3343, 3344, 3346, 3348, 3349, 3350, 3353, 3354, 3355, 3356, 3357, 3358, 3361, 3362, 3364, 3366, 3367, 3368, 3370, 3371, 3372, 3374, 3377, 3379, 3381, 3382, 3383, 3385, 3387, 3388, 3390, 3393, 3397, 3401, 3405, 3409, 3410, 3411, 3412, 3413, 3414, 3415, 3416, 3417, 3418, 3419, 3421, 3422, 3423, 3425, 3426, 3427, 3429, 3431, 3435, 3440, 3443, 3444, 3445, 3447, 3448, 3449, 3450, 3451, 3452, 3454, 3455, 3456, 3457, 3460, 3461, 3462, 3463, 3465, 3466, 3467, 3469, 3470, 3471, 3473, 3475, 3476, 3477, 3478, 3479, 3481, 3486, 3487, 3489, 3491, 3493, 3494, 3495, 3496, 3497, 3498, 3499, 3500, 3502, 3507, 3508, 3509, 3510, 3511, 3513, 3514, 3515, 3517, 3519, 3524, 3529, 3531, 3534, 3537, 3538, 3539, 3541, 3542, 3544, 3545, 3546, 3547, 3548, 3550, 3551, 3552, 3555, 3557, 3558, 3559, 3561, 3563, 3564, 3565, 3566, 3570, 3571, 3572, 3573, 3575, 3579, 3581, 3582, 3583, 3584, 3585, 3586, 3589, 3590, 3591, 3592, 3593, 3594, 3595, 3596, 3597, 3599, 3601, 3602, 3603, 3605, 3607, 3609, 3610, 3612, 3613, 3614, 3615, 3616, 3617, 3618, 3619, 3620, 3621, 3622, 3623, 3624, 3626, 3629, 3632, 3634, 3635, 3637, 3639, 3640, 3641, 3642, 3643, 3645, 3646, 3647, 3649, 3651, 3655, 3656, 3658, 3659, 3660, 3662, 3663, 3664, 3665, 3667, 3668, 3669, 3671, 3672, 3676, 3678, 3679, 3680, 3682, 3683, 3684, 3685, 3686, 3687, 3689, 3690, 3691, 3693, 3695, 3696, 3697, 3698, 3700, 3705, 3706, 3707, 3709, 3711, 3713, 3714, 3715, 3721, 3722, 3723, 3724, 3726, 3727, 3728, 3729, 3730, 3731, 3733, 3734, 3735, 3737, 3739, 3742, 3745, 3746, 3747, 3749, 3750, 3751, 3752, 3753, 3755, 3759, 3762, 3763, 3765, 3767, 3768, 3774, 3775, 3777, 3778, 3779, 3781, 3783, 3784, 3785, 3786, 3787, 3788, 3791, 3792, 3793, 3796, 3797, 3798, 3801, 3802, 3803, 3804, 3805, 3807, 3809, 3813, 3815, 3817, 3818, 3821, 3822, 3823, 3825, 3827, 3831, 3832, 3833, 3834, 3835, 3836, 3839, 3840, 3841, 3843, 3845, 3847, 3849, 3851, 3852, 3853, 3854, 3855, 3856, 3857, 3859, 3860, 3861, 3862, 3863, 3865, 3866, 3867, 3869, 3871, 3872, 3878, 3880, 3883, 3884, 3886, 3887, 3889, 3890, 3894, 3895, 3896, 3902, 3904, 3905, 3907, 3909, 3910, 3911, 3913, 3915, 3916, 3917, 3919, 3920, 3921, 3924, 3926, 3930, 3931, 3932, 3935, 3936, 3937, 3938, 3939, 3941, 3942, 3948, 3953, 3954, 3955, 3957, 3959, 3962, 3963, 3965, 3966, 3969, 3975, 3978, 3979, 3981, 3985, 3986, 3988, 3989, 3990, 3991, 3992, 3993, 3997, 3998, 3999, 4001, 4003, 4005, 4006, 4007, 4008, 4009, 4010, 4011, 4012, 4013, 4014, 4015, 4018, 4020, 4021, 4022, 4027, 4029, 4030, 4033, 4034, 4037, 4039, 4041, 4042, 4043, 4045, 4047, 4048, 4049, 4050, 4052, 4056, 4057, 4064, 4066, 4067, 4068, 4071, 4072, 4074, 4075, 4080, 4081, 4082, 4083, 4085, 4086, 4087, 4089, 4091, 4092, 4093, 4094, 4096, 4097, 4098, 4099, 4104, 4105, 4106, 4107, 4108, 4109, 4110, 4112, 4114, 4116, 4117, 4120, 4121, 4122, 4123, 4124, 4125, 4126, 4129, 4130, 4131, 4133, 4135, 4137, 4138, 4139, 4141, 4142, 4146, 4147, 4150, 4151, 4152, 4157, 4158, 4160, 4163, 4167, 4168, 4170, 4173, 4174, 4175, 4177, 4179, 4182, 4184, 4185, 4186, 4188, 4190, 4195, 4196, 4198, 4199, 4201, 4202, 4203, 4204, 4206, 4207, 4210, 4211, 4212, 4213, 4215, 4217, 4218, 4219, 4221, 4223, 4224, 4225, 4226, 4230, 4231, 4232, 4234, 4240, 4241, 4243, 4244, 4251, 4255, 4256, 4257, 4258, 4261, 4262, 4263, 4265, 4267, 4268, 4269, 4272, 4273, 4274, 4275, 4276, 4278, 4282, 4283, 4284, 4285, 4286, 4287, 4291, 4295, 4296, 4297, 4300, 4301, 4302, 4303, 4305, 4306, 4307, 4309, 4311, 4313, 4317, 4318, 4319, 4320, 4321, 4322, 4330, 4331, 4332, 4335, 4337, 4339, 4340, 4341, 4343, 4347, 4349, 4350, 4351, 4353, 4355, 4356, 4359, 4361, 4362, 4364, 4368, 4372, 4375, 4376, 4377, 4378, 4379, 4380, 4382, 4383, 4384, 4385, 4386, 4387, 4391, 4393, 4394, 4395, 4397, 4399, 4400, 4401, 4403, 4405, 4407, 4408, 4409, 4411, 4412, 4413, 4414, 4415, 4418, 4419, 4420, 4421, 4422, 4423, 4424, 4425, 4426, 4428, 4429, 4433, 4434, 4435, 4437, 4438, 4439, 4441, 4443, 4447, 4448, 4449, 4450, 4452, 4453, 4454, 4455, 4456, 4458, 4459, 4460, 4464, 4468, 4471, 4472, 4473, 4474, 4475, 4476, 4477, 4478, 4479, 4481, 4482, 4483, 4485, 4487, 4492, 4493, 4494, 4496, 4506, 4509, 4510, 4511, 4512, 4514, 4515, 4517, 4518, 4521, 4522, 4523, 4525, 4526, 4527, 4529, 4531, 4532, 4535, 4537, 4542, 4544, 4545, 4546, 4549, 4550, 4551, 4553, 4554, 4558, 4559, 4560, 4569, 4570, 4571, 4573, 4575, 4576, 4578, 4580, 4581, 4582, 4583, 4584, 4585, 4588, 4590, 4591, 4595, 4598, 4599, 4600, 4602, 4603, 4604, 4605, 4606, 4607, 4610, 4611, 4613, 4614, 4615, 4617, 4619, 4620, 4621, 4622, 4625, 4627, 4629, 4630, 4631, 4632, 4634, 4638, 4639, 4640, 4641, 4642, 4643, 4644, 4646, 4647, 4649, 4650, 4651, 4652, 4657, 4658, 4659, 4661, 4663, 4666, 4671, 4672, 4674, 4675, 4676, 4677, 4683, 4685, 4686, 4687, 4688, 4689, 4691, 4692, 4693, 4694, 4695, 4699, 4701, 4702, 4703, 4705, 4707, 4708, 4709, 4711, 4713, 4714, 4715, 4716, 4717, 4718, 4719, 4720, 4721, 4722, 4723, 4724, 4725, 4726, 4727, 4729, 4731, 4734, 4736, 4737, 4738, 4739, 4741, 4743, 4745, 4746, 4747, 4749, 4751, 4752, 4753, 4755, 4756, 4757, 4762, 4763, 4764, 4766, 4767, 4771, 4773, 4780, 4781, 4782, 4783, 4786, 4789, 4790, 4791, 4793, 4795, 4798, 4799, 4800, 4804, 4805, 4808, 4809, 4810, 4811, 4812, 4813, 4814, 4815, 4816, 4818, 4821, 4822, 4825, 4826, 4827, 4829, 4830, 4831, 4833, 4834, 4835, 4837, 4839, 4842, 4846, 4848, 4849, 4850, 4851, 4852, 4853, 4857, 4862, 4863, 4864, 4865, 4866, 4867, 4868, 4870, 4872, 4873, 4874, 4875, 4877, 4878, 4879, 4881, 4883, 4886, 4887, 4888, 4889, 4892, 4894, 4895, 4896, 4897, 4898, 4900, 4901, 4902, 4903, 4904, 4905, 4906, 4907, 4909, 4910, 4914, 4915, 4917, 4921, 4922, 4923, 4925, 4927, 4928, 4929, 4930, 4931, 4934, 4937, 4938, 4939, 4941, 4942, 4943, 4950, 4953, 4954, 4955, 4956, 4957, 4958, 4959, 4961, 4962, 4963, 4965, 4966, 4967, 4969, 4971, 4973, 4976, 4977, 4978, 4979, 4980, 4981, 4982, 4983, 4984, 4986, 4991, 4992, 4993, 4995, 4997, 4998, 4999, 5000, 5004, 5006, 5007, 5009, 5010, 5011, 5013, 5015, 5021, 5022, 5023, 5024, 5025, 5026, 5027, 5028, 5029, 5030, 5031, 5032, 5034, 5036, 5038, 5040, 5042, 5043, 5045, 5046, 5053, 5054, 5055, 5057, 5059, 5060, 5061, 5063, 5064, 5067, 5068, 5069, 5070, 5071, 5072, 5073, 5074, 5075, 5079, 5080, 5081, 5082, 5083, 5084, 5087, 5090, 5092, 5093, 5095, 5097, 5098, 5099, 5101, 5103, 5104, 5105, 5110, 5112, 5115, 5116, 5117, 5120, 5121, 5122, 5123, 5124, 5126, 5128, 5130, 5131, 5132, 5133, 5134, 5135, 5136, 5137, 5141, 5142, 5143, 5145, 5147, 5150, 5151, 5152, 5154, 5159, 5160, 5161, 5162, 5164, 5165, 5166, 5167, 5168, 5169, 5170, 5171, 5172, 5173, 5174, 5175, 5179, 5181, 5185, 5186, 5187, 5189, 5191, 5192, 5193, 5194, 5197, 5199, 5203, 5204, 5205, 5206, 5208, 5211, 5212, 5213, 5214, 5216, 5217, 5218, 5223, 5224, 5225, 5226, 5227, 5229, 5230, 5231, 5233, 5235, 5236, 5239, 5240, 5242, 5243, 5246, 5249, 5250, 5251, 5255, 5256, 5257, 5258, 5259, 5260, 5261, 5264, 5265, 5266, 5267, 5269, 5270, 5271, 5273, 5274, 5275, 5277, 5279, 5280, 5281, 5282, 5284, 5285, 5286, 5287, 5288, 5289, 5291, 5295, 5296, 5297, 5299, 5300, 5302, 5303, 5304, 5305, 5309, 5310, 5311, 5312, 5313, 5314, 5315, 5317, 5318, 5319, 5321, 5323, 5324, 5325, 5326, 5328, 5330, 5331, 5332, 5333, 5334, 5335, 5337, 5338, 5339, 5341, 5342, 5349, 5350, 5351, 5353, 5354, 5355, 5356, 5357, 5358, 5359, 5361, 5362, 5363, 5365, 5367, 5372, 5377, 5381, 5383, 5384, 5385, 5389, 5392, 5396, 5399, 5403, 5405, 5406, 5407, 5409, 5411, 5413, 5414, 5415, 5417, 5418, 5420, 5423, 5424, 5425, 5426, 5428, 5429, 5430, 5432, 5433, 5437, 5439, 5440, 5444, 5446, 5449, 5450, 5451, 5453, 5455, 5456, 5457, 5458, 5460, 5461, 5465, 5467, 5468, 5469, 5471, 5472, 5474, 5477, 5480, 5481, 5485, 5486, 5488, 5489, 5493, 5494, 5495, 5497, 5499, 5500, 5506, 5509, 5511, 5512, 5514, 5517, 5519, 5520, 5521, 5522, 5524, 5525, 5528, 5529, 5530, 5537, 5538, 5539, 5541, 5543, 5544, 5547, 5548, 5549, 5556, 5557, 5560, 5565, 5568, 5569, 5570, 5571, 5572, 5573, 5576, 5579, 5581, 5582, 5583, 5585, 5587, 5590, 5591, 5592, 5596, 5597, 5599, 5600, 5607, 5608, 5609, 5610, 5612, 5613, 5614, 5615, 5616, 5617, 5621, 5622, 5623, 5625, 5626, 5627, 5629, 5631, 5634, 5636, 5637, 5638, 5639, 5641, 5642, 5644, 5645, 5647, 5648, 5649, 5653, 5655, 5656, 5660, 5663, 5665, 5666, 5667, 5669, 5670, 5671, 5673, 5675, 5679, 5680, 5683, 5684, 5686, 5689, 5690, 5691, 5692, 5694, 5695, 5696, 5697, 5698, 5699, 5701, 5703, 5704, 5705, 5709, 5713, 5714, 5715, 5717, 5719, 5725, 5727, 5730, 5731, 5732, 5733, 5735, 5736, 5738, 5739, 5740, 5743, 5745, 5746, 5747, 5751, 5752, 5753, 5754, 5755, 5757, 5758, 5759, 5761, 5763, 5766, 5767, 5768, 5769, 5770, 5773, 5776, 5777, 5778, 5779, 5781, 5782, 5783, 5785, 5786, 5790, 5791, 5792, 5794, 5796, 5797, 5801, 5802, 5803, 5805, 5807, 5809, 5811, 5812, 5822, 5823, 5824, 5825, 5828, 5830, 5831, 5834, 5835, 5837, 5838, 5841, 5842, 5843, 5845, 5846, 5847, 5849, 5851, 5853, 5854, 5860, 5866, 5867, 5868, 5870, 5872, 5873, 5878, 5881, 5882, 5883, 5884, 5885, 5886, 5889, 5890, 5891, 5893, 5895, 5900, 5901, 5902, 5904, 5905, 5907, 5909, 5910, 5913, 5918, 5919, 5920, 5924, 5925, 5926, 5928, 5929, 5930, 5933, 5934, 5935, 5937, 5939, 5940, 5941, 5942, 5944, 5945, 5950, 5952, 5957, 5958, 5959, 5960, 5961, 5964, 5968, 5969, 5971, 5972, 5975, 5977, 5978, 5979, 5981, 5983, 5988, 5989, 5990, 5991, 5992, 5993, 5997, 6000, 6001, 6004, 6005, 6006, 6007, 6010, 6011, 6015, 6018, 6019, 6021, 6022, 6023, 6025, 6027, 6031, 6034, 6037, 6038, 6042, 6043, 6044, 6050, 6053, 6055, 6058, 6061, 6062, 6065, 6066, 6067, 6069, 6071, 6072, 6075, 6076, 6078, 6079, 6082, 6086, 6087, 6088, 6089, 6090, 6091, 6092, 6093, 6097, 6098, 6099, 6102, 6103, 6104, 6105, 6106, 6107, 6109, 6110, 6111, 6113, 6115, 6117, 6118, 6119, 6120, 6121, 6122, 6127, 6128, 6129, 6131, 6133, 6134, 6135, 6140, 6142, 6143, 6144, 6145, 6146, 6147, 6148, 6151, 6153, 6154, 6155, 6157, 6159, 6164, 6165, 6166, 6168, 6169, 6171, 6178, 6181, 6183, 6184, 6187, 6188, 6189, 6191, 6192, 6193, 6194, 6195, 6197, 6198, 6199, 6201, 6203, 6204, 6205, 6206, 6207, 6215, 6216, 6217, 6219, 6221, 6222, 6223, 6224, 6228, 6229, 6237, 6239, 6241, 6242, 6243, 6245, 6247, 6253, 6255, 6259, 6260, 6266, 6268, 6269, 6271, 6272, 6279, 6280, 6281, 6282, 6283, 6285, 6286, 6287, 6289, 6291, 6295, 6296, 6300, 6301, 6305, 6306, 6307, 6308, 6311, 6312, 6313, 6314, 6315, 6316, 6317, 6327, 6329, 6330, 6331, 6333, 6335, 6336, 6338, 6340, 6341, 6342, 6344, 6346, 6347, 6348, 6349, 6354, 6355, 6360, 6361, 6362, 6364, 6365, 6368, 6373, 6374, 6375, 6377, 6379, 6384, 6385, 6386, 6387, 6388, 6390, 6391, 6392, 6393, 6394, 6397, 6401, 6403, 6404, 6406, 6407, 6408, 6410, 6411, 6412, 6414, 6415, 6417, 6418, 6419, 6421, 6423, 6425, 6432, 6433, 6434, 6437, 6440, 6443, 6444, 6445, 6449, 6452, 6453, 6455, 6456, 6457, 6459, 6461, 6462, 6463, 6465, 6467, 6469, 6471, 6472, 6473, 6478, 6480, 6481, 6483, 6485, 6488, 6491, 6496, 6497, 6498, 6500, 6502, 6503, 6505, 6506, 6507, 6509, 6511, 6512, 6514, 6517, 6518, 6519, 6521, 6522, 6523, 6524, 6525, 6528, 6530, 6531, 6532, 6537, 6540, 6543, 6544, 6547, 6549, 6550, 6551, 6553, 6555, 6556, 6557, 6558, 6559, 6563, 6566, 6567, 6569, 6570, 6575, 6576, 6577, 6580, 6581, 6582, 6583, 6584, 6586, 6587, 6588, 6589, 6590, 6593, 6594, 6595, 6597, 6599, 6602, 6603, 6604, 6605, 6606, 6608, 6609, 6610, 6611, 6612, 6613, 6615, 6618, 6624, 6627, 6628, 6631, 6632, 6634, 6637, 6638, 6639, 6641, 6643, 6644, 6646, 6649, 6650, 6651, 6652, 6653, 6657, 6659, 6660, 6662, 6663, 6664, 6667, 6668, 6669, 6673, 6676, 6677, 6681, 6682, 6683, 6685, 6687, 6689, 6690, 6691, 6693, 6694, 6695, 6696, 6701, 6703, 6704, 6707, 6708, 6710, 6711, 6712, 6720, 6721, 6723, 6725, 6726, 6727, 6729, 6731, 6737, 6742, 6745, 6746, 6747, 6749, 6750, 6752, 6754, 6757, 6758, 6761, 6763, 6765, 6769, 6770, 6771, 6773, 6775, 6776, 6780, 6781, 6783, 6784, 6785, 6790, 6791, 6794, 6795, 6799, 6800, 6803, 6808, 6809, 6811, 6813, 6814, 6815, 6817, 6819, 6821, 6824, 6826, 6827, 6828, 6829, 6835, 6836, 6837, 6840, 6842, 6846, 6847, 6848, 6849, 6850, 6851, 6852, 6854, 6857, 6858, 6859, 6861, 6863, 6865, 6866, 6867, 6868, 6869, 6870, 6871, 6872, 6873, 6874, 6875, 6879, 6881, 6882, 6887, 6890, 6891, 6893, 6894, 6895, 6896, 6897, 6901, 6902, 6903, 6905, 6907, 6909, 6912, 6915, 6917, 6920, 6926, 6927, 6928, 6932, 6933, 6937, 6939, 6941, 6942, 6943, 6945, 6946, 6947, 6949, 6951, 6952, 6957, 6962, 6964, 6966, 6967, 6970, 6972, 6973, 6975, 6977, 6978, 6979, 6984, 6986, 6989, 6990, 6991, 6993, 6995, 6997, 6998, 7000, 7003, 7008, 7010, 7011, 7012, 7013, 7017, 7022, 7023, 7024, 7025, 7026, 7027, 7029, 7030, 7031, 7033, 7034, 7035, 7037, 7039, 7040, 7042, 7043, 7049, 7054, 7057, 7058, 7059, 7062, 7064, 7071, 7072, 7077, 7078, 7079, 7081, 7083, 7084, 7085, 7088, 7089, 7090, 7093, 7094, 7101, 7104, 7105, 7109, 7111, 7113, 7116, 7117, 7121, 7122, 7123, 7125, 7127, 7128, 7130, 7131, 7132, 7134, 7138, 7139, 7141, 7142, 7146, 7152, 7153, 7155, 7157, 7158, 7160, 7161, 7162, 7163, 7165, 7166, 7167, 7169, 7171, 7172, 7175, 7177, 7179, 7181, 7182, 7184, 7185, 7186, 7193, 7195, 7196, 7197, 7198, 7199, 7200, 7202, 7203, 7205, 7206, 7207, 7209, 7210, 7211, 7213, 7215, 7216, 7217, 7219, 7220, 7223, 7224, 7225, 7227, 7228, 7229, 7231, 7235, 7237, 7240, 7241, 7243, 7246, 7250, 7251, 7253, 7254, 7255, 7257, 7259, 7264, 7265, 7266, 7267, 7270, 7271, 7272, 7273, 7278, 7279, 7287, 7288, 7289, 7290, 7291, 7292, 7297, 7298, 7299, 7301, 7303, 7304, 7305, 7306, 7309, 7310, 7311, 7312, 7313, 7315, 7320, 7321, 7322, 7323, 7325, 7327, 7329, 7330, 7338, 7339, 7341, 7342, 7343, 7345, 7347, 7353, 7354, 7355, 7358, 7359, 7360, 7361, 7363, 7364, 7365, 7366, 7367, 7368, 7370, 7371, 7372, 7375, 7376, 7377, 7378, 7380, 7381, 7382, 7383, 7385, 7386, 7387, 7389, 7391, 7392, 7396, 7397, 7400, 7401, 7407, 7409, 7412, 7413, 7417, 7418, 7420, 7423, 7425, 7427, 7429, 7430, 7431, 7433, 7435, 7439, 7440, 7441, 7442, 7443, 7447, 7449, 7451, 7453, 7458, 7465, 7468, 7473, 7474, 7475, 7477, 7479, 7482, 7483, 7484, 7485, 7486, 7487, 7489, 7494, 7497, 7500, 7504, 7505, 7506, 7507, 7508, 7510, 7513, 7517, 7518, 7519, 7521, 7523, 7524, 7529, 7533, 7536, 7537, 7538, 7540, 7541, 7546, 7547, 7550, 7551, 7552, 7553, 7554, 7555, 7558, 7559, 7561, 7562, 7563, 7565, 7567, 7568, 7569, 7570, 7573, 7576, 7578, 7579, 7580, 7581, 7582, 7590, 7591, 7594, 7595, 7596, 7597, 7599, 7601, 7602, 7605, 7606, 7607, 7609, 7611, 7612, 7614, 7615, 7618, 7620, 7621, 7622, 7623, 7624, 7627, 7628, 7632, 7634, 7635, 7641, 7647, 7649, 7650, 7651, 7653, 7655, 7658, 7659, 7661, 7662, 7664, 7666, 7667, 7668, 7675, 7676, 7677, 7679, 7681, 7682, 7684, 7685, 7686, 7688, 7689, 7690, 7691, 7693, 7694, 7695, 7697, 7699, 7700, 7705, 7706, 7707, 7708, 7709, 7710, 7712, 7714, 7715, 7724, 7725, 7726, 7727, 7728, 7730, 7731, 7732, 7733, 7735, 7737, 7738, 7739, 7741, 7743, 7744, 7746, 7748, 7750, 7752, 7753, 7754, 7755, 7756, 7757, 7758, 7759, 7763, 7764, 7766, 7769, 7771, 7772, 7774, 7776, 7778, 7781, 7782, 7783, 7785, 7787, 7789, 7790, 7791, 7792, 7795, 7796, 7797, 7798, 7801, 7803, 7808, 7809, 7812, 7814, 7815, 7821, 7822, 7823, 7825, 7826, 7827, 7829, 7831, 7832, 7833, 7834, 7836, 7837, 7838, 7840, 7846, 7847, 7849, 7850, 7853, 7854, 7860, 7861, 7862, 7863, 7864, 7865, 7866, 7867, 7869, 7870, 7871, 7873, 7875, 7876, 7884, 7885, 7886, 7887, 7888, 7889, 7892, 7893, 7894, 7895, 7896, 7900, 7901, 7903, 7905, 7906, 7909, 7911, 7913, 7914, 7915, 7917, 7919, 7920, 7921, 7922, 7923, 7924, 7927, 7929, 7932, 7933, 7939, 7941, 7945, 7946, 7949, 7950, 7951, 7954, 7955, 7957, 7958, 7959, 7961, 7963, 7970, 7972, 7976, 7980, 7981, 7982, 7984, 7985, 8001, 8002, 8003, 8005, 8007, 8008, 8010, 8011, 8014, 8015, 8016, 8017, 8018, 8020, 8022, 8024, 8026, 8029, 8031, 8033, 8034, 8036, 8037, 8039, 8040, 8042, 8043, 8045, 8046, 8047, 8049, 8051, 8053, 8054, 8055, 8056, 8057, 8058, 8059, 8060, 8065, 8066, 8068, 8070, 8071, 8073, 8074, 8077, 8078, 8082, 8083, 8085, 8086, 8087, 8089, 8090, 8091, 8093, 8095, 8096, 8098, 8099, 8100, 8101, 8103, 8106, 8107, 8108, 8109, 8110, 8111, 8112, 8116, 8121, 8122, 8125, 8126, 8128, 8129, 8131, 8133, 8134, 8135, 8137, 8139, 8140, 8142, 8143, 8144, 8149, 8152, 8157, 8158, 8160, 8161, 8164, 8165, 8172, 8174, 8177, 8178, 8179, 8181, 8183, 8184, 8186, 8187, 8188, 8190, 8191, 8192, 8201, 8202, 8203, 8204, 8208, 8209, 8210, 8211, 8212, 8213, 8215, 8216, 8217, 8218, 8221, 8222, 8223, 8225, 8227, 8228, 8229, 8231, 8232, 8233, 8234, 8235, 8236, 8237, 8239, 8240, 8241, 8242, 8247, 8248, 8253, 8257, 8259, 8262, 8263, 8265, 8266, 8267, 8269, 8271, 8273, 8276, 8277, 8278, 8281, 8283, 8290, 8293, 8297, 8298, 8299, 8301, 8302, 8303, 8304, 8306, 8307, 8309, 8310, 8311, 8313, 8315, 8316, 8318, 8320, 8321, 8322, 8324, 8325, 8326, 8328, 8329, 8333, 8336, 8339, 8341, 8342, 8343, 8344, 8348, 8351, 8353, 8354, 8355, 8357, 8359, 8361, 8363, 8368, 8371, 8372, 8374, 8376, 8377, 8382, 8384, 8385, 8386, 8389, 8391, 8392, 8394, 8397, 8398, 8399, 8401, 8403, 8408, 8410, 8412, 8413, 8414, 8417, 8418, 8419, 8420, 8423, 8425, 8429, 8430, 8431, 8432, 8435, 8436, 8439, 8441, 8442, 8443, 8445, 8447, 8448, 8450, 8451, 8455, 8456, 8457, 8461, 8462, 8464, 8466, 8469, 8478, 8480, 8483, 8485, 8486, 8487, 8489, 8491, 8492, 8495, 8496, 8497, 8498, 8506, 8510, 8511, 8514, 8515, 8518, 8521, 8526, 8529, 8530, 8531, 8533, 8535, 8536, 8539, 8542, 8543, 8544, 8546, 8549, 8550, 8551, 8552, 8553, 8555, 8557, 8558, 8561, 8563, 8564, 8567, 8573, 8574, 8575, 8577, 8579, 8582, 8584, 8585, 8586, 8587, 8591, 8592, 8594, 8595, 8596, 8597, 8598, 8601, 8602, 8604, 8605, 8607, 8609, 8614, 8615, 8617, 8618, 8619, 8621, 8623, 8624, 8630, 8631, 8632, 8634, 8636, 8640, 8641, 8643, 8644, 8645, 8646, 8649, 8652, 8658, 8661, 8662, 8663, 8665, 8667, 8670, 8672, 8674, 8675, 8676, 8677, 8678, 8679, 8680, 8681, 8684, 8685, 8695, 8696, 8698, 8699, 8703, 8705, 8706, 8707, 8709, 8711, 8713, 8714, 8715, 8716, 8718, 8719, 8724, 8728, 8731, 8732, 8735, 8736, 8737, 8739, 8741, 8742, 8746, 8747, 8749, 8750, 8751, 8753, 8755, 8756, 8758, 8761, 8762, 8768, 8769, 8770, 8771, 8772, 8773, 8774, 8775, 8776, 8778, 8779, 8780, 8781, 8782, 8783, 8784, 8785, 8786, 8789, 8791, 8793, 8794, 8795, 8797, 8799, 8800, 8802, 8804, 8805, 8806, 8808, 8810, 8812, 8815, 8816, 8817, 8818, 8822, 8823, 8824, 8825, 8826, 8837, 8838, 8839, 8840, 8843, 8844, 8845, 8847, 8848, 8850, 8851, 8852, 8855, 8856, 8857, 8858, 8863, 8866, 8867, 8869, 8870, 8871, 8876, 8878, 8879, 8881, 8882, 8883, 8884, 8887, 8892, 8896, 8899, 8901, 8907, 8908, 8911, 8917, 8921, 8925, 8926, 8927, 8928, 8931, 8932, 8933, 8934, 8938, 8939, 8940, 8944, 8947, 8949, 8951, 8953, 8954, 8956, 8960, 8961, 8964, 8967, 8969, 8970, 8971, 8972, 8975, 8978, 8981, 8983, 8984, 8985, 8987, 8989, 8990, 8994, 8995, 8996, 9001, 9003, 9004, 9005, 9009, 9013, 9014, 9015, 9016, 9019, 9027, 9034, 9039, 9040, 9042, 9048, 9050, 9051, 9052, 9057, 9058, 9059, 9060, 9063, 9066, 9067, 9076, 9077, 9078, 9081, 9083, 9087, 9088, 9092, 9097, 9101, 9102, 9103, 9104, 9107, 9111, 9112, 9115, 9125, 9127, 9129, 9130, 9131, 9133, 9137, 9138, 9143, 9145, 9146, 9147, 9148, 9151, 9152, 9153, 9156, 9159, 9163, 9166, 9170, 9172, 9173, 9175, 9176, 9178, 9180, 9181, 9186, 9189, 9190, 9191, 9192, 9195, 9198, 9199, 9200, 9201, 9207, 9209, 9210, 9211, 9212, 9213, 9215, 9216, 9219, 9227, 9228, 9233, 9234, 9235, 9236, 9239, 9242, 9250, 9251, 9252, 9253, 9254, 9258, 9270, 9272, 9277, 9278, 9279, 9280, 9283, 9285, 9286, 9287, 9288, 9289, 9291, 9293, 9294, 9299, 9301, 9308, 9309, 9312, 9315, 9316, 9317, 9318, 9319, 9321, 9322, 9323, 9324, 9327, 9330, 9332, 9337, 9338, 9339, 9340, 9342, 9343, 9349, 9353, 9358, 9360, 9361, 9365, 9366, 9367, 9368, 9371, 9389, 9391, 9398, 9399, 9400, 9401, 9402, 9403, 9407, 9409, 9410, 9411, 9412, 9415, 9416, 9417, 9422, 9423, 9426, 9427, 9432, 9434, 9435, 9436, 9437, 9443, 9447, 9453, 9454, 9455, 9456, 9459, 9463, 9464, 9465, 9468, 9469, 9471, 9476, 9478, 9479, 9482, 9483, 9486, 9487, 9488, 9489, 9497, 9498, 9499, 9500, 9503, 9505, 9507, 9508, 9510, 9514, 9519, 9520, 9521, 9525, 9531, 9541, 9542, 9543, 9544, 9547, 9548, 9549, 9550, 9555, 9559, 9560, 9564, 9569, 9570, 9571, 9572, 9574, 9575, 9578, 9579, 9581, 9582, 9583, 9585, 9586, 9587, 9588, 9591, 9592, 9593, 9596, 9599, 9600, 9601, 9607, 9609, 9610, 9615, 9616, 9619, 9620, 9622, 9623, 9627, 9629, 9630, 9631, 9632, 9635, 9639, 9640, 9641, 9642, 9643, 9647, 9648, 9651, 9656, 9657, 9658, 9662, 9665, 9668, 9670, 9673, 9674, 9675, 9676, 9679, 9684, 9685, 9693, 9694, 9696, 9697, 9699, 9701, 9704, 9705, 9707, 9708, 9712, 9713, 9717, 9718, 9719, 9720, 9723, 9733, 9735, 9739, 9741, 9742, 9743, 9744, 9749, 9753, 9755, 9757, 9758, 9761, 9762, 9763, 9764, 9767, 9769, 9776, 9778, 9782, 9783, 9790, 9792, 9793, 9794, 9797, 9801, 9802, 9805, 9806, 9807, 9808, 9811, 9812, 9813, 9814, 9815, 9816, 9818, 9821, 9831, 9835, 9836, 9837, 9838, 9841, 9846, 9847, 9849, 9850, 9851, 9852, 9855, 9859, 9861, 9862, 9863, 9864, 9865, 9866, 9871, 9872, 9873, 9875, 9878, 9879, 9884, 9887, 9889, 9893, 9894, 9895, 9896, 9899, 9902, 9903, 9904, 9906, 9907, 9910, 9912, 9915, 9919, 9922, 9923, 9925, 9926, 9927, 9928, 9930, 9931, 9932, 9935, 9937, 9938, 9939, 9940, 9943, 9944, 9945, 9946, 9948, 9949, 9952, 9953, 9965, 9966, 9970, 9972, 9977, 9981, 9982, 9983, 9984, 9987, 9989, 9992, 9993, 9998, 9999, 10001, 10007, 10008, 10011, 10012, 10016, 10018, 10020, 10025, 10026, 10027, 10028, 10031, 10037, 10038, 10040, 10044, 10046, 10047, 10050, 10052, 10053, 10054, 10058, 10059, 10061, 10062, 10064, 10065, 10069, 10070, 10071, 10072, 10075, 10076, 10077, 10078, 10084, 10085, 10086, 10088, 10091, 10097, 10098, 10099, 10100, 10104, 10105, 10111, 10113, 10114, 10115, 10116, 10119, 10120, 10123, 10124, 10125, 10127, 10129, 10137, 10143, 10144, 10147, 10151, 10152, 10153, 10154, 10155, 10157, 10158, 10159, 10160, 10163, 10167, 10168, 10170, 10171, 10172, 10173, 10179, 10181, 10182, 10183, 10184, 10186, 10188, 10193, 10194, 10196, 10199, 10201, 10202, 10203, 10204, 10207, 10208, 10209, 10210, 10213, 10214, 10215, 10217, 10220, 10221, 10222, 10223, 10224, 10226, 10227, 10233, 10235, 10236, 10237, 10238, 10241, 10242, 10243, 10245, 10246, 10247, 10248, 10251, 10254, 10255, 10256, 10258, 10260, 10261, 10262, 10264, 10265, 10266, 10267, 10272, 10276, 10278, 10280, 10281, 10283, 10284, 10286, 10287, 10289, 10290, 10291, 10292, 10295, 10298, 10300, 10304, 10309, 10310, 10311, 10314, 10315, 10317, 10318, 10319, 10323, 10324, 10328, 10329, 10330, 10333, 10334, 10335, 10336, 10339, 10344, 10349, 10350, 10351, 10352, 10354, 10355, 10356, 10362, 10363, 10364, 10365, 10366, 10367, 10368, 10371, 10375, 10377, 10378, 10379, 10380, 10383, 10385, 10386, 10390, 10391, 10394, 10399, 10404, 10408, 10411, 10415, 10421, 10422, 10423, 10424, 10427, 10428, 10430, 10431, 10432, 10433, 10436, 10438, 10440, 10442, 10444, 10452, 10453, 10454, 10457, 10458, 10460, 10461, 10463, 10465, 10466, 10467, 10468, 10471, 10472, 10473, 10475, 10476, 10480, 10482, 10483, 10485, 10486, 10488, 10489, 10491, 10492, 10498, 10500, 10501, 10505, 10506, 10509, 10510, 10511, 10512, 10515, 10516, 10518, 10520, 10522, 10526, 10530, 10531, 10533, 10535, 10538, 10539, 10541, 10542, 10543, 10544, 10548, 10550, 10553, 10554, 10555, 10556, 10559, 10560, 10564, 10565, 10569, 10574, 10577, 10579, 10580, 10581, 10582, 10583, 10586, 10589, 10590, 10593, 10597, 10598, 10599, 10600, 10603, 10604, 10605, 10607, 10608, 10617, 10618, 10620, 10623, 10626, 10627, 10628, 10629, 10630, 10633, 10634, 10641, 10642, 10643, 10644, 10647, 10649, 10650, 10656, 10659, 10660, 10665, 10666, 10667, 10669, 10670, 10674, 10675, 10676, 10678, 10679, 10685, 10686, 10687, 10688, 10691, 10696, 10697, 10698, 10700, 10703, 10704, 10705, 10706, 10707, 10708, 10711, 10712, 10719, 10722, 10724, 10725, 10726, 10729, 10730, 10731, 10732, 10735, 10745, 10746, 10749, 10750, 10755, 10756, 10757, 10758, 10759, 10760, 10761, 10762, 10763, 10764, 10765, 10766, 10767, 10768, 10769, 10770, 10773, 10774, 10775, 10776, 10779, 10783, 10784, 10785, 10788, 10795, 10796, 10797, 10799, 10801, 10802, 10804, 10805, 10807, 10809, 10810, 10811, 10812, 10813, 10815, 10817, 10818, 10819, 10820, 10823, 10826, 10827, 10829, 10830, 10831, 10832, 10834, 10835, 10837, 10838, 10839, 10840, 10841, 10843, 10844, 10845, 10846, 10847, 10851, 10854, 10855, 10857, 10858, 10859, 10861, 10862, 10863, 10864, 10867, 10868, 10869, 10870, 10872, 10873, 10877, 10878, 10879, 10881, 10884, 10885, 10887, 10888, 10889, 10890, 10891, 10895, 10896, 10897, 10898, 10899, 10903, 10905, 10906, 10907, 10908, 10911, 10914, 10916, 10920, 10921, 10922, 10923, 10924, 10925, 10926, 10927, 10928, 10929, 10930, 10931, 10932, 10934, 10935, 10937, 10939, 10941, 10949, 10950, 10951, 10952, 10955, 10956, 10957, 10958, 10959, 10960, 10969, 10970, 10971, 10972, 10974, 10977, 10979, 10980, 10981, 10983, 10986, 10987, 10989, 10991, 10993, 10994, 10995, 10996, 10999, 11001, 11002, 11011, 11015, 11016, 11017, 11019, 11020, 11021, 11022, 11023, 11031, 11035, 11037, 11038, 11039, 11040, 11043, 11048, 11051, 11053, 11054, 11055, 11056, 11058, 11061, 11063, 11064, 11067, 11072, 11074, 11076, 11077, 11078, 11081, 11082, 11083, 11084, 11087, 11089, 11090, 11091, 11093, 11095, 11101, 11104, 11105, 11106, 11107, 11109, 11110, 11111, 11112, 11117, 11122, 11123, 11125, 11126, 11127, 11128, 11131, 11133, 11136, 11137, 11138, 11140, 11142, 11149, 11155, 11156, 11159, 11161, 11162, 11166, 11169, 11170, 11171, 11172, 11175, 11178, 11180, 11182, 11186, 11188, 11191, 11194, 11195, 11200, 11202, 11208, 11210, 11211, 11213, 11214, 11215, 11216, 11219, 11220, 11222, 11224, 11226, 11227, 11234, 11241, 11242, 11244, 11245, 11248, 11251, 11253, 11254, 11257, 11258, 11259, 11260, 11263, 11264, 11266, 11268, 11269, 11270, 11271, 11272, 11273, 11274, 11277, 11278, 11286, 11292, 11293, 11294, 11296, 11301, 11302, 11303, 11304, 11307, 11309, 11310, 11311, 11314, 11319, 11320, 11321, 11323, 11325, 11328, 11329, 11330, 11332, 11333, 11335, 11336, 11338, 11339, 11340, 11341, 11345, 11346, 11347, 11348, 11351, 11352, 11353, 11354, 11359, 11365, 11366, 11369, 11371, 11372, 11378, 11381, 11382, 11383, 11384, 11385, 11386, 11389, 11390, 11391, 11392, 11395, 11398, 11399, 11400, 11401, 11402, 11405, 11406, 11407, 11408, 11410, 11411, 11412, 11413, 11414, 11419, 11420, 11422, 11425, 11430, 11431, 11433, 11434, 11435, 11436, 11439, 11440, 11441, 11442, 11443, 11448, 11451, 11454, 11456, 11457, 11458, 11460, 11462, 11463, 11467, 11468, 11470, 11472, 11474, 11477, 11478, 11479, 11480, 11483, 11484, 11485, 11489, 11492, 11493, 11494, 11499, 11500, 11507, 11508, 11509, 11510, 11513, 11514, 11517, 11519, 11521, 11522, 11523, 11524, 11527, 11532, 11534, 11535, 11536, 11537, 11539, 11541, 11546, 11551, 11555, 11562, 11565, 11566, 11567, 11568, 11571, 11574, 11577, 11581, 11583, 11588, 11589, 11590, 11594, 11595, 11596, 11597, 11601, 11604, 11609, 11610, 11611, 11612, 11615, 11616, 11620, 11621, 11622, 11623, 11626, 11627, 11631, 11632, 11633, 11635, 11636, 11639, 11640, 11641, 11643, 11644, 11646, 11650, 11651, 11653, 11654, 11655, 11656, 11659, 11662, 11663, 11666, 11667, 11673, 11677, 11678, 11679, 11681, 11683, 11684, 11687, 11690, 11691, 11692, 11697, 11698, 11699, 11700, 11703, 11705, 11706, 11707, 11708, 11711, 11713, 11714, 11717, 11719, 11720, 11722, 11723, 11725, 11726, 11727, 11733, 11735, 11737, 11738, 11741, 11742, 11743, 11744, 11747, 11749, 11752, 11754, 11763, 11764, 11766, 11770, 11771, 11773, 11774, 11781, 11783, 11785, 11786, 11787, 11788, 11791, 11792, 11794, 11795, 11796, 11797, 11802, 11811, 11812, 11817, 11818, 11819, 11821, 11823, 11824, 11827, 11829, 11830, 11831, 11832, 11835, 11837, 11838, 11840, 11841, 11842, 11843, 11849, 11850, 11852, 11853, 11855, 11856, 11858, 11859, 11864, 11867, 11871, 11873, 11874, 11875, 11876, 11879, 11882, 11885, 11886, 11889, 11892, 11895, 11897, 11900, 11901, 11902, 11903, 11908, 11910, 11912, 11913, 11914, 11917, 11918, 11919, 11920, 11923, 11924, 11926, 11927, 11929, 11930, 11931, 11932, 11933, 11936, 11937, 11940, 11941, 11943, 11947, 11950, 11952, 11957, 11961, 11962, 11963, 11964, 11967, 11971, 11973, 11975, 11978, 11983, 11984, 11985, 11986, 11988, 11995, 11997, 11999, 12000, 12001, 12003, 12005, 12006, 12007, 12008, 12011, 12014, 12020, 12021, 12022, 12025, 12034, 12039, 12040, 12041, 12044, 12045, 12046, 12047, 12049, 12050, 12051, 12052, 12055, 12056, 12058, 12060, 12061, 12062, 12065, 12067, 12071, 12080, 12083, 12084, 12085, 12090, 12093, 12094, 12095, 12096, 12099, 12102, 12103, 12104, 12105, 12106, 12108, 12110, 12111, 12112, 12115, 12117, 12119, 12122, 12125, 12126, 12131, 12135, 12137, 12138, 12139, 12140, 12143, 12144, 12145, 12153, 12158, 12159, 12160, 12161, 12162, 12165, 12166, 12168, 12172, 12174, 12175, 12181, 12182, 12183, 12184, 12187, 12188, 12189, 12190, 12194, 12203, 12206, 12211, 12213, 12214, 12215, 12216, 12218, 12221, 12225, 12226, 12227, 12228, 12231, 12232, 12237, 12239, 12242, 12254, 12255, 12261, 12262, 12266, 12267, 12269, 12270, 12271, 12272, 12275, 12278, 12279, 12282, 12284, 12285, 12288, 12290, 12291, 12296, 12298, 12301, 12303, 12313, 12314, 12315, 12316, 12319, 12320, 12321, 12323, 12325, 12328, 12329, 12331, 12337, 12338, 12341, 12345, 12347, 12350, 12352, 12357, 12358, 12359, 12360, 12363, 12368, 12371, 12375, 12376, 12378, 12379, 12380, 12382, 12386, 12390, 12392, 12394, 12397, 12398, 12399, 12401, 12402, 12403, 12404, 12407, 12409, 12410, 12412, 12413, 12414, 12422, 12424, 12425, 12426, 12430, 12431, 12432, 12435, 12438, 12439, 12441, 12445, 12446, 12447, 12448, 12451, 12455, 12456, 12459, 12463, 12464, 12465, 12466, 12467, 12470, 12471, 12473, 12474, 12476, 12477, 12480, 12483, 12484, 12486, 12487, 12489, 12490, 12491, 12492, 12495, 12498, 12499, 12500, 12501, 12502, 12503, 12508, 12510, 12511, 12512, 12516, 12518, 12519, 12520, 12521, 12522, 12523, 12525, 12526, 12528, 12529, 12530, 12533, 12534, 12535, 12536, 12539, 12540, 12544, 12548, 12550, 12551, 12554, 12555, 12558, 12562, 12566, 12567, 12568, 12569, 12570, 12573, 12577, 12578, 12579, 12580, 12583, 12586, 12587, 12590, 12591, 12592, 12593, 12597, 12598, 12599, 12600, 12601, 12602, 12604, 12611, 12612, 12613, 12618, 12621, 12622, 12623, 12624, 12627, 12629, 12633, 12641, 12642, 12649, 12650, 12659, 12662, 12663, 12665, 12666, 12667, 12668, 12671, 12672, 12678, 12680, 12681, 12682, 12685, 12689, 12690, 12691, 12694, 12696, 12706, 12709, 12710, 12711, 12712, 12715, 12717, 12722, 12724, 12728, 12730, 12732, 12737, 12740, 12742, 12744, 12745, 12747, 12748, 12749, 12753, 12754, 12755, 12756, 12759, 12764, 12765, 12767, 12772, 12773, 12777, 12778, 12780, 12785, 12786, 12789, 12790, 12794, 12797, 12798, 12799, 12800, 12803, 12804, 12808, 12809, 12810, 12811, 12812, 12816, 12817, 12819, 12821, 12822, 12823, 12824, 12829, 12838, 12841, 12842, 12843, 12844, 12847, 12848, 12851, 12857, 12863, 12870, 12873, 12875, 12876, 12877, 12885, 12886, 12887, 12888, 12891, 12892, 12897, 12902, 12903, 12905, 12906, 12910, 12911, 12914, 12915, 12916, 12918, 12921, 12925, 12929, 12930, 12931, 12932, 12935, 12937, 12941, 12945, 12946, 12947, 12954, 12956, 12959, 12964, 12968, 12973, 12974, 12975, 12976, 12979, 12981, 12982, 12985, 12986, 13005, 13006, 13007, 13008, 13012, 13017, 13018, 13019, 13020, 13023, 13030, 13032, 13033, 13034, 13035, 13036, 13037, 13044, 13045, 13050, 13055, 13058, 13061, 13062, 13063, 13064, 13067, 13069, 13071, 13072, 13074, 13075, 13076, 13081, 13086, 13088, 13089, 13102, 13105, 13106, 13107, 13108, 13111, 13113, 13114, 13116, 13119, 13120, 13122, 13123, 13125, 13129, 13130, 13132, 13133, 13135, 13140, 13149, 13150, 13151, 13152, 13155, 13156, 13160, 13166, 13169, 13171, 13177, 13178, 13181, 13185, 13186, 13190, 13193, 13194, 13195, 13196, 13199, 13201, 13202, 13208, 13215, 13219, 13222, 13223, 13224, 13230, 13237, 13238, 13239, 13240, 13243, 13245, 13249, 13259, 13260, 13261, 13265, 13267, 13278, 13279, 13281, 13282, 13283, 13284, 13287, 13294, 13295, 13299, 13301, 13306, 13313, 13314, 13315, 13316, 13318, 13322, 13325, 13326, 13327, 13328, 13331, 13333, 13334, 13336, 13341, 13347, 13349, 13351, 13352, 13353, 13356, 13359, 13364, 13369, 13370, 13371, 13372, 13375, 13379, 13380, 13381, 13384, 13385, 13386, 13393, 13394, 13399, 13400, 13407, 13413, 13414, 13415, 13416, 13419, 13422, 13424, 13428, 13429, 13432, 13442, 13445, 13446, 13448, 13452, 13453, 13454, 13457, 13458, 13459, 13460, 13463, 13469, 13474, 13477, 13478, 13482, 13483, 13485, 13486, 13491, 13493, 13496, 13499, 13501, 13502, 13503, 13504, 13507, 13509, 13511, 13525, 13528, 13529, 13535, 13545, 13546, 13547, 13548, 13551, 13552, 13553, 13555, 13556, 13558, 13559, 13561, 13575, 13582, 13583, 13586, 13587, 13589, 13590, 13591, 13592, 13595, 13602, 13604, 13605, 13609, 13611, 13613, 13618, 13619, 13620, 13621, 13622, 13624, 13633, 13634, 13635, 13636, 13639, 13642, 13645, 13646, 13654, 13655, 13659, 13660, 13662, 13663, 13666, 13675, 13677, 13678, 13679, 13680, 13683, 13684, 13687, 13691, 13692, 13693, 13694, 13697, 13699, 13700, 13702, 13706, 13711, 13712, 13713, 13714, 13715, 13716, 13717, 13721, 13722, 13723, 13724, 13727, 13729, 13733, 13734, 13751, 13752, 13758, 13765, 13766, 13767, 13768, 13771, 13772, 13776, 13778, 13785, 13786, 13788, 13802, 13804, 13807, 13809, 13810, 13811, 13812, 13815, 13819, 13820, 13821, 13822, 13823, 13824, 13832, 13848, 13849, 13853, 13854, 13855, 13856, 13859, 13861, 13867, 13870, 13871, 13882, 13883, 13884, 13886, 13888, 13889, 13892, 13893, 13897, 13898, 13899, 13900, 13903, 13910, 13913, 13917, 13920, 13922, 13923, 13924, 13925, 13933, 13934, 13935, 13937, 13941, 13942, 13943, 13944, 13947, 13952, 13962, 13963, 13964, 13965, 13966, 13985, 13986, 13987, 13988, 13991, 13997, 13998, 14002, 14003, 14004, 14007, 14009, 14010, 14012, 14017, 14022, 14029, 14030, 14031, 14032, 14035, 14043, 14045, 14046, 14047, 14048, 14070, 14073, 14074, 14075, 14076, 14079, 14081, 14082, 14083, 14088, 14107, 14117, 14118, 14119, 14120, 14123, 14128, 14129, 14143, 14152, 14158, 14159, 14161, 14162, 14163, 14164, 14167, 14168, 14171, 14172, 14186, 14188, 14194, 14201, 14203, 14205, 14206, 14207, 14208, 14211, 14217, 14219, 14220, 14221, 14222, 14223, 14231, 14232, 14233, 14237, 14238, 14241, 14244, 14247, 14249, 14250, 14251, 14252, 14255, 14258, 14259, 14260, 14261, 14262, 14263, 14264, 14270, 14277, 14281, 14288, 14290, 14293, 14294, 14295, 14296, 14299, 14302, 14303, 14306, 14308, 14311, 14312, 14313, 14314, 14318, 14319, 14320, 14321, 14327, 14335, 14337, 14338, 14339, 14340, 14343, 14349, 14350, 14352, 14355, 14356, 14358, 14360, 14362, 14364, 14366, 14367, 14368, 14370, 14371, 14377, 14378, 14379, 14381, 14382, 14383, 14384, 14387, 14388, 14389, 14391, 14392, 14393, 14396, 14398, 14399, 14400, 14403, 14404, 14406, 14410, 14413, 14417, 14420, 14421, 14422, 14423, 14425, 14426, 14427, 14428, 14431, 14433, 14435, 14437, 14442, 14452, 14454, 14469, 14470, 14471, 14472, 14475, 14478, 14487, 14489, 14490, 14492, 14493, 14497, 14501, 14505, 14507, 14508, 14510, 14513, 14514, 14515, 14516, 14519, 14524, 14525, 14526, 14537, 14539, 14545, 14546, 14547, 14549, 14551, 14554, 14555, 14557, 14558, 14559, 14560, 14563, 14564, 14567, 14571, 14572, 14573, 14576, 14581, 14582, 14583, 14584, 14585, 14586, 14587, 14589, 14591, 14593, 14594, 14601, 14602, 14603, 14604, 14607, 14610, 14611, 14613, 14618, 14619, 14632, 14634, 14635, 14637, 14638, 14639, 14645, 14646, 14647, 14648, 14651, 14652, 14653, 14654, 14664, 14669, 14672, 14675, 14681, 14682, 14686, 14687, 14689, 14690, 14691, 14692, 14695, 14698, 14700, 14702, 14703, 14716, 14726, 14727, 14729, 14730, 14733, 14734, 14735, 14736, 14739, 14747, 14754, 14755, 14777, 14778, 14779, 14780, 14783, 14784, 14793, 14795, 14796, 14798, 14802, 14804, 14805, 14806, 14807, 14808, 14809, 14812, 14816, 14817, 14819, 14821, 14822, 14823, 14824, 14827, 14831, 14832, 14833, 14834, 14838, 14845, 14847, 14851, 14855, 14859, 14863, 14865, 14866, 14867, 14868, 14871, 14879, 14880, 14881, 14887, 14888, 14890, 14892, 14895, 14896, 14897, 14899, 14901, 14909, 14910, 14911, 14912, 14915, 14924, 14926, 14930, 14933, 14938, 14945, 14946, 14948, 14949, 14950, 14953, 14954, 14955, 14956, 14959, 14960, 14967, 14970, 14977, 14982, 14986, 14989, 14994, 14997, 14998, 14999, 15000, 15003, 15008, 15018, 15020, 15021, 15026, 15027, 15028, 15029, 15030, 15034, 15036, 15041, 15042, 15043, 15044, 15047, 15049, 15053, 15055, 15057, 15061, 15065, 15071, 15073, 15075, 15078, 15081, 15082, 15083, 15085, 15086, 15087, 15088, 15091, 15096, 15100, 15102, 15103, 15106, 15116, 15117, 15124, 15129, 15130, 15131, 15132, 15135, 15137, 15138, 15141, 15142, 15145, 15147, 15151, 15156, 15157, 15159, 15163, 15164, 15166, 15167, 15169, 15173, 15174, 15175, 15176, 15179, 15187, 15188, 15192, 15194, 15203, 15208, 15212, 15214, 15217, 15218, 15219, 15220, 15223, 15232, 15233, 15236, 15238, 15243, 15245, 15252, 15257, 15259, 15261, 15262, 15263, 15264, 15267, 15275, 15283, 15286, 15287, 15295, 15300, 15302, 15305, 15306, 15307, 15308, 15311, 15312, 15313, 15323, 15328, 15332, 15333, 15335, 15336, 15339, 15340, 15342, 15349, 15350, 15351, 15352, 15355, 15356, 15360, 15361, 15365, 15368, 15374, 15377, 15379, 15390, 15393, 15394, 15395, 15396, 15399, 15402, 15406, 15411, 15416, 15427, 15431, 15435, 15437, 15438, 15439, 15440, 15443, 15444, 15450, 15451, 15460, 15469, 15470, 15474, 15475, 15478, 15479, 15481, 15482, 15483, 15484, 15487, 15497, 15501, 15502, 15509, 15514, 15517, 15518, 15521, 15522, 15523, 15525, 15526, 15527, 15528, 15531, 15533, 15534, 15537, 15543, 15552, 15553, 15555, 15560, 15567, 15569, 15570, 15571, 15572, 15575, 15576, 15578, 15580, 15608, 15611, 15613, 15614, 15615, 15616, 15619, 15622, 15623, 15636, 15645, 15650, 15657, 15658, 15659, 15660, 15663, 15664, 15667, 15677, 15679, 15682, 15684, 15687, 15689, 15690, 15691, 15692, 15693, 15694, 15695, 15696, 15701, 15702, 15703, 15704, 15707, 15709, 15716, 15724, 15725, 15732, 15735, 15745, 15746, 15747, 15748, 15751, 15752, 15753, 15754, 15755, 15758, 15759, 15761, 15762, 15763, 15764, 15765, 15770, 15771, 15772, 15776, 15778, 15781, 15782, 15789, 15790, 15791, 15792, 15795, 15798, 15799, 15800, 15802, 15811, 15818, 15819, 15824, 15825, 15827, 15833, 15834, 15835, 15836, 15839, 15840, 15842, 15844, 15845, 15846, 15848, 15849, 15850, 15855, 15856, 15865, 15870, 15875, 15877, 15878, 15879, 15880, 15883, 15884, 15886, 15895, 15905, 15906, 15909, 15911, 15912, 15916, 15919, 15921, 15922, 15923, 15924, 15927, 15932, 15933, 15936, 15939, 15943, 15945, 15947, 15950, 15959, 15963, 15965, 15966, 15967, 15968, 15971, 15973, 15976, 15978, 15982, 15987, 15990, 15991, 15992, 15993, 16003, 16004, 16006, 16009, 16010, 16011, 16012, 16015, 16017, 16020, 16023, 16024, 16027, 16029, 16031, 16035, 16037, 16038, 16040, 16047, 16053, 16054, 16055, 16056, 16059, 16063, 16066, 16067, 16073, 16076, 16088, 16092, 16093, 16094, 16095, 16097, 16098, 16099, 16100, 16103, 16105, 16109, 16112, 16114, 16115, 16118, 16120, 16121, 16122, 16124, 16126, 16128, 16131, 16133, 16134, 16141, 16142, 16143, 16144, 16147, 16148, 16149, 16158, 16160, 16161, 16163, 16164, 16171, 16176, 16179, 16180, 16181, 16182, 16185, 16186, 16187, 16188, 16191, 16194, 16195, 16196, 16197, 16203, 16206, 16207, 16212, 16213, 16229, 16230, 16231, 16232, 16235, 16239, 16246, 16247, 16249, 16252, 16253, 16254, 16255, 16256, 16258, 16259, 16266, 16270, 16273, 16274, 16275, 16276, 16279, 16280, 16281, 16286, 16287, 16291, 16292, 16293, 16294, 16295, 16306, 16307, 16311, 16312, 16313, 16317, 16318, 16319, 16320, 16323, 16329, 16330, 16332, 16333, 16334, 16336, 16338, 16341, 16342, 16343, 16348, 16349, 16352, 16353, 16354, 16355, 16356, 16357, 16358, 16359, 16361, 16362, 16363, 16364, 16367, 16368, 16369, 16370, 16372, 16373, 16374, 16377, 16381, 16382, 16383, 16384, 16388, 16395, 16401, 16403, 16405, 16406, 16407, 16408, 16411, 16413, 16416, 16417, 16418, 16420, 16422, 16428, 16429, 16430, 16432, 16435, 16438, 16439, 16440, 16442, 16444, 16445, 16449, 16450, 16451, 16452, 16455, 16458, 16459, 16465, 16467, 16469, 16473, 16477, 16483, 16486, 16493, 16494, 16495, 16496, 16499, 16509, 16511, 16513, 16514, 16515, 16516, 16517, 16522, 16533, 16534, 16537, 16538, 16539, 16540, 16543, 16544, 16546, 16550, 16551, 16552, 16557, 16558, 16559, 16560, 16562, 16563, 16564, 16565, 16566, 16567, 16568, 16569, 16572, 16573, 16581, 16582, 16583, 16584, 16587, 16588, 16589, 16594, 16596, 16597, 16598, 16599, 16600, 16603, 16605, 16611, 16612, 16613, 16614, 16615, 16616, 16617, 16618, 16625, 16626, 16627, 16628, 16631, 16634, 16636, 16640, 16641, 16643, 16646, 16647, 16648, 16649, 16650, 16654, 16655, 16657, 16658, 16660, 16661, 16662, 16666, 16667, 16669, 16670, 16671, 16672, 16675, 16676, 16678, 16679, 16680, 16681, 16682, 16685, 16686, 16688, 16690, 16691, 16692, 16693, 16695, 16696, 16697, 16699, 16700, 16701, 16702, 16704, 16713, 16714, 16715, 16716, 16719, 16720, 16721, 16722, 16723, 16725, 16735, 16740, 16742, 16746, 16751, 16755, 16757, 16758, 16759, 16760, 16763, 16767, 16770, 16774, 16777, 16779, 16780, 16784, 16793, 16794, 16801, 16802, 16803, 16804, 16807, 16811, 16812, 16820, 16822, 16823, 16824, 16837, 16845, 16846, 16847, 16848, 16851, 16857, 16858, 16863, 16867, 16870, 16876, 16886, 16889, 16890, 16891, 16892, 16895, 16902, 16913, 16923, 16924, 16933, 16934, 16935, 16936, 16939, 16977, 16978, 16979, 16980, 16983, 16984, 16985, 16989, 16994, 16996, 17002, 17003, 17019, 17021, 17022, 17023, 17024, 17027, 17028, 17029, 17033, 17034, 17039, 17042, 17057, 17065, 17066, 17067, 17068, 17071, 17075, 17081, 17084, 17086, 17088, 17100, 17109, 17110, 17111, 17112, 17115, 17116, 17123, 17124, 17126, 17128, 17129, 17137, 17140, 17141, 17144, 17147, 17148, 17153, 17154, 17155, 17156, 17159, 17162, 17168, 17179, 17180, 17186, 17188, 17190, 17193, 17197, 17198, 17199, 17200, 17203, 17212, 17215, 17216, 17218, 17221, 17222, 17225, 17239, 17241, 17242, 17243, 17244, 17247, 17248, 17259, 17261, 17263, 17270, 17274, 17276, 17279, 17285, 17286, 17287, 17288, 17291, 17294, 17306, 17313, 17317, 17325, 17329, 17330, 17331, 17332, 17335, 17338, 17351, 17357, 17360, 17365, 17368, 17369, 17373, 17374, 17375, 17376, 17379, 17382, 17384, 17386, 17391, 17393, 17394, 17397, 17413, 17417, 17418, 17419, 17420, 17423, 17428, 17433, 17435, 17436, 17439, 17446, 17447, 17449, 17451, 17452, 17453, 17456, 17461, 17462, 17463, 17464, 17467, 17471, 17472, 17474, 17476, 17478, 17480, 17482, 17483, 17485, 17488, 17489, 17494, 17496, 17498, 17500, 17505, 17506, 17507, 17508, 17511, 17517, 17520, 17524, 17525, 17529, 17530, 17531, 17532, 17533, 17534, 17535, 17536, 17541, 17549, 17550, 17551, 17552, 17555, 17558, 17568, 17576, 17582, 17583, 17588, 17593, 17594, 17595, 17596, 17599, 17601, 17603, 17607, 17620, 17626, 17629, 17630, 17637, 17638, 17639, 17640, 17643, 17648, 17650, 17655, 17656, 17664, 17666, 17674, 17676, 17678, 17680, 17681, 17688, 17689, 17691, 17695, 17699, 17702, 17711, 17712, 17713, 17718, 17719, 17722, 17728, 17730, 17731, 17732, 17735, 17738, 17748, 17752, 17753, 17755, 17756, 17757, 17758, 17762, 17766, 17768, 17778, 17784, 17786, 17790, 17791, 17793, 17794, 17795, 17799, 17807, 17814, 17817, 17820, 17824, 17825, 17826, 17828, 17832, 17833, 17840, 17843, 17844, 17846, 17850, 17854, 17855, 17865, 17866, 17867, 17870, 17871, 17875, 17877, 17882, 17883, 17891, 17893, 17894, 17895, 17897, 17905, 17908, 17909, 17913, 17916, 17917, 17920, 17922, 17930, 17931, 17935, 17946, 17947, 17953, 17955, 17959, 17960, 17967, 17968, 17970, 17971, 17974, 17983, 17984, 17985, 17987, 17997, 18001, 18003, 18005, 18008, 18021, 18022, 18023, 18025, 18035, 18036, 18055, 18057, 18060, 18061, 18070, 18077, 18092, 18093, 18098, 18099, 18106, 18107, 18108, 18109, 18113, 18124, 18127, 18129, 18132, 18133, 18134, 18136, 18137, 18138, 18140, 18144, 18163, 18167, 18168, 18169, 18170, 18172, 18174, 18175, 18177, 18182, 18183, 18184, 18188, 18192, 18193, 18194, 18197, 18200, 18206, 18207, 18212, 18213, 18221, 18222, 18223, 18226, 18232, 18237, 18242, 18250, 18251, 18256, 18257, 18260, 18270, 18274, 18280, 18285, 18288, 18289, 18301, 18318, 18320, 18321, 18326, 18327, 18329, 18330, 18331, 18334, 18336, 18341, 18345, 18349, 18356, 18357, 18360, 18361, 18362, 18363, 18364, 18365, 18366, 18367, 18368, 18372, 18379, 18381, 18383, 18387, 18393, 18400, 18401, 18402, 18403, 18404, 18406, 18407, 18410, 18412, 18414, 18416, 18421, 18422, 18428, 18433, 18435, 18440, 18441, 18443, 18445, 18447, 18449, 18450, 18456, 18457, 18459, 18460, 18463, 18466, 18467, 18470, 18471, 18472, 18474, 18476, 18478, 18479, 18481, 18482, 18485, 18489, 18492, 18493, 18496, 18499, 18505, 18507, 18508, 18510, 18516, 18517, 18522, 18530, 18534, 18535, 18537, 18538, 18540, 18541, 18550, 18551, 18552, 18554, 18555, 18557, 18562, 18564, 18566, 18567, 18576, 18577, 18578, 18582, 18585, 18586, 18590, 18592, 18593, 18595, 18599, 18600, 18602, 18603, 18606, 18609, 18610, 18614, 18615, 18616, 18617, 18618, 18619, 18620, 18622, 18623, 18630, 18631, 18632, 18634, 18638, 18639, 18640, 18641, 18642, 18647, 18650, 18651, 18652, 18654, 18658, 18659, 18660, 18661, 18664, 18668, 18669, 18670, 18672, 18673, 18674, 18676, 18681, 18682, 18684, 18688, 18690, 18693, 18694, 18696, 18702, 18703, 18704, 18705, 18706, 18707, 18708, 18709, 18710, 18712, 18713, 18716, 18718, 18719, 18723, 18725, 18726, 18729, 18733, 18734, 18737, 18740, 18741, 18744, 18745, 18754, 18756, 18758, 18759, 18766, 18767, 18768, 18770, 18772, 18773, 18775, 18782, 18783, 18785, 18794, 18795, 18797, 18798, 18800, 18803, 18804, 18808, 18810, 18812, 18814, 18815, 18820, 18821, 18822, 18827, 18828, 18832, 18833, 18838, 18839, 18845, 18851, 18858, 18859, 18866, 18868, 18873, 18874, 18877, 18878, 18879, 18880, 18884, 18885, 18890, 18891, 18896, 18897, 18898, 18904, 18905, 18906, 18910, 18912, 18919, 18923, 18927, 18931, 18934, 18935, 18937, 18938, 18940, 18941, 18943, 18945, 18954, 18955, 18966, 18967, 18970, 18972, 18973, 18975, 18976, 18977, 18979, 18984, 18990, 18999, 19001, 19008, 19010, 19011, 19012, 19013, 19016, 19023, 19028, 19029, 19030, 19031, 19032, 19043, 19048, 19049, 19053, 19064, 19065, 19067, 19068, 19072, 19080, 19084, 19086, 19087, 19088, 19092, 19109, 19112, 19117, 19124, 19125, 19126, 19127, 19129, 19131, 19133, 19135, 19138, 19148, 19156, 19159, 19160, 19161, 19162, 19163, 19165, 19166, 19167, 19169, 19178, 19182, 19194, 19195, 19197, 19198, 19200, 19201, 19206, 19212, 19217, 19220, 19225, 19226, 19229, 19231, 19238, 19239, 19245, 19246, 19255, 19266, 19271, 19276, 19277, 19284, 19285, 19295, 19296, 19298, 19305, 19307, 19309, 19310, 19312, 19314, 19315, 19316, 19320, 19321, 19328, 19329, 19330, 19331, 19332, 19333, 19334, 19335, 19340, 19341, 19342, 19343, 19344, 19350, 19351, 19352, 19353, 19354, 19355, 19356, 19359, 19360, 19362, 19363, 19364, 19369, 19371, 19372, 19382, 19385, 19386, 19387, 19389, 19390, 19391, 19392, 19393, 19397, 19398, 19399, 19401, 19402, 19408, 19409, 19410, 19413, 19414, 19417, 19420, 19421, 19422, 19424, 19425, 19428, 19429, 19431, 19432, 19433, 19434, 19435, 19437, 19438, 19439, 19440, 19442, 19448, 19451, 19453, 19454, 19455, 19456, 19459, 19466, 19467, 19468, 19472, 19476, 19477, 19481, 19483, 19484, 19485, 19486, 19489, 19490, 19493, 19494, 19495, 19496, 19497, 19501, 19504, 19505, 19510, 19512, 19513, 19514, 19517, 19518, 19522, 19523, 19524, 19528, 19532, 19540, 19542, 19543, 19551, 19552, 19558, 19559, 19565, 19567, 19569, 19570, 19573, 19574, 19575, 19577, 19578, 19580, 19581, 19584, 19587, 19593, 19597, 19599, 19600, 19601, 19603, 19606, 19608, 19609, 19610, 19612, 19613, 19618, 19619, 19622, 19624, 19625, 19636, 19637, 19638, 19642, 19644, 19645, 19646, 19647, 19651, 19656, 19657, 19658, 19660, 19661, 19663, 19665, 19670, 19671, 19673, 19675, 19680, 19681, 19688, 19693, 19694, 19695, 19698, 19704, 19706, 19708, 19709, 19711, 19713, 19717, 19725, 19732, 19733, 19734, 19737, 19738, 19741, 19743, 19747, 19753, 19755, 19756, 19763, 19770, 19771, 19774, 19782, 19785, 19786, 19787, 19790, 19792, 19793, 19794, 19797, 19798, 19799, 19800, 19801, 19808, 19809, 19810, 19812, 19814, 19818, 19824, 19825, 19826, 19828, 19830, 19836, 19837, 19844, 19845, 19846, 19847, 19848, 19849, 19850, 19852, 19859, 19862, 19864, 19869, 19870, 19875, 19879, 19880, 19881, 19883, 19884, 19885, 19886, 19888, 19889, 19893, 19895, 19897, 19898, 19900, 19901, 19902, 19903, 19904, 19905, 19906, 19907, 19908, 19909, 19912, 19915, 19916, 19921, 19922, 19923, 19925, 19927, 19931, 19932, 19938, 19947, 19953, 19956, 19960, 19961, 19962, 19966, 19967, 19973, 19975, 19982, 19983, 19984, 19990, 19991, 19998, 19999, 20014, 20016, 20019, 20024, 20029, 20030, 20036, 20037, 20047, 20052, 20053, 20054, 20055, 20058, 20059, 20062, 20063, 20066, 20067, 20069, 20073, 20074, 20075, 20080, 20084, 20086, 20090, 20091, 20098, 20101, 20105, 20110, 20111, 20112, 20113, 20118, 20122, 20123, 20127, 20130, 20143, 20144, 20145, 20150, 20151, 20153, 20154, 20158, 20170, 20173, 20176, 20186, 20188, 20189, 20194, 20200, 20220, 20226, 20227, 20231, 20232, 20233, 20235, 20239, 20241, 20243, 20249, 20250, 20256, 20257, 20258, 20264, 20265, 20267, 20269, 20271, 20275, 20278, 20280, 20284, 20287, 20293, 20294, 20297, 20299, 20302, 20303, 20316, 20335, 20336, 20340, 20341, 20344, 20346, 20348, 20350, 20353, 20363, 20364, 20365, 20366, 20367, 20369, 20376, 20377, 20378, 20379, 20382, 20385, 20388, 20391, 20393, 20394, 20395, 20397, 20399, 20400, 20402, 20404, 20405, 20406, 20407, 20408, 20410, 20411, 20413, 20415, 20416, 20417, 20418, 20420, 20421, 20422, 20423, 20424, 20425, 20426, 20427, 20428, 20430, 20431, 20432, 20433, 20434, 20435, 20438, 20439, 20440, 20441, 20444, 20445, 20447, 20449, 20450, 20451, 20452, 20453, 20454, 20455, 20456, 20458, 20459, 20460, 20463, 20469, 20470, 20471, 20472, 20473, 20480, 20482, 20484, 20485, 20486, 20488, 20489, 20490, 20491, 20492, 20493, 20498, 20500, 20504, 20505, 20506, 20507, 20508, 20515, 20517, 20519, 20520, 20521, 20523, 20524, 20526, 20527, 20528, 20529, 20530, 20531, 20532, 20534, 20535, 20536, 20538, 20539, 20541, 20542, 20543, 20544, 20545, 20546, 20547]\n"
     ]
    }
   ],
   "source": [
    "index11,row11 = movies_dataset.get_row_index('appropriate_for','')\n",
    "print(index11)"
   ]
  },
  {
   "cell_type": "code",
   "execution_count": 22,
   "metadata": {},
   "outputs": [],
   "source": [
    "movies_dataset.delete_row(index11,3)"
   ]
  },
  {
   "cell_type": "code",
   "execution_count": 23,
   "metadata": {},
   "outputs": [
    {
     "name": "stdout",
     "output_type": "stream",
     "text": [
      "0\n"
     ]
    },
    {
     "data": {
      "text/plain": [
       "0"
      ]
     },
     "execution_count": 23,
     "metadata": {},
     "output_type": "execute_result"
    }
   ],
   "source": [
    "# 删除后缺失值个数\n",
    "helper.count_none_after()"
   ]
  },
  {
   "cell_type": "markdown",
   "metadata": {},
   "source": [
    "### 4 其余非数值属性\n",
    "director 导演\n",
    "\n",
    "id 电影编号\n",
    " \n",
    "industry 电影的出品公司\n",
    "\n",
    "language 电影使用的语言\n",
    "\n",
    "posted_date 电影的发布日期\n",
    "\n",
    "release_date 首次上映日期\n",
    "\n",
    "storyline 电影的主要故事\n",
    "\n",
    "title 电影标题\n",
    "\n",
    "writer 编剧\n",
    "\n",
    "处理逻辑同电影分级。\n",
    "\n"
   ]
  },
  {
   "cell_type": "code",
   "execution_count": 24,
   "metadata": {},
   "outputs": [],
   "source": [
    "helper.select_col('director')"
   ]
  },
  {
   "cell_type": "code",
   "execution_count": 25,
   "metadata": {},
   "outputs": [
    {
     "data": {
      "text/plain": [
       "                   1938\n",
       "Venky Atluri        405\n",
       "Simone Stock        403\n",
       "Xavier Manrique     403\n",
       "John Swab           205\n",
       "                   ... \n",
       "David G. Evans        1\n",
       "Theresa Rebeck        1\n",
       "Mark Grentell         1\n",
       "Nick Searcy           1\n",
       "Becca Gleason         1\n",
       "Name: director, Length: 9673, dtype: int64"
      ]
     },
     "execution_count": 25,
     "metadata": {},
     "output_type": "execute_result"
    }
   ],
   "source": [
    "helper.data2['director'].value_counts()"
   ]
  },
  {
   "cell_type": "code",
   "execution_count": 26,
   "metadata": {},
   "outputs": [
    {
     "data": {
      "image/png": "[encoded data removed]",
      "text/plain": [
       "<Figure size 3240x432 with 1 Axes>"
      ]
     },
     "metadata": {
      "needs_background": "light"
     },
     "output_type": "display_data"
    }
   ],
   "source": [
    "helper.hist_bar(45,6,20)"
   ]
  },
  {
   "cell_type": "code",
   "execution_count": 27,
   "metadata": {},
   "outputs": [
    {
     "data": {
      "text/plain": [
       "Hollywood / English    14649\n",
       "Bollywood / Indian      2645\n",
       "Tollywood               1172\n",
       "Anime / Kids            1049\n",
       "Wrestling                433\n",
       "Punjabi                  332\n",
       "Stage shows              129\n",
       "Pakistani                 92\n",
       "Dub / Dual Audio          45\n",
       "                           1\n",
       "3D Movies                  1\n",
       "Name: industry, dtype: int64"
      ]
     },
     "execution_count": 27,
     "metadata": {},
     "output_type": "execute_result"
    }
   ],
   "source": [
    "helper.select_col('industry')\n",
    "helper.data2['industry'].value_counts()\n"
   ]
  },
  {
   "cell_type": "code",
   "execution_count": 28,
   "metadata": {},
   "outputs": [
    {
     "data": {
      "image/png": "[encoded data removed]",
      "text/plain": [
       "<Figure size 3240x432 with 1 Axes>"
      ]
     },
     "metadata": {
      "needs_background": "light"
     },
     "output_type": "display_data"
    }
   ],
   "source": [
    "helper.hist_bar(45,6,20)"
   ]
  },
  {
   "cell_type": "code",
   "execution_count": 29,
   "metadata": {},
   "outputs": [
    {
     "data": {
      "text/plain": [
       "English                                          12657\n",
       "Hindi                                             2558\n",
       "                                                   542\n",
       "English,Spanish                                    391\n",
       "Punjabi                                            310\n",
       "                                                 ...  \n",
       "English,Mandarin,Turkish,Indonesian,Russian          1\n",
       "English,Polynesian,Spanish                           1\n",
       "English,Cheyenne,French                              1\n",
       "English,American Sign Language,Russian,French        1\n",
       "Spanish,German,English                               1\n",
       "Name: language, Length: 1169, dtype: int64"
      ]
     },
     "execution_count": 29,
     "metadata": {},
     "output_type": "execute_result"
    }
   ],
   "source": [
    "helper.select_col('language')\n",
    "helper.data2['language'].value_counts()\n"
   ]
  },
  {
   "cell_type": "code",
   "execution_count": 30,
   "metadata": {},
   "outputs": [
    {
     "data": {
      "image/png": "[encoded data removed]",
      "text/plain": [
       "<Figure size 3240x432 with 1 Axes>"
      ]
     },
     "metadata": {
      "needs_background": "light"
     },
     "output_type": "display_data"
    }
   ],
   "source": [
    "helper.hist_bar(45,6,20)"
   ]
  },
  {
   "cell_type": "code",
   "execution_count": 31,
   "metadata": {},
   "outputs": [
    {
     "data": {
      "text/plain": [
       "                                          2192\n",
       "Nicholas Schutt                            403\n",
       "Venky Atluri                               402\n",
       "Haley Harris                               402\n",
       "John Swab                                  205\n",
       "                                          ... \n",
       "Barbara Samuels, Joseph Boyden               1\n",
       "Maria Allred                                 1\n",
       "Pia Mechler                                  1\n",
       "Paul Flannery, David Ryan Keith              1\n",
       "Khwaja Ahmad Abbas, Khwaja Ahmad Abbas       1\n",
       "Name: writer, Length: 13604, dtype: int64"
      ]
     },
     "execution_count": 31,
     "metadata": {},
     "output_type": "execute_result"
    }
   ],
   "source": [
    "helper.select_col('writer')\n",
    "helper.data2['writer'].value_counts()\n"
   ]
  },
  {
   "cell_type": "code",
   "execution_count": 32,
   "metadata": {},
   "outputs": [
    {
     "data": {
      "image/png": "[encoded data removed]",
      "text/plain": [
       "<Figure size 3240x432 with 1 Axes>"
      ]
     },
     "metadata": {
      "needs_background": "light"
     },
     "output_type": "display_data"
    }
   ],
   "source": [
    "helper.hist_bar(45,6,20)"
   ]
  },
  {
   "cell_type": "markdown",
   "metadata": {},
   "source": [
    "### 5 downloads 电影下载次数\n",
    "\n",
    "\n"
   ]
  },
  {
   "cell_type": "code",
   "execution_count": 33,
   "metadata": {},
   "outputs": [],
   "source": [
    "helper.select_col('downloads')"
   ]
  },
  {
   "cell_type": "code",
   "execution_count": 34,
   "metadata": {},
   "outputs": [
    {
     "name": "stdout",
     "output_type": "stream",
     "text": [
      "1\n"
     ]
    },
    {
     "data": {
      "text/plain": [
       "1"
      ]
     },
     "execution_count": 34,
     "metadata": {},
     "output_type": "execute_result"
    }
   ],
   "source": [
    "helper.count_none('')"
   ]
  },
  {
   "cell_type": "markdown",
   "metadata": {},
   "source": [
    "有1个缺失值"
   ]
  },
  {
   "cell_type": "code",
   "execution_count": 35,
   "metadata": {},
   "outputs": [
    {
     "data": {
      "text/plain": [
       "75.00        403\n",
       "622.00       212\n",
       "378.00       209\n",
       "1782.00      187\n",
       "466.00       170\n",
       "            ... \n",
       "3721.00        1\n",
       "13947.00       1\n",
       "51963.00       1\n",
       "19225.00       1\n",
       "3276.00        1\n",
       "Name: downloads, Length: 10626, dtype: int64"
      ]
     },
     "execution_count": 35,
     "metadata": {},
     "output_type": "execute_result"
    }
   ],
   "source": [
    "helper.data2['downloads'].value_counts()"
   ]
  },
  {
   "cell_type": "code",
   "execution_count": 36,
   "metadata": {},
   "outputs": [
    {
     "name": "stdout",
     "output_type": "stream",
     "text": [
      "[149]\n"
     ]
    }
   ],
   "source": [
    "index11,row11 = movies_dataset.get_row_index('downloads','')\n",
    "print(index11)\n",
    "movies_dataset.delete_row(index11,4)"
   ]
  },
  {
   "cell_type": "code",
   "execution_count": 37,
   "metadata": {},
   "outputs": [],
   "source": [
    "helper4 = movies_dataset.col_helper(4)\n",
    "helper4.select_col('downloads')"
   ]
  },
  {
   "cell_type": "code",
   "execution_count": 38,
   "metadata": {},
   "outputs": [
    {
     "name": "stdout",
     "output_type": "stream",
     "text": [
      "Min: 0.0\n",
      "Q1: 855.5\n",
      "Q2: 2716.0\n",
      "Q3: 10070.0\n",
      "Max: 391272.0\n"
     ]
    }
   ],
   "source": [
    "# 五数概括\n",
    "helper4.five_number()"
   ]
  },
  {
   "cell_type": "code",
   "execution_count": 39,
   "metadata": {},
   "outputs": [
    {
     "name": "stdout",
     "output_type": "stream",
     "text": [
      "[ 304.   73. 1427. ... 3276.  309. 2613.]\n"
     ]
    },
    {
     "data": {
      "image/png": "[encoded data removed]",
      "text/plain": [
       "<Figure size 1152x288 with 1 Axes>"
      ]
     },
     "metadata": {
      "needs_background": "light"
     },
     "output_type": "display_data"
    },
    {
     "name": "stdout",
     "output_type": "stream",
     "text": [
      "23891.75\n"
     ]
    }
   ],
   "source": [
    "# 盒图\n",
    "helper4.box2(16,4,'downloads')"
   ]
  },
  {
   "cell_type": "code",
   "execution_count": 40,
   "metadata": {},
   "outputs": [
    {
     "data": {
      "image/png": "[encoded data removed]",
      "text/plain": [
       "<Figure size 1152x288 with 1 Axes>"
      ]
     },
     "metadata": {
      "needs_background": "light"
     },
     "output_type": "display_data"
    }
   ],
   "source": [
    "# 直方图\n",
    "helper4.normal_hist(16,4,'downloads','value')"
   ]
  },
  {
   "cell_type": "markdown",
   "metadata": {},
   "source": [
    "从盒图和直方图可以看出，大多数的电影观看下载数适中，符合“盗版网站”的特点。"
   ]
  },
  {
   "cell_type": "markdown",
   "metadata": {},
   "source": [
    "### 6 run_time 电影时长"
   ]
  },
  {
   "cell_type": "code",
   "execution_count": 41,
   "metadata": {},
   "outputs": [],
   "source": [
    "helper.select_col('run_time')"
   ]
  },
  {
   "cell_type": "code",
   "execution_count": 42,
   "metadata": {},
   "outputs": [
    {
     "name": "stdout",
     "output_type": "stream",
     "text": [
      "1768\n"
     ]
    },
    {
     "data": {
      "text/plain": [
       "1768"
      ]
     },
     "execution_count": 42,
     "metadata": {},
     "output_type": "execute_result"
    }
   ],
   "source": [
    "helper.count_none('')"
   ]
  },
  {
   "cell_type": "markdown",
   "metadata": {},
   "source": [
    "有1768个缺失值，这里猜测，由于盗版电影网站不一定会那么全面的数据，因此猜测是数据不全造成的\n",
    "\n",
    "这里可以进行缺失值的处理方式有以下几种：\n",
    "\n",
    "删除所有缺失数据\n",
    "\n",
    "将缺失数据用中位数或平均数值代替\n",
    "\n",
    "利用数据对象的相关性进行填补\n",
    "\n",
    "利用属性的相关性进行填补"
   ]
  },
  {
   "cell_type": "code",
   "execution_count": 43,
   "metadata": {},
   "outputs": [
    {
     "data": {
      "text/plain": [
       "            1768\n",
       "93           652\n",
       "88           622\n",
       "101          568\n",
       "139          454\n",
       "            ... \n",
       "74 min         1\n",
       "288            1\n",
       "220            1\n",
       "49min          1\n",
       "3h 13min       1\n",
       "Name: run_time, Length: 416, dtype: int64"
      ]
     },
     "execution_count": 43,
     "metadata": {},
     "output_type": "execute_result"
    }
   ],
   "source": [
    "helper.data2['run_time'].value_counts()"
   ]
  },
  {
   "cell_type": "code",
   "execution_count": 44,
   "metadata": {},
   "outputs": [
    {
     "data": {
      "image/png": "[encoded data removed]",
      "text/plain": [
       "<Figure size 3240x432 with 1 Axes>"
      ]
     },
     "metadata": {
      "needs_background": "light"
     },
     "output_type": "display_data"
    }
   ],
   "source": [
    "helper.hist_bar(45,6,20)"
   ]
  },
  {
   "cell_type": "code",
   "execution_count": 45,
   "metadata": {},
   "outputs": [
    {
     "name": "stdout",
     "output_type": "stream",
     "text": [
      "[10, 12, 16, 18, 22, 23, 32, 35, 44, 55, 60, 63, 66, 77, 91, 92, 99, 100, 105, 111, 112, 123, 142, 149, 150, 151, 156, 182, 183, 186, 193, 196, 205, 224, 230, 243, 248, 266, 267, 279, 280, 282, 291, 297, 310, 311, 319, 322, 329, 339, 340, 352, 356, 367, 368, 371, 374, 375, 376, 381, 396, 399, 400, 403, 413, 418, 424, 443, 453, 457, 462, 465, 472, 490, 507, 510, 514, 518, 529, 530, 536, 539, 540, 541, 543, 544, 545, 546, 550, 552, 553, 554, 563, 579, 600, 616, 621, 629, 642, 647, 665, 674, 675, 677, 683, 694, 717, 726, 738, 762, 772, 782, 798, 815, 823, 825, 837, 853, 855, 856, 867, 884, 907, 933, 935, 938, 972, 977, 981, 1027, 1030, 1076, 1128, 1193, 1256, 1264, 1290, 1291, 1349, 1390, 1414, 1426, 1506, 1508, 1515, 1523, 1571, 1632, 1636, 1748, 1762, 1770, 1859, 1868, 1903, 1925, 1952, 1993, 1997, 2031, 2043, 2046, 2083, 2089, 2102, 2127, 2180, 2288, 2299, 2308, 2323, 2336, 2402, 2410, 2477, 2479, 2564, 2603, 2828, 2831, 2838, 2840, 2849, 2850, 2851, 2860, 2861, 2869, 2870, 2881, 2885, 2886, 2891, 2892, 2893, 2904, 2905, 2911, 2913, 2915, 2919, 2920, 2922, 2925, 2926, 2928, 3225, 3244, 3246, 3247, 3256, 3257, 3258, 3259, 3260, 3261, 3267, 3275, 3276, 3277, 3281, 3282, 3283, 3285, 3287, 3319, 3330, 3344, 3358, 3391, 3435, 3442, 3508, 3566, 3609, 3620, 3621, 3635, 3637, 3665, 3667, 3707, 3784, 3890, 3921, 3968, 3988, 3994, 4011, 4034, 4049, 4052, 4075, 4083, 4103, 4109, 4120, 4150, 4170, 4182, 4200, 4204, 4241, 4320, 4329, 4347, 4386, 4391, 4411, 4412, 4536, 4576, 4605, 4632, 4642, 4717, 4723, 4782, 4816, 4955, 4999, 5021, 5025, 5036, 5070, 5076, 5079, 5105, 5117, 5137, 5204, 5215, 5226, 5284, 5285, 5293, 5296, 5301, 5341, 5342, 5348, 5413, 5433, 5437, 5571, 5662, 5667, 5680, 5681, 5766, 5842, 5884, 5940, 6061, 6082, 6120, 6387, 6415, 6525, 6532, 6577, 6613, 6624, 6652, 6662, 6701, 6720, 6738, 6745, 6791, 6875, 6939, 6952, 6973, 7085, 7216, 7267, 7320, 7365, 7378, 7422, 7628, 7710, 7715, 7717, 7814, 7855, 7865, 7903, 7970, 7984, 8106, 8127, 8290, 8304, 8321, 8374, 8391, 8457, 8542, 8631, 8693, 8699, 8719, 8768, 8776, 8838, 8839, 8840, 8845, 8850, 8882, 8883, 8884, 8892, 8908, 8926, 8927, 8928, 8970, 8971, 8972, 9014, 9015, 9016, 9058, 9059, 9060, 9066, 9102, 9103, 9104, 9146, 9147, 9148, 9190, 9191, 9192, 9228, 9234, 9235, 9236, 9272, 9278, 9279, 9280, 9293, 9322, 9323, 9324, 9333, 9366, 9367, 9368, 9372, 9410, 9411, 9412, 9454, 9455, 9456, 9498, 9499, 9500, 9542, 9543, 9544, 9586, 9587, 9588, 9600, 9607, 9630, 9631, 9632, 9662, 9668, 9674, 9675, 9676, 9718, 9719, 9720, 9744, 9762, 9763, 9764, 9794, 9797, 9806, 9807, 9808, 9842, 9850, 9851, 9852, 9894, 9895, 9896, 9938, 9939, 9940, 9982, 9983, 9984, 10026, 10027, 10028, 10070, 10071, 10072, 10114, 10115, 10116, 10158, 10159, 10160, 10202, 10203, 10204, 10217, 10222, 10246, 10247, 10248, 10264, 10277, 10290, 10291, 10292, 10327, 10334, 10335, 10336, 10365, 10378, 10379, 10380, 10422, 10423, 10424, 10466, 10467, 10468, 10480, 10485, 10490, 10510, 10511, 10512, 10554, 10555, 10556, 10598, 10599, 10600, 10642, 10643, 10644, 10660, 10686, 10687, 10688, 10708, 10730, 10731, 10732, 10750, 10762, 10774, 10775, 10776, 10810, 10811, 10812, 10813, 10818, 10819, 10820, 10826, 10837, 10838, 10839, 10840, 10841, 10843, 10844, 10845, 10846, 10847, 10855, 10862, 10863, 10864, 10877, 10878, 10879, 10887, 10889, 10890, 10891, 10895, 10896, 10897, 10898, 10899, 10906, 10907, 10908, 10920, 10921, 10922, 10923, 10924, 10927, 10928, 10930, 10931, 10950, 10951, 10952, 10994, 10995, 10996, 11022, 11038, 11039, 11040, 11064, 11082, 11083, 11084, 11093, 11096, 11126, 11127, 11128, 11162, 11170, 11171, 11172, 11214, 11215, 11216, 11226, 11227, 11248, 11258, 11259, 11260, 11286, 11302, 11303, 11304, 11346, 11347, 11348, 11370, 11385, 11390, 11391, 11392, 11399, 11400, 11413, 11419, 11434, 11435, 11436, 11456, 11478, 11479, 11480, 11522, 11523, 11524, 11537, 11551, 11566, 11567, 11568, 11610, 11611, 11612, 11646, 11650, 11654, 11655, 11656, 11662, 11698, 11699, 11700, 11714, 11719, 11722, 11742, 11743, 11744, 11763, 11780, 11786, 11787, 11788, 11794, 11802, 11811, 11818, 11830, 11831, 11832, 11855, 11874, 11875, 11876, 11895, 11897, 11918, 11919, 11920, 11952, 11962, 11963, 11964, 11973, 12006, 12007, 12008, 12017, 12039, 12050, 12051, 12052, 12094, 12095, 12096, 12103, 12104, 12119, 12138, 12139, 12140, 12153, 12166, 12182, 12183, 12184, 12203, 12211, 12216, 12226, 12227, 12228, 12239, 12262, 12270, 12271, 12272, 12285, 12314, 12315, 12316, 12325, 12358, 12359, 12360, 12386, 12392, 12402, 12403, 12404, 12413, 12430, 12431, 12446, 12447, 12448, 12456, 12470, 12490, 12491, 12492, 12516, 12534, 12535, 12536, 12544, 12548, 12578, 12579, 12580, 12599, 12622, 12623, 12624, 12666, 12667, 12668, 12710, 12711, 12712, 12728, 12754, 12755, 12756, 12778, 12785, 12798, 12799, 12800, 12829, 12842, 12843, 12844, 12848, 12870, 12886, 12887, 12888, 12905, 12930, 12931, 12932, 12941, 12974, 12975, 12976, 13018, 13019, 13020, 13062, 13063, 13064, 13106, 13107, 13108, 13119, 13150, 13151, 13152, 13194, 13195, 13196, 13201, 13219, 13233, 13238, 13239, 13240, 13245, 13282, 13283, 13284, 13326, 13327, 13328, 13353, 13356, 13370, 13371, 13372, 13414, 13415, 13416, 13422, 13428, 13453, 13458, 13459, 13460, 13469, 13502, 13503, 13504, 13546, 13547, 13548, 13558, 13586, 13590, 13591, 13592, 13609, 13618, 13624, 13634, 13635, 13636, 13678, 13679, 13680, 13706, 13713, 13722, 13723, 13724, 13766, 13767, 13768, 13772, 13786, 13802, 13810, 13811, 13812, 13832, 13854, 13855, 13856, 13892, 13898, 13899, 13900, 13913, 13923, 13925, 13942, 13943, 13944, 13986, 13987, 13988, 14002, 14005, 14030, 14031, 14032, 14045, 14074, 14075, 14076, 14118, 14119, 14120, 14128, 14162, 14163, 14164, 14206, 14207, 14208, 14217, 14221, 14238, 14250, 14251, 14252, 14262, 14264, 14283, 14294, 14295, 14296, 14302, 14306, 14319, 14338, 14339, 14340, 14377, 14382, 14383, 14384, 14391, 14392, 14399, 14403, 14417, 14421, 14423, 14426, 14427, 14428, 14470, 14471, 14472, 14497, 14508, 14514, 14515, 14516, 14555, 14558, 14559, 14560, 14572, 14602, 14603, 14604, 14611, 14646, 14647, 14648, 14682, 14690, 14691, 14692, 14700, 14734, 14735, 14736, 14778, 14779, 14780, 14809, 14812, 14822, 14823, 14824, 14832, 14834, 14866, 14867, 14868, 14880, 14895, 14899, 14910, 14911, 14912, 14926, 14931, 14954, 14955, 14956, 14982, 14998, 14999, 15000, 15005, 15034, 15042, 15043, 15044, 15057, 15073, 15086, 15087, 15088, 15130, 15131, 15132, 15167, 15174, 15175, 15176, 15218, 15219, 15220, 15236, 15252, 15262, 15263, 15264, 15295, 15306, 15307, 15308, 15312, 15324, 15332, 15333, 15336, 15342, 15350, 15351, 15352, 15394, 15395, 15396, 15427, 15438, 15439, 15440, 15482, 15483, 15484, 15512, 15513, 15526, 15527, 15528, 15553, 15570, 15571, 15572, 15576, 15595, 15611, 15614, 15615, 15616, 15658, 15659, 15660, 15667, 15702, 15703, 15704, 15746, 15747, 15748, 15752, 15755, 15778, 15790, 15791, 15792, 15834, 15835, 15836, 15873, 15878, 15879, 15880, 15884, 15895, 15905, 15922, 15923, 15924, 15959, 15966, 15967, 15968, 15993, 16010, 16011, 16012, 16040, 16054, 16055, 16056, 16090, 16098, 16099, 16100, 16114, 16115, 16127, 16131, 16142, 16143, 16144, 16161, 16170, 16186, 16187, 16188, 16206, 16220, 16230, 16231, 16232, 16239, 16247, 16255, 16274, 16275, 16276, 16280, 16286, 16311, 16312, 16313, 16318, 16319, 16320, 16329, 16330, 16332, 16333, 16334, 16337, 16341, 16342, 16353, 16354, 16355, 16362, 16363, 16364, 16368, 16373, 16374, 16377, 16381, 16382, 16399, 16403, 16406, 16407, 16408, 16413, 16420, 16428, 16432, 16440, 16450, 16451, 16452, 16458, 16459, 16464, 16465, 16475, 16494, 16495, 16496, 16514, 16517, 16533, 16538, 16539, 16540, 16550, 16551, 16552, 16561, 16574, 16578, 16582, 16583, 16584, 16588, 16589, 16590, 16595, 16613, 16614, 16615, 16616, 16618, 16626, 16627, 16628, 16644, 16648, 16670, 16671, 16672, 16680, 16690, 16695, 16696, 16714, 16715, 16716, 16751, 16758, 16759, 16760, 16770, 16780, 16794, 16802, 16803, 16804, 16811, 16846, 16847, 16848, 16876, 16890, 16891, 16892, 16896, 16934, 16935, 16936, 16978, 16979, 16980, 16996, 17003, 17022, 17023, 17024, 17029, 17034, 17057, 17066, 17067, 17068, 17081, 17084, 17086, 17110, 17111, 17112, 17123, 17137, 17140, 17147, 17148, 17149, 17150, 17154, 17155, 17156, 17182, 17186, 17190, 17193, 17198, 17199, 17200, 17222, 17242, 17243, 17244, 17279, 17286, 17287, 17288, 17294, 17324, 17330, 17331, 17332, 17351, 17368, 17374, 17375, 17376, 17384, 17397, 17413, 17418, 17419, 17420, 17462, 17463, 17464, 17474, 17480, 17482, 17496, 17506, 17507, 17508, 17517, 17525, 17529, 17532, 17535, 17546, 17550, 17551, 17552, 17558, 17582, 17583, 17594, 17595, 17596, 17601, 17629, 17630, 17638, 17639, 17640, 17661, 17678, 17680, 17681, 17683, 17691, 17712, 17718, 17719, 17722, 17728, 17729, 17752, 17756, 17757, 17762, 17794, 17795, 17799, 17814, 17832, 17833, 17855, 17856, 17870, 17871, 17877, 17891, 17908, 17909, 17928, 17931, 17934, 17941, 17946, 17947, 17955, 17967, 17971, 17983, 17984, 17985, 18001, 18005, 18008, 18021, 18022, 18023, 18025, 18057, 18060, 18061, 18098, 18099, 18108, 18113, 18129, 18132, 18136, 18137, 18163, 18167, 18168, 18174, 18175, 18181, 18188, 18198, 18207, 18212, 18213, 18218, 18250, 18251, 18285, 18288, 18289, 18297, 18316, 18318, 18326, 18327, 18331, 18362, 18363, 18364, 18365, 18366, 18393, 18400, 18402, 18403, 18416, 18435, 18440, 18441, 18458, 18470, 18478, 18479, 18488, 18503, 18508, 18516, 18517, 18535, 18538, 18540, 18551, 18554, 18555, 18557, 18586, 18592, 18593, 18601, 18602, 18603, 18606, 18622, 18623, 18630, 18631, 18634, 18638, 18654, 18660, 18668, 18669, 18670, 18674, 18688, 18694, 18698, 18705, 18706, 18707, 18710, 18723, 18729, 18733, 18737, 18743, 18744, 18745, 18754, 18770, 18771, 18773, 18782, 18783, 18797, 18798, 18808, 18820, 18821, 18828, 18832, 18851, 18858, 18859, 18873, 18878, 18880, 18890, 18896, 18897, 18905, 18906, 18919, 18934, 18935, 18940, 18972, 18973, 18976, 18979, 19010, 19011, 19016, 19029, 19043, 19048, 19049, 19067, 19080, 19084, 19086, 19087, 19112, 19124, 19125, 19148, 19160, 19162, 19163, 19166, 19195, 19200, 19201, 19238, 19239, 19276, 19277, 19284, 19285, 19295, 19305, 19309, 19310, 19314, 19315, 19320, 19321, 19328, 19329, 19330, 19331, 19332, 19333, 19334, 19335, 19340, 19341, 19342, 19343, 19344, 19350, 19351, 19352, 19353, 19354, 19355, 19356, 19360, 19362, 19372, 19385, 19389, 19390, 19391, 19392, 19393, 19398, 19399, 19401, 19402, 19417, 19420, 19421, 19428, 19429, 19431, 19432, 19433, 19435, 19437, 19438, 19439, 19440, 19448, 19456, 19459, 19466, 19467, 19472, 19476, 19483, 19484, 19486, 19493, 19494, 19495, 19496, 19497, 19501, 19504, 19505, 19510, 19512, 19513, 19514, 19517, 19522, 19523, 19524, 19542, 19543, 19551, 19552, 19558, 19573, 19574, 19575, 19580, 19581, 19584, 19597, 19599, 19601, 19610, 19612, 19618, 19619, 19622, 19624, 19627, 19636, 19637, 19638, 19645, 19646, 19656, 19657, 19670, 19671, 19673, 19680, 19681, 19693, 19694, 19695, 19704, 19708, 19709, 19711, 19725, 19732, 19733, 19743, 19753, 19770, 19771, 19785, 19792, 19793, 19794, 19797, 19798, 19800, 19808, 19809, 19818, 19824, 19825, 19830, 19844, 19845, 19846, 19847, 19848, 19849, 19850, 19852, 19862, 19869, 19870, 19880, 19884, 19885, 19889, 19893, 19895, 19897, 19898, 19900, 19901, 19902, 19903, 19904, 19905, 19906, 19907, 19908, 19909, 19922, 19923, 19932, 19960, 19961, 19967, 19975, 19983, 19984, 19990, 19998, 19999, 20036, 20037, 20053, 20062, 20074, 20075, 20112, 20113, 20118, 20150, 20151, 20186, 20188, 20189, 20226, 20227, 20258, 20264, 20265, 20271, 20297, 20302, 20303, 20340, 20341, 20344, 20350, 20353, 20363, 20369, 20378, 20379, 20393, 20395, 20402, 20416, 20417, 20426, 20432, 20440, 20441, 20444, 20447, 20454, 20455, 20458, 20459, 20460, 20463, 20490, 20492, 20493, 20500, 20528, 20530, 20531, 20543, 20546, 20547]\n"
     ]
    }
   ],
   "source": [
    "index11,row11 = movies_dataset.get_row_index('run_time','')\n",
    "print(index11)"
   ]
  },
  {
   "cell_type": "code",
   "execution_count": 46,
   "metadata": {},
   "outputs": [],
   "source": [
    "movies_dataset.delete_row(index11,5)"
   ]
  },
  {
   "cell_type": "code",
   "execution_count": 47,
   "metadata": {},
   "outputs": [],
   "source": [
    "helper5 = movies_dataset.col_helper(5)\n",
    "helper5.select_col('run_time')"
   ]
  },
  {
   "cell_type": "markdown",
   "metadata": {},
   "source": [
    "### 7 views 观看次数"
   ]
  },
  {
   "cell_type": "code",
   "execution_count": 48,
   "metadata": {},
   "outputs": [],
   "source": [
    "helper.select_col('views')"
   ]
  },
  {
   "cell_type": "code",
   "execution_count": 49,
   "metadata": {},
   "outputs": [
    {
     "name": "stdout",
     "output_type": "stream",
     "text": [
      "1\n"
     ]
    },
    {
     "data": {
      "text/plain": [
       "1"
      ]
     },
     "execution_count": 49,
     "metadata": {},
     "output_type": "execute_result"
    }
   ],
   "source": [
    "helper.count_none('')"
   ]
  },
  {
   "cell_type": "markdown",
   "metadata": {},
   "source": [
    "有1个缺失值，这里猜测，由于盗版电影网站不一定会那么全面的数据，因此猜测是数据不全造成的\n",
    "\n",
    "这里可以进行缺失值的处理方式有以下几种：\n",
    "\n",
    "删除所有缺失数据\n",
    "\n",
    "将缺失数据用中位数或平均数值代替\n",
    "\n",
    "利用数据对象的相关性进行填补\n",
    "\n",
    "利用属性的相关性进行填补"
   ]
  },
  {
   "cell_type": "code",
   "execution_count": 50,
   "metadata": {},
   "outputs": [
    {
     "data": {
      "text/plain": [
       "6259.00       6\n",
       "5859.00       5\n",
       "5926.00       5\n",
       "6643.00       5\n",
       "14859.00      5\n",
       "             ..\n",
       "142470.00     1\n",
       "104507.00     1\n",
       "152768.00     1\n",
       "6460.00       1\n",
       "1419.00       1\n",
       "Name: views, Length: 16822, dtype: int64"
      ]
     },
     "execution_count": 50,
     "metadata": {},
     "output_type": "execute_result"
    }
   ],
   "source": [
    "helper.data2['views'].value_counts()"
   ]
  },
  {
   "cell_type": "code",
   "execution_count": 51,
   "metadata": {},
   "outputs": [
    {
     "name": "stdout",
     "output_type": "stream",
     "text": [
      "[149]\n"
     ]
    }
   ],
   "source": [
    "index11,row11 = movies_dataset.get_row_index('views','')\n",
    "print(index11)\n",
    "movies_dataset.delete_row(index11,6)"
   ]
  },
  {
   "cell_type": "code",
   "execution_count": 52,
   "metadata": {},
   "outputs": [],
   "source": [
    "helper6 = movies_dataset.col_helper(6)\n",
    "helper6.select_col('views')"
   ]
  },
  {
   "cell_type": "code",
   "execution_count": 53,
   "metadata": {},
   "outputs": [
    {
     "name": "stdout",
     "output_type": "stream",
     "text": [
      "Min: 667.0\n",
      "Q1: 7571.5\n",
      "Q2: 15222.0\n",
      "Q3: 36571.0\n",
      "Max: 1638533.0\n"
     ]
    }
   ],
   "source": [
    "# 五数概括\n",
    "helper6.five_number()"
   ]
  },
  {
   "cell_type": "code",
   "execution_count": 54,
   "metadata": {},
   "outputs": [
    {
     "name": "stdout",
     "output_type": "stream",
     "text": [
      "[ 2794.  1002. 14419. ...  7220.  1419.  6697.]\n"
     ]
    },
    {
     "data": {
      "image/png": "[encoded data removed]",
      "text/plain": [
       "<Figure size 1152x288 with 1 Axes>"
      ]
     },
     "metadata": {
      "needs_background": "light"
     },
     "output_type": "display_data"
    },
    {
     "name": "stdout",
     "output_type": "stream",
     "text": [
      "80070.25\n"
     ]
    }
   ],
   "source": [
    "# 盒图\n",
    "helper6.box(16,4,'views')"
   ]
  },
  {
   "cell_type": "code",
   "execution_count": 55,
   "metadata": {},
   "outputs": [
    {
     "data": {
      "image/png": "[encoded data removed]",
      "text/plain": [
       "<Figure size 1152x288 with 1 Axes>"
      ]
     },
     "metadata": {
      "needs_background": "light"
     },
     "output_type": "display_data"
    }
   ],
   "source": [
    "# 直方图\n",
    "helper6.normal_hist(16,4,'views','value')"
   ]
  },
  {
   "cell_type": "markdown",
   "metadata": {},
   "source": [
    "从盒图和直方图可以看出，大多数的电影观看观看数适中，符合“盗版网站”的特点。"
   ]
  },
  {
   "cell_type": "markdown",
   "metadata": {},
   "source": [
    "-- END --"
   ]
  }
 ],
 "metadata": {
  "kernelspec": {
   "display_name": "Python 3 (ipykernel)",
   "language": "python",
   "name": "python3"
  },
  "language_info": {
   "codemirror_mode": {
    "name": "ipython",
    "version": 3
   },
   "file_extension": ".py",
   "mimetype": "text/x-python",
   "name": "python",
   "nbconvert_exporter": "python",
   "pygments_lexer": "ipython3",
   "version": "3.9.12"
  }
 },
 "nbformat": 4,
 "nbformat_minor": 2
}
